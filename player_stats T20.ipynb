{
 "cells": [
  {
   "cell_type": "markdown",
   "metadata": {},
   "source": [
    "# Player statistics"
   ]
  },
  {
   "cell_type": "code",
   "execution_count": 63,
   "metadata": {},
   "outputs": [],
   "source": [
    "#imports\n",
    "import pandas as pd\n",
    "#import yaml\n",
    "from datetime import date,datetime\n",
    "import pandas as pd\n",
    "import matplotlib.pyplot as plt\n",
    "import numpy as np\n",
    "import re\n",
    "import json\n",
    "import glob\n",
    "import argparse\n",
    "import datetime, time\n",
    "import seaborn as sns\n",
    "from datetime import datetime\n",
    "import math\n",
    "import random\n",
    "from numpy import nan\n",
    "from tqdm import tqdm\n",
    "import warnings\n",
    "warnings.filterwarnings(\"ignore\")\n",
    "from collections import defaultdict\n",
    "from collections import Counter\n",
    "import statsmodels as sm\n",
    "from statsmodels.miscmodels.ordinal_model import OrderedModel\n",
    "from statsmodels.discrete.discrete_model import Probit"
   ]
  },
  {
   "cell_type": "code",
   "execution_count": 64,
   "metadata": {},
   "outputs": [],
   "source": [
    "#arg parser to dynamically create the analysis for any given game informtion\n",
    "def create_arg_parser():\n",
    "    parser = argparse.ArgumentParser(description='Please enter the file path to data source with the -d option. Load a preprocesed dataframe with the -r option.')\n",
    "    parser.add_argument('-d', type=str, default=\"./data/T20/men\", help='file path to data directory')\n",
    "    parser.add_argument('-o', type=int, default=20, help='give the number of overs in a game')\n",
    "    parser.add_argument('-w', type=int, default=10, help='give the number of max wickets in a game')\n",
    "    parser.add_argument('-r', dest='df', action='store_true', help='reload a preprocessed dataframe as data source')\n",
    "    parser.set_defaults(df=False)\n",
    "    return parser\n",
    "args=create_arg_parser().parse_args(\"\")\n",
    "over_segments_odi=[0,15,35,40,45,50]\n",
    "wicket_segments_odi=[[0,0,0,0],[0,3,5,10],[0,4,6,10],[0,4,6,10],[0,5,7,10],[0,6,8,10]]\n",
    "over_segments_t20=[0,3,6,11,15,18,20]\n",
    "wicket_segments_t20=[[0,0,0,0],[0,1,3,10],[0,2,4,10],[0,3,5,10],[0,4,6,10],[0,5,7,10]]\n",
    "\n",
    "over_segments=over_segments_t20\n",
    "wicket_segments=wicket_segments_t20\n",
    "\n",
    "if args.o==50: \n",
    "    over_segments=over_segments_odi\n",
    "    wicket_segments=wicket_segments_odi"
   ]
  },
  {
   "cell_type": "code",
   "execution_count": 90,
   "metadata": {},
   "outputs": [
    {
     "name": "stdout",
     "output_type": "stream",
     "text": [
      "<class 'pandas.core.frame.DataFrame'>\n",
      "Int64Index: 152343 entries, 39334 to 191522\n",
      "Data columns (total 30 columns):\n",
      " #   Column                  Non-Null Count   Dtype         \n",
      "---  ------                  --------------   -----         \n",
      " 0   Unnamed: 0              152343 non-null  int64         \n",
      " 1   match_id                152343 non-null  int64         \n",
      " 2   season                  152343 non-null  object        \n",
      " 3   start_date              152343 non-null  datetime64[ns]\n",
      " 4   venue                   152343 non-null  object        \n",
      " 5   innings                 152343 non-null  int64         \n",
      " 6   ball                    152343 non-null  float64       \n",
      " 7   batting_team            152343 non-null  object        \n",
      " 8   bowling_team            152343 non-null  object        \n",
      " 9   striker                 152343 non-null  object        \n",
      " 10  non_striker             152343 non-null  object        \n",
      " 11  bowler                  152343 non-null  object        \n",
      " 12  runs_off_bat            152343 non-null  int64         \n",
      " 13  extras                  152343 non-null  int64         \n",
      " 14  wides                   4589 non-null    float64       \n",
      " 15  noballs                 531 non-null     float64       \n",
      " 16  byes                    489 non-null     float64       \n",
      " 17  legbyes                 2439 non-null    float64       \n",
      " 18  penalty                 1 non-null       float64       \n",
      " 19  wicket_type             8263 non-null    object        \n",
      " 20  player_dismissed        8263 non-null    object        \n",
      " 21  other_wicket_type       0 non-null       float64       \n",
      " 22  other_player_dismissed  0 non-null       float64       \n",
      " 23  balls_remain            152343 non-null  float64       \n",
      " 24  wickets_remain          152343 non-null  float64       \n",
      " 25  rr                      152343 non-null  float64       \n",
      " 26  s_r                     152343 non-null  float64       \n",
      " 27  rrr                     152343 non-null  float64       \n",
      " 28  wicket_scored           152343 non-null  bool          \n",
      " 29  new_no_ball             152343 non-null  bool          \n",
      "dtypes: bool(2), datetime64[ns](1), float64(13), int64(5), object(9)\n",
      "memory usage: 34.0+ MB\n"
     ]
    }
   ],
   "source": [
    "first=False\n",
    "if first:\n",
    "    game_table.to_csv(args.d+\"game_table.csv\")\n",
    "else:\n",
    "    game_table=pd.read_csv(args.d+\"game_table.csv\")\n",
    "    game_stat=pd.read_csv(args.d+\"game_stats.csv\")\n",
    "    \n",
    "def preprocess(game_table):\n",
    "    game_table.start_date=pd.to_datetime(game_table.start_date, format='%Y-%m-%d')\n",
    "    #game_table.player_dismissed=game_table.player_dismissed.notnull()\n",
    "    game_table[\"wicket_scored\"]=game_table.wicket_type.notnull()\n",
    "    game_table[\"new_no_ball\"]=game_table.start_date>datetime(2015,5,7)\n",
    "    game_table=game_table.sort_values(by=\"start_date\")\n",
    "    #game_table=game_table[~game_table.match_id.isin(game_stat[-50:].match_id)]\n",
    "    return game_table\n",
    "game_table=preprocess(game_table)\n",
    "df_7=game_table[game_table.start_date>datetime(2012,1,1)]#when using test holdout of last 100 matches\n",
    "df_7.info()"
   ]
  },
  {
   "cell_type": "code",
   "execution_count": 91,
   "metadata": {},
   "outputs": [
    {
     "data": {
      "text/html": [
       "<div>\n",
       "<style scoped>\n",
       "    .dataframe tbody tr th:only-of-type {\n",
       "        vertical-align: middle;\n",
       "    }\n",
       "\n",
       "    .dataframe tbody tr th {\n",
       "        vertical-align: top;\n",
       "    }\n",
       "\n",
       "    .dataframe thead th {\n",
       "        text-align: right;\n",
       "    }\n",
       "</style>\n",
       "<table border=\"1\" class=\"dataframe\">\n",
       "  <thead>\n",
       "    <tr style=\"text-align: right;\">\n",
       "      <th></th>\n",
       "      <th>Unnamed: 0</th>\n",
       "      <th>team_1</th>\n",
       "      <th>team_2</th>\n",
       "      <th>score_1</th>\n",
       "      <th>score_2</th>\n",
       "      <th>wickets_1</th>\n",
       "      <th>wickets_2</th>\n",
       "      <th>balls_played_1</th>\n",
       "      <th>balls_played_2</th>\n",
       "      <th>match_id</th>\n",
       "      <th>start_date</th>\n",
       "    </tr>\n",
       "  </thead>\n",
       "  <tbody>\n",
       "    <tr>\n",
       "      <th>0</th>\n",
       "      <td>0</td>\n",
       "      <td>England</td>\n",
       "      <td>Australia</td>\n",
       "      <td>179</td>\n",
       "      <td>79</td>\n",
       "      <td>8</td>\n",
       "      <td>10</td>\n",
       "      <td>120.0</td>\n",
       "      <td>87.0</td>\n",
       "      <td>211028</td>\n",
       "      <td>2005-06-13</td>\n",
       "    </tr>\n",
       "    <tr>\n",
       "      <th>1</th>\n",
       "      <td>1</td>\n",
       "      <td>Australia</td>\n",
       "      <td>New Zealand</td>\n",
       "      <td>214</td>\n",
       "      <td>170</td>\n",
       "      <td>5</td>\n",
       "      <td>10</td>\n",
       "      <td>120.0</td>\n",
       "      <td>120.0</td>\n",
       "      <td>211048</td>\n",
       "      <td>2005-02-17</td>\n",
       "    </tr>\n",
       "    <tr>\n",
       "      <th>2</th>\n",
       "      <td>2</td>\n",
       "      <td>South Africa</td>\n",
       "      <td>New Zealand</td>\n",
       "      <td>133</td>\n",
       "      <td>134</td>\n",
       "      <td>10</td>\n",
       "      <td>5</td>\n",
       "      <td>115.0</td>\n",
       "      <td>106.0</td>\n",
       "      <td>222678</td>\n",
       "      <td>2005-10-21</td>\n",
       "    </tr>\n",
       "    <tr>\n",
       "      <th>3</th>\n",
       "      <td>3</td>\n",
       "      <td>England</td>\n",
       "      <td>Pakistan</td>\n",
       "      <td>144</td>\n",
       "      <td>148</td>\n",
       "      <td>7</td>\n",
       "      <td>5</td>\n",
       "      <td>120.0</td>\n",
       "      <td>107.0</td>\n",
       "      <td>225263</td>\n",
       "      <td>2006-08-28</td>\n",
       "    </tr>\n",
       "    <tr>\n",
       "      <th>4</th>\n",
       "      <td>4</td>\n",
       "      <td>Australia</td>\n",
       "      <td>South Africa</td>\n",
       "      <td>209</td>\n",
       "      <td>114</td>\n",
       "      <td>3</td>\n",
       "      <td>10</td>\n",
       "      <td>119.0</td>\n",
       "      <td>111.0</td>\n",
       "      <td>226374</td>\n",
       "      <td>2006-01-09</td>\n",
       "    </tr>\n",
       "    <tr>\n",
       "      <th>...</th>\n",
       "      <td>...</td>\n",
       "      <td>...</td>\n",
       "      <td>...</td>\n",
       "      <td>...</td>\n",
       "      <td>...</td>\n",
       "      <td>...</td>\n",
       "      <td>...</td>\n",
       "      <td>...</td>\n",
       "      <td>...</td>\n",
       "      <td>...</td>\n",
       "      <td>...</td>\n",
       "    </tr>\n",
       "    <tr>\n",
       "      <th>814</th>\n",
       "      <td>814</td>\n",
       "      <td>Bulgaria</td>\n",
       "      <td>Romania</td>\n",
       "      <td>128</td>\n",
       "      <td>95</td>\n",
       "      <td>5</td>\n",
       "      <td>10</td>\n",
       "      <td>119.0</td>\n",
       "      <td>102.0</td>\n",
       "      <td>1235829</td>\n",
       "      <td>2020-10-16</td>\n",
       "    </tr>\n",
       "    <tr>\n",
       "      <th>815</th>\n",
       "      <td>815</td>\n",
       "      <td>Bulgaria</td>\n",
       "      <td>Romania</td>\n",
       "      <td>60</td>\n",
       "      <td>61</td>\n",
       "      <td>10</td>\n",
       "      <td>4</td>\n",
       "      <td>87.0</td>\n",
       "      <td>57.0</td>\n",
       "      <td>1235832</td>\n",
       "      <td>2020-10-18</td>\n",
       "    </tr>\n",
       "    <tr>\n",
       "      <th>816</th>\n",
       "      <td>816</td>\n",
       "      <td>South Africa</td>\n",
       "      <td>England</td>\n",
       "      <td>179</td>\n",
       "      <td>183</td>\n",
       "      <td>6</td>\n",
       "      <td>5</td>\n",
       "      <td>118.0</td>\n",
       "      <td>111.0</td>\n",
       "      <td>1237122</td>\n",
       "      <td>2020-11-27</td>\n",
       "    </tr>\n",
       "    <tr>\n",
       "      <th>817</th>\n",
       "      <td>817</td>\n",
       "      <td>South Africa</td>\n",
       "      <td>England</td>\n",
       "      <td>146</td>\n",
       "      <td>147</td>\n",
       "      <td>6</td>\n",
       "      <td>6</td>\n",
       "      <td>116.0</td>\n",
       "      <td>119.0</td>\n",
       "      <td>1237123</td>\n",
       "      <td>2020-11-29</td>\n",
       "    </tr>\n",
       "    <tr>\n",
       "      <th>818</th>\n",
       "      <td>818</td>\n",
       "      <td>South Africa</td>\n",
       "      <td>England</td>\n",
       "      <td>191</td>\n",
       "      <td>192</td>\n",
       "      <td>3</td>\n",
       "      <td>1</td>\n",
       "      <td>120.0</td>\n",
       "      <td>106.0</td>\n",
       "      <td>1237124</td>\n",
       "      <td>2020-12-01</td>\n",
       "    </tr>\n",
       "  </tbody>\n",
       "</table>\n",
       "<p>819 rows × 11 columns</p>\n",
       "</div>"
      ],
      "text/plain": [
       "     Unnamed: 0        team_1        team_2  score_1  score_2  wickets_1  \\\n",
       "0             0       England     Australia      179       79          8   \n",
       "1             1     Australia   New Zealand      214      170          5   \n",
       "2             2  South Africa   New Zealand      133      134         10   \n",
       "3             3       England      Pakistan      144      148          7   \n",
       "4             4     Australia  South Africa      209      114          3   \n",
       "..          ...           ...           ...      ...      ...        ...   \n",
       "814         814      Bulgaria       Romania      128       95          5   \n",
       "815         815      Bulgaria       Romania       60       61         10   \n",
       "816         816  South Africa       England      179      183          6   \n",
       "817         817  South Africa       England      146      147          6   \n",
       "818         818  South Africa       England      191      192          3   \n",
       "\n",
       "     wickets_2  balls_played_1  balls_played_2  match_id  start_date  \n",
       "0           10           120.0            87.0    211028  2005-06-13  \n",
       "1           10           120.0           120.0    211048  2005-02-17  \n",
       "2            5           115.0           106.0    222678  2005-10-21  \n",
       "3            5           120.0           107.0    225263  2006-08-28  \n",
       "4           10           119.0           111.0    226374  2006-01-09  \n",
       "..         ...             ...             ...       ...         ...  \n",
       "814         10           119.0           102.0   1235829  2020-10-16  \n",
       "815          4            87.0            57.0   1235832  2020-10-18  \n",
       "816          5           118.0           111.0   1237122  2020-11-27  \n",
       "817          6           116.0           119.0   1237123  2020-11-29  \n",
       "818          1           120.0           106.0   1237124  2020-12-01  \n",
       "\n",
       "[819 rows x 11 columns]"
      ]
     },
     "execution_count": 91,
     "metadata": {},
     "output_type": "execute_result"
    }
   ],
   "source": [
    "game_stat"
   ]
  },
  {
   "cell_type": "code",
   "execution_count": 92,
   "metadata": {},
   "outputs": [
    {
     "data": {
      "text/html": [
       "<div>\n",
       "<style scoped>\n",
       "    .dataframe tbody tr th:only-of-type {\n",
       "        vertical-align: middle;\n",
       "    }\n",
       "\n",
       "    .dataframe tbody tr th {\n",
       "        vertical-align: top;\n",
       "    }\n",
       "\n",
       "    .dataframe thead th {\n",
       "        text-align: right;\n",
       "    }\n",
       "</style>\n",
       "<table border=\"1\" class=\"dataframe\">\n",
       "  <thead>\n",
       "    <tr style=\"text-align: right;\">\n",
       "      <th></th>\n",
       "      <th>Unnamed: 0</th>\n",
       "      <th>match_id</th>\n",
       "      <th>season</th>\n",
       "      <th>start_date</th>\n",
       "      <th>venue</th>\n",
       "      <th>innings</th>\n",
       "      <th>ball</th>\n",
       "      <th>batting_team</th>\n",
       "      <th>bowling_team</th>\n",
       "      <th>striker</th>\n",
       "      <th>...</th>\n",
       "      <th>player_dismissed</th>\n",
       "      <th>other_wicket_type</th>\n",
       "      <th>other_player_dismissed</th>\n",
       "      <th>balls_remain</th>\n",
       "      <th>wickets_remain</th>\n",
       "      <th>rr</th>\n",
       "      <th>s_r</th>\n",
       "      <th>rrr</th>\n",
       "      <th>wicket_scored</th>\n",
       "      <th>new_no_ball</th>\n",
       "    </tr>\n",
       "  </thead>\n",
       "  <tbody>\n",
       "    <tr>\n",
       "      <th>0</th>\n",
       "      <td>215</td>\n",
       "      <td>211048</td>\n",
       "      <td>2004/05</td>\n",
       "      <td>2005-02-17</td>\n",
       "      <td>Eden Park</td>\n",
       "      <td>1</td>\n",
       "      <td>0.1</td>\n",
       "      <td>Australia</td>\n",
       "      <td>New Zealand</td>\n",
       "      <td>AC Gilchrist</td>\n",
       "      <td>...</td>\n",
       "      <td>NaN</td>\n",
       "      <td>NaN</td>\n",
       "      <td>NaN</td>\n",
       "      <td>120.0</td>\n",
       "      <td>10.0</td>\n",
       "      <td>0.000000</td>\n",
       "      <td>0.0</td>\n",
       "      <td>0.000000</td>\n",
       "      <td>False</td>\n",
       "      <td>False</td>\n",
       "    </tr>\n",
       "    <tr>\n",
       "      <th>156</th>\n",
       "      <td>371</td>\n",
       "      <td>211048</td>\n",
       "      <td>2004/05</td>\n",
       "      <td>2005-02-17</td>\n",
       "      <td>Eden Park</td>\n",
       "      <td>2</td>\n",
       "      <td>5.3</td>\n",
       "      <td>New Zealand</td>\n",
       "      <td>Australia</td>\n",
       "      <td>BB McCullum</td>\n",
       "      <td>...</td>\n",
       "      <td>NaN</td>\n",
       "      <td>NaN</td>\n",
       "      <td>NaN</td>\n",
       "      <td>88.0</td>\n",
       "      <td>8.0</td>\n",
       "      <td>1.600000</td>\n",
       "      <td>30.0</td>\n",
       "      <td>2.208791</td>\n",
       "      <td>False</td>\n",
       "      <td>False</td>\n",
       "    </tr>\n",
       "    <tr>\n",
       "      <th>157</th>\n",
       "      <td>372</td>\n",
       "      <td>211048</td>\n",
       "      <td>2004/05</td>\n",
       "      <td>2005-02-17</td>\n",
       "      <td>Eden Park</td>\n",
       "      <td>2</td>\n",
       "      <td>5.4</td>\n",
       "      <td>New Zealand</td>\n",
       "      <td>Australia</td>\n",
       "      <td>BB McCullum</td>\n",
       "      <td>...</td>\n",
       "      <td>NaN</td>\n",
       "      <td>NaN</td>\n",
       "      <td>NaN</td>\n",
       "      <td>87.0</td>\n",
       "      <td>8.0</td>\n",
       "      <td>1.551515</td>\n",
       "      <td>30.0</td>\n",
       "      <td>2.284091</td>\n",
       "      <td>False</td>\n",
       "      <td>False</td>\n",
       "    </tr>\n",
       "    <tr>\n",
       "      <th>158</th>\n",
       "      <td>373</td>\n",
       "      <td>211048</td>\n",
       "      <td>2004/05</td>\n",
       "      <td>2005-02-17</td>\n",
       "      <td>Eden Park</td>\n",
       "      <td>2</td>\n",
       "      <td>5.5</td>\n",
       "      <td>New Zealand</td>\n",
       "      <td>Australia</td>\n",
       "      <td>SB Styris</td>\n",
       "      <td>...</td>\n",
       "      <td>NaN</td>\n",
       "      <td>NaN</td>\n",
       "      <td>NaN</td>\n",
       "      <td>86.0</td>\n",
       "      <td>8.0</td>\n",
       "      <td>1.535294</td>\n",
       "      <td>0.0</td>\n",
       "      <td>2.298851</td>\n",
       "      <td>False</td>\n",
       "      <td>False</td>\n",
       "    </tr>\n",
       "    <tr>\n",
       "      <th>159</th>\n",
       "      <td>374</td>\n",
       "      <td>211048</td>\n",
       "      <td>2004/05</td>\n",
       "      <td>2005-02-17</td>\n",
       "      <td>Eden Park</td>\n",
       "      <td>2</td>\n",
       "      <td>5.6</td>\n",
       "      <td>New Zealand</td>\n",
       "      <td>Australia</td>\n",
       "      <td>SB Styris</td>\n",
       "      <td>...</td>\n",
       "      <td>NaN</td>\n",
       "      <td>NaN</td>\n",
       "      <td>NaN</td>\n",
       "      <td>85.0</td>\n",
       "      <td>8.0</td>\n",
       "      <td>1.548571</td>\n",
       "      <td>2.0</td>\n",
       "      <td>2.302326</td>\n",
       "      <td>False</td>\n",
       "      <td>False</td>\n",
       "    </tr>\n",
       "    <tr>\n",
       "      <th>...</th>\n",
       "      <td>...</td>\n",
       "      <td>...</td>\n",
       "      <td>...</td>\n",
       "      <td>...</td>\n",
       "      <td>...</td>\n",
       "      <td>...</td>\n",
       "      <td>...</td>\n",
       "      <td>...</td>\n",
       "      <td>...</td>\n",
       "      <td>...</td>\n",
       "      <td>...</td>\n",
       "      <td>...</td>\n",
       "      <td>...</td>\n",
       "      <td>...</td>\n",
       "      <td>...</td>\n",
       "      <td>...</td>\n",
       "      <td>...</td>\n",
       "      <td>...</td>\n",
       "      <td>...</td>\n",
       "      <td>...</td>\n",
       "      <td>...</td>\n",
       "    </tr>\n",
       "    <tr>\n",
       "      <th>191366</th>\n",
       "      <td>190238</td>\n",
       "      <td>1233961</td>\n",
       "      <td>2020/21</td>\n",
       "      <td>2020-12-22</td>\n",
       "      <td>McLean Park</td>\n",
       "      <td>1</td>\n",
       "      <td>14.2</td>\n",
       "      <td>New Zealand</td>\n",
       "      <td>Pakistan</td>\n",
       "      <td>DP Conway</td>\n",
       "      <td>...</td>\n",
       "      <td>NaN</td>\n",
       "      <td>NaN</td>\n",
       "      <td>NaN</td>\n",
       "      <td>36.0</td>\n",
       "      <td>6.0</td>\n",
       "      <td>1.354352</td>\n",
       "      <td>22.0</td>\n",
       "      <td>0.000000</td>\n",
       "      <td>False</td>\n",
       "      <td>True</td>\n",
       "    </tr>\n",
       "    <tr>\n",
       "      <th>191367</th>\n",
       "      <td>190239</td>\n",
       "      <td>1233961</td>\n",
       "      <td>2020/21</td>\n",
       "      <td>2020-12-22</td>\n",
       "      <td>McLean Park</td>\n",
       "      <td>1</td>\n",
       "      <td>14.3</td>\n",
       "      <td>New Zealand</td>\n",
       "      <td>Pakistan</td>\n",
       "      <td>DP Conway</td>\n",
       "      <td>...</td>\n",
       "      <td>NaN</td>\n",
       "      <td>NaN</td>\n",
       "      <td>NaN</td>\n",
       "      <td>35.0</td>\n",
       "      <td>6.0</td>\n",
       "      <td>1.385477</td>\n",
       "      <td>26.0</td>\n",
       "      <td>0.000000</td>\n",
       "      <td>False</td>\n",
       "      <td>True</td>\n",
       "    </tr>\n",
       "    <tr>\n",
       "      <th>191368</th>\n",
       "      <td>190240</td>\n",
       "      <td>1233961</td>\n",
       "      <td>2020/21</td>\n",
       "      <td>2020-12-22</td>\n",
       "      <td>McLean Park</td>\n",
       "      <td>1</td>\n",
       "      <td>14.4</td>\n",
       "      <td>New Zealand</td>\n",
       "      <td>Pakistan</td>\n",
       "      <td>DP Conway</td>\n",
       "      <td>...</td>\n",
       "      <td>NaN</td>\n",
       "      <td>NaN</td>\n",
       "      <td>NaN</td>\n",
       "      <td>34.0</td>\n",
       "      <td>6.0</td>\n",
       "      <td>1.415879</td>\n",
       "      <td>30.0</td>\n",
       "      <td>0.000000</td>\n",
       "      <td>False</td>\n",
       "      <td>True</td>\n",
       "    </tr>\n",
       "    <tr>\n",
       "      <th>191339</th>\n",
       "      <td>190211</td>\n",
       "      <td>1233961</td>\n",
       "      <td>2020/21</td>\n",
       "      <td>2020-12-22</td>\n",
       "      <td>McLean Park</td>\n",
       "      <td>1</td>\n",
       "      <td>9.5</td>\n",
       "      <td>New Zealand</td>\n",
       "      <td>Pakistan</td>\n",
       "      <td>GD Phillips</td>\n",
       "      <td>...</td>\n",
       "      <td>NaN</td>\n",
       "      <td>NaN</td>\n",
       "      <td>NaN</td>\n",
       "      <td>62.0</td>\n",
       "      <td>7.0</td>\n",
       "      <td>1.351918</td>\n",
       "      <td>7.0</td>\n",
       "      <td>0.000000</td>\n",
       "      <td>False</td>\n",
       "      <td>True</td>\n",
       "    </tr>\n",
       "    <tr>\n",
       "      <th>191522</th>\n",
       "      <td>190394</td>\n",
       "      <td>1233961</td>\n",
       "      <td>2020/21</td>\n",
       "      <td>2020-12-22</td>\n",
       "      <td>McLean Park</td>\n",
       "      <td>2</td>\n",
       "      <td>19.4</td>\n",
       "      <td>Pakistan</td>\n",
       "      <td>New Zealand</td>\n",
       "      <td>Iftikhar Ahmed</td>\n",
       "      <td>...</td>\n",
       "      <td>NaN</td>\n",
       "      <td>NaN</td>\n",
       "      <td>NaN</td>\n",
       "      <td>6.0</td>\n",
       "      <td>4.0</td>\n",
       "      <td>1.515178</td>\n",
       "      <td>8.0</td>\n",
       "      <td>11.285714</td>\n",
       "      <td>False</td>\n",
       "      <td>True</td>\n",
       "    </tr>\n",
       "  </tbody>\n",
       "</table>\n",
       "<p>191523 rows × 30 columns</p>\n",
       "</div>"
      ],
      "text/plain": [
       "        Unnamed: 0  match_id   season start_date        venue  innings  ball  \\\n",
       "0              215    211048  2004/05 2005-02-17    Eden Park        1   0.1   \n",
       "156            371    211048  2004/05 2005-02-17    Eden Park        2   5.3   \n",
       "157            372    211048  2004/05 2005-02-17    Eden Park        2   5.4   \n",
       "158            373    211048  2004/05 2005-02-17    Eden Park        2   5.5   \n",
       "159            374    211048  2004/05 2005-02-17    Eden Park        2   5.6   \n",
       "...            ...       ...      ...        ...          ...      ...   ...   \n",
       "191366      190238   1233961  2020/21 2020-12-22  McLean Park        1  14.2   \n",
       "191367      190239   1233961  2020/21 2020-12-22  McLean Park        1  14.3   \n",
       "191368      190240   1233961  2020/21 2020-12-22  McLean Park        1  14.4   \n",
       "191339      190211   1233961  2020/21 2020-12-22  McLean Park        1   9.5   \n",
       "191522      190394   1233961  2020/21 2020-12-22  McLean Park        2  19.4   \n",
       "\n",
       "       batting_team bowling_team         striker  ... player_dismissed  \\\n",
       "0         Australia  New Zealand    AC Gilchrist  ...              NaN   \n",
       "156     New Zealand    Australia     BB McCullum  ...              NaN   \n",
       "157     New Zealand    Australia     BB McCullum  ...              NaN   \n",
       "158     New Zealand    Australia       SB Styris  ...              NaN   \n",
       "159     New Zealand    Australia       SB Styris  ...              NaN   \n",
       "...             ...          ...             ...  ...              ...   \n",
       "191366  New Zealand     Pakistan       DP Conway  ...              NaN   \n",
       "191367  New Zealand     Pakistan       DP Conway  ...              NaN   \n",
       "191368  New Zealand     Pakistan       DP Conway  ...              NaN   \n",
       "191339  New Zealand     Pakistan     GD Phillips  ...              NaN   \n",
       "191522     Pakistan  New Zealand  Iftikhar Ahmed  ...              NaN   \n",
       "\n",
       "       other_wicket_type  other_player_dismissed  balls_remain  \\\n",
       "0                    NaN                     NaN         120.0   \n",
       "156                  NaN                     NaN          88.0   \n",
       "157                  NaN                     NaN          87.0   \n",
       "158                  NaN                     NaN          86.0   \n",
       "159                  NaN                     NaN          85.0   \n",
       "...                  ...                     ...           ...   \n",
       "191366               NaN                     NaN          36.0   \n",
       "191367               NaN                     NaN          35.0   \n",
       "191368               NaN                     NaN          34.0   \n",
       "191339               NaN                     NaN          62.0   \n",
       "191522               NaN                     NaN           6.0   \n",
       "\n",
       "        wickets_remain        rr   s_r        rrr  wicket_scored new_no_ball  \n",
       "0                 10.0  0.000000   0.0   0.000000          False       False  \n",
       "156                8.0  1.600000  30.0   2.208791          False       False  \n",
       "157                8.0  1.551515  30.0   2.284091          False       False  \n",
       "158                8.0  1.535294   0.0   2.298851          False       False  \n",
       "159                8.0  1.548571   2.0   2.302326          False       False  \n",
       "...                ...       ...   ...        ...            ...         ...  \n",
       "191366             6.0  1.354352  22.0   0.000000          False        True  \n",
       "191367             6.0  1.385477  26.0   0.000000          False        True  \n",
       "191368             6.0  1.415879  30.0   0.000000          False        True  \n",
       "191339             7.0  1.351918   7.0   0.000000          False        True  \n",
       "191522             4.0  1.515178   8.0  11.285714          False        True  \n",
       "\n",
       "[191523 rows x 30 columns]"
      ]
     },
     "execution_count": 92,
     "metadata": {},
     "output_type": "execute_result"
    }
   ],
   "source": [
    "game_table"
   ]
  },
  {
   "cell_type": "code",
   "execution_count": 120,
   "metadata": {
    "scrolled": true
   },
   "outputs": [
    {
     "data": {
      "text/html": [
       "<div>\n",
       "<style scoped>\n",
       "    .dataframe tbody tr th:only-of-type {\n",
       "        vertical-align: middle;\n",
       "    }\n",
       "\n",
       "    .dataframe tbody tr th {\n",
       "        vertical-align: top;\n",
       "    }\n",
       "\n",
       "    .dataframe thead th {\n",
       "        text-align: right;\n",
       "    }\n",
       "</style>\n",
       "<table border=\"1\" class=\"dataframe\">\n",
       "  <thead>\n",
       "    <tr style=\"text-align: right;\">\n",
       "      <th>name</th>\n",
       "      <th>A Ahmadhel</th>\n",
       "      <th>A Ashokan</th>\n",
       "      <th>A Bagai</th>\n",
       "      <th>A Balbirnie</th>\n",
       "      <th>A Bhagwat</th>\n",
       "      <th>A Bhattarai</th>\n",
       "      <th>A Bohara</th>\n",
       "      <th>A Bulow</th>\n",
       "      <th>A Dananjaya</th>\n",
       "      <th>A Flintoff</th>\n",
       "      <th>...</th>\n",
       "      <th>TC Vine</th>\n",
       "      <th>Tanvir Ahmed (1)</th>\n",
       "      <th>UKPW Kumaranayaka</th>\n",
       "      <th>Usman Qadir</th>\n",
       "      <th>WT Mashinge</th>\n",
       "      <th>Waqas Maqsood</th>\n",
       "      <th>YA Abdulla</th>\n",
       "      <th>Yamin Ahmadzai</th>\n",
       "      <th>Yasir Shah</th>\n",
       "      <th>Zulqarnain Haider (2)</th>\n",
       "    </tr>\n",
       "  </thead>\n",
       "  <tbody>\n",
       "    <tr>\n",
       "      <th>balls</th>\n",
       "      <td>8</td>\n",
       "      <td>30</td>\n",
       "      <td>157</td>\n",
       "      <td>564</td>\n",
       "      <td>9</td>\n",
       "      <td>3</td>\n",
       "      <td>20</td>\n",
       "      <td>13</td>\n",
       "      <td>56</td>\n",
       "      <td>58</td>\n",
       "      <td>...</td>\n",
       "      <td>NaN</td>\n",
       "      <td>NaN</td>\n",
       "      <td>NaN</td>\n",
       "      <td>NaN</td>\n",
       "      <td>NaN</td>\n",
       "      <td>NaN</td>\n",
       "      <td>NaN</td>\n",
       "      <td>NaN</td>\n",
       "      <td>NaN</td>\n",
       "      <td>NaN</td>\n",
       "    </tr>\n",
       "    <tr>\n",
       "      <th>games_striker</th>\n",
       "      <td>1</td>\n",
       "      <td>1</td>\n",
       "      <td>4</td>\n",
       "      <td>30</td>\n",
       "      <td>3</td>\n",
       "      <td>1</td>\n",
       "      <td>5</td>\n",
       "      <td>1</td>\n",
       "      <td>10</td>\n",
       "      <td>6</td>\n",
       "      <td>...</td>\n",
       "      <td>NaN</td>\n",
       "      <td>NaN</td>\n",
       "      <td>NaN</td>\n",
       "      <td>NaN</td>\n",
       "      <td>NaN</td>\n",
       "      <td>NaN</td>\n",
       "      <td>NaN</td>\n",
       "      <td>NaN</td>\n",
       "      <td>NaN</td>\n",
       "      <td>NaN</td>\n",
       "    </tr>\n",
       "    <tr>\n",
       "      <th>runs</th>\n",
       "      <td>2</td>\n",
       "      <td>23</td>\n",
       "      <td>165</td>\n",
       "      <td>744</td>\n",
       "      <td>2</td>\n",
       "      <td>2</td>\n",
       "      <td>17</td>\n",
       "      <td>11</td>\n",
       "      <td>44</td>\n",
       "      <td>68</td>\n",
       "      <td>...</td>\n",
       "      <td>NaN</td>\n",
       "      <td>NaN</td>\n",
       "      <td>NaN</td>\n",
       "      <td>NaN</td>\n",
       "      <td>NaN</td>\n",
       "      <td>NaN</td>\n",
       "      <td>NaN</td>\n",
       "      <td>NaN</td>\n",
       "      <td>NaN</td>\n",
       "      <td>NaN</td>\n",
       "    </tr>\n",
       "    <tr>\n",
       "      <th>dismissed</th>\n",
       "      <td>1</td>\n",
       "      <td>1</td>\n",
       "      <td>4</td>\n",
       "      <td>27</td>\n",
       "      <td>3</td>\n",
       "      <td>1</td>\n",
       "      <td>4</td>\n",
       "      <td>1</td>\n",
       "      <td>7</td>\n",
       "      <td>5</td>\n",
       "      <td>...</td>\n",
       "      <td>NaN</td>\n",
       "      <td>NaN</td>\n",
       "      <td>NaN</td>\n",
       "      <td>NaN</td>\n",
       "      <td>NaN</td>\n",
       "      <td>NaN</td>\n",
       "      <td>NaN</td>\n",
       "      <td>NaN</td>\n",
       "      <td>NaN</td>\n",
       "      <td>NaN</td>\n",
       "    </tr>\n",
       "    <tr>\n",
       "      <th>4s</th>\n",
       "      <td>0</td>\n",
       "      <td>2</td>\n",
       "      <td>14</td>\n",
       "      <td>87</td>\n",
       "      <td>0</td>\n",
       "      <td>0</td>\n",
       "      <td>1</td>\n",
       "      <td>0</td>\n",
       "      <td>5</td>\n",
       "      <td>6</td>\n",
       "      <td>...</td>\n",
       "      <td>NaN</td>\n",
       "      <td>NaN</td>\n",
       "      <td>NaN</td>\n",
       "      <td>NaN</td>\n",
       "      <td>NaN</td>\n",
       "      <td>NaN</td>\n",
       "      <td>NaN</td>\n",
       "      <td>NaN</td>\n",
       "      <td>NaN</td>\n",
       "      <td>NaN</td>\n",
       "    </tr>\n",
       "    <tr>\n",
       "      <th>6s</th>\n",
       "      <td>0</td>\n",
       "      <td>0</td>\n",
       "      <td>0</td>\n",
       "      <td>12</td>\n",
       "      <td>0</td>\n",
       "      <td>0</td>\n",
       "      <td>1</td>\n",
       "      <td>1</td>\n",
       "      <td>0</td>\n",
       "      <td>2</td>\n",
       "      <td>...</td>\n",
       "      <td>NaN</td>\n",
       "      <td>NaN</td>\n",
       "      <td>NaN</td>\n",
       "      <td>NaN</td>\n",
       "      <td>NaN</td>\n",
       "      <td>NaN</td>\n",
       "      <td>NaN</td>\n",
       "      <td>NaN</td>\n",
       "      <td>NaN</td>\n",
       "      <td>NaN</td>\n",
       "    </tr>\n",
       "    <tr>\n",
       "      <th>50s</th>\n",
       "      <td>False</td>\n",
       "      <td>False</td>\n",
       "      <td>True</td>\n",
       "      <td>True</td>\n",
       "      <td>False</td>\n",
       "      <td>False</td>\n",
       "      <td>False</td>\n",
       "      <td>False</td>\n",
       "      <td>False</td>\n",
       "      <td>True</td>\n",
       "      <td>...</td>\n",
       "      <td>NaN</td>\n",
       "      <td>NaN</td>\n",
       "      <td>NaN</td>\n",
       "      <td>NaN</td>\n",
       "      <td>NaN</td>\n",
       "      <td>NaN</td>\n",
       "      <td>NaN</td>\n",
       "      <td>NaN</td>\n",
       "      <td>NaN</td>\n",
       "      <td>NaN</td>\n",
       "    </tr>\n",
       "    <tr>\n",
       "      <th>100s</th>\n",
       "      <td>False</td>\n",
       "      <td>False</td>\n",
       "      <td>True</td>\n",
       "      <td>True</td>\n",
       "      <td>False</td>\n",
       "      <td>False</td>\n",
       "      <td>False</td>\n",
       "      <td>False</td>\n",
       "      <td>False</td>\n",
       "      <td>False</td>\n",
       "      <td>...</td>\n",
       "      <td>NaN</td>\n",
       "      <td>NaN</td>\n",
       "      <td>NaN</td>\n",
       "      <td>NaN</td>\n",
       "      <td>NaN</td>\n",
       "      <td>NaN</td>\n",
       "      <td>NaN</td>\n",
       "      <td>NaN</td>\n",
       "      <td>NaN</td>\n",
       "      <td>NaN</td>\n",
       "    </tr>\n",
       "    <tr>\n",
       "      <th>extras_striker</th>\n",
       "      <td>2</td>\n",
       "      <td>0</td>\n",
       "      <td>4</td>\n",
       "      <td>18</td>\n",
       "      <td>0</td>\n",
       "      <td>0</td>\n",
       "      <td>1</td>\n",
       "      <td>2</td>\n",
       "      <td>2</td>\n",
       "      <td>5</td>\n",
       "      <td>...</td>\n",
       "      <td>NaN</td>\n",
       "      <td>NaN</td>\n",
       "      <td>NaN</td>\n",
       "      <td>NaN</td>\n",
       "      <td>NaN</td>\n",
       "      <td>NaN</td>\n",
       "      <td>NaN</td>\n",
       "      <td>NaN</td>\n",
       "      <td>NaN</td>\n",
       "      <td>NaN</td>\n",
       "    </tr>\n",
       "    <tr>\n",
       "      <th>s_r</th>\n",
       "      <td>25</td>\n",
       "      <td>76.6667</td>\n",
       "      <td>105.096</td>\n",
       "      <td>131.915</td>\n",
       "      <td>22.2222</td>\n",
       "      <td>66.6667</td>\n",
       "      <td>85</td>\n",
       "      <td>84.6154</td>\n",
       "      <td>78.5714</td>\n",
       "      <td>117.241</td>\n",
       "      <td>...</td>\n",
       "      <td>NaN</td>\n",
       "      <td>NaN</td>\n",
       "      <td>NaN</td>\n",
       "      <td>NaN</td>\n",
       "      <td>NaN</td>\n",
       "      <td>NaN</td>\n",
       "      <td>NaN</td>\n",
       "      <td>NaN</td>\n",
       "      <td>NaN</td>\n",
       "      <td>NaN</td>\n",
       "    </tr>\n",
       "    <tr>\n",
       "      <th>Av</th>\n",
       "      <td>2</td>\n",
       "      <td>23</td>\n",
       "      <td>41.25</td>\n",
       "      <td>27.5556</td>\n",
       "      <td>0.666667</td>\n",
       "      <td>2</td>\n",
       "      <td>4.25</td>\n",
       "      <td>11</td>\n",
       "      <td>6.28571</td>\n",
       "      <td>13.6</td>\n",
       "      <td>...</td>\n",
       "      <td>NaN</td>\n",
       "      <td>NaN</td>\n",
       "      <td>NaN</td>\n",
       "      <td>NaN</td>\n",
       "      <td>NaN</td>\n",
       "      <td>NaN</td>\n",
       "      <td>NaN</td>\n",
       "      <td>NaN</td>\n",
       "      <td>NaN</td>\n",
       "      <td>NaN</td>\n",
       "    </tr>\n",
       "    <tr>\n",
       "      <th>games_bowler</th>\n",
       "      <td>1</td>\n",
       "      <td>1</td>\n",
       "      <td>NaN</td>\n",
       "      <td>NaN</td>\n",
       "      <td>NaN</td>\n",
       "      <td>4</td>\n",
       "      <td>30</td>\n",
       "      <td>NaN</td>\n",
       "      <td>3</td>\n",
       "      <td>1</td>\n",
       "      <td>...</td>\n",
       "      <td>7</td>\n",
       "      <td>2</td>\n",
       "      <td>1</td>\n",
       "      <td>3</td>\n",
       "      <td>4</td>\n",
       "      <td>1</td>\n",
       "      <td>4</td>\n",
       "      <td>6</td>\n",
       "      <td>13</td>\n",
       "      <td>24</td>\n",
       "    </tr>\n",
       "    <tr>\n",
       "      <th>balls_bowl</th>\n",
       "      <td>5</td>\n",
       "      <td>19</td>\n",
       "      <td>NaN</td>\n",
       "      <td>NaN</td>\n",
       "      <td>NaN</td>\n",
       "      <td>19</td>\n",
       "      <td>366</td>\n",
       "      <td>NaN</td>\n",
       "      <td>425</td>\n",
       "      <td>130</td>\n",
       "      <td>...</td>\n",
       "      <td>60</td>\n",
       "      <td>21</td>\n",
       "      <td>62</td>\n",
       "      <td>67</td>\n",
       "      <td>35</td>\n",
       "      <td>11</td>\n",
       "      <td>45</td>\n",
       "      <td>26</td>\n",
       "      <td>18</td>\n",
       "      <td>20</td>\n",
       "    </tr>\n",
       "    <tr>\n",
       "      <th>concived_runs</th>\n",
       "      <td>4</td>\n",
       "      <td>35</td>\n",
       "      <td>NaN</td>\n",
       "      <td>NaN</td>\n",
       "      <td>NaN</td>\n",
       "      <td>11</td>\n",
       "      <td>375</td>\n",
       "      <td>NaN</td>\n",
       "      <td>510</td>\n",
       "      <td>124</td>\n",
       "      <td>...</td>\n",
       "      <td>77</td>\n",
       "      <td>10</td>\n",
       "      <td>66</td>\n",
       "      <td>55</td>\n",
       "      <td>52</td>\n",
       "      <td>21</td>\n",
       "      <td>41</td>\n",
       "      <td>32</td>\n",
       "      <td>31</td>\n",
       "      <td>5</td>\n",
       "    </tr>\n",
       "    <tr>\n",
       "      <th>wickets</th>\n",
       "      <td>1</td>\n",
       "      <td>0</td>\n",
       "      <td>NaN</td>\n",
       "      <td>NaN</td>\n",
       "      <td>NaN</td>\n",
       "      <td>2</td>\n",
       "      <td>21</td>\n",
       "      <td>NaN</td>\n",
       "      <td>20</td>\n",
       "      <td>4</td>\n",
       "      <td>...</td>\n",
       "      <td>3</td>\n",
       "      <td>2</td>\n",
       "      <td>1</td>\n",
       "      <td>8</td>\n",
       "      <td>1</td>\n",
       "      <td>2</td>\n",
       "      <td>2</td>\n",
       "      <td>3</td>\n",
       "      <td>0</td>\n",
       "      <td>0</td>\n",
       "    </tr>\n",
       "    <tr>\n",
       "      <th>noballs</th>\n",
       "      <td>0</td>\n",
       "      <td>0</td>\n",
       "      <td>NaN</td>\n",
       "      <td>NaN</td>\n",
       "      <td>NaN</td>\n",
       "      <td>0</td>\n",
       "      <td>0</td>\n",
       "      <td>NaN</td>\n",
       "      <td>0</td>\n",
       "      <td>0</td>\n",
       "      <td>...</td>\n",
       "      <td>0</td>\n",
       "      <td>1</td>\n",
       "      <td>0</td>\n",
       "      <td>0</td>\n",
       "      <td>0</td>\n",
       "      <td>0</td>\n",
       "      <td>0</td>\n",
       "      <td>0</td>\n",
       "      <td>0</td>\n",
       "      <td>0</td>\n",
       "    </tr>\n",
       "    <tr>\n",
       "      <th>wides</th>\n",
       "      <td>2</td>\n",
       "      <td>1</td>\n",
       "      <td>NaN</td>\n",
       "      <td>NaN</td>\n",
       "      <td>NaN</td>\n",
       "      <td>1</td>\n",
       "      <td>6</td>\n",
       "      <td>NaN</td>\n",
       "      <td>14</td>\n",
       "      <td>4</td>\n",
       "      <td>...</td>\n",
       "      <td>0</td>\n",
       "      <td>2</td>\n",
       "      <td>6</td>\n",
       "      <td>5</td>\n",
       "      <td>5</td>\n",
       "      <td>0</td>\n",
       "      <td>3</td>\n",
       "      <td>2</td>\n",
       "      <td>0</td>\n",
       "      <td>2</td>\n",
       "    </tr>\n",
       "    <tr>\n",
       "      <th>extras_bowler</th>\n",
       "      <td>2</td>\n",
       "      <td>1</td>\n",
       "      <td>NaN</td>\n",
       "      <td>NaN</td>\n",
       "      <td>NaN</td>\n",
       "      <td>2</td>\n",
       "      <td>15</td>\n",
       "      <td>NaN</td>\n",
       "      <td>20</td>\n",
       "      <td>7</td>\n",
       "      <td>...</td>\n",
       "      <td>0</td>\n",
       "      <td>3</td>\n",
       "      <td>6</td>\n",
       "      <td>11</td>\n",
       "      <td>7</td>\n",
       "      <td>0</td>\n",
       "      <td>3</td>\n",
       "      <td>3</td>\n",
       "      <td>2</td>\n",
       "      <td>3</td>\n",
       "    </tr>\n",
       "    <tr>\n",
       "      <th>e_r</th>\n",
       "      <td>8</td>\n",
       "      <td>11.6667</td>\n",
       "      <td>NaN</td>\n",
       "      <td>NaN</td>\n",
       "      <td>NaN</td>\n",
       "      <td>3.88235</td>\n",
       "      <td>6.41026</td>\n",
       "      <td>NaN</td>\n",
       "      <td>7.55556</td>\n",
       "      <td>6.04878</td>\n",
       "      <td>...</td>\n",
       "      <td>7.7</td>\n",
       "      <td>3.33333</td>\n",
       "      <td>7.07143</td>\n",
       "      <td>5.89286</td>\n",
       "      <td>11.1429</td>\n",
       "      <td>11.4545</td>\n",
       "      <td>5.85714</td>\n",
       "      <td>8.34783</td>\n",
       "      <td>11.625</td>\n",
       "      <td>1.76471</td>\n",
       "    </tr>\n",
       "  </tbody>\n",
       "</table>\n",
       "<p>19 rows × 1703 columns</p>\n",
       "</div>"
      ],
      "text/plain": [
       "name           A Ahmadhel A Ashokan  A Bagai A Balbirnie A Bhagwat  \\\n",
       "balls                   8        30      157         564         9   \n",
       "games_striker           1         1        4          30         3   \n",
       "runs                    2        23      165         744         2   \n",
       "dismissed               1         1        4          27         3   \n",
       "4s                      0         2       14          87         0   \n",
       "6s                      0         0        0          12         0   \n",
       "50s                 False     False     True        True     False   \n",
       "100s                False     False     True        True     False   \n",
       "extras_striker          2         0        4          18         0   \n",
       "s_r                    25   76.6667  105.096     131.915   22.2222   \n",
       "Av                      2        23    41.25     27.5556  0.666667   \n",
       "games_bowler            1         1      NaN         NaN       NaN   \n",
       "balls_bowl              5        19      NaN         NaN       NaN   \n",
       "concived_runs           4        35      NaN         NaN       NaN   \n",
       "wickets                 1         0      NaN         NaN       NaN   \n",
       "noballs                 0         0      NaN         NaN       NaN   \n",
       "wides                   2         1      NaN         NaN       NaN   \n",
       "extras_bowler           2         1      NaN         NaN       NaN   \n",
       "e_r                     8   11.6667      NaN         NaN       NaN   \n",
       "\n",
       "name           A Bhattarai A Bohara  A Bulow A Dananjaya A Flintoff  ...  \\\n",
       "balls                    3       20       13          56         58  ...   \n",
       "games_striker            1        5        1          10          6  ...   \n",
       "runs                     2       17       11          44         68  ...   \n",
       "dismissed                1        4        1           7          5  ...   \n",
       "4s                       0        1        0           5          6  ...   \n",
       "6s                       0        1        1           0          2  ...   \n",
       "50s                  False    False    False       False       True  ...   \n",
       "100s                 False    False    False       False      False  ...   \n",
       "extras_striker           0        1        2           2          5  ...   \n",
       "s_r                66.6667       85  84.6154     78.5714    117.241  ...   \n",
       "Av                       2     4.25       11     6.28571       13.6  ...   \n",
       "games_bowler             4       30      NaN           3          1  ...   \n",
       "balls_bowl              19      366      NaN         425        130  ...   \n",
       "concived_runs           11      375      NaN         510        124  ...   \n",
       "wickets                  2       21      NaN          20          4  ...   \n",
       "noballs                  0        0      NaN           0          0  ...   \n",
       "wides                    1        6      NaN          14          4  ...   \n",
       "extras_bowler            2       15      NaN          20          7  ...   \n",
       "e_r                3.88235  6.41026      NaN     7.55556    6.04878  ...   \n",
       "\n",
       "name           TC Vine Tanvir Ahmed (1) UKPW Kumaranayaka Usman Qadir  \\\n",
       "balls              NaN              NaN               NaN         NaN   \n",
       "games_striker      NaN              NaN               NaN         NaN   \n",
       "runs               NaN              NaN               NaN         NaN   \n",
       "dismissed          NaN              NaN               NaN         NaN   \n",
       "4s                 NaN              NaN               NaN         NaN   \n",
       "6s                 NaN              NaN               NaN         NaN   \n",
       "50s                NaN              NaN               NaN         NaN   \n",
       "100s               NaN              NaN               NaN         NaN   \n",
       "extras_striker     NaN              NaN               NaN         NaN   \n",
       "s_r                NaN              NaN               NaN         NaN   \n",
       "Av                 NaN              NaN               NaN         NaN   \n",
       "games_bowler         7                2                 1           3   \n",
       "balls_bowl          60               21                62          67   \n",
       "concived_runs       77               10                66          55   \n",
       "wickets              3                2                 1           8   \n",
       "noballs              0                1                 0           0   \n",
       "wides                0                2                 6           5   \n",
       "extras_bowler        0                3                 6          11   \n",
       "e_r                7.7          3.33333           7.07143     5.89286   \n",
       "\n",
       "name           WT Mashinge Waqas Maqsood YA Abdulla Yamin Ahmadzai Yasir Shah  \\\n",
       "balls                  NaN           NaN        NaN            NaN        NaN   \n",
       "games_striker          NaN           NaN        NaN            NaN        NaN   \n",
       "runs                   NaN           NaN        NaN            NaN        NaN   \n",
       "dismissed              NaN           NaN        NaN            NaN        NaN   \n",
       "4s                     NaN           NaN        NaN            NaN        NaN   \n",
       "6s                     NaN           NaN        NaN            NaN        NaN   \n",
       "50s                    NaN           NaN        NaN            NaN        NaN   \n",
       "100s                   NaN           NaN        NaN            NaN        NaN   \n",
       "extras_striker         NaN           NaN        NaN            NaN        NaN   \n",
       "s_r                    NaN           NaN        NaN            NaN        NaN   \n",
       "Av                     NaN           NaN        NaN            NaN        NaN   \n",
       "games_bowler             4             1          4              6         13   \n",
       "balls_bowl              35            11         45             26         18   \n",
       "concived_runs           52            21         41             32         31   \n",
       "wickets                  1             2          2              3          0   \n",
       "noballs                  0             0          0              0          0   \n",
       "wides                    5             0          3              2          0   \n",
       "extras_bowler            7             0          3              3          2   \n",
       "e_r                11.1429       11.4545    5.85714        8.34783     11.625   \n",
       "\n",
       "name           Zulqarnain Haider (2)  \n",
       "balls                            NaN  \n",
       "games_striker                    NaN  \n",
       "runs                             NaN  \n",
       "dismissed                        NaN  \n",
       "4s                               NaN  \n",
       "6s                               NaN  \n",
       "50s                              NaN  \n",
       "100s                             NaN  \n",
       "extras_striker                   NaN  \n",
       "s_r                              NaN  \n",
       "Av                               NaN  \n",
       "games_bowler                      24  \n",
       "balls_bowl                        20  \n",
       "concived_runs                      5  \n",
       "wickets                            0  \n",
       "noballs                            0  \n",
       "wides                              2  \n",
       "extras_bowler                      3  \n",
       "e_r                          1.76471  \n",
       "\n",
       "[19 rows x 1703 columns]"
      ]
     },
     "execution_count": 120,
     "metadata": {},
     "output_type": "execute_result"
    }
   ],
   "source": [
    "def get_stats(df):\n",
    "    striker=pd.DataFrame()    \n",
    "    #batter stats\n",
    "    s=df.groupby(['striker'])\n",
    "    striker[\"name\"]=s['ball'].count().reset_index().striker  \n",
    "    striker[\"balls\"]=s['ball'].count().reset_index().ball\n",
    "    striker[\"games_striker\"]=s['match_id'].nunique().reset_index().match_id\n",
    "    striker[\"runs\"]=s['runs_off_bat'].sum().reset_index().runs_off_bat\n",
    "    striker[\"dismissed\"]=s['wicket_scored'].sum().reset_index().wicket_scored\n",
    "    striker[\"4s\"]=s['runs_off_bat'].agg(lambda x: (x==4).sum()).reset_index().runs_off_bat\n",
    "    striker[\"6s\"]=s['runs_off_bat'].agg(lambda x: (x==6).sum()).reset_index().runs_off_bat\n",
    "    striker[\"50s\"]=(s['runs_off_bat'].sum()>50).reset_index().runs_off_bat\n",
    "    striker[\"100s\"]=(s['runs_off_bat'].sum()>100).reset_index().runs_off_bat\n",
    "    striker[\"extras_striker\"]=s['extras'].sum().reset_index().extras\n",
    "    #bowler stats\n",
    "    bowler=pd.DataFrame()\n",
    "    b=df.groupby(['bowler'])\n",
    "    bowler[\"name\"]=b['ball'].count().reset_index().bowler\n",
    "    bowler[\"games_bowler\"]=s['match_id'].nunique().reset_index().match_id\n",
    "    bowler[\"balls_bowl\"]=b['ball'].count().reset_index().ball\n",
    "    bowler[\"concived_runs\"]=b['runs_off_bat'].sum().reset_index().runs_off_bat\n",
    "    bowler[\"wickets\"]=b['wicket_scored'].sum().reset_index().wicket_scored\n",
    "    bowler[\"noballs\"]=b['noballs'].sum().reset_index().noballs\n",
    "    bowler[\"wides\"]=b['wides'].sum().reset_index().wides\n",
    "    bowler[\"extras_bowler\"]=b['extras'].sum().reset_index().extras\n",
    "    #central metrics\n",
    "    striker[\"s_r\"]=striker[\"runs\"]/striker[\"balls\"]*100\n",
    "    striker[\"Av\"]=striker.apply(lambda x: calc_bet_avg(x),axis=1)\n",
    "    bowler[\"e_r\"]=bowler[\"concived_runs\"]/((bowler[\"balls_bowl\"]-b[\"extras\"].sum().reset_index().extras)/6)\n",
    "    player=striker.merge(bowler,on=\"name\",how=\"outer\")\n",
    "    player=player.set_index(\"name\")\n",
    "    player=player.transpose()\n",
    "    #player=player.sort_values(by=\"name\")\n",
    "    return player\n",
    "    \n",
    "def calc_bet_avg(player):\n",
    "    if player.dismissed>0:\n",
    "        return player[\"runs\"]/player[\"dismissed\"]\n",
    "    return player[\"runs\"]\n",
    "\n",
    "players=get_stats(game_table)\n",
    "players"
   ]
  },
  {
   "cell_type": "code",
   "execution_count": 114,
   "metadata": {},
   "outputs": [
    {
     "data": {
      "text/html": [
       "<div>\n",
       "<style scoped>\n",
       "    .dataframe tbody tr th:only-of-type {\n",
       "        vertical-align: middle;\n",
       "    }\n",
       "\n",
       "    .dataframe tbody tr th {\n",
       "        vertical-align: top;\n",
       "    }\n",
       "\n",
       "    .dataframe thead th {\n",
       "        text-align: right;\n",
       "    }\n",
       "</style>\n",
       "<table border=\"1\" class=\"dataframe\">\n",
       "  <thead>\n",
       "    <tr style=\"text-align: right;\">\n",
       "      <th></th>\n",
       "      <th>balls</th>\n",
       "      <th>games_striker</th>\n",
       "      <th>runs</th>\n",
       "      <th>dismissed</th>\n",
       "      <th>4s</th>\n",
       "      <th>6s</th>\n",
       "      <th>50s</th>\n",
       "      <th>100s</th>\n",
       "      <th>extras_striker</th>\n",
       "      <th>s_r</th>\n",
       "      <th>Av</th>\n",
       "      <th>games_bowler</th>\n",
       "      <th>balls_bowl</th>\n",
       "      <th>concived_runs</th>\n",
       "      <th>wickets</th>\n",
       "      <th>noballs</th>\n",
       "      <th>wides</th>\n",
       "      <th>extras_bowler</th>\n",
       "      <th>e_r</th>\n",
       "    </tr>\n",
       "    <tr>\n",
       "      <th>name</th>\n",
       "      <th></th>\n",
       "      <th></th>\n",
       "      <th></th>\n",
       "      <th></th>\n",
       "      <th></th>\n",
       "      <th></th>\n",
       "      <th></th>\n",
       "      <th></th>\n",
       "      <th></th>\n",
       "      <th></th>\n",
       "      <th></th>\n",
       "      <th></th>\n",
       "      <th></th>\n",
       "      <th></th>\n",
       "      <th></th>\n",
       "      <th></th>\n",
       "      <th></th>\n",
       "      <th></th>\n",
       "      <th></th>\n",
       "    </tr>\n",
       "  </thead>\n",
       "  <tbody>\n",
       "    <tr>\n",
       "      <th>A Ahmadhel</th>\n",
       "      <td>8</td>\n",
       "      <td>1</td>\n",
       "      <td>2</td>\n",
       "      <td>1</td>\n",
       "      <td>0</td>\n",
       "      <td>0</td>\n",
       "      <td>False</td>\n",
       "      <td>False</td>\n",
       "      <td>2</td>\n",
       "      <td>25</td>\n",
       "      <td>2</td>\n",
       "      <td>1</td>\n",
       "      <td>5</td>\n",
       "      <td>4</td>\n",
       "      <td>1</td>\n",
       "      <td>0</td>\n",
       "      <td>2</td>\n",
       "      <td>2</td>\n",
       "      <td>8</td>\n",
       "    </tr>\n",
       "    <tr>\n",
       "      <th>A Ashokan</th>\n",
       "      <td>30</td>\n",
       "      <td>1</td>\n",
       "      <td>23</td>\n",
       "      <td>1</td>\n",
       "      <td>2</td>\n",
       "      <td>0</td>\n",
       "      <td>False</td>\n",
       "      <td>False</td>\n",
       "      <td>0</td>\n",
       "      <td>76.6667</td>\n",
       "      <td>23</td>\n",
       "      <td>1</td>\n",
       "      <td>19</td>\n",
       "      <td>35</td>\n",
       "      <td>0</td>\n",
       "      <td>0</td>\n",
       "      <td>1</td>\n",
       "      <td>1</td>\n",
       "      <td>11.6667</td>\n",
       "    </tr>\n",
       "    <tr>\n",
       "      <th>A Bagai</th>\n",
       "      <td>157</td>\n",
       "      <td>4</td>\n",
       "      <td>165</td>\n",
       "      <td>4</td>\n",
       "      <td>14</td>\n",
       "      <td>0</td>\n",
       "      <td>True</td>\n",
       "      <td>True</td>\n",
       "      <td>4</td>\n",
       "      <td>105.096</td>\n",
       "      <td>41.25</td>\n",
       "      <td>NaN</td>\n",
       "      <td>NaN</td>\n",
       "      <td>NaN</td>\n",
       "      <td>NaN</td>\n",
       "      <td>NaN</td>\n",
       "      <td>NaN</td>\n",
       "      <td>NaN</td>\n",
       "      <td>NaN</td>\n",
       "    </tr>\n",
       "    <tr>\n",
       "      <th>A Balbirnie</th>\n",
       "      <td>564</td>\n",
       "      <td>30</td>\n",
       "      <td>744</td>\n",
       "      <td>27</td>\n",
       "      <td>87</td>\n",
       "      <td>12</td>\n",
       "      <td>True</td>\n",
       "      <td>True</td>\n",
       "      <td>18</td>\n",
       "      <td>131.915</td>\n",
       "      <td>27.5556</td>\n",
       "      <td>NaN</td>\n",
       "      <td>NaN</td>\n",
       "      <td>NaN</td>\n",
       "      <td>NaN</td>\n",
       "      <td>NaN</td>\n",
       "      <td>NaN</td>\n",
       "      <td>NaN</td>\n",
       "      <td>NaN</td>\n",
       "    </tr>\n",
       "    <tr>\n",
       "      <th>A Bhagwat</th>\n",
       "      <td>9</td>\n",
       "      <td>3</td>\n",
       "      <td>2</td>\n",
       "      <td>3</td>\n",
       "      <td>0</td>\n",
       "      <td>0</td>\n",
       "      <td>False</td>\n",
       "      <td>False</td>\n",
       "      <td>0</td>\n",
       "      <td>22.2222</td>\n",
       "      <td>0.666667</td>\n",
       "      <td>NaN</td>\n",
       "      <td>NaN</td>\n",
       "      <td>NaN</td>\n",
       "      <td>NaN</td>\n",
       "      <td>NaN</td>\n",
       "      <td>NaN</td>\n",
       "      <td>NaN</td>\n",
       "      <td>NaN</td>\n",
       "    </tr>\n",
       "    <tr>\n",
       "      <th>...</th>\n",
       "      <td>...</td>\n",
       "      <td>...</td>\n",
       "      <td>...</td>\n",
       "      <td>...</td>\n",
       "      <td>...</td>\n",
       "      <td>...</td>\n",
       "      <td>...</td>\n",
       "      <td>...</td>\n",
       "      <td>...</td>\n",
       "      <td>...</td>\n",
       "      <td>...</td>\n",
       "      <td>...</td>\n",
       "      <td>...</td>\n",
       "      <td>...</td>\n",
       "      <td>...</td>\n",
       "      <td>...</td>\n",
       "      <td>...</td>\n",
       "      <td>...</td>\n",
       "      <td>...</td>\n",
       "    </tr>\n",
       "    <tr>\n",
       "      <th>Waqas Maqsood</th>\n",
       "      <td>NaN</td>\n",
       "      <td>NaN</td>\n",
       "      <td>NaN</td>\n",
       "      <td>NaN</td>\n",
       "      <td>NaN</td>\n",
       "      <td>NaN</td>\n",
       "      <td>NaN</td>\n",
       "      <td>NaN</td>\n",
       "      <td>NaN</td>\n",
       "      <td>NaN</td>\n",
       "      <td>NaN</td>\n",
       "      <td>1</td>\n",
       "      <td>11</td>\n",
       "      <td>21</td>\n",
       "      <td>2</td>\n",
       "      <td>0</td>\n",
       "      <td>0</td>\n",
       "      <td>0</td>\n",
       "      <td>11.4545</td>\n",
       "    </tr>\n",
       "    <tr>\n",
       "      <th>YA Abdulla</th>\n",
       "      <td>NaN</td>\n",
       "      <td>NaN</td>\n",
       "      <td>NaN</td>\n",
       "      <td>NaN</td>\n",
       "      <td>NaN</td>\n",
       "      <td>NaN</td>\n",
       "      <td>NaN</td>\n",
       "      <td>NaN</td>\n",
       "      <td>NaN</td>\n",
       "      <td>NaN</td>\n",
       "      <td>NaN</td>\n",
       "      <td>4</td>\n",
       "      <td>45</td>\n",
       "      <td>41</td>\n",
       "      <td>2</td>\n",
       "      <td>0</td>\n",
       "      <td>3</td>\n",
       "      <td>3</td>\n",
       "      <td>5.85714</td>\n",
       "    </tr>\n",
       "    <tr>\n",
       "      <th>Yamin Ahmadzai</th>\n",
       "      <td>NaN</td>\n",
       "      <td>NaN</td>\n",
       "      <td>NaN</td>\n",
       "      <td>NaN</td>\n",
       "      <td>NaN</td>\n",
       "      <td>NaN</td>\n",
       "      <td>NaN</td>\n",
       "      <td>NaN</td>\n",
       "      <td>NaN</td>\n",
       "      <td>NaN</td>\n",
       "      <td>NaN</td>\n",
       "      <td>6</td>\n",
       "      <td>26</td>\n",
       "      <td>32</td>\n",
       "      <td>3</td>\n",
       "      <td>0</td>\n",
       "      <td>2</td>\n",
       "      <td>3</td>\n",
       "      <td>8.34783</td>\n",
       "    </tr>\n",
       "    <tr>\n",
       "      <th>Yasir Shah</th>\n",
       "      <td>NaN</td>\n",
       "      <td>NaN</td>\n",
       "      <td>NaN</td>\n",
       "      <td>NaN</td>\n",
       "      <td>NaN</td>\n",
       "      <td>NaN</td>\n",
       "      <td>NaN</td>\n",
       "      <td>NaN</td>\n",
       "      <td>NaN</td>\n",
       "      <td>NaN</td>\n",
       "      <td>NaN</td>\n",
       "      <td>13</td>\n",
       "      <td>18</td>\n",
       "      <td>31</td>\n",
       "      <td>0</td>\n",
       "      <td>0</td>\n",
       "      <td>0</td>\n",
       "      <td>2</td>\n",
       "      <td>11.625</td>\n",
       "    </tr>\n",
       "    <tr>\n",
       "      <th>Zulqarnain Haider (2)</th>\n",
       "      <td>NaN</td>\n",
       "      <td>NaN</td>\n",
       "      <td>NaN</td>\n",
       "      <td>NaN</td>\n",
       "      <td>NaN</td>\n",
       "      <td>NaN</td>\n",
       "      <td>NaN</td>\n",
       "      <td>NaN</td>\n",
       "      <td>NaN</td>\n",
       "      <td>NaN</td>\n",
       "      <td>NaN</td>\n",
       "      <td>24</td>\n",
       "      <td>20</td>\n",
       "      <td>5</td>\n",
       "      <td>0</td>\n",
       "      <td>0</td>\n",
       "      <td>2</td>\n",
       "      <td>3</td>\n",
       "      <td>1.76471</td>\n",
       "    </tr>\n",
       "  </tbody>\n",
       "</table>\n",
       "<p>1703 rows × 19 columns</p>\n",
       "</div>"
      ],
      "text/plain": [
       "                      balls games_striker runs dismissed   4s   6s    50s  \\\n",
       "name                                                                        \n",
       "A Ahmadhel                8             1    2         1    0    0  False   \n",
       "A Ashokan                30             1   23         1    2    0  False   \n",
       "A Bagai                 157             4  165         4   14    0   True   \n",
       "A Balbirnie             564            30  744        27   87   12   True   \n",
       "A Bhagwat                 9             3    2         3    0    0  False   \n",
       "...                     ...           ...  ...       ...  ...  ...    ...   \n",
       "Waqas Maqsood           NaN           NaN  NaN       NaN  NaN  NaN    NaN   \n",
       "YA Abdulla              NaN           NaN  NaN       NaN  NaN  NaN    NaN   \n",
       "Yamin Ahmadzai          NaN           NaN  NaN       NaN  NaN  NaN    NaN   \n",
       "Yasir Shah              NaN           NaN  NaN       NaN  NaN  NaN    NaN   \n",
       "Zulqarnain Haider (2)   NaN           NaN  NaN       NaN  NaN  NaN    NaN   \n",
       "\n",
       "                        100s extras_striker      s_r        Av games_bowler  \\\n",
       "name                                                                          \n",
       "A Ahmadhel             False              2       25         2            1   \n",
       "A Ashokan              False              0  76.6667        23            1   \n",
       "A Bagai                 True              4  105.096     41.25          NaN   \n",
       "A Balbirnie             True             18  131.915   27.5556          NaN   \n",
       "A Bhagwat              False              0  22.2222  0.666667          NaN   \n",
       "...                      ...            ...      ...       ...          ...   \n",
       "Waqas Maqsood            NaN            NaN      NaN       NaN            1   \n",
       "YA Abdulla               NaN            NaN      NaN       NaN            4   \n",
       "Yamin Ahmadzai           NaN            NaN      NaN       NaN            6   \n",
       "Yasir Shah               NaN            NaN      NaN       NaN           13   \n",
       "Zulqarnain Haider (2)    NaN            NaN      NaN       NaN           24   \n",
       "\n",
       "                      balls_bowl concived_runs wickets noballs wides  \\\n",
       "name                                                                   \n",
       "A Ahmadhel                     5             4       1       0     2   \n",
       "A Ashokan                     19            35       0       0     1   \n",
       "A Bagai                      NaN           NaN     NaN     NaN   NaN   \n",
       "A Balbirnie                  NaN           NaN     NaN     NaN   NaN   \n",
       "A Bhagwat                    NaN           NaN     NaN     NaN   NaN   \n",
       "...                          ...           ...     ...     ...   ...   \n",
       "Waqas Maqsood                 11            21       2       0     0   \n",
       "YA Abdulla                    45            41       2       0     3   \n",
       "Yamin Ahmadzai                26            32       3       0     2   \n",
       "Yasir Shah                    18            31       0       0     0   \n",
       "Zulqarnain Haider (2)         20             5       0       0     2   \n",
       "\n",
       "                      extras_bowler      e_r  \n",
       "name                                          \n",
       "A Ahmadhel                        2        8  \n",
       "A Ashokan                         1  11.6667  \n",
       "A Bagai                         NaN      NaN  \n",
       "A Balbirnie                     NaN      NaN  \n",
       "A Bhagwat                       NaN      NaN  \n",
       "...                             ...      ...  \n",
       "Waqas Maqsood                     0  11.4545  \n",
       "YA Abdulla                        3  5.85714  \n",
       "Yamin Ahmadzai                    3  8.34783  \n",
       "Yasir Shah                        2   11.625  \n",
       "Zulqarnain Haider (2)             3  1.76471  \n",
       "\n",
       "[1703 rows x 19 columns]"
      ]
     },
     "execution_count": 114,
     "metadata": {},
     "output_type": "execute_result"
    }
   ],
   "source": [
    "stats_list=players.transpose()\n",
    "stats_list"
   ]
  },
  {
   "cell_type": "code",
   "execution_count": 115,
   "metadata": {},
   "outputs": [
    {
     "name": "stdout",
     "output_type": "stream",
     "text": [
      "94.57334002573742\n",
      "14.854228856019041\n",
      "7.929430173599665\n"
     ]
    }
   ],
   "source": [
    "players=players.transpose()\n",
    "print(np.nanmean(players.s_r.astype(\"float\")))\n",
    "print(np.nanmean(players.Av.astype(\"float\")))\n",
    "print(np.nanmean(players.e_r.astype(\"float\")))\n",
    "players=players.transpose()"
   ]
  },
  {
   "cell_type": "code",
   "execution_count": 116,
   "metadata": {},
   "outputs": [
    {
     "data": {
      "text/plain": [
       "defaultdict(None,\n",
       "            {'balls': 123.00770712909441,\n",
       "             'games_striker': 8.38150289017341,\n",
       "             'runs': 143.46371226718048,\n",
       "             'dismissed': 6.732819524727039,\n",
       "             '4s': 12.355812459858702,\n",
       "             '6s': 4.973025048169557,\n",
       "             '50s': 0.4271034039820167,\n",
       "             '100s': 0.29030186255619783,\n",
       "             'extras_striker': 8.310211946050096,\n",
       "             's_r': 94.5733400257375,\n",
       "             'Av': 14.854228856019038,\n",
       "             'games_bowler': 8.307961504811898,\n",
       "             'balls_bowl': 167.56167979002623,\n",
       "             'concived_runs': 195.42694663167103,\n",
       "             'wickets': 9.171478565179353,\n",
       "             'noballs': 0.7025371828521435,\n",
       "             'wides': 6.111111111111111,\n",
       "             'extras_bowler': 11.32020997375328,\n",
       "             'e_r': 7.929430173599657})"
      ]
     },
     "execution_count": 116,
     "metadata": {},
     "output_type": "execute_result"
    }
   ],
   "source": [
    "stats_mean=defaultdict()\n",
    "for m in stats_list.columns:\n",
    "    stats_mean[m]=np.mean(stats_list[m])\n",
    "np.save(args.d+\"player_metrics_mean.npy\",stats_mean)\n",
    "stats_mean"
   ]
  },
  {
   "cell_type": "code",
   "execution_count": 117,
   "metadata": {},
   "outputs": [
    {
     "name": "stderr",
     "output_type": "stream",
     "text": [
      "\r",
      "  0%|                                                                                          | 0/966 [00:00<?, ?it/s]"
     ]
    },
    {
     "name": "stdout",
     "output_type": "stream",
     "text": [
      "\n"
     ]
    },
    {
     "name": "stderr",
     "output_type": "stream",
     "text": [
      "\r",
      "  0%|                                                                                  | 1/966 [00:00<07:53,  2.04it/s]"
     ]
    },
    {
     "name": "stdout",
     "output_type": "stream",
     "text": [
      "\n"
     ]
    },
    {
     "name": "stderr",
     "output_type": "stream",
     "text": [
      "\r",
      "  0%|▏                                                                                 | 2/966 [00:01<08:04,  1.99it/s]"
     ]
    },
    {
     "name": "stdout",
     "output_type": "stream",
     "text": [
      "\n"
     ]
    },
    {
     "name": "stderr",
     "output_type": "stream",
     "text": [
      "\r",
      "  0%|▎                                                                                 | 3/966 [00:01<08:15,  1.94it/s]"
     ]
    },
    {
     "name": "stdout",
     "output_type": "stream",
     "text": [
      "\n"
     ]
    },
    {
     "name": "stderr",
     "output_type": "stream",
     "text": [
      "  1%|▍                                                                                 | 5/966 [00:02<06:27,  2.48it/s]"
     ]
    },
    {
     "name": "stdout",
     "output_type": "stream",
     "text": [
      "\n",
      "\n"
     ]
    },
    {
     "name": "stderr",
     "output_type": "stream",
     "text": [
      "\r",
      "  1%|▌                                                                                 | 6/966 [00:02<06:57,  2.30it/s]"
     ]
    },
    {
     "name": "stdout",
     "output_type": "stream",
     "text": [
      "\n"
     ]
    },
    {
     "name": "stderr",
     "output_type": "stream",
     "text": [
      "\r",
      "  1%|▌                                                                                 | 7/966 [00:03<08:06,  1.97it/s]"
     ]
    },
    {
     "name": "stdout",
     "output_type": "stream",
     "text": [
      "\n"
     ]
    },
    {
     "name": "stderr",
     "output_type": "stream",
     "text": [
      "\r",
      "  1%|▋                                                                                 | 8/966 [00:03<08:00,  1.99it/s]"
     ]
    },
    {
     "name": "stdout",
     "output_type": "stream",
     "text": [
      "\n"
     ]
    },
    {
     "name": "stderr",
     "output_type": "stream",
     "text": [
      "\r",
      "  1%|▊                                                                                 | 9/966 [00:04<08:04,  1.97it/s]"
     ]
    },
    {
     "name": "stdout",
     "output_type": "stream",
     "text": [
      "\n",
      "\n"
     ]
    },
    {
     "name": "stderr",
     "output_type": "stream",
     "text": [
      "\r",
      "  1%|▉                                                                                | 11/966 [00:04<06:59,  2.28it/s]"
     ]
    },
    {
     "name": "stdout",
     "output_type": "stream",
     "text": [
      "\n"
     ]
    },
    {
     "name": "stderr",
     "output_type": "stream",
     "text": [
      "\r",
      "  1%|█                                                                                | 12/966 [00:05<07:37,  2.08it/s]"
     ]
    },
    {
     "name": "stdout",
     "output_type": "stream",
     "text": [
      "\n",
      "\n"
     ]
    },
    {
     "name": "stderr",
     "output_type": "stream",
     "text": [
      "\r",
      "  1%|█▏                                                                               | 14/966 [00:06<06:46,  2.34it/s]"
     ]
    },
    {
     "name": "stdout",
     "output_type": "stream",
     "text": [
      "\n"
     ]
    },
    {
     "name": "stderr",
     "output_type": "stream",
     "text": [
      "\r",
      "  2%|█▎                                                                               | 15/966 [00:06<06:59,  2.27it/s]"
     ]
    },
    {
     "name": "stdout",
     "output_type": "stream",
     "text": [
      "\n"
     ]
    },
    {
     "name": "stderr",
     "output_type": "stream",
     "text": [
      "\r",
      "  2%|█▎                                                                               | 16/966 [00:07<07:43,  2.05it/s]"
     ]
    },
    {
     "name": "stdout",
     "output_type": "stream",
     "text": [
      "\n"
     ]
    },
    {
     "name": "stderr",
     "output_type": "stream",
     "text": [
      "\r",
      "  2%|█▍                                                                               | 17/966 [00:07<07:53,  2.00it/s]"
     ]
    },
    {
     "name": "stdout",
     "output_type": "stream",
     "text": [
      "\n"
     ]
    },
    {
     "name": "stderr",
     "output_type": "stream",
     "text": [
      "\r",
      "  2%|█▌                                                                               | 18/966 [00:08<08:10,  1.93it/s]"
     ]
    },
    {
     "name": "stdout",
     "output_type": "stream",
     "text": [
      "\n"
     ]
    },
    {
     "name": "stderr",
     "output_type": "stream",
     "text": [
      "\r",
      "  2%|█▌                                                                               | 19/966 [00:09<08:58,  1.76it/s]"
     ]
    },
    {
     "name": "stdout",
     "output_type": "stream",
     "text": [
      "\n"
     ]
    },
    {
     "name": "stderr",
     "output_type": "stream",
     "text": [
      "\r",
      "  2%|█▋                                                                               | 20/966 [00:09<09:01,  1.75it/s]"
     ]
    },
    {
     "name": "stdout",
     "output_type": "stream",
     "text": [
      "\n",
      "\n"
     ]
    },
    {
     "name": "stderr",
     "output_type": "stream",
     "text": [
      "\r",
      "  2%|█▊                                                                               | 22/966 [00:10<07:43,  2.04it/s]"
     ]
    },
    {
     "name": "stdout",
     "output_type": "stream",
     "text": [
      "\n"
     ]
    },
    {
     "name": "stderr",
     "output_type": "stream",
     "text": [
      "\r",
      "  2%|█▉                                                                               | 23/966 [00:10<07:35,  2.07it/s]"
     ]
    },
    {
     "name": "stdout",
     "output_type": "stream",
     "text": [
      "\n"
     ]
    },
    {
     "name": "stderr",
     "output_type": "stream",
     "text": [
      "\r",
      "  2%|██                                                                               | 24/966 [00:11<07:26,  2.11it/s]"
     ]
    },
    {
     "name": "stdout",
     "output_type": "stream",
     "text": [
      "\n"
     ]
    },
    {
     "name": "stderr",
     "output_type": "stream",
     "text": [
      "\r",
      "  3%|██                                                                               | 25/966 [00:11<07:10,  2.19it/s]"
     ]
    },
    {
     "name": "stdout",
     "output_type": "stream",
     "text": [
      "\n"
     ]
    },
    {
     "name": "stderr",
     "output_type": "stream",
     "text": [
      "\r",
      "  3%|██▏                                                                              | 26/966 [00:12<07:38,  2.05it/s]"
     ]
    },
    {
     "name": "stdout",
     "output_type": "stream",
     "text": [
      "\n"
     ]
    },
    {
     "name": "stderr",
     "output_type": "stream",
     "text": [
      "\r",
      "  3%|██▎                                                                              | 27/966 [00:12<07:56,  1.97it/s]"
     ]
    },
    {
     "name": "stdout",
     "output_type": "stream",
     "text": [
      "\n"
     ]
    },
    {
     "name": "stderr",
     "output_type": "stream",
     "text": [
      "\r",
      "  3%|██▎                                                                              | 28/966 [00:13<08:07,  1.92it/s]"
     ]
    },
    {
     "name": "stdout",
     "output_type": "stream",
     "text": [
      "\n"
     ]
    },
    {
     "name": "stderr",
     "output_type": "stream",
     "text": [
      "\r",
      "  3%|██▍                                                                              | 29/966 [00:13<08:17,  1.88it/s]"
     ]
    },
    {
     "name": "stdout",
     "output_type": "stream",
     "text": [
      "\n"
     ]
    },
    {
     "name": "stderr",
     "output_type": "stream",
     "text": [
      "\r",
      "  3%|██▌                                                                              | 30/966 [00:14<08:25,  1.85it/s]"
     ]
    },
    {
     "name": "stdout",
     "output_type": "stream",
     "text": [
      "\n"
     ]
    },
    {
     "name": "stderr",
     "output_type": "stream",
     "text": [
      "\r",
      "  3%|██▌                                                                              | 31/966 [00:14<08:05,  1.93it/s]"
     ]
    },
    {
     "name": "stdout",
     "output_type": "stream",
     "text": [
      "\n"
     ]
    },
    {
     "name": "stderr",
     "output_type": "stream",
     "text": [
      "\r",
      "  3%|██▋                                                                              | 32/966 [00:15<07:59,  1.95it/s]"
     ]
    },
    {
     "name": "stdout",
     "output_type": "stream",
     "text": [
      "\n"
     ]
    },
    {
     "name": "stderr",
     "output_type": "stream",
     "text": [
      "\r",
      "  3%|██▊                                                                              | 33/966 [00:15<07:59,  1.95it/s]"
     ]
    },
    {
     "name": "stdout",
     "output_type": "stream",
     "text": [
      "\n",
      "\n"
     ]
    },
    {
     "name": "stderr",
     "output_type": "stream",
     "text": [
      "\r",
      "  4%|██▉                                                                              | 35/966 [00:16<06:45,  2.30it/s]"
     ]
    },
    {
     "name": "stdout",
     "output_type": "stream",
     "text": [
      "\n"
     ]
    },
    {
     "name": "stderr",
     "output_type": "stream",
     "text": [
      "\r",
      "  4%|███                                                                              | 36/966 [00:16<07:03,  2.19it/s]"
     ]
    },
    {
     "name": "stdout",
     "output_type": "stream",
     "text": [
      "\n",
      "\n"
     ]
    },
    {
     "name": "stderr",
     "output_type": "stream",
     "text": [
      "\r",
      "  4%|███▏                                                                             | 38/966 [00:17<06:05,  2.54it/s]"
     ]
    },
    {
     "name": "stdout",
     "output_type": "stream",
     "text": [
      "\n"
     ]
    },
    {
     "name": "stderr",
     "output_type": "stream",
     "text": [
      "\r",
      "  4%|███▎                                                                             | 39/966 [00:17<06:21,  2.43it/s]"
     ]
    },
    {
     "name": "stdout",
     "output_type": "stream",
     "text": [
      "\n"
     ]
    },
    {
     "name": "stderr",
     "output_type": "stream",
     "text": [
      "\r",
      "  4%|███▎                                                                             | 40/966 [00:18<06:53,  2.24it/s]"
     ]
    },
    {
     "name": "stdout",
     "output_type": "stream",
     "text": [
      "\n"
     ]
    },
    {
     "name": "stderr",
     "output_type": "stream",
     "text": [
      "\r",
      "  4%|███▍                                                                             | 41/966 [00:18<07:08,  2.16it/s]"
     ]
    },
    {
     "name": "stdout",
     "output_type": "stream",
     "text": [
      "\n"
     ]
    },
    {
     "name": "stderr",
     "output_type": "stream",
     "text": [
      "\r",
      "  4%|███▌                                                                             | 42/966 [00:19<08:08,  1.89it/s]"
     ]
    },
    {
     "name": "stdout",
     "output_type": "stream",
     "text": [
      "\n"
     ]
    },
    {
     "name": "stderr",
     "output_type": "stream",
     "text": [
      "\r",
      "  4%|███▌                                                                             | 43/966 [00:19<07:54,  1.94it/s]"
     ]
    },
    {
     "name": "stdout",
     "output_type": "stream",
     "text": [
      "\n"
     ]
    },
    {
     "name": "stderr",
     "output_type": "stream",
     "text": [
      "\r",
      "  5%|███▋                                                                             | 44/966 [00:20<07:35,  2.03it/s]"
     ]
    },
    {
     "name": "stdout",
     "output_type": "stream",
     "text": [
      "\n"
     ]
    },
    {
     "name": "stderr",
     "output_type": "stream",
     "text": [
      "\r",
      "  5%|███▊                                                                             | 45/966 [00:20<07:18,  2.10it/s]"
     ]
    },
    {
     "name": "stdout",
     "output_type": "stream",
     "text": [
      "\n"
     ]
    },
    {
     "name": "stderr",
     "output_type": "stream",
     "text": [
      "\r",
      "  5%|███▊                                                                             | 46/966 [00:21<07:30,  2.04it/s]"
     ]
    },
    {
     "name": "stdout",
     "output_type": "stream",
     "text": [
      "\n"
     ]
    },
    {
     "name": "stderr",
     "output_type": "stream",
     "text": [
      "\r",
      "  5%|███▉                                                                             | 47/966 [00:21<07:24,  2.07it/s]"
     ]
    },
    {
     "name": "stdout",
     "output_type": "stream",
     "text": [
      "\n"
     ]
    },
    {
     "name": "stderr",
     "output_type": "stream",
     "text": [
      "\r",
      "  5%|████                                                                             | 48/966 [00:22<07:38,  2.00it/s]"
     ]
    },
    {
     "name": "stdout",
     "output_type": "stream",
     "text": [
      "\n"
     ]
    },
    {
     "name": "stderr",
     "output_type": "stream",
     "text": [
      "\r",
      "  5%|████                                                                             | 49/966 [00:22<07:24,  2.06it/s]"
     ]
    },
    {
     "name": "stdout",
     "output_type": "stream",
     "text": [
      "\n",
      "\n"
     ]
    },
    {
     "name": "stderr",
     "output_type": "stream",
     "text": [
      "\r",
      "  5%|████▎                                                                            | 51/966 [00:23<06:18,  2.42it/s]"
     ]
    },
    {
     "name": "stdout",
     "output_type": "stream",
     "text": [
      "\n"
     ]
    },
    {
     "name": "stderr",
     "output_type": "stream",
     "text": [
      "\r",
      "  5%|████▎                                                                            | 52/966 [00:23<06:27,  2.36it/s]"
     ]
    },
    {
     "name": "stdout",
     "output_type": "stream",
     "text": [
      "\n"
     ]
    },
    {
     "name": "stderr",
     "output_type": "stream",
     "text": [
      "\r",
      "  5%|████▍                                                                            | 53/966 [00:24<06:36,  2.30it/s]"
     ]
    },
    {
     "name": "stdout",
     "output_type": "stream",
     "text": [
      "\n"
     ]
    },
    {
     "name": "stderr",
     "output_type": "stream",
     "text": [
      "  6%|████▋                                                                            | 56/966 [00:24<04:56,  3.07it/s]"
     ]
    },
    {
     "name": "stdout",
     "output_type": "stream",
     "text": [
      "\n",
      "\n",
      "\n"
     ]
    },
    {
     "name": "stderr",
     "output_type": "stream",
     "text": [
      "\r",
      "  6%|████▊                                                                            | 57/966 [00:25<05:37,  2.69it/s]"
     ]
    },
    {
     "name": "stdout",
     "output_type": "stream",
     "text": [
      "\n"
     ]
    },
    {
     "name": "stderr",
     "output_type": "stream",
     "text": [
      "\r",
      "  6%|████▊                                                                            | 58/966 [00:25<06:12,  2.44it/s]"
     ]
    },
    {
     "name": "stdout",
     "output_type": "stream",
     "text": [
      "\n"
     ]
    },
    {
     "name": "stderr",
     "output_type": "stream",
     "text": [
      "\r",
      "  6%|████▉                                                                            | 59/966 [00:26<06:41,  2.26it/s]"
     ]
    },
    {
     "name": "stdout",
     "output_type": "stream",
     "text": [
      "\n"
     ]
    },
    {
     "name": "stderr",
     "output_type": "stream",
     "text": [
      "\r",
      "  6%|█████                                                                            | 60/966 [00:26<06:41,  2.26it/s]"
     ]
    },
    {
     "name": "stdout",
     "output_type": "stream",
     "text": [
      "\n"
     ]
    },
    {
     "name": "stderr",
     "output_type": "stream",
     "text": [
      "\r",
      "  6%|█████                                                                            | 61/966 [00:27<06:45,  2.23it/s]"
     ]
    },
    {
     "name": "stdout",
     "output_type": "stream",
     "text": [
      "\n"
     ]
    },
    {
     "name": "stderr",
     "output_type": "stream",
     "text": [
      "\r",
      "  6%|█████▏                                                                           | 62/966 [00:27<07:07,  2.11it/s]"
     ]
    },
    {
     "name": "stdout",
     "output_type": "stream",
     "text": [
      "\n"
     ]
    },
    {
     "name": "stderr",
     "output_type": "stream",
     "text": [
      "\r",
      "  7%|█████▎                                                                           | 63/966 [00:28<07:01,  2.14it/s]"
     ]
    },
    {
     "name": "stdout",
     "output_type": "stream",
     "text": [
      "\n"
     ]
    },
    {
     "name": "stderr",
     "output_type": "stream",
     "text": [
      "\r",
      "  7%|█████▎                                                                           | 64/966 [00:28<06:55,  2.17it/s]"
     ]
    },
    {
     "name": "stdout",
     "output_type": "stream",
     "text": [
      "\n",
      "\n"
     ]
    },
    {
     "name": "stderr",
     "output_type": "stream",
     "text": [
      "\r",
      "  7%|█████▌                                                                           | 66/966 [00:29<06:01,  2.49it/s]"
     ]
    },
    {
     "name": "stdout",
     "output_type": "stream",
     "text": [
      "\n"
     ]
    },
    {
     "name": "stderr",
     "output_type": "stream",
     "text": [
      "\r",
      "  7%|█████▌                                                                           | 67/966 [00:29<06:12,  2.41it/s]"
     ]
    },
    {
     "name": "stdout",
     "output_type": "stream",
     "text": [
      "\n"
     ]
    },
    {
     "name": "stderr",
     "output_type": "stream",
     "text": [
      "\r",
      "  7%|█████▋                                                                           | 68/966 [00:30<06:17,  2.38it/s]"
     ]
    },
    {
     "name": "stdout",
     "output_type": "stream",
     "text": [
      "\n"
     ]
    },
    {
     "name": "stderr",
     "output_type": "stream",
     "text": [
      "\r",
      "  7%|█████▊                                                                           | 69/966 [00:30<06:21,  2.35it/s]"
     ]
    },
    {
     "name": "stdout",
     "output_type": "stream",
     "text": [
      "\n"
     ]
    },
    {
     "name": "stderr",
     "output_type": "stream",
     "text": [
      "\r",
      "  7%|█████▊                                                                           | 70/966 [00:30<06:32,  2.28it/s]"
     ]
    },
    {
     "name": "stdout",
     "output_type": "stream",
     "text": [
      "\n"
     ]
    },
    {
     "name": "stderr",
     "output_type": "stream",
     "text": [
      "\r",
      "  7%|█████▉                                                                           | 71/966 [00:31<06:36,  2.26it/s]"
     ]
    },
    {
     "name": "stdout",
     "output_type": "stream",
     "text": [
      "\n"
     ]
    },
    {
     "name": "stderr",
     "output_type": "stream",
     "text": [
      "\r",
      "  7%|██████                                                                           | 72/966 [00:31<06:38,  2.24it/s]"
     ]
    },
    {
     "name": "stdout",
     "output_type": "stream",
     "text": [
      "\n"
     ]
    },
    {
     "name": "stderr",
     "output_type": "stream",
     "text": [
      "\r",
      "  8%|██████                                                                           | 73/966 [00:32<06:35,  2.26it/s]"
     ]
    },
    {
     "name": "stdout",
     "output_type": "stream",
     "text": [
      "\n"
     ]
    },
    {
     "name": "stderr",
     "output_type": "stream",
     "text": [
      "\r",
      "  8%|██████▏                                                                          | 74/966 [00:32<06:31,  2.28it/s]"
     ]
    },
    {
     "name": "stdout",
     "output_type": "stream",
     "text": [
      "\n",
      "\n"
     ]
    },
    {
     "name": "stderr",
     "output_type": "stream",
     "text": [
      "\r",
      "  8%|██████▎                                                                          | 76/966 [00:33<05:45,  2.57it/s]"
     ]
    },
    {
     "name": "stdout",
     "output_type": "stream",
     "text": [
      "\n"
     ]
    },
    {
     "name": "stderr",
     "output_type": "stream",
     "text": [
      "\r",
      "  8%|██████▍                                                                          | 77/966 [00:33<05:52,  2.52it/s]"
     ]
    },
    {
     "name": "stdout",
     "output_type": "stream",
     "text": [
      "\n"
     ]
    },
    {
     "name": "stderr",
     "output_type": "stream",
     "text": [
      "\r",
      "  8%|██████▌                                                                          | 78/966 [00:34<06:08,  2.41it/s]"
     ]
    },
    {
     "name": "stdout",
     "output_type": "stream",
     "text": [
      "\n"
     ]
    },
    {
     "name": "stderr",
     "output_type": "stream",
     "text": [
      "\r",
      "  8%|██████▌                                                                          | 79/966 [00:34<06:08,  2.41it/s]"
     ]
    },
    {
     "name": "stdout",
     "output_type": "stream",
     "text": [
      "\n",
      "\n"
     ]
    },
    {
     "name": "stderr",
     "output_type": "stream",
     "text": [
      "\r",
      "  8%|██████▊                                                                          | 81/966 [00:35<05:32,  2.66it/s]"
     ]
    },
    {
     "name": "stdout",
     "output_type": "stream",
     "text": [
      "\n"
     ]
    },
    {
     "name": "stderr",
     "output_type": "stream",
     "text": [
      "\r",
      "  8%|██████▉                                                                          | 82/966 [00:35<06:04,  2.42it/s]"
     ]
    },
    {
     "name": "stdout",
     "output_type": "stream",
     "text": [
      "\n"
     ]
    },
    {
     "name": "stderr",
     "output_type": "stream",
     "text": [
      "\r",
      "  9%|██████▉                                                                          | 83/966 [00:36<06:18,  2.34it/s]"
     ]
    },
    {
     "name": "stdout",
     "output_type": "stream",
     "text": [
      "\n",
      "\n"
     ]
    },
    {
     "name": "stderr",
     "output_type": "stream",
     "text": [
      "\r",
      "  9%|███████▏                                                                         | 85/966 [00:36<05:32,  2.65it/s]"
     ]
    },
    {
     "name": "stdout",
     "output_type": "stream",
     "text": [
      "\n"
     ]
    },
    {
     "name": "stderr",
     "output_type": "stream",
     "text": [
      "\r",
      "  9%|███████▏                                                                         | 86/966 [00:37<06:14,  2.35it/s]"
     ]
    },
    {
     "name": "stdout",
     "output_type": "stream",
     "text": [
      "\n",
      "\n"
     ]
    },
    {
     "name": "stderr",
     "output_type": "stream",
     "text": [
      "\r",
      "  9%|███████▍                                                                         | 88/966 [00:37<05:26,  2.69it/s]"
     ]
    },
    {
     "name": "stdout",
     "output_type": "stream",
     "text": [
      "\n"
     ]
    },
    {
     "name": "stderr",
     "output_type": "stream",
     "text": [
      "\r",
      "  9%|███████▍                                                                         | 89/966 [00:38<05:59,  2.44it/s]"
     ]
    },
    {
     "name": "stdout",
     "output_type": "stream",
     "text": [
      "\n"
     ]
    },
    {
     "name": "stderr",
     "output_type": "stream",
     "text": [
      "\r",
      "  9%|███████▌                                                                         | 90/966 [00:38<06:07,  2.38it/s]"
     ]
    },
    {
     "name": "stdout",
     "output_type": "stream",
     "text": [
      "\n"
     ]
    },
    {
     "name": "stderr",
     "output_type": "stream",
     "text": [
      "\r",
      "  9%|███████▋                                                                         | 91/966 [00:39<06:16,  2.33it/s]"
     ]
    },
    {
     "name": "stdout",
     "output_type": "stream",
     "text": [
      "\n"
     ]
    },
    {
     "name": "stderr",
     "output_type": "stream",
     "text": [
      "\r",
      " 10%|███████▋                                                                         | 92/966 [00:39<06:20,  2.30it/s]"
     ]
    },
    {
     "name": "stdout",
     "output_type": "stream",
     "text": [
      "\n"
     ]
    },
    {
     "name": "stderr",
     "output_type": "stream",
     "text": [
      "\r",
      " 10%|███████▊                                                                         | 93/966 [00:39<06:34,  2.21it/s]"
     ]
    },
    {
     "name": "stdout",
     "output_type": "stream",
     "text": [
      "\n"
     ]
    },
    {
     "name": "stderr",
     "output_type": "stream",
     "text": [
      "\r",
      " 10%|███████▉                                                                         | 94/966 [00:40<06:44,  2.16it/s]"
     ]
    },
    {
     "name": "stdout",
     "output_type": "stream",
     "text": [
      "\n"
     ]
    },
    {
     "name": "stderr",
     "output_type": "stream",
     "text": [
      "\r",
      " 10%|███████▉                                                                         | 95/966 [00:40<06:45,  2.15it/s]"
     ]
    },
    {
     "name": "stdout",
     "output_type": "stream",
     "text": [
      "\n"
     ]
    },
    {
     "name": "stderr",
     "output_type": "stream",
     "text": [
      "\r",
      " 10%|████████                                                                         | 96/966 [00:41<06:51,  2.11it/s]"
     ]
    },
    {
     "name": "stdout",
     "output_type": "stream",
     "text": [
      "\n"
     ]
    },
    {
     "name": "stderr",
     "output_type": "stream",
     "text": [
      "\r",
      " 10%|████████▏                                                                        | 97/966 [00:41<06:51,  2.11it/s]"
     ]
    },
    {
     "name": "stdout",
     "output_type": "stream",
     "text": [
      "\n"
     ]
    },
    {
     "name": "stderr",
     "output_type": "stream",
     "text": [
      "\r",
      " 10%|████████▏                                                                        | 98/966 [00:42<06:47,  2.13it/s]"
     ]
    },
    {
     "name": "stdout",
     "output_type": "stream",
     "text": [
      "\n"
     ]
    },
    {
     "name": "stderr",
     "output_type": "stream",
     "text": [
      "\r",
      " 10%|████████▎                                                                        | 99/966 [00:42<06:38,  2.17it/s]"
     ]
    },
    {
     "name": "stdout",
     "output_type": "stream",
     "text": [
      "\n",
      "\n"
     ]
    },
    {
     "name": "stderr",
     "output_type": "stream",
     "text": [
      "\r",
      " 10%|████████▎                                                                       | 101/966 [00:43<05:50,  2.47it/s]"
     ]
    },
    {
     "name": "stdout",
     "output_type": "stream",
     "text": [
      "\n"
     ]
    },
    {
     "name": "stderr",
     "output_type": "stream",
     "text": [
      "\r",
      " 11%|████████▍                                                                       | 102/966 [00:43<05:59,  2.40it/s]"
     ]
    },
    {
     "name": "stdout",
     "output_type": "stream",
     "text": [
      "\n"
     ]
    },
    {
     "name": "stderr",
     "output_type": "stream",
     "text": [
      "\r",
      " 11%|████████▌                                                                       | 103/966 [00:44<06:18,  2.28it/s]"
     ]
    },
    {
     "name": "stdout",
     "output_type": "stream",
     "text": [
      "\n"
     ]
    },
    {
     "name": "stderr",
     "output_type": "stream",
     "text": [
      "\r",
      " 11%|████████▌                                                                       | 104/966 [00:44<06:23,  2.25it/s]"
     ]
    },
    {
     "name": "stdout",
     "output_type": "stream",
     "text": [
      "\n"
     ]
    },
    {
     "name": "stderr",
     "output_type": "stream",
     "text": [
      "\r",
      " 11%|████████▋                                                                       | 105/966 [00:45<06:29,  2.21it/s]"
     ]
    },
    {
     "name": "stdout",
     "output_type": "stream",
     "text": [
      "\n"
     ]
    },
    {
     "name": "stderr",
     "output_type": "stream",
     "text": [
      "\r",
      " 11%|████████▊                                                                       | 106/966 [00:45<06:36,  2.17it/s]"
     ]
    },
    {
     "name": "stdout",
     "output_type": "stream",
     "text": [
      "\n"
     ]
    },
    {
     "name": "stderr",
     "output_type": "stream",
     "text": [
      "\r",
      " 11%|████████▊                                                                       | 107/966 [00:46<06:34,  2.18it/s]"
     ]
    },
    {
     "name": "stdout",
     "output_type": "stream",
     "text": [
      "\n"
     ]
    },
    {
     "name": "stderr",
     "output_type": "stream",
     "text": [
      "\r",
      " 11%|████████▉                                                                       | 108/966 [00:46<06:30,  2.19it/s]"
     ]
    },
    {
     "name": "stdout",
     "output_type": "stream",
     "text": [
      "\n"
     ]
    },
    {
     "name": "stderr",
     "output_type": "stream",
     "text": [
      "\r",
      " 11%|█████████                                                                       | 109/966 [00:47<06:29,  2.20it/s]"
     ]
    },
    {
     "name": "stdout",
     "output_type": "stream",
     "text": [
      "\n"
     ]
    },
    {
     "name": "stderr",
     "output_type": "stream",
     "text": [
      "\r",
      " 11%|█████████                                                                       | 110/966 [00:47<06:43,  2.12it/s]"
     ]
    },
    {
     "name": "stdout",
     "output_type": "stream",
     "text": [
      "\n"
     ]
    },
    {
     "name": "stderr",
     "output_type": "stream",
     "text": [
      "\r",
      " 11%|█████████▏                                                                      | 111/966 [00:47<06:32,  2.18it/s]"
     ]
    },
    {
     "name": "stdout",
     "output_type": "stream",
     "text": [
      "\n"
     ]
    },
    {
     "name": "stderr",
     "output_type": "stream",
     "text": [
      "\r",
      " 12%|█████████▎                                                                      | 112/966 [00:48<06:33,  2.17it/s]"
     ]
    },
    {
     "name": "stdout",
     "output_type": "stream",
     "text": [
      "\n"
     ]
    },
    {
     "name": "stderr",
     "output_type": "stream",
     "text": [
      "\r",
      " 12%|█████████▎                                                                      | 113/966 [00:48<06:26,  2.21it/s]"
     ]
    },
    {
     "name": "stdout",
     "output_type": "stream",
     "text": [
      "\n",
      "\n"
     ]
    },
    {
     "name": "stderr",
     "output_type": "stream",
     "text": [
      "\r",
      " 12%|█████████▌                                                                      | 115/966 [00:49<05:41,  2.49it/s]"
     ]
    },
    {
     "name": "stdout",
     "output_type": "stream",
     "text": [
      "\n"
     ]
    },
    {
     "name": "stderr",
     "output_type": "stream",
     "text": [
      " 12%|█████████▊                                                                      | 118/966 [00:49<04:20,  3.26it/s]"
     ]
    },
    {
     "name": "stdout",
     "output_type": "stream",
     "text": [
      "\n",
      "\n",
      "\n",
      "\n"
     ]
    },
    {
     "name": "stderr",
     "output_type": "stream",
     "text": [
      "\r",
      " 12%|█████████▉                                                                      | 120/966 [00:50<04:11,  3.36it/s]"
     ]
    },
    {
     "name": "stdout",
     "output_type": "stream",
     "text": [
      "\n"
     ]
    },
    {
     "name": "stderr",
     "output_type": "stream",
     "text": [
      "\r",
      " 13%|██████████                                                                      | 121/966 [00:50<04:48,  2.93it/s]"
     ]
    },
    {
     "name": "stdout",
     "output_type": "stream",
     "text": [
      "\n"
     ]
    },
    {
     "name": "stderr",
     "output_type": "stream",
     "text": [
      "\r",
      " 13%|██████████                                                                      | 122/966 [00:51<05:24,  2.60it/s]"
     ]
    },
    {
     "name": "stdout",
     "output_type": "stream",
     "text": [
      "\n"
     ]
    },
    {
     "name": "stderr",
     "output_type": "stream",
     "text": [
      "\r",
      " 13%|██████████▏                                                                     | 123/966 [00:51<05:36,  2.50it/s]"
     ]
    },
    {
     "name": "stdout",
     "output_type": "stream",
     "text": [
      "\n"
     ]
    },
    {
     "name": "stderr",
     "output_type": "stream",
     "text": [
      "\r",
      " 13%|██████████▎                                                                     | 124/966 [00:52<05:55,  2.37it/s]"
     ]
    },
    {
     "name": "stdout",
     "output_type": "stream",
     "text": [
      "\n"
     ]
    },
    {
     "name": "stderr",
     "output_type": "stream",
     "text": [
      "\r",
      " 13%|██████████▎                                                                     | 125/966 [00:52<05:53,  2.38it/s]"
     ]
    },
    {
     "name": "stdout",
     "output_type": "stream",
     "text": [
      "\n"
     ]
    },
    {
     "name": "stderr",
     "output_type": "stream",
     "text": [
      "\r",
      " 13%|██████████▍                                                                     | 126/966 [00:53<06:14,  2.24it/s]"
     ]
    },
    {
     "name": "stdout",
     "output_type": "stream",
     "text": [
      "\n"
     ]
    },
    {
     "name": "stderr",
     "output_type": "stream",
     "text": [
      "\r",
      " 13%|██████████▌                                                                     | 127/966 [00:53<06:12,  2.25it/s]"
     ]
    },
    {
     "name": "stdout",
     "output_type": "stream",
     "text": [
      "\n"
     ]
    },
    {
     "name": "stderr",
     "output_type": "stream",
     "text": [
      "\r",
      " 13%|██████████▌                                                                     | 128/966 [00:54<06:13,  2.24it/s]"
     ]
    },
    {
     "name": "stdout",
     "output_type": "stream",
     "text": [
      "\n"
     ]
    },
    {
     "name": "stderr",
     "output_type": "stream",
     "text": [
      "\r",
      " 13%|██████████▋                                                                     | 129/966 [00:54<06:08,  2.27it/s]"
     ]
    },
    {
     "name": "stdout",
     "output_type": "stream",
     "text": [
      "\n"
     ]
    },
    {
     "name": "stderr",
     "output_type": "stream",
     "text": [
      "\r",
      " 13%|██████████▊                                                                     | 130/966 [00:55<06:38,  2.10it/s]"
     ]
    },
    {
     "name": "stdout",
     "output_type": "stream",
     "text": [
      "\n"
     ]
    },
    {
     "name": "stderr",
     "output_type": "stream",
     "text": [
      "\r",
      " 14%|██████████▊                                                                     | 131/966 [00:55<06:42,  2.08it/s]"
     ]
    },
    {
     "name": "stdout",
     "output_type": "stream",
     "text": [
      "\n"
     ]
    },
    {
     "name": "stderr",
     "output_type": "stream",
     "text": [
      "\r",
      " 14%|██████████▉                                                                     | 132/966 [00:56<07:05,  1.96it/s]"
     ]
    },
    {
     "name": "stdout",
     "output_type": "stream",
     "text": [
      "\n"
     ]
    },
    {
     "name": "stderr",
     "output_type": "stream",
     "text": [
      "\r",
      " 14%|███████████                                                                     | 133/966 [00:56<06:54,  2.01it/s]"
     ]
    },
    {
     "name": "stdout",
     "output_type": "stream",
     "text": [
      "\n"
     ]
    },
    {
     "name": "stderr",
     "output_type": "stream",
     "text": [
      "\r",
      " 14%|███████████                                                                     | 134/966 [00:57<07:23,  1.87it/s]"
     ]
    },
    {
     "name": "stdout",
     "output_type": "stream",
     "text": [
      "\n"
     ]
    },
    {
     "name": "stderr",
     "output_type": "stream",
     "text": [
      "\r",
      " 14%|███████████▏                                                                    | 135/966 [00:57<07:34,  1.83it/s]"
     ]
    },
    {
     "name": "stdout",
     "output_type": "stream",
     "text": [
      "\n"
     ]
    },
    {
     "name": "stderr",
     "output_type": "stream",
     "text": [
      "\r",
      " 14%|███████████▎                                                                    | 136/966 [00:58<07:32,  1.83it/s]"
     ]
    },
    {
     "name": "stdout",
     "output_type": "stream",
     "text": [
      "\n"
     ]
    },
    {
     "name": "stderr",
     "output_type": "stream",
     "text": [
      "\r",
      " 14%|███████████▎                                                                    | 137/966 [00:58<07:09,  1.93it/s]"
     ]
    },
    {
     "name": "stdout",
     "output_type": "stream",
     "text": [
      "\n"
     ]
    },
    {
     "name": "stderr",
     "output_type": "stream",
     "text": [
      "\r",
      " 14%|███████████▍                                                                    | 138/966 [00:59<06:59,  1.97it/s]"
     ]
    },
    {
     "name": "stdout",
     "output_type": "stream",
     "text": [
      "\n"
     ]
    },
    {
     "name": "stderr",
     "output_type": "stream",
     "text": [
      "\r",
      " 14%|███████████▌                                                                    | 139/966 [00:59<06:48,  2.02it/s]"
     ]
    },
    {
     "name": "stdout",
     "output_type": "stream",
     "text": [
      "\n"
     ]
    },
    {
     "name": "stderr",
     "output_type": "stream",
     "text": [
      "\r",
      " 14%|███████████▌                                                                    | 140/966 [01:00<06:48,  2.02it/s]"
     ]
    },
    {
     "name": "stdout",
     "output_type": "stream",
     "text": [
      "\n"
     ]
    },
    {
     "name": "stderr",
     "output_type": "stream",
     "text": [
      "\r",
      " 15%|███████████▋                                                                    | 141/966 [01:00<06:37,  2.07it/s]"
     ]
    },
    {
     "name": "stdout",
     "output_type": "stream",
     "text": [
      "\n"
     ]
    },
    {
     "name": "stderr",
     "output_type": "stream",
     "text": [
      "\r",
      " 15%|███████████▊                                                                    | 142/966 [01:01<06:25,  2.14it/s]"
     ]
    },
    {
     "name": "stdout",
     "output_type": "stream",
     "text": [
      "\n"
     ]
    },
    {
     "name": "stderr",
     "output_type": "stream",
     "text": [
      "\r",
      " 15%|███████████▊                                                                    | 143/966 [01:01<06:29,  2.11it/s]"
     ]
    },
    {
     "name": "stdout",
     "output_type": "stream",
     "text": [
      "\n",
      "\n",
      "\n"
     ]
    },
    {
     "name": "stderr",
     "output_type": "stream",
     "text": [
      "\r",
      " 15%|████████████                                                                    | 146/966 [01:02<05:18,  2.58it/s]"
     ]
    },
    {
     "name": "stdout",
     "output_type": "stream",
     "text": [
      "\n"
     ]
    },
    {
     "name": "stderr",
     "output_type": "stream",
     "text": [
      "\r",
      " 15%|████████████▏                                                                   | 147/966 [01:02<05:37,  2.43it/s]"
     ]
    },
    {
     "name": "stdout",
     "output_type": "stream",
     "text": [
      "\n",
      "\n"
     ]
    },
    {
     "name": "stderr",
     "output_type": "stream",
     "text": [
      "\r",
      " 15%|████████████▎                                                                   | 149/966 [01:03<04:57,  2.75it/s]"
     ]
    },
    {
     "name": "stdout",
     "output_type": "stream",
     "text": [
      "\n"
     ]
    },
    {
     "name": "stderr",
     "output_type": "stream",
     "text": [
      "\r",
      " 16%|████████████▍                                                                   | 150/966 [01:03<05:31,  2.46it/s]"
     ]
    },
    {
     "name": "stdout",
     "output_type": "stream",
     "text": [
      "\n"
     ]
    },
    {
     "name": "stderr",
     "output_type": "stream",
     "text": [
      "\r",
      " 16%|████████████▌                                                                   | 151/966 [01:04<05:43,  2.37it/s]"
     ]
    },
    {
     "name": "stdout",
     "output_type": "stream",
     "text": [
      "\n"
     ]
    },
    {
     "name": "stderr",
     "output_type": "stream",
     "text": [
      "\r",
      " 16%|████████████▌                                                                   | 152/966 [01:04<07:06,  1.91it/s]"
     ]
    },
    {
     "name": "stdout",
     "output_type": "stream",
     "text": [
      "\n"
     ]
    },
    {
     "name": "stderr",
     "output_type": "stream",
     "text": [
      "\r",
      " 16%|████████████▋                                                                   | 153/966 [01:05<06:54,  1.96it/s]"
     ]
    },
    {
     "name": "stdout",
     "output_type": "stream",
     "text": [
      "\n"
     ]
    },
    {
     "name": "stderr",
     "output_type": "stream",
     "text": [
      "\r",
      " 16%|████████████▊                                                                   | 154/966 [01:05<06:44,  2.01it/s]"
     ]
    },
    {
     "name": "stdout",
     "output_type": "stream",
     "text": [
      "\n"
     ]
    },
    {
     "name": "stderr",
     "output_type": "stream",
     "text": [
      "\r",
      " 16%|████████████▊                                                                   | 155/966 [01:06<06:34,  2.06it/s]"
     ]
    },
    {
     "name": "stdout",
     "output_type": "stream",
     "text": [
      "\n"
     ]
    },
    {
     "name": "stderr",
     "output_type": "stream",
     "text": [
      "\r",
      " 16%|████████████▉                                                                   | 156/966 [01:06<06:20,  2.13it/s]"
     ]
    },
    {
     "name": "stdout",
     "output_type": "stream",
     "text": [
      "\n"
     ]
    },
    {
     "name": "stderr",
     "output_type": "stream",
     "text": [
      "\r",
      " 16%|█████████████                                                                   | 157/966 [01:07<06:23,  2.11it/s]"
     ]
    },
    {
     "name": "stdout",
     "output_type": "stream",
     "text": [
      "\n"
     ]
    },
    {
     "name": "stderr",
     "output_type": "stream",
     "text": [
      "\r",
      " 16%|█████████████                                                                   | 158/966 [01:07<06:17,  2.14it/s]"
     ]
    },
    {
     "name": "stdout",
     "output_type": "stream",
     "text": [
      "\n"
     ]
    },
    {
     "name": "stderr",
     "output_type": "stream",
     "text": [
      "\r",
      " 16%|█████████████▏                                                                  | 159/966 [01:08<06:11,  2.17it/s]"
     ]
    },
    {
     "name": "stdout",
     "output_type": "stream",
     "text": [
      "\n"
     ]
    },
    {
     "name": "stderr",
     "output_type": "stream",
     "text": [
      " 17%|█████████████▍                                                                  | 162/966 [01:08<04:34,  2.93it/s]"
     ]
    },
    {
     "name": "stdout",
     "output_type": "stream",
     "text": [
      "\n",
      "\n",
      "\n"
     ]
    },
    {
     "name": "stderr",
     "output_type": "stream",
     "text": [
      "\r",
      " 17%|█████████████▍                                                                  | 163/966 [01:09<05:22,  2.49it/s]"
     ]
    },
    {
     "name": "stdout",
     "output_type": "stream",
     "text": [
      "\n"
     ]
    },
    {
     "name": "stderr",
     "output_type": "stream",
     "text": [
      "\r",
      " 17%|█████████████▌                                                                  | 164/966 [01:09<05:33,  2.40it/s]"
     ]
    },
    {
     "name": "stdout",
     "output_type": "stream",
     "text": [
      "\n"
     ]
    },
    {
     "name": "stderr",
     "output_type": "stream",
     "text": [
      "\r",
      " 17%|█████████████▋                                                                  | 165/966 [01:10<05:44,  2.33it/s]"
     ]
    },
    {
     "name": "stdout",
     "output_type": "stream",
     "text": [
      "\n"
     ]
    },
    {
     "name": "stderr",
     "output_type": "stream",
     "text": [
      "\r",
      " 17%|█████████████▋                                                                  | 166/966 [01:10<05:58,  2.23it/s]"
     ]
    },
    {
     "name": "stdout",
     "output_type": "stream",
     "text": [
      "\n"
     ]
    },
    {
     "name": "stderr",
     "output_type": "stream",
     "text": [
      "\r",
      " 17%|█████████████▊                                                                  | 167/966 [01:11<06:05,  2.19it/s]"
     ]
    },
    {
     "name": "stdout",
     "output_type": "stream",
     "text": [
      "\n"
     ]
    },
    {
     "name": "stderr",
     "output_type": "stream",
     "text": [
      "\r",
      " 17%|█████████████▉                                                                  | 168/966 [01:11<06:01,  2.21it/s]"
     ]
    },
    {
     "name": "stdout",
     "output_type": "stream",
     "text": [
      "\n",
      "\n"
     ]
    },
    {
     "name": "stderr",
     "output_type": "stream",
     "text": [
      "\r",
      " 18%|██████████████                                                                  | 170/966 [01:12<05:25,  2.45it/s]"
     ]
    },
    {
     "name": "stdout",
     "output_type": "stream",
     "text": [
      "\n"
     ]
    },
    {
     "name": "stderr",
     "output_type": "stream",
     "text": [
      "\r",
      " 18%|██████████████▏                                                                 | 171/966 [01:12<05:38,  2.35it/s]"
     ]
    },
    {
     "name": "stdout",
     "output_type": "stream",
     "text": [
      "\n"
     ]
    },
    {
     "name": "stderr",
     "output_type": "stream",
     "text": [
      "\r",
      " 18%|██████████████▏                                                                 | 172/966 [01:13<05:57,  2.22it/s]"
     ]
    },
    {
     "name": "stdout",
     "output_type": "stream",
     "text": [
      "\n"
     ]
    },
    {
     "name": "stderr",
     "output_type": "stream",
     "text": [
      "\r",
      " 18%|██████████████▎                                                                 | 173/966 [01:13<06:00,  2.20it/s]"
     ]
    },
    {
     "name": "stdout",
     "output_type": "stream",
     "text": [
      "\n"
     ]
    },
    {
     "name": "stderr",
     "output_type": "stream",
     "text": [
      "\r",
      " 18%|██████████████▍                                                                 | 174/966 [01:14<05:58,  2.21it/s]"
     ]
    },
    {
     "name": "stdout",
     "output_type": "stream",
     "text": [
      "\n"
     ]
    },
    {
     "name": "stderr",
     "output_type": "stream",
     "text": [
      "\r",
      " 18%|██████████████▍                                                                 | 175/966 [01:14<05:54,  2.23it/s]"
     ]
    },
    {
     "name": "stdout",
     "output_type": "stream",
     "text": [
      "\n"
     ]
    },
    {
     "name": "stderr",
     "output_type": "stream",
     "text": [
      "\r",
      " 18%|██████████████▌                                                                 | 176/966 [01:15<06:07,  2.15it/s]"
     ]
    },
    {
     "name": "stdout",
     "output_type": "stream",
     "text": [
      "\n"
     ]
    },
    {
     "name": "stderr",
     "output_type": "stream",
     "text": [
      "\r",
      " 18%|██████████████▋                                                                 | 177/966 [01:15<06:04,  2.17it/s]"
     ]
    },
    {
     "name": "stdout",
     "output_type": "stream",
     "text": [
      "\n"
     ]
    },
    {
     "name": "stderr",
     "output_type": "stream",
     "text": [
      "\r",
      " 18%|██████████████▋                                                                 | 178/966 [01:15<06:00,  2.19it/s]"
     ]
    },
    {
     "name": "stdout",
     "output_type": "stream",
     "text": [
      "\n"
     ]
    },
    {
     "name": "stderr",
     "output_type": "stream",
     "text": [
      "\r",
      " 19%|██████████████▊                                                                 | 179/966 [01:16<06:00,  2.18it/s]"
     ]
    },
    {
     "name": "stdout",
     "output_type": "stream",
     "text": [
      "\n"
     ]
    },
    {
     "name": "stderr",
     "output_type": "stream",
     "text": [
      "\r",
      " 19%|██████████████▉                                                                 | 180/966 [01:16<06:06,  2.14it/s]"
     ]
    },
    {
     "name": "stdout",
     "output_type": "stream",
     "text": [
      "\n"
     ]
    },
    {
     "name": "stderr",
     "output_type": "stream",
     "text": [
      "\r",
      " 19%|██████████████▉                                                                 | 181/966 [01:17<06:07,  2.14it/s]"
     ]
    },
    {
     "name": "stdout",
     "output_type": "stream",
     "text": [
      "\n"
     ]
    },
    {
     "name": "stderr",
     "output_type": "stream",
     "text": [
      "\r",
      " 19%|███████████████                                                                 | 182/966 [01:17<06:18,  2.07it/s]"
     ]
    },
    {
     "name": "stdout",
     "output_type": "stream",
     "text": [
      "\n",
      "\n"
     ]
    },
    {
     "name": "stderr",
     "output_type": "stream",
     "text": [
      "\r",
      " 19%|███████████████▏                                                                | 184/966 [01:18<05:22,  2.43it/s]"
     ]
    },
    {
     "name": "stdout",
     "output_type": "stream",
     "text": [
      "\n"
     ]
    },
    {
     "name": "stderr",
     "output_type": "stream",
     "text": [
      "\r",
      " 19%|███████████████▎                                                                | 185/966 [01:18<05:25,  2.40it/s]"
     ]
    },
    {
     "name": "stdout",
     "output_type": "stream",
     "text": [
      "\n"
     ]
    },
    {
     "name": "stderr",
     "output_type": "stream",
     "text": [
      "\r",
      " 19%|███████████████▍                                                                | 186/966 [01:19<05:36,  2.32it/s]"
     ]
    },
    {
     "name": "stdout",
     "output_type": "stream",
     "text": [
      "\n"
     ]
    },
    {
     "name": "stderr",
     "output_type": "stream",
     "text": [
      "\r",
      " 19%|███████████████▍                                                                | 187/966 [01:19<05:50,  2.22it/s]"
     ]
    },
    {
     "name": "stdout",
     "output_type": "stream",
     "text": [
      "\n"
     ]
    },
    {
     "name": "stderr",
     "output_type": "stream",
     "text": [
      "\r",
      " 19%|███████████████▌                                                                | 188/966 [01:20<05:59,  2.16it/s]"
     ]
    },
    {
     "name": "stdout",
     "output_type": "stream",
     "text": [
      "\n",
      "\n"
     ]
    },
    {
     "name": "stderr",
     "output_type": "stream",
     "text": [
      "\r",
      " 20%|███████████████▋                                                                | 190/966 [01:20<05:12,  2.48it/s]"
     ]
    },
    {
     "name": "stdout",
     "output_type": "stream",
     "text": [
      "\n"
     ]
    },
    {
     "name": "stderr",
     "output_type": "stream",
     "text": [
      "\r",
      " 20%|███████████████▊                                                                | 191/966 [01:21<05:27,  2.37it/s]"
     ]
    },
    {
     "name": "stdout",
     "output_type": "stream",
     "text": [
      "\n",
      "\n"
     ]
    },
    {
     "name": "stderr",
     "output_type": "stream",
     "text": [
      "\r",
      " 20%|███████████████▉                                                                | 193/966 [01:21<04:48,  2.68it/s]"
     ]
    },
    {
     "name": "stdout",
     "output_type": "stream",
     "text": [
      "\n"
     ]
    },
    {
     "name": "stderr",
     "output_type": "stream",
     "text": [
      "\r",
      " 20%|████████████████                                                                | 194/966 [01:22<05:12,  2.47it/s]"
     ]
    },
    {
     "name": "stdout",
     "output_type": "stream",
     "text": [
      "\n"
     ]
    },
    {
     "name": "stderr",
     "output_type": "stream",
     "text": [
      "\r",
      " 20%|████████████████▏                                                               | 195/966 [01:22<05:22,  2.39it/s]"
     ]
    },
    {
     "name": "stdout",
     "output_type": "stream",
     "text": [
      "\n"
     ]
    },
    {
     "name": "stderr",
     "output_type": "stream",
     "text": [
      "\r",
      " 20%|████████████████▏                                                               | 196/966 [01:23<05:36,  2.29it/s]"
     ]
    },
    {
     "name": "stdout",
     "output_type": "stream",
     "text": [
      "\n"
     ]
    },
    {
     "name": "stderr",
     "output_type": "stream",
     "text": [
      "\r",
      " 20%|████████████████▎                                                               | 197/966 [01:23<05:42,  2.25it/s]"
     ]
    },
    {
     "name": "stdout",
     "output_type": "stream",
     "text": [
      "\n",
      "\n"
     ]
    },
    {
     "name": "stderr",
     "output_type": "stream",
     "text": [
      "\r",
      " 21%|████████████████▍                                                               | 199/966 [01:24<04:58,  2.57it/s]"
     ]
    },
    {
     "name": "stdout",
     "output_type": "stream",
     "text": [
      "\n",
      "\n"
     ]
    },
    {
     "name": "stderr",
     "output_type": "stream",
     "text": [
      "\r",
      " 21%|████████████████▋                                                               | 201/966 [01:24<04:31,  2.82it/s]"
     ]
    },
    {
     "name": "stdout",
     "output_type": "stream",
     "text": [
      "\n"
     ]
    },
    {
     "name": "stderr",
     "output_type": "stream",
     "text": [
      "\r",
      " 21%|████████████████▋                                                               | 202/966 [01:25<04:54,  2.59it/s]"
     ]
    },
    {
     "name": "stdout",
     "output_type": "stream",
     "text": [
      "\n"
     ]
    },
    {
     "name": "stderr",
     "output_type": "stream",
     "text": [
      "\r",
      " 21%|████████████████▊                                                               | 203/966 [01:25<05:09,  2.47it/s]"
     ]
    },
    {
     "name": "stdout",
     "output_type": "stream",
     "text": [
      "\n"
     ]
    },
    {
     "name": "stderr",
     "output_type": "stream",
     "text": [
      "\r",
      " 21%|████████████████▉                                                               | 204/966 [01:26<05:33,  2.29it/s]"
     ]
    },
    {
     "name": "stdout",
     "output_type": "stream",
     "text": [
      "\n"
     ]
    },
    {
     "name": "stderr",
     "output_type": "stream",
     "text": [
      "\r",
      " 21%|████████████████▉                                                               | 205/966 [01:26<05:31,  2.29it/s]"
     ]
    },
    {
     "name": "stdout",
     "output_type": "stream",
     "text": [
      "\n"
     ]
    },
    {
     "name": "stderr",
     "output_type": "stream",
     "text": [
      "\r",
      " 21%|█████████████████                                                               | 206/966 [01:27<05:35,  2.27it/s]"
     ]
    },
    {
     "name": "stdout",
     "output_type": "stream",
     "text": [
      "\n"
     ]
    },
    {
     "name": "stderr",
     "output_type": "stream",
     "text": [
      " 22%|█████████████████▎                                                              | 209/966 [01:27<04:04,  3.09it/s]"
     ]
    },
    {
     "name": "stdout",
     "output_type": "stream",
     "text": [
      "\n",
      "\n",
      "\n"
     ]
    },
    {
     "name": "stderr",
     "output_type": "stream",
     "text": [
      "\r",
      " 22%|█████████████████▍                                                              | 210/966 [01:28<04:39,  2.70it/s]"
     ]
    },
    {
     "name": "stdout",
     "output_type": "stream",
     "text": [
      "\n"
     ]
    },
    {
     "name": "stderr",
     "output_type": "stream",
     "text": [
      "\r",
      " 22%|█████████████████▍                                                              | 211/966 [01:28<04:52,  2.58it/s]"
     ]
    },
    {
     "name": "stdout",
     "output_type": "stream",
     "text": [
      "\n",
      "\n"
     ]
    },
    {
     "name": "stderr",
     "output_type": "stream",
     "text": [
      "\r",
      " 22%|█████████████████▋                                                              | 213/966 [01:29<04:20,  2.89it/s]"
     ]
    },
    {
     "name": "stdout",
     "output_type": "stream",
     "text": [
      "\n"
     ]
    },
    {
     "name": "stderr",
     "output_type": "stream",
     "text": [
      "\r",
      " 22%|█████████████████▋                                                              | 214/966 [01:29<04:59,  2.51it/s]"
     ]
    },
    {
     "name": "stdout",
     "output_type": "stream",
     "text": [
      "\n",
      "\n"
     ]
    },
    {
     "name": "stderr",
     "output_type": "stream",
     "text": [
      "\r",
      " 22%|█████████████████▉                                                              | 216/966 [01:30<04:38,  2.70it/s]"
     ]
    },
    {
     "name": "stdout",
     "output_type": "stream",
     "text": [
      "\n"
     ]
    },
    {
     "name": "stderr",
     "output_type": "stream",
     "text": [
      "\r",
      " 22%|█████████████████▉                                                              | 217/966 [01:30<05:04,  2.46it/s]"
     ]
    },
    {
     "name": "stdout",
     "output_type": "stream",
     "text": [
      "\n"
     ]
    },
    {
     "name": "stderr",
     "output_type": "stream",
     "text": [
      "\r",
      " 23%|██████████████████                                                              | 218/966 [01:31<05:20,  2.33it/s]"
     ]
    },
    {
     "name": "stdout",
     "output_type": "stream",
     "text": [
      "\n"
     ]
    },
    {
     "name": "stderr",
     "output_type": "stream",
     "text": [
      "\r",
      " 23%|██████████████████▏                                                             | 219/966 [01:31<05:16,  2.36it/s]"
     ]
    },
    {
     "name": "stdout",
     "output_type": "stream",
     "text": [
      "\n"
     ]
    },
    {
     "name": "stderr",
     "output_type": "stream",
     "text": [
      "\r",
      " 23%|██████████████████▏                                                             | 220/966 [01:31<05:19,  2.33it/s]"
     ]
    },
    {
     "name": "stdout",
     "output_type": "stream",
     "text": [
      "\n"
     ]
    },
    {
     "name": "stderr",
     "output_type": "stream",
     "text": [
      "\r",
      " 23%|██████████████████▎                                                             | 221/966 [01:32<05:18,  2.34it/s]"
     ]
    },
    {
     "name": "stdout",
     "output_type": "stream",
     "text": [
      "\n"
     ]
    },
    {
     "name": "stderr",
     "output_type": "stream",
     "text": [
      "\r",
      " 23%|██████████████████▍                                                             | 222/966 [01:32<05:23,  2.30it/s]"
     ]
    },
    {
     "name": "stdout",
     "output_type": "stream",
     "text": [
      "\n",
      "\n"
     ]
    },
    {
     "name": "stderr",
     "output_type": "stream",
     "text": [
      "\r",
      " 23%|██████████████████▌                                                             | 224/966 [01:33<04:52,  2.53it/s]"
     ]
    },
    {
     "name": "stdout",
     "output_type": "stream",
     "text": [
      "\n"
     ]
    },
    {
     "name": "stderr",
     "output_type": "stream",
     "text": [
      "\r",
      " 23%|██████████████████▋                                                             | 225/966 [01:34<05:39,  2.18it/s]"
     ]
    },
    {
     "name": "stdout",
     "output_type": "stream",
     "text": [
      "\n",
      "\n"
     ]
    },
    {
     "name": "stderr",
     "output_type": "stream",
     "text": [
      "\r",
      " 23%|██████████████████▊                                                             | 227/966 [01:34<04:59,  2.47it/s]"
     ]
    },
    {
     "name": "stdout",
     "output_type": "stream",
     "text": [
      "\n"
     ]
    },
    {
     "name": "stderr",
     "output_type": "stream",
     "text": [
      "\r",
      " 24%|██████████████████▉                                                             | 228/966 [01:35<05:24,  2.27it/s]"
     ]
    },
    {
     "name": "stdout",
     "output_type": "stream",
     "text": [
      "\n"
     ]
    },
    {
     "name": "stderr",
     "output_type": "stream",
     "text": [
      "\r",
      " 24%|██████████████████▉                                                             | 229/966 [01:35<05:40,  2.16it/s]"
     ]
    },
    {
     "name": "stdout",
     "output_type": "stream",
     "text": [
      "\n"
     ]
    },
    {
     "name": "stderr",
     "output_type": "stream",
     "text": [
      "\r",
      " 24%|███████████████████                                                             | 230/966 [01:36<06:02,  2.03it/s]"
     ]
    },
    {
     "name": "stdout",
     "output_type": "stream",
     "text": [
      "\n",
      "\n",
      "\n"
     ]
    },
    {
     "name": "stderr",
     "output_type": "stream",
     "text": [
      "\r",
      " 24%|███████████████████▎                                                            | 233/966 [01:36<04:56,  2.47it/s]"
     ]
    },
    {
     "name": "stdout",
     "output_type": "stream",
     "text": [
      "\n"
     ]
    },
    {
     "name": "stderr",
     "output_type": "stream",
     "text": [
      "\r",
      " 24%|███████████████████▍                                                            | 234/966 [01:37<05:22,  2.27it/s]"
     ]
    },
    {
     "name": "stdout",
     "output_type": "stream",
     "text": [
      "\n"
     ]
    },
    {
     "name": "stderr",
     "output_type": "stream",
     "text": [
      "\r",
      " 24%|███████████████████▍                                                            | 235/966 [01:37<05:55,  2.06it/s]"
     ]
    },
    {
     "name": "stdout",
     "output_type": "stream",
     "text": [
      "\n"
     ]
    },
    {
     "name": "stderr",
     "output_type": "stream",
     "text": [
      "\r",
      " 24%|███████████████████▌                                                            | 236/966 [01:38<06:05,  2.00it/s]"
     ]
    },
    {
     "name": "stdout",
     "output_type": "stream",
     "text": [
      "\n"
     ]
    },
    {
     "name": "stderr",
     "output_type": "stream",
     "text": [
      "\r",
      " 25%|███████████████████▋                                                            | 237/966 [01:39<06:19,  1.92it/s]"
     ]
    },
    {
     "name": "stdout",
     "output_type": "stream",
     "text": [
      "\n"
     ]
    },
    {
     "name": "stderr",
     "output_type": "stream",
     "text": [
      "\r",
      " 25%|███████████████████▋                                                            | 238/966 [01:39<07:19,  1.66it/s]"
     ]
    },
    {
     "name": "stdout",
     "output_type": "stream",
     "text": [
      "\n"
     ]
    },
    {
     "name": "stderr",
     "output_type": "stream",
     "text": [
      "\r",
      " 25%|███████████████████▊                                                            | 239/966 [01:40<07:50,  1.54it/s]"
     ]
    },
    {
     "name": "stdout",
     "output_type": "stream",
     "text": [
      "\n"
     ]
    },
    {
     "name": "stderr",
     "output_type": "stream",
     "text": [
      "\r",
      " 25%|███████████████████▉                                                            | 240/966 [01:41<07:25,  1.63it/s]"
     ]
    },
    {
     "name": "stdout",
     "output_type": "stream",
     "text": [
      "\n"
     ]
    },
    {
     "name": "stderr",
     "output_type": "stream",
     "text": [
      "\r",
      " 25%|███████████████████▉                                                            | 241/966 [01:41<06:56,  1.74it/s]"
     ]
    },
    {
     "name": "stdout",
     "output_type": "stream",
     "text": [
      "\n"
     ]
    },
    {
     "name": "stderr",
     "output_type": "stream",
     "text": [
      " 25%|████████████████████                                                            | 243/966 [01:42<05:23,  2.23it/s]"
     ]
    },
    {
     "name": "stdout",
     "output_type": "stream",
     "text": [
      "\n",
      "\n"
     ]
    },
    {
     "name": "stderr",
     "output_type": "stream",
     "text": [
      "\r",
      " 25%|████████████████████▏                                                           | 244/966 [01:42<05:39,  2.12it/s]"
     ]
    },
    {
     "name": "stdout",
     "output_type": "stream",
     "text": [
      "\n"
     ]
    },
    {
     "name": "stderr",
     "output_type": "stream",
     "text": [
      "\r",
      " 25%|████████████████████▎                                                           | 245/966 [01:43<05:56,  2.02it/s]"
     ]
    },
    {
     "name": "stdout",
     "output_type": "stream",
     "text": [
      "\n"
     ]
    },
    {
     "name": "stderr",
     "output_type": "stream",
     "text": [
      "\r",
      " 25%|████████████████████▎                                                           | 246/966 [01:43<06:12,  1.93it/s]"
     ]
    },
    {
     "name": "stdout",
     "output_type": "stream",
     "text": [
      "\n"
     ]
    },
    {
     "name": "stderr",
     "output_type": "stream",
     "text": [
      " 26%|████████████████████▌                                                           | 249/966 [01:44<04:34,  2.61it/s]"
     ]
    },
    {
     "name": "stdout",
     "output_type": "stream",
     "text": [
      "\n",
      "\n",
      "\n"
     ]
    },
    {
     "name": "stderr",
     "output_type": "stream",
     "text": [
      "\r",
      " 26%|████████████████████▋                                                           | 250/966 [01:45<05:14,  2.28it/s]"
     ]
    },
    {
     "name": "stdout",
     "output_type": "stream",
     "text": [
      "\n"
     ]
    },
    {
     "name": "stderr",
     "output_type": "stream",
     "text": [
      "\r",
      " 26%|████████████████████▊                                                           | 251/966 [01:45<05:55,  2.01it/s]"
     ]
    },
    {
     "name": "stdout",
     "output_type": "stream",
     "text": [
      "\n"
     ]
    },
    {
     "name": "stderr",
     "output_type": "stream",
     "text": [
      "\r",
      " 26%|████████████████████▊                                                           | 252/966 [01:46<06:58,  1.70it/s]"
     ]
    },
    {
     "name": "stdout",
     "output_type": "stream",
     "text": [
      "\n"
     ]
    },
    {
     "name": "stderr",
     "output_type": "stream",
     "text": [
      "\r",
      " 26%|████████████████████▉                                                           | 253/966 [01:47<06:39,  1.78it/s]"
     ]
    },
    {
     "name": "stdout",
     "output_type": "stream",
     "text": [
      "\n"
     ]
    },
    {
     "name": "stderr",
     "output_type": "stream",
     "text": [
      "\r",
      " 26%|█████████████████████                                                           | 254/966 [01:47<06:34,  1.81it/s]"
     ]
    },
    {
     "name": "stdout",
     "output_type": "stream",
     "text": [
      "\n"
     ]
    },
    {
     "name": "stderr",
     "output_type": "stream",
     "text": [
      "\r",
      " 26%|█████████████████████                                                           | 255/966 [01:48<06:36,  1.79it/s]"
     ]
    },
    {
     "name": "stdout",
     "output_type": "stream",
     "text": [
      "\n",
      "\n"
     ]
    },
    {
     "name": "stderr",
     "output_type": "stream",
     "text": [
      "\r",
      " 27%|█████████████████████▎                                                          | 257/966 [01:48<05:38,  2.10it/s]"
     ]
    },
    {
     "name": "stdout",
     "output_type": "stream",
     "text": [
      "\n",
      "\n"
     ]
    },
    {
     "name": "stderr",
     "output_type": "stream",
     "text": [
      "\r",
      " 27%|█████████████████████▍                                                          | 259/966 [01:49<04:57,  2.37it/s]"
     ]
    },
    {
     "name": "stdout",
     "output_type": "stream",
     "text": [
      "\n"
     ]
    },
    {
     "name": "stderr",
     "output_type": "stream",
     "text": [
      "\r",
      " 27%|█████████████████████▌                                                          | 260/966 [01:49<05:28,  2.15it/s]"
     ]
    },
    {
     "name": "stdout",
     "output_type": "stream",
     "text": [
      "\n",
      "\n"
     ]
    },
    {
     "name": "stderr",
     "output_type": "stream",
     "text": [
      "\r",
      " 27%|█████████████████████▋                                                          | 262/966 [01:50<04:48,  2.44it/s]"
     ]
    },
    {
     "name": "stdout",
     "output_type": "stream",
     "text": [
      "\n"
     ]
    },
    {
     "name": "stderr",
     "output_type": "stream",
     "text": [
      "\r",
      " 27%|█████████████████████▊                                                          | 263/966 [01:51<05:08,  2.28it/s]"
     ]
    },
    {
     "name": "stdout",
     "output_type": "stream",
     "text": [
      "\n"
     ]
    },
    {
     "name": "stderr",
     "output_type": "stream",
     "text": [
      "\r",
      " 27%|█████████████████████▊                                                          | 264/966 [01:51<05:33,  2.10it/s]"
     ]
    },
    {
     "name": "stdout",
     "output_type": "stream",
     "text": [
      "\n"
     ]
    },
    {
     "name": "stderr",
     "output_type": "stream",
     "text": [
      "\r",
      " 27%|█████████████████████▉                                                          | 265/966 [01:52<05:42,  2.05it/s]"
     ]
    },
    {
     "name": "stdout",
     "output_type": "stream",
     "text": [
      "\n"
     ]
    },
    {
     "name": "stderr",
     "output_type": "stream",
     "text": [
      "\r",
      " 28%|██████████████████████                                                          | 266/966 [01:52<05:43,  2.04it/s]"
     ]
    },
    {
     "name": "stdout",
     "output_type": "stream",
     "text": [
      "\n",
      "\n"
     ]
    },
    {
     "name": "stderr",
     "output_type": "stream",
     "text": [
      "\r",
      " 28%|██████████████████████▏                                                         | 268/966 [01:53<04:58,  2.34it/s]"
     ]
    },
    {
     "name": "stdout",
     "output_type": "stream",
     "text": [
      "\n"
     ]
    },
    {
     "name": "stderr",
     "output_type": "stream",
     "text": [
      "\r",
      " 28%|██████████████████████▎                                                         | 269/966 [01:53<05:08,  2.26it/s]"
     ]
    },
    {
     "name": "stdout",
     "output_type": "stream",
     "text": [
      "\n"
     ]
    },
    {
     "name": "stderr",
     "output_type": "stream",
     "text": [
      "\r",
      " 28%|██████████████████████▎                                                         | 270/966 [01:54<05:08,  2.26it/s]"
     ]
    },
    {
     "name": "stdout",
     "output_type": "stream",
     "text": [
      "\n"
     ]
    },
    {
     "name": "stderr",
     "output_type": "stream",
     "text": [
      "\r",
      " 28%|██████████████████████▍                                                         | 271/966 [01:54<05:18,  2.18it/s]"
     ]
    },
    {
     "name": "stdout",
     "output_type": "stream",
     "text": [
      "\n"
     ]
    },
    {
     "name": "stderr",
     "output_type": "stream",
     "text": [
      "\r",
      " 28%|██████████████████████▌                                                         | 272/966 [01:55<05:36,  2.06it/s]"
     ]
    },
    {
     "name": "stdout",
     "output_type": "stream",
     "text": [
      "\n"
     ]
    },
    {
     "name": "stderr",
     "output_type": "stream",
     "text": [
      "\r",
      " 28%|██████████████████████▌                                                         | 273/966 [01:55<05:55,  1.95it/s]"
     ]
    },
    {
     "name": "stdout",
     "output_type": "stream",
     "text": [
      "\n",
      "\n"
     ]
    },
    {
     "name": "stderr",
     "output_type": "stream",
     "text": [
      "\r",
      " 28%|██████████████████████▊                                                         | 275/966 [01:56<05:24,  2.13it/s]"
     ]
    },
    {
     "name": "stdout",
     "output_type": "stream",
     "text": [
      "\n"
     ]
    },
    {
     "name": "stderr",
     "output_type": "stream",
     "text": [
      "\r",
      " 29%|██████████████████████▊                                                         | 276/966 [01:57<05:40,  2.03it/s]"
     ]
    },
    {
     "name": "stdout",
     "output_type": "stream",
     "text": [
      "\n",
      "\n"
     ]
    },
    {
     "name": "stderr",
     "output_type": "stream",
     "text": [
      "\r",
      " 29%|███████████████████████                                                         | 278/966 [01:57<04:54,  2.33it/s]"
     ]
    },
    {
     "name": "stdout",
     "output_type": "stream",
     "text": [
      "\n"
     ]
    },
    {
     "name": "stderr",
     "output_type": "stream",
     "text": [
      "\r",
      " 29%|███████████████████████                                                         | 279/966 [01:58<05:17,  2.16it/s]"
     ]
    },
    {
     "name": "stdout",
     "output_type": "stream",
     "text": [
      "\n",
      "\n"
     ]
    },
    {
     "name": "stderr",
     "output_type": "stream",
     "text": [
      "\r",
      " 29%|███████████████████████▎                                                        | 281/966 [01:58<04:34,  2.49it/s]"
     ]
    },
    {
     "name": "stdout",
     "output_type": "stream",
     "text": [
      "\n"
     ]
    },
    {
     "name": "stderr",
     "output_type": "stream",
     "text": [
      "\r",
      " 29%|███████████████████████▎                                                        | 282/966 [01:59<04:54,  2.32it/s]"
     ]
    },
    {
     "name": "stdout",
     "output_type": "stream",
     "text": [
      "\n"
     ]
    },
    {
     "name": "stderr",
     "output_type": "stream",
     "text": [
      "\r",
      " 29%|███████████████████████▍                                                        | 283/966 [01:59<04:56,  2.30it/s]"
     ]
    },
    {
     "name": "stdout",
     "output_type": "stream",
     "text": [
      "\n"
     ]
    },
    {
     "name": "stderr",
     "output_type": "stream",
     "text": [
      "\r",
      " 29%|███████████████████████▌                                                        | 284/966 [02:00<04:57,  2.29it/s]"
     ]
    },
    {
     "name": "stdout",
     "output_type": "stream",
     "text": [
      "\n"
     ]
    },
    {
     "name": "stderr",
     "output_type": "stream",
     "text": [
      "\r",
      " 30%|███████████████████████▌                                                        | 285/966 [02:00<05:03,  2.24it/s]"
     ]
    },
    {
     "name": "stdout",
     "output_type": "stream",
     "text": [
      "\n"
     ]
    },
    {
     "name": "stderr",
     "output_type": "stream",
     "text": [
      "\r",
      " 30%|███████████████████████▋                                                        | 286/966 [02:00<05:15,  2.16it/s]"
     ]
    },
    {
     "name": "stdout",
     "output_type": "stream",
     "text": [
      "\n"
     ]
    },
    {
     "name": "stderr",
     "output_type": "stream",
     "text": [
      "\r",
      " 30%|███████████████████████▊                                                        | 287/966 [02:01<05:11,  2.18it/s]"
     ]
    },
    {
     "name": "stdout",
     "output_type": "stream",
     "text": [
      "\n"
     ]
    },
    {
     "name": "stderr",
     "output_type": "stream",
     "text": [
      "\r",
      " 30%|███████████████████████▊                                                        | 288/966 [02:01<05:07,  2.21it/s]"
     ]
    },
    {
     "name": "stdout",
     "output_type": "stream",
     "text": [
      "\n",
      "\n"
     ]
    },
    {
     "name": "stderr",
     "output_type": "stream",
     "text": [
      "\r",
      " 30%|████████████████████████                                                        | 290/966 [02:02<05:10,  2.18it/s]"
     ]
    },
    {
     "name": "stdout",
     "output_type": "stream",
     "text": [
      "\n"
     ]
    },
    {
     "name": "stderr",
     "output_type": "stream",
     "text": [
      "\r",
      " 30%|████████████████████████                                                        | 291/966 [02:03<05:21,  2.10it/s]"
     ]
    },
    {
     "name": "stdout",
     "output_type": "stream",
     "text": [
      "\n"
     ]
    },
    {
     "name": "stderr",
     "output_type": "stream",
     "text": [
      "\r",
      " 30%|████████████████████████▏                                                       | 292/966 [02:03<05:26,  2.06it/s]"
     ]
    },
    {
     "name": "stdout",
     "output_type": "stream",
     "text": [
      "\n"
     ]
    },
    {
     "name": "stderr",
     "output_type": "stream",
     "text": [
      "\r",
      " 30%|████████████████████████▎                                                       | 293/966 [02:04<05:25,  2.06it/s]"
     ]
    },
    {
     "name": "stdout",
     "output_type": "stream",
     "text": [
      "\n"
     ]
    },
    {
     "name": "stderr",
     "output_type": "stream",
     "text": [
      "\r",
      " 30%|████████████████████████▎                                                       | 294/966 [02:04<05:16,  2.12it/s]"
     ]
    },
    {
     "name": "stdout",
     "output_type": "stream",
     "text": [
      "\n",
      "\n"
     ]
    },
    {
     "name": "stderr",
     "output_type": "stream",
     "text": [
      "\r",
      " 31%|████████████████████████▌                                                       | 296/966 [02:05<04:34,  2.44it/s]"
     ]
    },
    {
     "name": "stdout",
     "output_type": "stream",
     "text": [
      "\n"
     ]
    },
    {
     "name": "stderr",
     "output_type": "stream",
     "text": [
      "\r",
      " 31%|████████████████████████▌                                                       | 297/966 [02:05<04:44,  2.35it/s]"
     ]
    },
    {
     "name": "stdout",
     "output_type": "stream",
     "text": [
      "\n"
     ]
    },
    {
     "name": "stderr",
     "output_type": "stream",
     "text": [
      "\r",
      " 31%|████████████████████████▋                                                       | 298/966 [02:06<04:49,  2.30it/s]"
     ]
    },
    {
     "name": "stdout",
     "output_type": "stream",
     "text": [
      "\n"
     ]
    },
    {
     "name": "stderr",
     "output_type": "stream",
     "text": [
      "\r",
      " 31%|████████████████████████▊                                                       | 299/966 [02:06<04:51,  2.29it/s]"
     ]
    },
    {
     "name": "stdout",
     "output_type": "stream",
     "text": [
      "\n"
     ]
    },
    {
     "name": "stderr",
     "output_type": "stream",
     "text": [
      "\r",
      " 31%|████████████████████████▊                                                       | 300/966 [02:07<05:07,  2.17it/s]"
     ]
    },
    {
     "name": "stdout",
     "output_type": "stream",
     "text": [
      "\n"
     ]
    },
    {
     "name": "stderr",
     "output_type": "stream",
     "text": [
      "\r",
      " 31%|████████████████████████▉                                                       | 301/966 [02:07<05:04,  2.19it/s]"
     ]
    },
    {
     "name": "stdout",
     "output_type": "stream",
     "text": [
      "\n"
     ]
    },
    {
     "name": "stderr",
     "output_type": "stream",
     "text": [
      "\r",
      " 31%|█████████████████████████                                                       | 302/966 [02:08<05:08,  2.15it/s]"
     ]
    },
    {
     "name": "stdout",
     "output_type": "stream",
     "text": [
      "\n"
     ]
    },
    {
     "name": "stderr",
     "output_type": "stream",
     "text": [
      "\r",
      " 31%|█████████████████████████                                                       | 303/966 [02:08<05:11,  2.13it/s]"
     ]
    },
    {
     "name": "stdout",
     "output_type": "stream",
     "text": [
      "\n",
      "\n"
     ]
    },
    {
     "name": "stderr",
     "output_type": "stream",
     "text": [
      "\r",
      " 32%|█████████████████████████▎                                                      | 305/966 [02:09<04:26,  2.48it/s]"
     ]
    },
    {
     "name": "stdout",
     "output_type": "stream",
     "text": [
      "\n"
     ]
    },
    {
     "name": "stderr",
     "output_type": "stream",
     "text": [
      "\r",
      " 32%|█████████████████████████▎                                                      | 306/966 [02:09<04:30,  2.44it/s]"
     ]
    },
    {
     "name": "stdout",
     "output_type": "stream",
     "text": [
      "\n",
      "\n"
     ]
    },
    {
     "name": "stderr",
     "output_type": "stream",
     "text": [
      "\r",
      " 32%|█████████████████████████▌                                                      | 308/966 [02:10<04:03,  2.71it/s]"
     ]
    },
    {
     "name": "stdout",
     "output_type": "stream",
     "text": [
      "\n"
     ]
    },
    {
     "name": "stderr",
     "output_type": "stream",
     "text": [
      "\r",
      " 32%|█████████████████████████▌                                                      | 309/966 [02:10<04:18,  2.54it/s]"
     ]
    },
    {
     "name": "stdout",
     "output_type": "stream",
     "text": [
      "\n"
     ]
    },
    {
     "name": "stderr",
     "output_type": "stream",
     "text": [
      "\r",
      " 32%|█████████████████████████▋                                                      | 310/966 [02:11<04:46,  2.29it/s]"
     ]
    },
    {
     "name": "stdout",
     "output_type": "stream",
     "text": [
      "\n",
      "\n",
      "\n"
     ]
    },
    {
     "name": "stderr",
     "output_type": "stream",
     "text": [
      "\r",
      " 32%|█████████████████████████▉                                                      | 313/966 [02:11<04:01,  2.71it/s]"
     ]
    },
    {
     "name": "stdout",
     "output_type": "stream",
     "text": [
      "\n"
     ]
    },
    {
     "name": "stderr",
     "output_type": "stream",
     "text": [
      "\r",
      " 33%|██████████████████████████                                                      | 314/966 [02:12<04:20,  2.50it/s]"
     ]
    },
    {
     "name": "stdout",
     "output_type": "stream",
     "text": [
      "\n",
      "\n"
     ]
    },
    {
     "name": "stderr",
     "output_type": "stream",
     "text": [
      "\r",
      " 33%|██████████████████████████▏                                                     | 316/966 [02:12<03:54,  2.77it/s]"
     ]
    },
    {
     "name": "stdout",
     "output_type": "stream",
     "text": [
      "\n"
     ]
    },
    {
     "name": "stderr",
     "output_type": "stream",
     "text": [
      "\r",
      " 33%|██████████████████████████▎                                                     | 317/966 [02:13<04:14,  2.55it/s]"
     ]
    },
    {
     "name": "stdout",
     "output_type": "stream",
     "text": [
      "\n"
     ]
    },
    {
     "name": "stderr",
     "output_type": "stream",
     "text": [
      "\r",
      " 33%|██████████████████████████▎                                                     | 318/966 [02:13<04:24,  2.45it/s]"
     ]
    },
    {
     "name": "stdout",
     "output_type": "stream",
     "text": [
      "\n"
     ]
    },
    {
     "name": "stderr",
     "output_type": "stream",
     "text": [
      "\r",
      " 33%|██████████████████████████▍                                                     | 319/966 [02:14<04:42,  2.29it/s]"
     ]
    },
    {
     "name": "stdout",
     "output_type": "stream",
     "text": [
      "\n"
     ]
    },
    {
     "name": "stderr",
     "output_type": "stream",
     "text": [
      "\r",
      " 33%|██████████████████████████▌                                                     | 320/966 [02:14<04:46,  2.25it/s]"
     ]
    },
    {
     "name": "stdout",
     "output_type": "stream",
     "text": [
      "\n"
     ]
    },
    {
     "name": "stderr",
     "output_type": "stream",
     "text": [
      "\r",
      " 33%|██████████████████████████▌                                                     | 321/966 [02:14<04:45,  2.26it/s]"
     ]
    },
    {
     "name": "stdout",
     "output_type": "stream",
     "text": [
      "\n"
     ]
    },
    {
     "name": "stderr",
     "output_type": "stream",
     "text": [
      "\r",
      " 33%|██████████████████████████▋                                                     | 322/966 [02:15<05:00,  2.14it/s]"
     ]
    },
    {
     "name": "stdout",
     "output_type": "stream",
     "text": [
      "\n"
     ]
    },
    {
     "name": "stderr",
     "output_type": "stream",
     "text": [
      "\r",
      " 33%|██████████████████████████▋                                                     | 323/966 [02:15<04:59,  2.15it/s]"
     ]
    },
    {
     "name": "stdout",
     "output_type": "stream",
     "text": [
      "\n"
     ]
    },
    {
     "name": "stderr",
     "output_type": "stream",
     "text": [
      "\r",
      " 34%|██████████████████████████▊                                                     | 324/966 [02:16<04:56,  2.17it/s]"
     ]
    },
    {
     "name": "stdout",
     "output_type": "stream",
     "text": [
      "\n"
     ]
    },
    {
     "name": "stderr",
     "output_type": "stream",
     "text": [
      "\r",
      " 34%|██████████████████████████▉                                                     | 325/966 [02:16<04:54,  2.18it/s]"
     ]
    },
    {
     "name": "stdout",
     "output_type": "stream",
     "text": [
      "\n",
      "\n"
     ]
    },
    {
     "name": "stderr",
     "output_type": "stream",
     "text": [
      "\r",
      " 34%|███████████████████████████                                                     | 327/966 [02:17<04:17,  2.48it/s]"
     ]
    },
    {
     "name": "stdout",
     "output_type": "stream",
     "text": [
      "\n",
      "\n"
     ]
    },
    {
     "name": "stderr",
     "output_type": "stream",
     "text": [
      "\r",
      " 34%|███████████████████████████▏                                                    | 329/966 [02:17<03:47,  2.80it/s]"
     ]
    },
    {
     "name": "stdout",
     "output_type": "stream",
     "text": [
      "\n"
     ]
    },
    {
     "name": "stderr",
     "output_type": "stream",
     "text": [
      "\r",
      " 34%|███████████████████████████▎                                                    | 330/966 [02:18<04:10,  2.54it/s]"
     ]
    },
    {
     "name": "stdout",
     "output_type": "stream",
     "text": [
      "\n"
     ]
    },
    {
     "name": "stderr",
     "output_type": "stream",
     "text": [
      "\r",
      " 34%|███████████████████████████▍                                                    | 331/966 [02:18<04:21,  2.43it/s]"
     ]
    },
    {
     "name": "stdout",
     "output_type": "stream",
     "text": [
      "\n"
     ]
    },
    {
     "name": "stderr",
     "output_type": "stream",
     "text": [
      "\r",
      " 34%|███████████████████████████▍                                                    | 332/966 [02:19<04:26,  2.38it/s]"
     ]
    },
    {
     "name": "stdout",
     "output_type": "stream",
     "text": [
      "\n"
     ]
    },
    {
     "name": "stderr",
     "output_type": "stream",
     "text": [
      "\r",
      " 34%|███████████████████████████▌                                                    | 333/966 [02:19<04:29,  2.35it/s]"
     ]
    },
    {
     "name": "stdout",
     "output_type": "stream",
     "text": [
      "\n"
     ]
    },
    {
     "name": "stderr",
     "output_type": "stream",
     "text": [
      "\r",
      " 35%|███████████████████████████▋                                                    | 334/966 [02:20<04:30,  2.33it/s]"
     ]
    },
    {
     "name": "stdout",
     "output_type": "stream",
     "text": [
      "\n"
     ]
    },
    {
     "name": "stderr",
     "output_type": "stream",
     "text": [
      "\r",
      " 35%|███████████████████████████▋                                                    | 335/966 [02:20<04:33,  2.31it/s]"
     ]
    },
    {
     "name": "stdout",
     "output_type": "stream",
     "text": [
      "\n"
     ]
    },
    {
     "name": "stderr",
     "output_type": "stream",
     "text": [
      "\r",
      " 35%|███████████████████████████▊                                                    | 336/966 [02:21<04:27,  2.36it/s]"
     ]
    },
    {
     "name": "stdout",
     "output_type": "stream",
     "text": [
      "\n"
     ]
    },
    {
     "name": "stderr",
     "output_type": "stream",
     "text": [
      "\r",
      " 35%|███████████████████████████▉                                                    | 337/966 [02:21<04:40,  2.25it/s]"
     ]
    },
    {
     "name": "stdout",
     "output_type": "stream",
     "text": [
      "\n",
      "\n"
     ]
    },
    {
     "name": "stderr",
     "output_type": "stream",
     "text": [
      "\r",
      " 35%|████████████████████████████                                                    | 339/966 [02:22<04:01,  2.59it/s]"
     ]
    },
    {
     "name": "stdout",
     "output_type": "stream",
     "text": [
      "\n"
     ]
    },
    {
     "name": "stderr",
     "output_type": "stream",
     "text": [
      "\r",
      " 35%|████████████████████████████▏                                                   | 340/966 [02:22<04:21,  2.39it/s]"
     ]
    },
    {
     "name": "stdout",
     "output_type": "stream",
     "text": [
      "\n"
     ]
    },
    {
     "name": "stderr",
     "output_type": "stream",
     "text": [
      "\r",
      " 35%|████████████████████████████▏                                                   | 341/966 [02:22<04:26,  2.34it/s]"
     ]
    },
    {
     "name": "stdout",
     "output_type": "stream",
     "text": [
      "\n"
     ]
    },
    {
     "name": "stderr",
     "output_type": "stream",
     "text": [
      "\r",
      " 35%|████████████████████████████▎                                                   | 342/966 [02:23<04:34,  2.28it/s]"
     ]
    },
    {
     "name": "stdout",
     "output_type": "stream",
     "text": [
      "\n"
     ]
    },
    {
     "name": "stderr",
     "output_type": "stream",
     "text": [
      "\r",
      " 36%|████████████████████████████▍                                                   | 343/966 [02:23<04:29,  2.31it/s]"
     ]
    },
    {
     "name": "stdout",
     "output_type": "stream",
     "text": [
      "\n"
     ]
    },
    {
     "name": "stderr",
     "output_type": "stream",
     "text": [
      "\r",
      " 36%|████████████████████████████▍                                                   | 344/966 [02:24<04:32,  2.28it/s]"
     ]
    },
    {
     "name": "stdout",
     "output_type": "stream",
     "text": [
      "\n",
      "\n"
     ]
    },
    {
     "name": "stderr",
     "output_type": "stream",
     "text": [
      "\r",
      " 36%|████████████████████████████▋                                                   | 346/966 [02:24<04:00,  2.58it/s]"
     ]
    },
    {
     "name": "stdout",
     "output_type": "stream",
     "text": [
      "\n"
     ]
    },
    {
     "name": "stderr",
     "output_type": "stream",
     "text": [
      "\r",
      " 36%|████████████████████████████▋                                                   | 347/966 [02:25<04:09,  2.48it/s]"
     ]
    },
    {
     "name": "stdout",
     "output_type": "stream",
     "text": [
      "\n"
     ]
    },
    {
     "name": "stderr",
     "output_type": "stream",
     "text": [
      "\r",
      " 36%|████████████████████████████▊                                                   | 348/966 [02:25<04:14,  2.42it/s]"
     ]
    },
    {
     "name": "stdout",
     "output_type": "stream",
     "text": [
      "\n",
      "\n"
     ]
    },
    {
     "name": "stderr",
     "output_type": "stream",
     "text": [
      "\r",
      " 36%|████████████████████████████▉                                                   | 350/966 [02:26<03:47,  2.71it/s]"
     ]
    },
    {
     "name": "stdout",
     "output_type": "stream",
     "text": [
      "\n"
     ]
    },
    {
     "name": "stderr",
     "output_type": "stream",
     "text": [
      "\r",
      " 36%|█████████████████████████████                                                   | 351/966 [02:26<04:08,  2.48it/s]"
     ]
    },
    {
     "name": "stdout",
     "output_type": "stream",
     "text": [
      "\n"
     ]
    },
    {
     "name": "stderr",
     "output_type": "stream",
     "text": [
      "\r",
      " 36%|█████████████████████████████▏                                                  | 352/966 [02:27<04:15,  2.40it/s]"
     ]
    },
    {
     "name": "stdout",
     "output_type": "stream",
     "text": [
      "\n"
     ]
    },
    {
     "name": "stderr",
     "output_type": "stream",
     "text": [
      "\r",
      " 37%|█████████████████████████████▏                                                  | 353/966 [02:27<04:27,  2.29it/s]"
     ]
    },
    {
     "name": "stdout",
     "output_type": "stream",
     "text": [
      "\n"
     ]
    },
    {
     "name": "stderr",
     "output_type": "stream",
     "text": [
      "\r",
      " 37%|█████████████████████████████▎                                                  | 354/966 [02:28<04:29,  2.27it/s]"
     ]
    },
    {
     "name": "stdout",
     "output_type": "stream",
     "text": [
      "\n"
     ]
    },
    {
     "name": "stderr",
     "output_type": "stream",
     "text": [
      "\r",
      " 37%|█████████████████████████████▍                                                  | 355/966 [02:28<04:28,  2.27it/s]"
     ]
    },
    {
     "name": "stdout",
     "output_type": "stream",
     "text": [
      "\n"
     ]
    },
    {
     "name": "stderr",
     "output_type": "stream",
     "text": [
      "\r",
      " 37%|█████████████████████████████▍                                                  | 356/966 [02:28<04:25,  2.29it/s]"
     ]
    },
    {
     "name": "stdout",
     "output_type": "stream",
     "text": [
      "\n"
     ]
    },
    {
     "name": "stderr",
     "output_type": "stream",
     "text": [
      "\r",
      " 37%|█████████████████████████████▌                                                  | 357/966 [02:29<04:36,  2.20it/s]"
     ]
    },
    {
     "name": "stdout",
     "output_type": "stream",
     "text": [
      "\n"
     ]
    },
    {
     "name": "stderr",
     "output_type": "stream",
     "text": [
      "\r",
      " 37%|█████████████████████████████▋                                                  | 358/966 [02:29<04:37,  2.19it/s]"
     ]
    },
    {
     "name": "stdout",
     "output_type": "stream",
     "text": [
      "\n"
     ]
    },
    {
     "name": "stderr",
     "output_type": "stream",
     "text": [
      "\r",
      " 37%|█████████████████████████████▋                                                  | 359/966 [02:30<04:37,  2.19it/s]"
     ]
    },
    {
     "name": "stdout",
     "output_type": "stream",
     "text": [
      "\n",
      "\n"
     ]
    },
    {
     "name": "stderr",
     "output_type": "stream",
     "text": [
      "\r",
      " 37%|█████████████████████████████▉                                                  | 361/966 [02:30<03:57,  2.54it/s]"
     ]
    },
    {
     "name": "stdout",
     "output_type": "stream",
     "text": [
      "\n"
     ]
    },
    {
     "name": "stderr",
     "output_type": "stream",
     "text": [
      "\r",
      " 37%|█████████████████████████████▉                                                  | 362/966 [02:31<04:13,  2.39it/s]"
     ]
    },
    {
     "name": "stdout",
     "output_type": "stream",
     "text": [
      "\n",
      "\n"
     ]
    },
    {
     "name": "stderr",
     "output_type": "stream",
     "text": [
      "\r",
      " 38%|██████████████████████████████▏                                                 | 364/966 [02:31<03:39,  2.74it/s]"
     ]
    },
    {
     "name": "stdout",
     "output_type": "stream",
     "text": [
      "\n"
     ]
    },
    {
     "name": "stderr",
     "output_type": "stream",
     "text": [
      "\r",
      " 38%|██████████████████████████████▏                                                 | 365/966 [02:32<03:55,  2.55it/s]"
     ]
    },
    {
     "name": "stdout",
     "output_type": "stream",
     "text": [
      "\n",
      "\n"
     ]
    },
    {
     "name": "stderr",
     "output_type": "stream",
     "text": [
      "\r",
      " 38%|██████████████████████████████▍                                                 | 367/966 [02:32<03:30,  2.85it/s]"
     ]
    },
    {
     "name": "stdout",
     "output_type": "stream",
     "text": [
      "\n"
     ]
    },
    {
     "name": "stderr",
     "output_type": "stream",
     "text": [
      "\r",
      " 38%|██████████████████████████████▍                                                 | 368/966 [02:33<03:48,  2.62it/s]"
     ]
    },
    {
     "name": "stdout",
     "output_type": "stream",
     "text": [
      "\n"
     ]
    },
    {
     "name": "stderr",
     "output_type": "stream",
     "text": [
      "\r",
      " 38%|██████████████████████████████▌                                                 | 369/966 [02:33<04:01,  2.47it/s]"
     ]
    },
    {
     "name": "stdout",
     "output_type": "stream",
     "text": [
      "\n"
     ]
    },
    {
     "name": "stderr",
     "output_type": "stream",
     "text": [
      "\r",
      " 38%|██████████████████████████████▋                                                 | 370/966 [02:34<04:18,  2.31it/s]"
     ]
    },
    {
     "name": "stdout",
     "output_type": "stream",
     "text": [
      "\n"
     ]
    },
    {
     "name": "stderr",
     "output_type": "stream",
     "text": [
      "\r",
      " 38%|██████████████████████████████▋                                                 | 371/966 [02:34<04:24,  2.25it/s]"
     ]
    },
    {
     "name": "stdout",
     "output_type": "stream",
     "text": [
      "\n"
     ]
    },
    {
     "name": "stderr",
     "output_type": "stream",
     "text": [
      "\r",
      " 39%|██████████████████████████████▊                                                 | 372/966 [02:35<04:26,  2.23it/s]"
     ]
    },
    {
     "name": "stdout",
     "output_type": "stream",
     "text": [
      "\n"
     ]
    },
    {
     "name": "stderr",
     "output_type": "stream",
     "text": [
      "\r",
      " 39%|██████████████████████████████▉                                                 | 373/966 [02:35<04:35,  2.15it/s]"
     ]
    },
    {
     "name": "stdout",
     "output_type": "stream",
     "text": [
      "\n"
     ]
    },
    {
     "name": "stderr",
     "output_type": "stream",
     "text": [
      "\r",
      " 39%|██████████████████████████████▉                                                 | 374/966 [02:36<04:37,  2.14it/s]"
     ]
    },
    {
     "name": "stdout",
     "output_type": "stream",
     "text": [
      "\n",
      "\n"
     ]
    },
    {
     "name": "stderr",
     "output_type": "stream",
     "text": [
      "\r",
      " 39%|███████████████████████████████▏                                                | 376/966 [02:36<03:57,  2.48it/s]"
     ]
    },
    {
     "name": "stdout",
     "output_type": "stream",
     "text": [
      "\n",
      "\n"
     ]
    },
    {
     "name": "stderr",
     "output_type": "stream",
     "text": [
      "\r",
      " 39%|███████████████████████████████▎                                                | 378/966 [02:37<03:32,  2.77it/s]"
     ]
    },
    {
     "name": "stdout",
     "output_type": "stream",
     "text": [
      "\n"
     ]
    },
    {
     "name": "stderr",
     "output_type": "stream",
     "text": [
      "\r",
      " 39%|███████████████████████████████▍                                                | 379/966 [02:37<03:46,  2.59it/s]"
     ]
    },
    {
     "name": "stdout",
     "output_type": "stream",
     "text": [
      "\n"
     ]
    },
    {
     "name": "stderr",
     "output_type": "stream",
     "text": [
      "\r",
      " 39%|███████████████████████████████▍                                                | 380/966 [02:38<04:08,  2.36it/s]"
     ]
    },
    {
     "name": "stdout",
     "output_type": "stream",
     "text": [
      "\n"
     ]
    },
    {
     "name": "stderr",
     "output_type": "stream",
     "text": [
      "\r",
      " 39%|███████████████████████████████▌                                                | 381/966 [02:38<04:15,  2.29it/s]"
     ]
    },
    {
     "name": "stdout",
     "output_type": "stream",
     "text": [
      "\n"
     ]
    },
    {
     "name": "stderr",
     "output_type": "stream",
     "text": [
      "\r",
      " 40%|███████████████████████████████▋                                                | 382/966 [02:39<04:20,  2.24it/s]"
     ]
    },
    {
     "name": "stdout",
     "output_type": "stream",
     "text": [
      "\n"
     ]
    },
    {
     "name": "stderr",
     "output_type": "stream",
     "text": [
      "\r",
      " 40%|███████████████████████████████▋                                                | 383/966 [02:39<04:24,  2.21it/s]"
     ]
    },
    {
     "name": "stdout",
     "output_type": "stream",
     "text": [
      "\n"
     ]
    },
    {
     "name": "stderr",
     "output_type": "stream",
     "text": [
      "\r",
      " 40%|███████████████████████████████▊                                                | 384/966 [02:39<04:24,  2.20it/s]"
     ]
    },
    {
     "name": "stdout",
     "output_type": "stream",
     "text": [
      "\n"
     ]
    },
    {
     "name": "stderr",
     "output_type": "stream",
     "text": [
      "\r",
      " 40%|███████████████████████████████▉                                                | 385/966 [02:40<04:24,  2.20it/s]"
     ]
    },
    {
     "name": "stdout",
     "output_type": "stream",
     "text": [
      "\n"
     ]
    },
    {
     "name": "stderr",
     "output_type": "stream",
     "text": [
      "\r",
      " 40%|███████████████████████████████▉                                                | 386/966 [02:40<04:22,  2.21it/s]"
     ]
    },
    {
     "name": "stdout",
     "output_type": "stream",
     "text": [
      "\n"
     ]
    },
    {
     "name": "stderr",
     "output_type": "stream",
     "text": [
      "\r",
      " 40%|████████████████████████████████                                                | 387/966 [02:41<04:32,  2.12it/s]"
     ]
    },
    {
     "name": "stdout",
     "output_type": "stream",
     "text": [
      "\n"
     ]
    },
    {
     "name": "stderr",
     "output_type": "stream",
     "text": [
      "\r",
      " 40%|████████████████████████████████▏                                               | 388/966 [02:41<04:37,  2.09it/s]"
     ]
    },
    {
     "name": "stdout",
     "output_type": "stream",
     "text": [
      "\n"
     ]
    },
    {
     "name": "stderr",
     "output_type": "stream",
     "text": [
      "\r",
      " 40%|████████████████████████████████▏                                               | 389/966 [02:42<04:47,  2.01it/s]"
     ]
    },
    {
     "name": "stdout",
     "output_type": "stream",
     "text": [
      "\n"
     ]
    },
    {
     "name": "stderr",
     "output_type": "stream",
     "text": [
      "\r",
      " 40%|████████████████████████████████▎                                               | 390/966 [02:42<04:41,  2.05it/s]"
     ]
    },
    {
     "name": "stdout",
     "output_type": "stream",
     "text": [
      "\n"
     ]
    },
    {
     "name": "stderr",
     "output_type": "stream",
     "text": [
      "\r",
      " 40%|████████████████████████████████▍                                               | 391/966 [02:43<04:36,  2.08it/s]"
     ]
    },
    {
     "name": "stdout",
     "output_type": "stream",
     "text": [
      "\n"
     ]
    },
    {
     "name": "stderr",
     "output_type": "stream",
     "text": [
      "\r",
      " 41%|████████████████████████████████▍                                               | 392/966 [02:43<04:40,  2.05it/s]"
     ]
    },
    {
     "name": "stdout",
     "output_type": "stream",
     "text": [
      "\n"
     ]
    },
    {
     "name": "stderr",
     "output_type": "stream",
     "text": [
      "\r",
      " 41%|████████████████████████████████▌                                               | 393/966 [02:44<04:34,  2.09it/s]"
     ]
    },
    {
     "name": "stdout",
     "output_type": "stream",
     "text": [
      "\n"
     ]
    },
    {
     "name": "stderr",
     "output_type": "stream",
     "text": [
      "\r",
      " 41%|████████████████████████████████▋                                               | 394/966 [02:44<04:28,  2.13it/s]"
     ]
    },
    {
     "name": "stdout",
     "output_type": "stream",
     "text": [
      "\n"
     ]
    },
    {
     "name": "stderr",
     "output_type": "stream",
     "text": [
      "\r",
      " 41%|████████████████████████████████▋                                               | 395/966 [02:45<04:34,  2.08it/s]"
     ]
    },
    {
     "name": "stdout",
     "output_type": "stream",
     "text": [
      "\n"
     ]
    },
    {
     "name": "stderr",
     "output_type": "stream",
     "text": [
      "\r",
      " 41%|████████████████████████████████▊                                               | 396/966 [02:45<04:33,  2.08it/s]"
     ]
    },
    {
     "name": "stdout",
     "output_type": "stream",
     "text": [
      "\n"
     ]
    },
    {
     "name": "stderr",
     "output_type": "stream",
     "text": [
      "\r",
      " 41%|████████████████████████████████▉                                               | 397/966 [02:46<04:30,  2.11it/s]"
     ]
    },
    {
     "name": "stdout",
     "output_type": "stream",
     "text": [
      "\n"
     ]
    },
    {
     "name": "stderr",
     "output_type": "stream",
     "text": [
      "\r",
      " 41%|████████████████████████████████▉                                               | 398/966 [02:46<04:28,  2.12it/s]"
     ]
    },
    {
     "name": "stdout",
     "output_type": "stream",
     "text": [
      "\n"
     ]
    },
    {
     "name": "stderr",
     "output_type": "stream",
     "text": [
      "\r",
      " 41%|█████████████████████████████████                                               | 399/966 [02:47<04:30,  2.10it/s]"
     ]
    },
    {
     "name": "stdout",
     "output_type": "stream",
     "text": [
      "\n"
     ]
    },
    {
     "name": "stderr",
     "output_type": "stream",
     "text": [
      "\r",
      " 41%|█████████████████████████████████▏                                              | 400/966 [02:47<04:26,  2.13it/s]"
     ]
    },
    {
     "name": "stdout",
     "output_type": "stream",
     "text": [
      "\n"
     ]
    },
    {
     "name": "stderr",
     "output_type": "stream",
     "text": [
      "\r",
      " 42%|█████████████████████████████████▏                                              | 401/966 [02:48<04:32,  2.07it/s]"
     ]
    },
    {
     "name": "stdout",
     "output_type": "stream",
     "text": [
      "\n"
     ]
    },
    {
     "name": "stderr",
     "output_type": "stream",
     "text": [
      "\r",
      " 42%|█████████████████████████████████▎                                              | 402/966 [02:48<04:28,  2.10it/s]"
     ]
    },
    {
     "name": "stdout",
     "output_type": "stream",
     "text": [
      "\n"
     ]
    },
    {
     "name": "stderr",
     "output_type": "stream",
     "text": [
      "\r",
      " 42%|█████████████████████████████████▎                                              | 403/966 [02:49<04:23,  2.14it/s]"
     ]
    },
    {
     "name": "stdout",
     "output_type": "stream",
     "text": [
      "\n"
     ]
    },
    {
     "name": "stderr",
     "output_type": "stream",
     "text": [
      "\r",
      " 42%|█████████████████████████████████▍                                              | 404/966 [02:49<04:18,  2.17it/s]"
     ]
    },
    {
     "name": "stdout",
     "output_type": "stream",
     "text": [
      "\n"
     ]
    },
    {
     "name": "stderr",
     "output_type": "stream",
     "text": [
      "\r",
      " 42%|█████████████████████████████████▌                                              | 405/966 [02:49<04:26,  2.10it/s]"
     ]
    },
    {
     "name": "stdout",
     "output_type": "stream",
     "text": [
      "\n"
     ]
    },
    {
     "name": "stderr",
     "output_type": "stream",
     "text": [
      "\r",
      " 42%|█████████████████████████████████▌                                              | 406/966 [02:50<04:20,  2.15it/s]"
     ]
    },
    {
     "name": "stdout",
     "output_type": "stream",
     "text": [
      "\n"
     ]
    },
    {
     "name": "stderr",
     "output_type": "stream",
     "text": [
      "\r",
      " 42%|█████████████████████████████████▋                                              | 407/966 [02:50<04:15,  2.18it/s]"
     ]
    },
    {
     "name": "stdout",
     "output_type": "stream",
     "text": [
      "\n"
     ]
    },
    {
     "name": "stderr",
     "output_type": "stream",
     "text": [
      "\r",
      " 42%|█████████████████████████████████▊                                              | 408/966 [02:51<04:14,  2.19it/s]"
     ]
    },
    {
     "name": "stdout",
     "output_type": "stream",
     "text": [
      "\n"
     ]
    },
    {
     "name": "stderr",
     "output_type": "stream",
     "text": [
      "\r",
      " 42%|█████████████████████████████████▊                                              | 409/966 [02:51<04:11,  2.21it/s]"
     ]
    },
    {
     "name": "stdout",
     "output_type": "stream",
     "text": [
      "\n"
     ]
    },
    {
     "name": "stderr",
     "output_type": "stream",
     "text": [
      "\r",
      " 42%|█████████████████████████████████▉                                              | 410/966 [02:52<04:22,  2.12it/s]"
     ]
    },
    {
     "name": "stdout",
     "output_type": "stream",
     "text": [
      "\n"
     ]
    },
    {
     "name": "stderr",
     "output_type": "stream",
     "text": [
      "\r",
      " 43%|██████████████████████████████████                                              | 411/966 [02:52<04:19,  2.14it/s]"
     ]
    },
    {
     "name": "stdout",
     "output_type": "stream",
     "text": [
      "\n"
     ]
    },
    {
     "name": "stderr",
     "output_type": "stream",
     "text": [
      "\r",
      " 43%|██████████████████████████████████                                              | 412/966 [02:53<04:14,  2.18it/s]"
     ]
    },
    {
     "name": "stdout",
     "output_type": "stream",
     "text": [
      "\n"
     ]
    },
    {
     "name": "stderr",
     "output_type": "stream",
     "text": [
      "\r",
      " 43%|██████████████████████████████████▏                                             | 413/966 [02:53<04:06,  2.25it/s]"
     ]
    },
    {
     "name": "stdout",
     "output_type": "stream",
     "text": [
      "\n"
     ]
    },
    {
     "name": "stderr",
     "output_type": "stream",
     "text": [
      "\r",
      " 43%|██████████████████████████████████▎                                             | 414/966 [02:54<04:04,  2.26it/s]"
     ]
    },
    {
     "name": "stdout",
     "output_type": "stream",
     "text": [
      "\n"
     ]
    },
    {
     "name": "stderr",
     "output_type": "stream",
     "text": [
      "\r",
      " 43%|██████████████████████████████████▎                                             | 415/966 [02:54<04:16,  2.15it/s]"
     ]
    },
    {
     "name": "stdout",
     "output_type": "stream",
     "text": [
      "\n"
     ]
    },
    {
     "name": "stderr",
     "output_type": "stream",
     "text": [
      "\r",
      " 43%|██████████████████████████████████▍                                             | 416/966 [02:55<04:29,  2.04it/s]"
     ]
    },
    {
     "name": "stdout",
     "output_type": "stream",
     "text": [
      "\n"
     ]
    },
    {
     "name": "stderr",
     "output_type": "stream",
     "text": [
      "\r",
      " 43%|██████████████████████████████████▌                                             | 417/966 [02:55<04:38,  1.97it/s]"
     ]
    },
    {
     "name": "stdout",
     "output_type": "stream",
     "text": [
      "\n"
     ]
    },
    {
     "name": "stderr",
     "output_type": "stream",
     "text": [
      "\r",
      " 43%|██████████████████████████████████▌                                             | 418/966 [02:56<04:49,  1.89it/s]"
     ]
    },
    {
     "name": "stdout",
     "output_type": "stream",
     "text": [
      "\n",
      "\n"
     ]
    },
    {
     "name": "stderr",
     "output_type": "stream",
     "text": [
      "\r",
      " 43%|██████████████████████████████████▊                                             | 420/966 [02:56<04:13,  2.15it/s]"
     ]
    },
    {
     "name": "stdout",
     "output_type": "stream",
     "text": [
      "\n"
     ]
    },
    {
     "name": "stderr",
     "output_type": "stream",
     "text": [
      "\r",
      " 44%|██████████████████████████████████▊                                             | 421/966 [02:57<04:27,  2.03it/s]"
     ]
    },
    {
     "name": "stdout",
     "output_type": "stream",
     "text": [
      "\n"
     ]
    },
    {
     "name": "stderr",
     "output_type": "stream",
     "text": [
      "\r",
      " 44%|██████████████████████████████████▉                                             | 422/966 [02:57<04:33,  1.99it/s]"
     ]
    },
    {
     "name": "stdout",
     "output_type": "stream",
     "text": [
      "\n"
     ]
    },
    {
     "name": "stderr",
     "output_type": "stream",
     "text": [
      "\r",
      " 44%|███████████████████████████████████                                             | 423/966 [02:58<04:35,  1.97it/s]"
     ]
    },
    {
     "name": "stdout",
     "output_type": "stream",
     "text": [
      "\n",
      "\n"
     ]
    },
    {
     "name": "stderr",
     "output_type": "stream",
     "text": [
      "\r",
      " 44%|███████████████████████████████████▏                                            | 425/966 [02:58<03:52,  2.33it/s]"
     ]
    },
    {
     "name": "stdout",
     "output_type": "stream",
     "text": [
      "\n"
     ]
    },
    {
     "name": "stderr",
     "output_type": "stream",
     "text": [
      "\r",
      " 44%|███████████████████████████████████▎                                            | 426/966 [02:59<05:22,  1.68it/s]"
     ]
    },
    {
     "name": "stdout",
     "output_type": "stream",
     "text": [
      "\n"
     ]
    },
    {
     "name": "stderr",
     "output_type": "stream",
     "text": [
      "\r",
      " 44%|███████████████████████████████████▎                                            | 427/966 [03:00<05:05,  1.76it/s]"
     ]
    },
    {
     "name": "stdout",
     "output_type": "stream",
     "text": [
      "\n"
     ]
    },
    {
     "name": "stderr",
     "output_type": "stream",
     "text": [
      "\r",
      " 44%|███████████████████████████████████▍                                            | 428/966 [03:00<05:03,  1.77it/s]"
     ]
    },
    {
     "name": "stdout",
     "output_type": "stream",
     "text": [
      "\n"
     ]
    },
    {
     "name": "stderr",
     "output_type": "stream",
     "text": [
      "\r",
      " 44%|███████████████████████████████████▌                                            | 429/966 [03:01<04:56,  1.81it/s]"
     ]
    },
    {
     "name": "stdout",
     "output_type": "stream",
     "text": [
      "\n"
     ]
    },
    {
     "name": "stderr",
     "output_type": "stream",
     "text": [
      "\r",
      " 45%|███████████████████████████████████▌                                            | 430/966 [03:02<04:45,  1.88it/s]"
     ]
    },
    {
     "name": "stdout",
     "output_type": "stream",
     "text": [
      "\n"
     ]
    },
    {
     "name": "stderr",
     "output_type": "stream",
     "text": [
      "\r",
      " 45%|███████████████████████████████████▋                                            | 431/966 [03:02<04:39,  1.91it/s]"
     ]
    },
    {
     "name": "stdout",
     "output_type": "stream",
     "text": [
      "\n"
     ]
    },
    {
     "name": "stderr",
     "output_type": "stream",
     "text": [
      "\r",
      " 45%|███████████████████████████████████▊                                            | 432/966 [03:02<04:26,  2.00it/s]"
     ]
    },
    {
     "name": "stdout",
     "output_type": "stream",
     "text": [
      "\n"
     ]
    },
    {
     "name": "stderr",
     "output_type": "stream",
     "text": [
      "\r",
      " 45%|███████████████████████████████████▊                                            | 433/966 [03:03<04:21,  2.04it/s]"
     ]
    },
    {
     "name": "stdout",
     "output_type": "stream",
     "text": [
      "\n"
     ]
    },
    {
     "name": "stderr",
     "output_type": "stream",
     "text": [
      "\r",
      " 45%|███████████████████████████████████▉                                            | 434/966 [03:03<04:16,  2.07it/s]"
     ]
    },
    {
     "name": "stdout",
     "output_type": "stream",
     "text": [
      "\n"
     ]
    },
    {
     "name": "stderr",
     "output_type": "stream",
     "text": [
      "\r",
      " 45%|████████████████████████████████████                                            | 435/966 [03:04<04:24,  2.01it/s]"
     ]
    },
    {
     "name": "stdout",
     "output_type": "stream",
     "text": [
      "\n"
     ]
    },
    {
     "name": "stderr",
     "output_type": "stream",
     "text": [
      "\r",
      " 45%|████████████████████████████████████                                            | 436/966 [03:04<04:17,  2.06it/s]"
     ]
    },
    {
     "name": "stdout",
     "output_type": "stream",
     "text": [
      "\n"
     ]
    },
    {
     "name": "stderr",
     "output_type": "stream",
     "text": [
      "\r",
      " 45%|████████████████████████████████████▏                                           | 437/966 [03:05<04:26,  1.98it/s]"
     ]
    },
    {
     "name": "stdout",
     "output_type": "stream",
     "text": [
      "\n"
     ]
    },
    {
     "name": "stderr",
     "output_type": "stream",
     "text": [
      "\r",
      " 45%|████████████████████████████████████▎                                           | 438/966 [03:05<04:25,  1.99it/s]"
     ]
    },
    {
     "name": "stdout",
     "output_type": "stream",
     "text": [
      "\n"
     ]
    },
    {
     "name": "stderr",
     "output_type": "stream",
     "text": [
      "\r",
      " 45%|████████████████████████████████████▎                                           | 439/966 [03:06<04:32,  1.93it/s]"
     ]
    },
    {
     "name": "stdout",
     "output_type": "stream",
     "text": [
      "\n"
     ]
    },
    {
     "name": "stderr",
     "output_type": "stream",
     "text": [
      "\r",
      " 46%|████████████████████████████████████▍                                           | 440/966 [03:07<04:37,  1.89it/s]"
     ]
    },
    {
     "name": "stdout",
     "output_type": "stream",
     "text": [
      "\n"
     ]
    },
    {
     "name": "stderr",
     "output_type": "stream",
     "text": [
      "\r",
      " 46%|████████████████████████████████████▌                                           | 441/966 [03:07<04:33,  1.92it/s]"
     ]
    },
    {
     "name": "stdout",
     "output_type": "stream",
     "text": [
      "\n"
     ]
    },
    {
     "name": "stderr",
     "output_type": "stream",
     "text": [
      "\r",
      " 46%|████████████████████████████████████▌                                           | 442/966 [03:08<04:32,  1.92it/s]"
     ]
    },
    {
     "name": "stdout",
     "output_type": "stream",
     "text": [
      "\n"
     ]
    },
    {
     "name": "stderr",
     "output_type": "stream",
     "text": [
      "\r",
      " 46%|████████████████████████████████████▋                                           | 443/966 [03:08<04:30,  1.94it/s]"
     ]
    },
    {
     "name": "stdout",
     "output_type": "stream",
     "text": [
      "\n"
     ]
    },
    {
     "name": "stderr",
     "output_type": "stream",
     "text": [
      "\r",
      " 46%|████████████████████████████████████▊                                           | 444/966 [03:09<04:30,  1.93it/s]"
     ]
    },
    {
     "name": "stdout",
     "output_type": "stream",
     "text": [
      "\n"
     ]
    },
    {
     "name": "stderr",
     "output_type": "stream",
     "text": [
      "\r",
      " 46%|████████████████████████████████████▊                                           | 445/966 [03:09<04:25,  1.96it/s]"
     ]
    },
    {
     "name": "stdout",
     "output_type": "stream",
     "text": [
      "\n"
     ]
    },
    {
     "name": "stderr",
     "output_type": "stream",
     "text": [
      "\r",
      " 46%|████████████████████████████████████▉                                           | 446/966 [03:10<04:20,  2.00it/s]"
     ]
    },
    {
     "name": "stdout",
     "output_type": "stream",
     "text": [
      "\n"
     ]
    },
    {
     "name": "stderr",
     "output_type": "stream",
     "text": [
      "\r",
      " 46%|█████████████████████████████████████                                           | 447/966 [03:10<04:14,  2.04it/s]"
     ]
    },
    {
     "name": "stdout",
     "output_type": "stream",
     "text": [
      "\n"
     ]
    },
    {
     "name": "stderr",
     "output_type": "stream",
     "text": [
      "\r",
      " 46%|█████████████████████████████████████                                           | 448/966 [03:10<04:04,  2.12it/s]"
     ]
    },
    {
     "name": "stdout",
     "output_type": "stream",
     "text": [
      "\n"
     ]
    },
    {
     "name": "stderr",
     "output_type": "stream",
     "text": [
      "\r",
      " 46%|█████████████████████████████████████▏                                          | 449/966 [03:11<04:06,  2.10it/s]"
     ]
    },
    {
     "name": "stdout",
     "output_type": "stream",
     "text": [
      "\n"
     ]
    },
    {
     "name": "stderr",
     "output_type": "stream",
     "text": [
      "\r",
      " 47%|█████████████████████████████████████▎                                          | 450/966 [03:11<04:05,  2.10it/s]"
     ]
    },
    {
     "name": "stdout",
     "output_type": "stream",
     "text": [
      "\n",
      "\n"
     ]
    },
    {
     "name": "stderr",
     "output_type": "stream",
     "text": [
      "\r",
      " 47%|█████████████████████████████████████▍                                          | 452/966 [03:12<03:33,  2.41it/s]"
     ]
    },
    {
     "name": "stdout",
     "output_type": "stream",
     "text": [
      "\n"
     ]
    },
    {
     "name": "stderr",
     "output_type": "stream",
     "text": [
      "\r",
      " 47%|█████████████████████████████████████▌                                          | 453/966 [03:12<03:41,  2.32it/s]"
     ]
    },
    {
     "name": "stdout",
     "output_type": "stream",
     "text": [
      "\n"
     ]
    },
    {
     "name": "stderr",
     "output_type": "stream",
     "text": [
      "\r",
      " 47%|█████████████████████████████████████▌                                          | 454/966 [03:13<03:49,  2.23it/s]"
     ]
    },
    {
     "name": "stdout",
     "output_type": "stream",
     "text": [
      "\n",
      "\n"
     ]
    },
    {
     "name": "stderr",
     "output_type": "stream",
     "text": [
      "\r",
      " 47%|█████████████████████████████████████▊                                          | 456/966 [03:13<03:16,  2.59it/s]"
     ]
    },
    {
     "name": "stdout",
     "output_type": "stream",
     "text": [
      "\n"
     ]
    },
    {
     "name": "stderr",
     "output_type": "stream",
     "text": [
      "\r",
      " 47%|█████████████████████████████████████▊                                          | 457/966 [03:14<03:21,  2.52it/s]"
     ]
    },
    {
     "name": "stdout",
     "output_type": "stream",
     "text": [
      "\n"
     ]
    },
    {
     "name": "stderr",
     "output_type": "stream",
     "text": [
      "\r",
      " 47%|█████████████████████████████████████▉                                          | 458/966 [03:14<03:28,  2.44it/s]"
     ]
    },
    {
     "name": "stdout",
     "output_type": "stream",
     "text": [
      "\n"
     ]
    },
    {
     "name": "stderr",
     "output_type": "stream",
     "text": [
      "\r",
      " 48%|██████████████████████████████████████                                          | 459/966 [03:15<03:36,  2.34it/s]"
     ]
    },
    {
     "name": "stdout",
     "output_type": "stream",
     "text": [
      "\n",
      "\n"
     ]
    },
    {
     "name": "stderr",
     "output_type": "stream",
     "text": [
      " 48%|██████████████████████████████████████▍                                         | 464/966 [03:15<02:19,  3.61it/s]"
     ]
    },
    {
     "name": "stdout",
     "output_type": "stream",
     "text": [
      "\n",
      "\n",
      "\n",
      "\n"
     ]
    },
    {
     "name": "stderr",
     "output_type": "stream",
     "text": [
      "\r",
      " 48%|██████████████████████████████████████▌                                         | 465/966 [03:16<02:46,  3.00it/s]"
     ]
    },
    {
     "name": "stdout",
     "output_type": "stream",
     "text": [
      "\n"
     ]
    },
    {
     "name": "stderr",
     "output_type": "stream",
     "text": [
      "\r",
      " 48%|██████████████████████████████████████▌                                         | 466/966 [03:16<03:02,  2.74it/s]"
     ]
    },
    {
     "name": "stdout",
     "output_type": "stream",
     "text": [
      "\n"
     ]
    },
    {
     "name": "stderr",
     "output_type": "stream",
     "text": [
      "\r",
      " 48%|██████████████████████████████████████▋                                         | 467/966 [03:17<03:19,  2.50it/s]"
     ]
    },
    {
     "name": "stdout",
     "output_type": "stream",
     "text": [
      "\n"
     ]
    },
    {
     "name": "stderr",
     "output_type": "stream",
     "text": [
      "\r",
      " 48%|██████████████████████████████████████▊                                         | 468/966 [03:17<03:26,  2.41it/s]"
     ]
    },
    {
     "name": "stdout",
     "output_type": "stream",
     "text": [
      "\n"
     ]
    },
    {
     "name": "stderr",
     "output_type": "stream",
     "text": [
      "\r",
      " 49%|██████████████████████████████████████▊                                         | 469/966 [03:18<03:34,  2.32it/s]"
     ]
    },
    {
     "name": "stdout",
     "output_type": "stream",
     "text": [
      "\n"
     ]
    },
    {
     "name": "stderr",
     "output_type": "stream",
     "text": [
      "\r",
      " 49%|██████████████████████████████████████▉                                         | 470/966 [03:18<03:33,  2.33it/s]"
     ]
    },
    {
     "name": "stdout",
     "output_type": "stream",
     "text": [
      "\n"
     ]
    },
    {
     "name": "stderr",
     "output_type": "stream",
     "text": [
      "\r",
      " 49%|███████████████████████████████████████                                         | 471/966 [03:19<03:37,  2.28it/s]"
     ]
    },
    {
     "name": "stdout",
     "output_type": "stream",
     "text": [
      "\n"
     ]
    },
    {
     "name": "stderr",
     "output_type": "stream",
     "text": [
      "\r",
      " 49%|███████████████████████████████████████                                         | 472/966 [03:19<03:46,  2.18it/s]"
     ]
    },
    {
     "name": "stdout",
     "output_type": "stream",
     "text": [
      "\n"
     ]
    },
    {
     "name": "stderr",
     "output_type": "stream",
     "text": [
      "\r",
      " 49%|███████████████████████████████████████▏                                        | 473/966 [03:19<03:42,  2.22it/s]"
     ]
    },
    {
     "name": "stdout",
     "output_type": "stream",
     "text": [
      "\n"
     ]
    },
    {
     "name": "stderr",
     "output_type": "stream",
     "text": [
      "\r",
      " 49%|███████████████████████████████████████▎                                        | 474/966 [03:20<03:43,  2.20it/s]"
     ]
    },
    {
     "name": "stdout",
     "output_type": "stream",
     "text": [
      "\n"
     ]
    },
    {
     "name": "stderr",
     "output_type": "stream",
     "text": [
      "\r",
      " 49%|███████████████████████████████████████▎                                        | 475/966 [03:20<03:42,  2.21it/s]"
     ]
    },
    {
     "name": "stdout",
     "output_type": "stream",
     "text": [
      "\n"
     ]
    },
    {
     "name": "stderr",
     "output_type": "stream",
     "text": [
      "\r",
      " 49%|███████████████████████████████████████▍                                        | 476/966 [03:21<03:48,  2.14it/s]"
     ]
    },
    {
     "name": "stdout",
     "output_type": "stream",
     "text": [
      "\n"
     ]
    },
    {
     "name": "stderr",
     "output_type": "stream",
     "text": [
      "\r",
      " 49%|███████████████████████████████████████▌                                        | 477/966 [03:21<03:45,  2.17it/s]"
     ]
    },
    {
     "name": "stdout",
     "output_type": "stream",
     "text": [
      "\n"
     ]
    },
    {
     "name": "stderr",
     "output_type": "stream",
     "text": [
      "\r",
      " 49%|███████████████████████████████████████▌                                        | 478/966 [03:22<03:46,  2.15it/s]"
     ]
    },
    {
     "name": "stdout",
     "output_type": "stream",
     "text": [
      "\n"
     ]
    },
    {
     "name": "stderr",
     "output_type": "stream",
     "text": [
      "\r",
      " 50%|███████████████████████████████████████▋                                        | 479/966 [03:22<03:44,  2.17it/s]"
     ]
    },
    {
     "name": "stdout",
     "output_type": "stream",
     "text": [
      "\n"
     ]
    },
    {
     "name": "stderr",
     "output_type": "stream",
     "text": [
      "\r",
      " 50%|███████████████████████████████████████▊                                        | 480/966 [03:23<03:51,  2.10it/s]"
     ]
    },
    {
     "name": "stdout",
     "output_type": "stream",
     "text": [
      "\n"
     ]
    },
    {
     "name": "stderr",
     "output_type": "stream",
     "text": [
      "\r",
      " 50%|███████████████████████████████████████▊                                        | 481/966 [03:23<03:43,  2.17it/s]"
     ]
    },
    {
     "name": "stdout",
     "output_type": "stream",
     "text": [
      "\n"
     ]
    },
    {
     "name": "stderr",
     "output_type": "stream",
     "text": [
      "\r",
      " 50%|███████████████████████████████████████▉                                        | 482/966 [03:24<03:43,  2.16it/s]"
     ]
    },
    {
     "name": "stdout",
     "output_type": "stream",
     "text": [
      "\n",
      "\n"
     ]
    },
    {
     "name": "stderr",
     "output_type": "stream",
     "text": [
      "\r",
      " 50%|████████████████████████████████████████                                        | 484/966 [03:24<03:15,  2.47it/s]"
     ]
    },
    {
     "name": "stdout",
     "output_type": "stream",
     "text": [
      "\n"
     ]
    },
    {
     "name": "stderr",
     "output_type": "stream",
     "text": [
      "\r",
      " 50%|████████████████████████████████████████▏                                       | 485/966 [03:25<03:25,  2.35it/s]"
     ]
    },
    {
     "name": "stdout",
     "output_type": "stream",
     "text": [
      "\n"
     ]
    },
    {
     "name": "stderr",
     "output_type": "stream",
     "text": [
      "\r",
      " 50%|████████████████████████████████████████▏                                       | 486/966 [03:25<03:33,  2.25it/s]"
     ]
    },
    {
     "name": "stdout",
     "output_type": "stream",
     "text": [
      "\n"
     ]
    },
    {
     "name": "stderr",
     "output_type": "stream",
     "text": [
      "\r",
      " 50%|████████████████████████████████████████▎                                       | 487/966 [03:26<03:40,  2.17it/s]"
     ]
    },
    {
     "name": "stdout",
     "output_type": "stream",
     "text": [
      "\n",
      "\n"
     ]
    },
    {
     "name": "stderr",
     "output_type": "stream",
     "text": [
      "\r",
      " 51%|████████████████████████████████████████▍                                       | 489/966 [03:26<03:08,  2.53it/s]"
     ]
    },
    {
     "name": "stdout",
     "output_type": "stream",
     "text": [
      "\n",
      "\n"
     ]
    },
    {
     "name": "stderr",
     "output_type": "stream",
     "text": [
      "\r",
      " 51%|████████████████████████████████████████▋                                       | 491/966 [03:27<02:48,  2.82it/s]"
     ]
    },
    {
     "name": "stdout",
     "output_type": "stream",
     "text": [
      "\n",
      "\n"
     ]
    },
    {
     "name": "stderr",
     "output_type": "stream",
     "text": [
      "\r",
      " 51%|████████████████████████████████████████▊                                       | 493/966 [03:27<02:36,  3.02it/s]"
     ]
    },
    {
     "name": "stdout",
     "output_type": "stream",
     "text": [
      "\n"
     ]
    },
    {
     "name": "stderr",
     "output_type": "stream",
     "text": [
      "\r",
      " 51%|████████████████████████████████████████▉                                       | 494/966 [03:28<02:59,  2.63it/s]"
     ]
    },
    {
     "name": "stdout",
     "output_type": "stream",
     "text": [
      "\n"
     ]
    },
    {
     "name": "stderr",
     "output_type": "stream",
     "text": [
      "\r",
      " 51%|████████████████████████████████████████▉                                       | 495/966 [03:28<03:16,  2.40it/s]"
     ]
    },
    {
     "name": "stdout",
     "output_type": "stream",
     "text": [
      "\n"
     ]
    },
    {
     "name": "stderr",
     "output_type": "stream",
     "text": [
      "\r",
      " 51%|█████████████████████████████████████████                                       | 496/966 [03:29<03:24,  2.30it/s]"
     ]
    },
    {
     "name": "stdout",
     "output_type": "stream",
     "text": [
      "\n"
     ]
    },
    {
     "name": "stderr",
     "output_type": "stream",
     "text": [
      "\r",
      " 51%|█████████████████████████████████████████▏                                      | 497/966 [03:29<03:32,  2.21it/s]"
     ]
    },
    {
     "name": "stdout",
     "output_type": "stream",
     "text": [
      "\n"
     ]
    },
    {
     "name": "stderr",
     "output_type": "stream",
     "text": [
      "\r",
      " 52%|█████████████████████████████████████████▏                                      | 498/966 [03:30<03:49,  2.04it/s]"
     ]
    },
    {
     "name": "stdout",
     "output_type": "stream",
     "text": [
      "\n"
     ]
    },
    {
     "name": "stderr",
     "output_type": "stream",
     "text": [
      "\r",
      " 52%|█████████████████████████████████████████▎                                      | 499/966 [03:30<04:07,  1.89it/s]"
     ]
    },
    {
     "name": "stdout",
     "output_type": "stream",
     "text": [
      "\n"
     ]
    },
    {
     "name": "stderr",
     "output_type": "stream",
     "text": [
      "\r",
      " 52%|█████████████████████████████████████████▍                                      | 500/966 [03:31<04:07,  1.89it/s]"
     ]
    },
    {
     "name": "stdout",
     "output_type": "stream",
     "text": [
      "\n",
      "\n"
     ]
    },
    {
     "name": "stderr",
     "output_type": "stream",
     "text": [
      "\r",
      " 52%|█████████████████████████████████████████▌                                      | 502/966 [03:31<03:28,  2.22it/s]"
     ]
    },
    {
     "name": "stdout",
     "output_type": "stream",
     "text": [
      "\n"
     ]
    },
    {
     "name": "stderr",
     "output_type": "stream",
     "text": [
      "\r",
      " 52%|█████████████████████████████████████████▋                                      | 503/966 [03:32<03:40,  2.10it/s]"
     ]
    },
    {
     "name": "stdout",
     "output_type": "stream",
     "text": [
      "\n"
     ]
    },
    {
     "name": "stderr",
     "output_type": "stream",
     "text": [
      "\r",
      " 52%|█████████████████████████████████████████▋                                      | 504/966 [03:32<03:33,  2.17it/s]"
     ]
    },
    {
     "name": "stdout",
     "output_type": "stream",
     "text": [
      "\n"
     ]
    },
    {
     "name": "stderr",
     "output_type": "stream",
     "text": [
      "\r",
      " 52%|█████████████████████████████████████████▊                                      | 505/966 [03:33<03:28,  2.21it/s]"
     ]
    },
    {
     "name": "stdout",
     "output_type": "stream",
     "text": [
      "\n"
     ]
    },
    {
     "name": "stderr",
     "output_type": "stream",
     "text": [
      "\r",
      " 52%|█████████████████████████████████████████▉                                      | 506/966 [03:33<03:25,  2.24it/s]"
     ]
    },
    {
     "name": "stdout",
     "output_type": "stream",
     "text": [
      "\n"
     ]
    },
    {
     "name": "stderr",
     "output_type": "stream",
     "text": [
      "\r",
      " 52%|█████████████████████████████████████████▉                                      | 507/966 [03:34<03:28,  2.20it/s]"
     ]
    },
    {
     "name": "stdout",
     "output_type": "stream",
     "text": [
      "\n"
     ]
    },
    {
     "name": "stderr",
     "output_type": "stream",
     "text": [
      "\r",
      " 53%|██████████████████████████████████████████                                      | 508/966 [03:34<03:31,  2.17it/s]"
     ]
    },
    {
     "name": "stdout",
     "output_type": "stream",
     "text": [
      "\n"
     ]
    },
    {
     "name": "stderr",
     "output_type": "stream",
     "text": [
      "\r",
      " 53%|██████████████████████████████████████████▏                                     | 509/966 [03:35<03:31,  2.16it/s]"
     ]
    },
    {
     "name": "stdout",
     "output_type": "stream",
     "text": [
      "\n"
     ]
    },
    {
     "name": "stderr",
     "output_type": "stream",
     "text": [
      "\r",
      " 53%|██████████████████████████████████████████▏                                     | 510/966 [03:35<03:32,  2.14it/s]"
     ]
    },
    {
     "name": "stdout",
     "output_type": "stream",
     "text": [
      "\n",
      "\n"
     ]
    },
    {
     "name": "stderr",
     "output_type": "stream",
     "text": [
      "\r",
      " 53%|██████████████████████████████████████████▍                                     | 512/966 [03:36<03:05,  2.45it/s]"
     ]
    },
    {
     "name": "stdout",
     "output_type": "stream",
     "text": [
      "\n"
     ]
    },
    {
     "name": "stderr",
     "output_type": "stream",
     "text": [
      "\r",
      " 53%|██████████████████████████████████████████▍                                     | 513/966 [03:36<03:12,  2.35it/s]"
     ]
    },
    {
     "name": "stdout",
     "output_type": "stream",
     "text": [
      "\n"
     ]
    },
    {
     "name": "stderr",
     "output_type": "stream",
     "text": [
      "\r",
      " 53%|██████████████████████████████████████████▌                                     | 514/966 [03:37<03:42,  2.03it/s]"
     ]
    },
    {
     "name": "stdout",
     "output_type": "stream",
     "text": [
      "\n"
     ]
    },
    {
     "name": "stderr",
     "output_type": "stream",
     "text": [
      "\r",
      " 53%|██████████████████████████████████████████▋                                     | 515/966 [03:37<03:37,  2.07it/s]"
     ]
    },
    {
     "name": "stdout",
     "output_type": "stream",
     "text": [
      "\n"
     ]
    },
    {
     "name": "stderr",
     "output_type": "stream",
     "text": [
      "\r",
      " 53%|██████████████████████████████████████████▋                                     | 516/966 [03:38<03:35,  2.09it/s]"
     ]
    },
    {
     "name": "stdout",
     "output_type": "stream",
     "text": [
      "\n"
     ]
    },
    {
     "name": "stderr",
     "output_type": "stream",
     "text": [
      "\r",
      " 54%|██████████████████████████████████████████▊                                     | 517/966 [03:38<03:30,  2.13it/s]"
     ]
    },
    {
     "name": "stdout",
     "output_type": "stream",
     "text": [
      "\n"
     ]
    },
    {
     "name": "stderr",
     "output_type": "stream",
     "text": [
      "\r",
      " 54%|██████████████████████████████████████████▉                                     | 518/966 [03:39<03:36,  2.07it/s]"
     ]
    },
    {
     "name": "stdout",
     "output_type": "stream",
     "text": [
      "\n"
     ]
    },
    {
     "name": "stderr",
     "output_type": "stream",
     "text": [
      "\r",
      " 54%|██████████████████████████████████████████▉                                     | 519/966 [03:39<03:29,  2.14it/s]"
     ]
    },
    {
     "name": "stdout",
     "output_type": "stream",
     "text": [
      "\n"
     ]
    },
    {
     "name": "stderr",
     "output_type": "stream",
     "text": [
      "\r",
      " 54%|███████████████████████████████████████████                                     | 520/966 [03:40<03:24,  2.18it/s]"
     ]
    },
    {
     "name": "stdout",
     "output_type": "stream",
     "text": [
      "\n"
     ]
    },
    {
     "name": "stderr",
     "output_type": "stream",
     "text": [
      "\r",
      " 54%|███████████████████████████████████████████▏                                    | 521/966 [03:40<03:22,  2.20it/s]"
     ]
    },
    {
     "name": "stdout",
     "output_type": "stream",
     "text": [
      "\n"
     ]
    },
    {
     "name": "stderr",
     "output_type": "stream",
     "text": [
      "\r",
      " 54%|███████████████████████████████████████████▏                                    | 522/966 [03:41<03:24,  2.17it/s]"
     ]
    },
    {
     "name": "stdout",
     "output_type": "stream",
     "text": [
      "\n"
     ]
    },
    {
     "name": "stderr",
     "output_type": "stream",
     "text": [
      "\r",
      " 54%|███████████████████████████████████████████▎                                    | 523/966 [03:41<03:29,  2.11it/s]"
     ]
    },
    {
     "name": "stdout",
     "output_type": "stream",
     "text": [
      "\n"
     ]
    },
    {
     "name": "stderr",
     "output_type": "stream",
     "text": [
      "\r",
      " 54%|███████████████████████████████████████████▍                                    | 524/966 [03:42<03:30,  2.10it/s]"
     ]
    },
    {
     "name": "stdout",
     "output_type": "stream",
     "text": [
      "\n"
     ]
    },
    {
     "name": "stderr",
     "output_type": "stream",
     "text": [
      "\r",
      " 54%|███████████████████████████████████████████▍                                    | 525/966 [03:42<03:37,  2.03it/s]"
     ]
    },
    {
     "name": "stdout",
     "output_type": "stream",
     "text": [
      "\n"
     ]
    },
    {
     "name": "stderr",
     "output_type": "stream",
     "text": [
      "\r",
      " 54%|███████████████████████████████████████████▌                                    | 526/966 [03:43<03:37,  2.02it/s]"
     ]
    },
    {
     "name": "stdout",
     "output_type": "stream",
     "text": [
      "\n"
     ]
    },
    {
     "name": "stderr",
     "output_type": "stream",
     "text": [
      "\r",
      " 55%|███████████████████████████████████████████▋                                    | 527/966 [03:43<03:46,  1.94it/s]"
     ]
    },
    {
     "name": "stdout",
     "output_type": "stream",
     "text": [
      "\n",
      "\n"
     ]
    },
    {
     "name": "stderr",
     "output_type": "stream",
     "text": [
      "\r",
      " 55%|███████████████████████████████████████████▊                                    | 529/966 [03:44<03:13,  2.26it/s]"
     ]
    },
    {
     "name": "stdout",
     "output_type": "stream",
     "text": [
      "\n"
     ]
    },
    {
     "name": "stderr",
     "output_type": "stream",
     "text": [
      "\r",
      " 55%|███████████████████████████████████████████▉                                    | 530/966 [03:44<03:15,  2.23it/s]"
     ]
    },
    {
     "name": "stdout",
     "output_type": "stream",
     "text": [
      "\n"
     ]
    },
    {
     "name": "stderr",
     "output_type": "stream",
     "text": [
      "\r",
      " 55%|███████████████████████████████████████████▉                                    | 531/966 [03:45<03:23,  2.13it/s]"
     ]
    },
    {
     "name": "stdout",
     "output_type": "stream",
     "text": [
      "\n"
     ]
    },
    {
     "name": "stderr",
     "output_type": "stream",
     "text": [
      "\r",
      " 55%|████████████████████████████████████████████                                    | 532/966 [03:45<03:27,  2.09it/s]"
     ]
    },
    {
     "name": "stdout",
     "output_type": "stream",
     "text": [
      "\n"
     ]
    },
    {
     "name": "stderr",
     "output_type": "stream",
     "text": [
      "\r",
      " 55%|████████████████████████████████████████████▏                                   | 533/966 [03:46<03:22,  2.14it/s]"
     ]
    },
    {
     "name": "stdout",
     "output_type": "stream",
     "text": [
      "\n"
     ]
    },
    {
     "name": "stderr",
     "output_type": "stream",
     "text": [
      "\r",
      " 55%|████████████████████████████████████████████▏                                   | 534/966 [03:46<03:18,  2.17it/s]"
     ]
    },
    {
     "name": "stdout",
     "output_type": "stream",
     "text": [
      "\n"
     ]
    },
    {
     "name": "stderr",
     "output_type": "stream",
     "text": [
      "\r",
      " 55%|████████████████████████████████████████████▎                                   | 535/966 [03:46<03:16,  2.20it/s]"
     ]
    },
    {
     "name": "stdout",
     "output_type": "stream",
     "text": [
      "\n"
     ]
    },
    {
     "name": "stderr",
     "output_type": "stream",
     "text": [
      "\r",
      " 55%|████████████████████████████████████████████▍                                   | 536/966 [03:47<03:22,  2.13it/s]"
     ]
    },
    {
     "name": "stdout",
     "output_type": "stream",
     "text": [
      "\n"
     ]
    },
    {
     "name": "stderr",
     "output_type": "stream",
     "text": [
      "\r",
      " 56%|████████████████████████████████████████████▍                                   | 537/966 [03:47<03:21,  2.13it/s]"
     ]
    },
    {
     "name": "stdout",
     "output_type": "stream",
     "text": [
      "\n"
     ]
    },
    {
     "name": "stderr",
     "output_type": "stream",
     "text": [
      "\r",
      " 56%|████████████████████████████████████████████▌                                   | 538/966 [03:48<03:28,  2.05it/s]"
     ]
    },
    {
     "name": "stdout",
     "output_type": "stream",
     "text": [
      "\n"
     ]
    },
    {
     "name": "stderr",
     "output_type": "stream",
     "text": [
      "\r",
      " 56%|████████████████████████████████████████████▋                                   | 539/966 [03:48<03:23,  2.10it/s]"
     ]
    },
    {
     "name": "stdout",
     "output_type": "stream",
     "text": [
      "\n",
      "\n"
     ]
    },
    {
     "name": "stderr",
     "output_type": "stream",
     "text": [
      "\r",
      " 56%|████████████████████████████████████████████▊                                   | 541/966 [03:49<02:56,  2.41it/s]"
     ]
    },
    {
     "name": "stdout",
     "output_type": "stream",
     "text": [
      "\n"
     ]
    },
    {
     "name": "stderr",
     "output_type": "stream",
     "text": [
      "\r",
      " 56%|████████████████████████████████████████████▉                                   | 542/966 [03:49<03:01,  2.34it/s]"
     ]
    },
    {
     "name": "stdout",
     "output_type": "stream",
     "text": [
      "\n",
      "\n"
     ]
    },
    {
     "name": "stderr",
     "output_type": "stream",
     "text": [
      "\r",
      " 56%|█████████████████████████████████████████████                                   | 544/966 [03:50<02:38,  2.66it/s]"
     ]
    },
    {
     "name": "stdout",
     "output_type": "stream",
     "text": [
      "\n"
     ]
    },
    {
     "name": "stderr",
     "output_type": "stream",
     "text": [
      "\r",
      " 56%|█████████████████████████████████████████████▏                                  | 545/966 [03:50<02:54,  2.42it/s]"
     ]
    },
    {
     "name": "stdout",
     "output_type": "stream",
     "text": [
      "\n",
      "\n"
     ]
    },
    {
     "name": "stderr",
     "output_type": "stream",
     "text": [
      "\r",
      " 57%|█████████████████████████████████████████████▎                                  | 547/966 [03:51<02:33,  2.74it/s]"
     ]
    },
    {
     "name": "stdout",
     "output_type": "stream",
     "text": [
      "\n",
      "\n"
     ]
    },
    {
     "name": "stderr",
     "output_type": "stream",
     "text": [
      "\r",
      " 57%|█████████████████████████████████████████████▍                                  | 549/966 [03:51<02:19,  2.99it/s]"
     ]
    },
    {
     "name": "stdout",
     "output_type": "stream",
     "text": [
      "\n"
     ]
    },
    {
     "name": "stderr",
     "output_type": "stream",
     "text": [
      "\r",
      " 57%|█████████████████████████████████████████████▌                                  | 550/966 [03:52<02:37,  2.64it/s]"
     ]
    },
    {
     "name": "stdout",
     "output_type": "stream",
     "text": [
      "\n"
     ]
    },
    {
     "name": "stderr",
     "output_type": "stream",
     "text": [
      "\r",
      " 57%|█████████████████████████████████████████████▋                                  | 551/966 [03:52<02:45,  2.51it/s]"
     ]
    },
    {
     "name": "stdout",
     "output_type": "stream",
     "text": [
      "\n"
     ]
    },
    {
     "name": "stderr",
     "output_type": "stream",
     "text": [
      "\r",
      " 57%|█████████████████████████████████████████████▋                                  | 552/966 [03:53<02:59,  2.30it/s]"
     ]
    },
    {
     "name": "stdout",
     "output_type": "stream",
     "text": [
      "\n",
      "\n"
     ]
    },
    {
     "name": "stderr",
     "output_type": "stream",
     "text": [
      "\r",
      " 57%|█████████████████████████████████████████████▉                                  | 554/966 [03:53<02:38,  2.60it/s]"
     ]
    },
    {
     "name": "stdout",
     "output_type": "stream",
     "text": [
      "\n"
     ]
    },
    {
     "name": "stderr",
     "output_type": "stream",
     "text": [
      "\r",
      " 57%|█████████████████████████████████████████████▉                                  | 555/966 [03:54<02:48,  2.43it/s]"
     ]
    },
    {
     "name": "stdout",
     "output_type": "stream",
     "text": [
      "\n"
     ]
    },
    {
     "name": "stderr",
     "output_type": "stream",
     "text": [
      "\r",
      " 58%|██████████████████████████████████████████████                                  | 556/966 [03:54<02:56,  2.33it/s]"
     ]
    },
    {
     "name": "stdout",
     "output_type": "stream",
     "text": [
      "\n"
     ]
    },
    {
     "name": "stderr",
     "output_type": "stream",
     "text": [
      "\r",
      " 58%|██████████████████████████████████████████████▏                                 | 557/966 [03:55<03:14,  2.11it/s]"
     ]
    },
    {
     "name": "stdout",
     "output_type": "stream",
     "text": [
      "\n"
     ]
    },
    {
     "name": "stderr",
     "output_type": "stream",
     "text": [
      "\r",
      " 58%|██████████████████████████████████████████████▏                                 | 558/966 [03:56<03:23,  2.00it/s]"
     ]
    },
    {
     "name": "stdout",
     "output_type": "stream",
     "text": [
      "\n",
      "\n"
     ]
    },
    {
     "name": "stderr",
     "output_type": "stream",
     "text": [
      "\r",
      " 58%|██████████████████████████████████████████████▍                                 | 560/966 [03:56<03:01,  2.24it/s]"
     ]
    },
    {
     "name": "stdout",
     "output_type": "stream",
     "text": [
      "\n"
     ]
    },
    {
     "name": "stderr",
     "output_type": "stream",
     "text": [
      "\r",
      " 58%|██████████████████████████████████████████████▍                                 | 561/966 [03:57<03:08,  2.15it/s]"
     ]
    },
    {
     "name": "stdout",
     "output_type": "stream",
     "text": [
      "\n"
     ]
    },
    {
     "name": "stderr",
     "output_type": "stream",
     "text": [
      "\r",
      " 58%|██████████████████████████████████████████████▌                                 | 562/966 [03:57<03:22,  1.99it/s]"
     ]
    },
    {
     "name": "stdout",
     "output_type": "stream",
     "text": [
      "\n"
     ]
    },
    {
     "name": "stderr",
     "output_type": "stream",
     "text": [
      "\r",
      " 58%|██████████████████████████████████████████████▋                                 | 563/966 [03:58<03:21,  2.00it/s]"
     ]
    },
    {
     "name": "stdout",
     "output_type": "stream",
     "text": [
      "\n"
     ]
    },
    {
     "name": "stderr",
     "output_type": "stream",
     "text": [
      "\r",
      " 58%|██████████████████████████████████████████████▋                                 | 564/966 [03:58<03:13,  2.08it/s]"
     ]
    },
    {
     "name": "stdout",
     "output_type": "stream",
     "text": [
      "\n"
     ]
    },
    {
     "name": "stderr",
     "output_type": "stream",
     "text": [
      "\r",
      " 58%|██████████████████████████████████████████████▊                                 | 565/966 [03:59<03:11,  2.09it/s]"
     ]
    },
    {
     "name": "stdout",
     "output_type": "stream",
     "text": [
      "\n"
     ]
    },
    {
     "name": "stderr",
     "output_type": "stream",
     "text": [
      "\r",
      " 59%|██████████████████████████████████████████████▊                                 | 566/966 [03:59<03:07,  2.13it/s]"
     ]
    },
    {
     "name": "stdout",
     "output_type": "stream",
     "text": [
      "\n"
     ]
    },
    {
     "name": "stderr",
     "output_type": "stream",
     "text": [
      "\r",
      " 59%|██████████████████████████████████████████████▉                                 | 567/966 [04:00<03:10,  2.09it/s]"
     ]
    },
    {
     "name": "stdout",
     "output_type": "stream",
     "text": [
      "\n"
     ]
    },
    {
     "name": "stderr",
     "output_type": "stream",
     "text": [
      "\r",
      " 59%|███████████████████████████████████████████████                                 | 568/966 [04:00<03:06,  2.14it/s]"
     ]
    },
    {
     "name": "stdout",
     "output_type": "stream",
     "text": [
      "\n"
     ]
    },
    {
     "name": "stderr",
     "output_type": "stream",
     "text": [
      "\r",
      " 59%|███████████████████████████████████████████████                                 | 569/966 [04:01<03:04,  2.15it/s]"
     ]
    },
    {
     "name": "stdout",
     "output_type": "stream",
     "text": [
      "\n"
     ]
    },
    {
     "name": "stderr",
     "output_type": "stream",
     "text": [
      "\r",
      " 59%|███████████████████████████████████████████████▏                                | 570/966 [04:01<03:06,  2.12it/s]"
     ]
    },
    {
     "name": "stdout",
     "output_type": "stream",
     "text": [
      "\n"
     ]
    },
    {
     "name": "stderr",
     "output_type": "stream",
     "text": [
      "\r",
      " 59%|███████████████████████████████████████████████▎                                | 571/966 [04:01<02:57,  2.23it/s]"
     ]
    },
    {
     "name": "stdout",
     "output_type": "stream",
     "text": [
      "\n",
      "\n"
     ]
    },
    {
     "name": "stderr",
     "output_type": "stream",
     "text": [
      "\r",
      " 59%|███████████████████████████████████████████████▍                                | 573/966 [04:02<02:34,  2.54it/s]"
     ]
    },
    {
     "name": "stdout",
     "output_type": "stream",
     "text": [
      "\n"
     ]
    },
    {
     "name": "stderr",
     "output_type": "stream",
     "text": [
      "\r",
      " 59%|███████████████████████████████████████████████▌                                | 574/966 [04:02<02:44,  2.39it/s]"
     ]
    },
    {
     "name": "stdout",
     "output_type": "stream",
     "text": [
      "\n",
      "\n"
     ]
    },
    {
     "name": "stderr",
     "output_type": "stream",
     "text": [
      "\r",
      " 60%|███████████████████████████████████████████████▋                                | 576/966 [04:04<03:03,  2.12it/s]"
     ]
    },
    {
     "name": "stdout",
     "output_type": "stream",
     "text": [
      "\n"
     ]
    },
    {
     "name": "stderr",
     "output_type": "stream",
     "text": [
      "\r",
      " 60%|███████████████████████████████████████████████▊                                | 577/966 [04:04<03:09,  2.05it/s]"
     ]
    },
    {
     "name": "stdout",
     "output_type": "stream",
     "text": [
      "\n"
     ]
    },
    {
     "name": "stderr",
     "output_type": "stream",
     "text": [
      "\r",
      " 60%|███████████████████████████████████████████████▊                                | 578/966 [04:05<03:06,  2.08it/s]"
     ]
    },
    {
     "name": "stdout",
     "output_type": "stream",
     "text": [
      "\n"
     ]
    },
    {
     "name": "stderr",
     "output_type": "stream",
     "text": [
      "\r",
      " 60%|███████████████████████████████████████████████▉                                | 579/966 [04:05<03:17,  1.96it/s]"
     ]
    },
    {
     "name": "stdout",
     "output_type": "stream",
     "text": [
      "\n"
     ]
    },
    {
     "name": "stderr",
     "output_type": "stream",
     "text": [
      "\r",
      " 60%|████████████████████████████████████████████████                                | 580/966 [04:06<03:13,  1.99it/s]"
     ]
    },
    {
     "name": "stdout",
     "output_type": "stream",
     "text": [
      "\n"
     ]
    },
    {
     "name": "stderr",
     "output_type": "stream",
     "text": [
      "\r",
      " 60%|████████████████████████████████████████████████                                | 581/966 [04:06<03:16,  1.96it/s]"
     ]
    },
    {
     "name": "stdout",
     "output_type": "stream",
     "text": [
      "\n"
     ]
    },
    {
     "name": "stderr",
     "output_type": "stream",
     "text": [
      "\r",
      " 60%|████████████████████████████████████████████████▏                               | 582/966 [04:07<03:11,  2.01it/s]"
     ]
    },
    {
     "name": "stdout",
     "output_type": "stream",
     "text": [
      "\n"
     ]
    },
    {
     "name": "stderr",
     "output_type": "stream",
     "text": [
      "\r",
      " 60%|████████████████████████████████████████████████▎                               | 583/966 [04:07<03:05,  2.06it/s]"
     ]
    },
    {
     "name": "stdout",
     "output_type": "stream",
     "text": [
      "\n"
     ]
    },
    {
     "name": "stderr",
     "output_type": "stream",
     "text": [
      "\r",
      " 60%|████████████████████████████████████████████████▎                               | 584/966 [04:08<03:10,  2.01it/s]"
     ]
    },
    {
     "name": "stdout",
     "output_type": "stream",
     "text": [
      "\n"
     ]
    },
    {
     "name": "stderr",
     "output_type": "stream",
     "text": [
      "\r",
      " 61%|████████████████████████████████████████████████▍                               | 585/966 [04:08<03:04,  2.06it/s]"
     ]
    },
    {
     "name": "stdout",
     "output_type": "stream",
     "text": [
      "\n"
     ]
    },
    {
     "name": "stderr",
     "output_type": "stream",
     "text": [
      "\r",
      " 61%|████████████████████████████████████████████████▌                               | 586/966 [04:09<03:05,  2.05it/s]"
     ]
    },
    {
     "name": "stdout",
     "output_type": "stream",
     "text": [
      "\n"
     ]
    },
    {
     "name": "stderr",
     "output_type": "stream",
     "text": [
      "\r",
      " 61%|████████████████████████████████████████████████▌                               | 587/966 [04:09<03:02,  2.07it/s]"
     ]
    },
    {
     "name": "stdout",
     "output_type": "stream",
     "text": [
      "\n"
     ]
    },
    {
     "name": "stderr",
     "output_type": "stream",
     "text": [
      " 61%|████████████████████████████████████████████████▊                               | 590/966 [04:10<02:13,  2.81it/s]"
     ]
    },
    {
     "name": "stdout",
     "output_type": "stream",
     "text": [
      "\n",
      "\n",
      "\n"
     ]
    },
    {
     "name": "stderr",
     "output_type": "stream",
     "text": [
      "\r",
      " 61%|████████████████████████████████████████████████▉                               | 591/966 [04:10<02:26,  2.56it/s]"
     ]
    },
    {
     "name": "stdout",
     "output_type": "stream",
     "text": [
      "\n"
     ]
    },
    {
     "name": "stderr",
     "output_type": "stream",
     "text": [
      "\r",
      " 61%|█████████████████████████████████████████████████                               | 592/966 [04:11<02:42,  2.31it/s]"
     ]
    },
    {
     "name": "stdout",
     "output_type": "stream",
     "text": [
      "\n"
     ]
    },
    {
     "name": "stderr",
     "output_type": "stream",
     "text": [
      "\r",
      " 61%|█████████████████████████████████████████████████                               | 593/966 [04:11<02:45,  2.25it/s]"
     ]
    },
    {
     "name": "stdout",
     "output_type": "stream",
     "text": [
      "\n"
     ]
    },
    {
     "name": "stderr",
     "output_type": "stream",
     "text": [
      "\r",
      " 61%|█████████████████████████████████████████████████▏                              | 594/966 [04:12<02:50,  2.18it/s]"
     ]
    },
    {
     "name": "stdout",
     "output_type": "stream",
     "text": [
      "\n"
     ]
    },
    {
     "name": "stderr",
     "output_type": "stream",
     "text": [
      "\r",
      " 62%|█████████████████████████████████████████████████▎                              | 595/966 [04:12<02:52,  2.15it/s]"
     ]
    },
    {
     "name": "stdout",
     "output_type": "stream",
     "text": [
      "\n",
      "\n",
      "\n"
     ]
    },
    {
     "name": "stderr",
     "output_type": "stream",
     "text": [
      "\r",
      " 62%|█████████████████████████████████████████████████▌                              | 598/966 [04:13<02:22,  2.59it/s]"
     ]
    },
    {
     "name": "stdout",
     "output_type": "stream",
     "text": [
      "\n"
     ]
    },
    {
     "name": "stderr",
     "output_type": "stream",
     "text": [
      "\r",
      " 62%|█████████████████████████████████████████████████▌                              | 599/966 [04:13<02:31,  2.42it/s]"
     ]
    },
    {
     "name": "stdout",
     "output_type": "stream",
     "text": [
      "\n"
     ]
    },
    {
     "name": "stderr",
     "output_type": "stream",
     "text": [
      "\r",
      " 62%|█████████████████████████████████████████████████▋                              | 600/966 [04:14<02:40,  2.27it/s]"
     ]
    },
    {
     "name": "stdout",
     "output_type": "stream",
     "text": [
      "\n"
     ]
    },
    {
     "name": "stderr",
     "output_type": "stream",
     "text": [
      "\r",
      " 62%|█████████████████████████████████████████████████▊                              | 601/966 [04:14<02:45,  2.21it/s]"
     ]
    },
    {
     "name": "stdout",
     "output_type": "stream",
     "text": [
      "\n"
     ]
    },
    {
     "name": "stderr",
     "output_type": "stream",
     "text": [
      "\r",
      " 62%|█████████████████████████████████████████████████▊                              | 602/966 [04:15<02:47,  2.17it/s]"
     ]
    },
    {
     "name": "stdout",
     "output_type": "stream",
     "text": [
      "\n"
     ]
    },
    {
     "name": "stderr",
     "output_type": "stream",
     "text": [
      "\r",
      " 62%|█████████████████████████████████████████████████▉                              | 603/966 [04:15<02:46,  2.18it/s]"
     ]
    },
    {
     "name": "stdout",
     "output_type": "stream",
     "text": [
      "\n"
     ]
    },
    {
     "name": "stderr",
     "output_type": "stream",
     "text": [
      "\r",
      " 63%|██████████████████████████████████████████████████                              | 604/966 [04:16<02:51,  2.11it/s]"
     ]
    },
    {
     "name": "stdout",
     "output_type": "stream",
     "text": [
      "\n",
      "\n"
     ]
    },
    {
     "name": "stderr",
     "output_type": "stream",
     "text": [
      "\r",
      " 63%|██████████████████████████████████████████████████▏                             | 606/966 [04:16<02:26,  2.46it/s]"
     ]
    },
    {
     "name": "stdout",
     "output_type": "stream",
     "text": [
      "\n"
     ]
    },
    {
     "name": "stderr",
     "output_type": "stream",
     "text": [
      "\r",
      " 63%|██████████████████████████████████████████████████▎                             | 607/966 [04:17<02:40,  2.23it/s]"
     ]
    },
    {
     "name": "stdout",
     "output_type": "stream",
     "text": [
      "\n"
     ]
    },
    {
     "name": "stderr",
     "output_type": "stream",
     "text": [
      "\r",
      " 63%|██████████████████████████████████████████████████▎                             | 608/966 [04:17<02:41,  2.22it/s]"
     ]
    },
    {
     "name": "stdout",
     "output_type": "stream",
     "text": [
      "\n"
     ]
    },
    {
     "name": "stderr",
     "output_type": "stream",
     "text": [
      "\r",
      " 63%|██████████████████████████████████████████████████▍                             | 609/966 [04:18<02:38,  2.26it/s]"
     ]
    },
    {
     "name": "stdout",
     "output_type": "stream",
     "text": [
      "\n"
     ]
    },
    {
     "name": "stderr",
     "output_type": "stream",
     "text": [
      "\r",
      " 63%|██████████████████████████████████████████████████▌                             | 610/966 [04:18<02:35,  2.28it/s]"
     ]
    },
    {
     "name": "stdout",
     "output_type": "stream",
     "text": [
      "\n"
     ]
    },
    {
     "name": "stderr",
     "output_type": "stream",
     "text": [
      "\r",
      " 63%|██████████████████████████████████████████████████▌                             | 611/966 [04:18<02:42,  2.19it/s]"
     ]
    },
    {
     "name": "stdout",
     "output_type": "stream",
     "text": [
      "\n"
     ]
    },
    {
     "name": "stderr",
     "output_type": "stream",
     "text": [
      "\r",
      " 63%|██████████████████████████████████████████████████▋                             | 612/966 [04:19<02:43,  2.16it/s]"
     ]
    },
    {
     "name": "stdout",
     "output_type": "stream",
     "text": [
      "\n",
      "\n"
     ]
    },
    {
     "name": "stderr",
     "output_type": "stream",
     "text": [
      "\r",
      " 64%|██████████████████████████████████████████████████▊                             | 614/966 [04:19<02:21,  2.48it/s]"
     ]
    },
    {
     "name": "stdout",
     "output_type": "stream",
     "text": [
      "\n"
     ]
    },
    {
     "name": "stderr",
     "output_type": "stream",
     "text": [
      "\r",
      " 64%|██████████████████████████████████████████████████▉                             | 615/966 [04:20<02:28,  2.36it/s]"
     ]
    },
    {
     "name": "stdout",
     "output_type": "stream",
     "text": [
      "\n"
     ]
    },
    {
     "name": "stderr",
     "output_type": "stream",
     "text": [
      "\r",
      " 64%|███████████████████████████████████████████████████                             | 616/966 [04:20<02:33,  2.29it/s]"
     ]
    },
    {
     "name": "stdout",
     "output_type": "stream",
     "text": [
      "\n"
     ]
    },
    {
     "name": "stderr",
     "output_type": "stream",
     "text": [
      "\r",
      " 64%|███████████████████████████████████████████████████                             | 617/966 [04:21<02:40,  2.18it/s]"
     ]
    },
    {
     "name": "stdout",
     "output_type": "stream",
     "text": [
      "\n"
     ]
    },
    {
     "name": "stderr",
     "output_type": "stream",
     "text": [
      "\r",
      " 64%|███████████████████████████████████████████████████▏                            | 618/966 [04:21<02:39,  2.18it/s]"
     ]
    },
    {
     "name": "stdout",
     "output_type": "stream",
     "text": [
      "\n"
     ]
    },
    {
     "name": "stderr",
     "output_type": "stream",
     "text": [
      "\r",
      " 64%|███████████████████████████████████████████████████▎                            | 619/966 [04:22<02:42,  2.14it/s]"
     ]
    },
    {
     "name": "stdout",
     "output_type": "stream",
     "text": [
      "\n"
     ]
    },
    {
     "name": "stderr",
     "output_type": "stream",
     "text": [
      "\r",
      " 64%|███████████████████████████████████████████████████▎                            | 620/966 [04:22<02:46,  2.07it/s]"
     ]
    },
    {
     "name": "stdout",
     "output_type": "stream",
     "text": [
      "\n"
     ]
    },
    {
     "name": "stderr",
     "output_type": "stream",
     "text": [
      "\r",
      " 64%|███████████████████████████████████████████████████▍                            | 621/966 [04:23<02:45,  2.09it/s]"
     ]
    },
    {
     "name": "stdout",
     "output_type": "stream",
     "text": [
      "\n"
     ]
    },
    {
     "name": "stderr",
     "output_type": "stream",
     "text": [
      "\r",
      " 64%|███████████████████████████████████████████████████▌                            | 622/966 [04:23<02:47,  2.05it/s]"
     ]
    },
    {
     "name": "stdout",
     "output_type": "stream",
     "text": [
      "\n"
     ]
    },
    {
     "name": "stderr",
     "output_type": "stream",
     "text": [
      "\r",
      " 64%|███████████████████████████████████████████████████▌                            | 623/966 [04:24<02:45,  2.07it/s]"
     ]
    },
    {
     "name": "stdout",
     "output_type": "stream",
     "text": [
      "\n"
     ]
    },
    {
     "name": "stderr",
     "output_type": "stream",
     "text": [
      "\r",
      " 65%|███████████████████████████████████████████████████▋                            | 624/966 [04:24<02:43,  2.09it/s]"
     ]
    },
    {
     "name": "stdout",
     "output_type": "stream",
     "text": [
      "\n"
     ]
    },
    {
     "name": "stderr",
     "output_type": "stream",
     "text": [
      "\r",
      " 65%|███████████████████████████████████████████████████▊                            | 625/966 [04:25<02:46,  2.04it/s]"
     ]
    },
    {
     "name": "stdout",
     "output_type": "stream",
     "text": [
      "\n"
     ]
    },
    {
     "name": "stderr",
     "output_type": "stream",
     "text": [
      " 65%|████████████████████████████████████████████████████                            | 628/966 [04:25<02:02,  2.76it/s]"
     ]
    },
    {
     "name": "stdout",
     "output_type": "stream",
     "text": [
      "\n",
      "\n",
      "\n"
     ]
    },
    {
     "name": "stderr",
     "output_type": "stream",
     "text": [
      "\r",
      " 65%|████████████████████████████████████████████████████                            | 629/966 [04:26<02:14,  2.51it/s]"
     ]
    },
    {
     "name": "stdout",
     "output_type": "stream",
     "text": [
      "\n"
     ]
    },
    {
     "name": "stderr",
     "output_type": "stream",
     "text": [
      "\r",
      " 65%|████████████████████████████████████████████████████▏                           | 630/966 [04:26<02:19,  2.41it/s]"
     ]
    },
    {
     "name": "stdout",
     "output_type": "stream",
     "text": [
      "\n"
     ]
    },
    {
     "name": "stderr",
     "output_type": "stream",
     "text": [
      "\r",
      " 65%|████████████████████████████████████████████████████▎                           | 631/966 [04:27<02:34,  2.17it/s]"
     ]
    },
    {
     "name": "stdout",
     "output_type": "stream",
     "text": [
      "\n"
     ]
    },
    {
     "name": "stderr",
     "output_type": "stream",
     "text": [
      "\r",
      " 65%|████████████████████████████████████████████████████▎                           | 632/966 [04:27<02:35,  2.14it/s]"
     ]
    },
    {
     "name": "stdout",
     "output_type": "stream",
     "text": [
      "\n"
     ]
    },
    {
     "name": "stderr",
     "output_type": "stream",
     "text": [
      "\r",
      " 66%|████████████████████████████████████████████████████▍                           | 633/966 [04:28<02:37,  2.11it/s]"
     ]
    },
    {
     "name": "stdout",
     "output_type": "stream",
     "text": [
      "\n",
      "\n",
      "\n"
     ]
    },
    {
     "name": "stderr",
     "output_type": "stream",
     "text": [
      "\r",
      " 66%|████████████████████████████████████████████████████▋                           | 636/966 [04:28<02:07,  2.59it/s]"
     ]
    },
    {
     "name": "stdout",
     "output_type": "stream",
     "text": [
      "\n"
     ]
    },
    {
     "name": "stderr",
     "output_type": "stream",
     "text": [
      "\r",
      " 66%|████████████████████████████████████████████████████▊                           | 637/966 [04:29<02:13,  2.47it/s]"
     ]
    },
    {
     "name": "stdout",
     "output_type": "stream",
     "text": [
      "\n"
     ]
    },
    {
     "name": "stderr",
     "output_type": "stream",
     "text": [
      "\r",
      " 66%|████████████████████████████████████████████████████▊                           | 638/966 [04:29<02:17,  2.39it/s]"
     ]
    },
    {
     "name": "stdout",
     "output_type": "stream",
     "text": [
      "\n"
     ]
    },
    {
     "name": "stderr",
     "output_type": "stream",
     "text": [
      "\r",
      " 66%|████████████████████████████████████████████████████▉                           | 639/966 [04:30<02:22,  2.29it/s]"
     ]
    },
    {
     "name": "stdout",
     "output_type": "stream",
     "text": [
      "\n"
     ]
    },
    {
     "name": "stderr",
     "output_type": "stream",
     "text": [
      "\r",
      " 66%|█████████████████████████████████████████████████████                           | 640/966 [04:30<02:25,  2.25it/s]"
     ]
    },
    {
     "name": "stdout",
     "output_type": "stream",
     "text": [
      "\n",
      "\n"
     ]
    },
    {
     "name": "stderr",
     "output_type": "stream",
     "text": [
      "\r",
      " 66%|█████████████████████████████████████████████████████▏                          | 642/966 [04:31<02:07,  2.54it/s]"
     ]
    },
    {
     "name": "stdout",
     "output_type": "stream",
     "text": [
      "\n",
      "\n"
     ]
    },
    {
     "name": "stderr",
     "output_type": "stream",
     "text": [
      "\r",
      " 67%|█████████████████████████████████████████████████████▎                          | 644/966 [04:31<01:55,  2.79it/s]"
     ]
    },
    {
     "name": "stdout",
     "output_type": "stream",
     "text": [
      "\n"
     ]
    },
    {
     "name": "stderr",
     "output_type": "stream",
     "text": [
      "\r",
      " 67%|█████████████████████████████████████████████████████▍                          | 645/966 [04:32<02:06,  2.55it/s]"
     ]
    },
    {
     "name": "stdout",
     "output_type": "stream",
     "text": [
      "\n"
     ]
    },
    {
     "name": "stderr",
     "output_type": "stream",
     "text": [
      "\r",
      " 67%|█████████████████████████████████████████████████████▍                          | 646/966 [04:32<02:09,  2.47it/s]"
     ]
    },
    {
     "name": "stdout",
     "output_type": "stream",
     "text": [
      "\n"
     ]
    },
    {
     "name": "stderr",
     "output_type": "stream",
     "text": [
      "\r",
      " 67%|█████████████████████████████████████████████████████▌                          | 647/966 [04:33<02:21,  2.26it/s]"
     ]
    },
    {
     "name": "stdout",
     "output_type": "stream",
     "text": [
      "\n"
     ]
    },
    {
     "name": "stderr",
     "output_type": "stream",
     "text": [
      "\r",
      " 67%|█████████████████████████████████████████████████████▋                          | 648/966 [04:33<02:21,  2.25it/s]"
     ]
    },
    {
     "name": "stdout",
     "output_type": "stream",
     "text": [
      "\n"
     ]
    },
    {
     "name": "stderr",
     "output_type": "stream",
     "text": [
      "\r",
      " 67%|█████████████████████████████████████████████████████▋                          | 649/966 [04:34<02:18,  2.28it/s]"
     ]
    },
    {
     "name": "stdout",
     "output_type": "stream",
     "text": [
      "\n"
     ]
    },
    {
     "name": "stderr",
     "output_type": "stream",
     "text": [
      "\r",
      " 67%|█████████████████████████████████████████████████████▊                          | 650/966 [04:34<02:20,  2.25it/s]"
     ]
    },
    {
     "name": "stdout",
     "output_type": "stream",
     "text": [
      "\n"
     ]
    },
    {
     "name": "stderr",
     "output_type": "stream",
     "text": [
      "\r",
      " 67%|█████████████████████████████████████████████████████▉                          | 651/966 [04:35<02:27,  2.13it/s]"
     ]
    },
    {
     "name": "stdout",
     "output_type": "stream",
     "text": [
      "\n",
      "\n"
     ]
    },
    {
     "name": "stderr",
     "output_type": "stream",
     "text": [
      "\r",
      " 68%|██████████████████████████████████████████████████████                          | 653/966 [04:35<02:08,  2.43it/s]"
     ]
    },
    {
     "name": "stdout",
     "output_type": "stream",
     "text": [
      "\n"
     ]
    },
    {
     "name": "stderr",
     "output_type": "stream",
     "text": [
      "\r",
      " 68%|██████████████████████████████████████████████████████▏                         | 654/966 [04:36<02:16,  2.29it/s]"
     ]
    },
    {
     "name": "stdout",
     "output_type": "stream",
     "text": [
      "\n"
     ]
    },
    {
     "name": "stderr",
     "output_type": "stream",
     "text": [
      "\r",
      " 68%|██████████████████████████████████████████████████████▏                         | 655/966 [04:36<02:21,  2.19it/s]"
     ]
    },
    {
     "name": "stdout",
     "output_type": "stream",
     "text": [
      "\n"
     ]
    },
    {
     "name": "stderr",
     "output_type": "stream",
     "text": [
      "\r",
      " 68%|██████████████████████████████████████████████████████▎                         | 656/966 [04:37<02:26,  2.12it/s]"
     ]
    },
    {
     "name": "stdout",
     "output_type": "stream",
     "text": [
      "\n"
     ]
    },
    {
     "name": "stderr",
     "output_type": "stream",
     "text": [
      "\r",
      " 68%|██████████████████████████████████████████████████████▍                         | 657/966 [04:37<02:25,  2.12it/s]"
     ]
    },
    {
     "name": "stdout",
     "output_type": "stream",
     "text": [
      "\n",
      "\n"
     ]
    },
    {
     "name": "stderr",
     "output_type": "stream",
     "text": [
      "\r",
      " 68%|██████████████████████████████████████████████████████▌                         | 659/966 [04:38<02:06,  2.42it/s]"
     ]
    },
    {
     "name": "stdout",
     "output_type": "stream",
     "text": [
      "\n",
      "\n"
     ]
    },
    {
     "name": "stderr",
     "output_type": "stream",
     "text": [
      "\r",
      " 68%|██████████████████████████████████████████████████████▋                         | 661/966 [04:38<01:53,  2.69it/s]"
     ]
    },
    {
     "name": "stdout",
     "output_type": "stream",
     "text": [
      "\n"
     ]
    },
    {
     "name": "stderr",
     "output_type": "stream",
     "text": [
      "\r",
      " 69%|██████████████████████████████████████████████████████▊                         | 662/966 [04:39<02:02,  2.48it/s]"
     ]
    },
    {
     "name": "stdout",
     "output_type": "stream",
     "text": [
      "\n"
     ]
    },
    {
     "name": "stderr",
     "output_type": "stream",
     "text": [
      "\r",
      " 69%|██████████████████████████████████████████████████████▉                         | 663/966 [04:39<02:11,  2.31it/s]"
     ]
    },
    {
     "name": "stdout",
     "output_type": "stream",
     "text": [
      "\n",
      "\n"
     ]
    },
    {
     "name": "stderr",
     "output_type": "stream",
     "text": [
      " 69%|███████████████████████████████████████████████████████▏                        | 667/966 [04:40<01:26,  3.47it/s]"
     ]
    },
    {
     "name": "stdout",
     "output_type": "stream",
     "text": [
      "\n",
      "\n",
      "\n"
     ]
    },
    {
     "name": "stderr",
     "output_type": "stream",
     "text": [
      "\r",
      " 69%|███████████████████████████████████████████████████████▎                        | 668/966 [04:40<01:42,  2.90it/s]"
     ]
    },
    {
     "name": "stdout",
     "output_type": "stream",
     "text": [
      "\n"
     ]
    },
    {
     "name": "stderr",
     "output_type": "stream",
     "text": [
      "\r",
      " 69%|███████████████████████████████████████████████████████▍                        | 669/966 [04:41<01:59,  2.49it/s]"
     ]
    },
    {
     "name": "stdout",
     "output_type": "stream",
     "text": [
      "\n"
     ]
    },
    {
     "name": "stderr",
     "output_type": "stream",
     "text": [
      "\r",
      " 69%|███████████████████████████████████████████████████████▍                        | 670/966 [04:41<02:04,  2.38it/s]"
     ]
    },
    {
     "name": "stdout",
     "output_type": "stream",
     "text": [
      "\n"
     ]
    },
    {
     "name": "stderr",
     "output_type": "stream",
     "text": [
      "\r",
      " 69%|███████████████████████████████████████████████████████▌                        | 671/966 [04:42<02:16,  2.16it/s]"
     ]
    },
    {
     "name": "stdout",
     "output_type": "stream",
     "text": [
      "\n"
     ]
    },
    {
     "name": "stderr",
     "output_type": "stream",
     "text": [
      "\r",
      " 70%|███████████████████████████████████████████████████████▋                        | 672/966 [04:43<02:20,  2.10it/s]"
     ]
    },
    {
     "name": "stdout",
     "output_type": "stream",
     "text": [
      "\n"
     ]
    },
    {
     "name": "stderr",
     "output_type": "stream",
     "text": [
      "\r",
      " 70%|███████████████████████████████████████████████████████▋                        | 673/966 [04:43<02:23,  2.05it/s]"
     ]
    },
    {
     "name": "stdout",
     "output_type": "stream",
     "text": [
      "\n"
     ]
    },
    {
     "name": "stderr",
     "output_type": "stream",
     "text": [
      "\r",
      " 70%|███████████████████████████████████████████████████████▊                        | 674/966 [04:43<02:19,  2.10it/s]"
     ]
    },
    {
     "name": "stdout",
     "output_type": "stream",
     "text": [
      "\n",
      "\n"
     ]
    },
    {
     "name": "stderr",
     "output_type": "stream",
     "text": [
      "\r",
      " 70%|███████████████████████████████████████████████████████▉                        | 676/966 [04:44<02:01,  2.38it/s]"
     ]
    },
    {
     "name": "stdout",
     "output_type": "stream",
     "text": [
      "\n"
     ]
    },
    {
     "name": "stderr",
     "output_type": "stream",
     "text": [
      "\r",
      " 70%|████████████████████████████████████████████████████████                        | 677/966 [04:45<02:08,  2.25it/s]"
     ]
    },
    {
     "name": "stdout",
     "output_type": "stream",
     "text": [
      "\n"
     ]
    },
    {
     "name": "stderr",
     "output_type": "stream",
     "text": [
      "\r",
      " 70%|████████████████████████████████████████████████████████▏                       | 678/966 [04:45<02:15,  2.12it/s]"
     ]
    },
    {
     "name": "stdout",
     "output_type": "stream",
     "text": [
      "\n"
     ]
    },
    {
     "name": "stderr",
     "output_type": "stream",
     "text": [
      "\r",
      " 70%|████████████████████████████████████████████████████████▏                       | 679/966 [04:46<02:17,  2.09it/s]"
     ]
    },
    {
     "name": "stdout",
     "output_type": "stream",
     "text": [
      "\n"
     ]
    },
    {
     "name": "stderr",
     "output_type": "stream",
     "text": [
      "\r",
      " 70%|████████████████████████████████████████████████████████▎                       | 680/966 [04:46<02:14,  2.12it/s]"
     ]
    },
    {
     "name": "stdout",
     "output_type": "stream",
     "text": [
      "\n"
     ]
    },
    {
     "name": "stderr",
     "output_type": "stream",
     "text": [
      "\r",
      " 70%|████████████████████████████████████████████████████████▍                       | 681/966 [04:47<02:18,  2.05it/s]"
     ]
    },
    {
     "name": "stdout",
     "output_type": "stream",
     "text": [
      "\n"
     ]
    },
    {
     "name": "stderr",
     "output_type": "stream",
     "text": [
      "\r",
      " 71%|████████████████████████████████████████████████████████▍                       | 682/966 [04:47<02:16,  2.08it/s]"
     ]
    },
    {
     "name": "stdout",
     "output_type": "stream",
     "text": [
      "\n"
     ]
    },
    {
     "name": "stderr",
     "output_type": "stream",
     "text": [
      "\r",
      " 71%|████████████████████████████████████████████████████████▌                       | 683/966 [04:48<02:15,  2.09it/s]"
     ]
    },
    {
     "name": "stdout",
     "output_type": "stream",
     "text": [
      "\n",
      "\n"
     ]
    },
    {
     "name": "stderr",
     "output_type": "stream",
     "text": [
      "\r",
      " 71%|████████████████████████████████████████████████████████▋                       | 685/966 [04:48<01:56,  2.40it/s]"
     ]
    },
    {
     "name": "stdout",
     "output_type": "stream",
     "text": [
      "\n"
     ]
    },
    {
     "name": "stderr",
     "output_type": "stream",
     "text": [
      "\r",
      " 71%|████████████████████████████████████████████████████████▊                       | 686/966 [04:49<02:07,  2.20it/s]"
     ]
    },
    {
     "name": "stdout",
     "output_type": "stream",
     "text": [
      "\n"
     ]
    },
    {
     "name": "stderr",
     "output_type": "stream",
     "text": [
      "\r",
      " 71%|████████████████████████████████████████████████████████▉                       | 687/966 [04:49<02:19,  2.00it/s]"
     ]
    },
    {
     "name": "stdout",
     "output_type": "stream",
     "text": [
      "\n"
     ]
    },
    {
     "name": "stderr",
     "output_type": "stream",
     "text": [
      "\r",
      " 71%|████████████████████████████████████████████████████████▉                       | 688/966 [04:50<02:26,  1.90it/s]"
     ]
    },
    {
     "name": "stdout",
     "output_type": "stream",
     "text": [
      "\n"
     ]
    },
    {
     "name": "stderr",
     "output_type": "stream",
     "text": [
      "\r",
      " 71%|█████████████████████████████████████████████████████████                       | 689/966 [04:50<02:21,  1.96it/s]"
     ]
    },
    {
     "name": "stdout",
     "output_type": "stream",
     "text": [
      "\n"
     ]
    },
    {
     "name": "stderr",
     "output_type": "stream",
     "text": [
      "\r",
      " 71%|█████████████████████████████████████████████████████████▏                      | 690/966 [04:51<02:16,  2.02it/s]"
     ]
    },
    {
     "name": "stdout",
     "output_type": "stream",
     "text": [
      "\n"
     ]
    },
    {
     "name": "stderr",
     "output_type": "stream",
     "text": [
      "\r",
      " 72%|█████████████████████████████████████████████████████████▏                      | 691/966 [04:51<02:15,  2.03it/s]"
     ]
    },
    {
     "name": "stdout",
     "output_type": "stream",
     "text": [
      "\n",
      "\n"
     ]
    },
    {
     "name": "stderr",
     "output_type": "stream",
     "text": [
      "\r",
      " 72%|█████████████████████████████████████████████████████████▍                      | 693/966 [04:52<01:56,  2.35it/s]"
     ]
    },
    {
     "name": "stdout",
     "output_type": "stream",
     "text": [
      "\n"
     ]
    },
    {
     "name": "stderr",
     "output_type": "stream",
     "text": [
      "\r",
      " 72%|█████████████████████████████████████████████████████████▍                      | 694/966 [04:52<02:02,  2.22it/s]"
     ]
    },
    {
     "name": "stdout",
     "output_type": "stream",
     "text": [
      "\n"
     ]
    },
    {
     "name": "stderr",
     "output_type": "stream",
     "text": [
      "\r",
      " 72%|█████████████████████████████████████████████████████████▌                      | 695/966 [04:53<02:02,  2.21it/s]"
     ]
    },
    {
     "name": "stdout",
     "output_type": "stream",
     "text": [
      "\n"
     ]
    },
    {
     "name": "stderr",
     "output_type": "stream",
     "text": [
      "\r",
      " 72%|█████████████████████████████████████████████████████████▋                      | 696/966 [04:53<02:04,  2.18it/s]"
     ]
    },
    {
     "name": "stdout",
     "output_type": "stream",
     "text": [
      "\n"
     ]
    },
    {
     "name": "stderr",
     "output_type": "stream",
     "text": [
      "\r",
      " 72%|█████████████████████████████████████████████████████████▋                      | 697/966 [04:54<02:11,  2.05it/s]"
     ]
    },
    {
     "name": "stdout",
     "output_type": "stream",
     "text": [
      "\n"
     ]
    },
    {
     "name": "stderr",
     "output_type": "stream",
     "text": [
      "\r",
      " 72%|█████████████████████████████████████████████████████████▊                      | 698/966 [04:54<02:10,  2.06it/s]"
     ]
    },
    {
     "name": "stdout",
     "output_type": "stream",
     "text": [
      "\n",
      "\n"
     ]
    },
    {
     "name": "stderr",
     "output_type": "stream",
     "text": [
      "\r",
      " 72%|█████████████████████████████████████████████████████████▉                      | 700/966 [04:55<01:59,  2.23it/s]"
     ]
    },
    {
     "name": "stdout",
     "output_type": "stream",
     "text": [
      "\n"
     ]
    },
    {
     "name": "stderr",
     "output_type": "stream",
     "text": [
      "\r",
      " 73%|██████████████████████████████████████████████████████████                      | 701/966 [04:55<02:00,  2.19it/s]"
     ]
    },
    {
     "name": "stdout",
     "output_type": "stream",
     "text": [
      "\n"
     ]
    },
    {
     "name": "stderr",
     "output_type": "stream",
     "text": [
      "\r",
      " 73%|██████████████████████████████████████████████████████████▏                     | 702/966 [04:56<02:08,  2.06it/s]"
     ]
    },
    {
     "name": "stdout",
     "output_type": "stream",
     "text": [
      "\n"
     ]
    },
    {
     "name": "stderr",
     "output_type": "stream",
     "text": [
      "\r",
      " 73%|██████████████████████████████████████████████████████████▏                     | 703/966 [04:57<02:16,  1.93it/s]"
     ]
    },
    {
     "name": "stdout",
     "output_type": "stream",
     "text": [
      "\n"
     ]
    },
    {
     "name": "stderr",
     "output_type": "stream",
     "text": [
      "\r",
      " 73%|██████████████████████████████████████████████████████████▎                     | 704/966 [04:57<02:21,  1.85it/s]"
     ]
    },
    {
     "name": "stdout",
     "output_type": "stream",
     "text": [
      "\n"
     ]
    },
    {
     "name": "stderr",
     "output_type": "stream",
     "text": [
      "\r",
      " 73%|██████████████████████████████████████████████████████████▍                     | 705/966 [04:58<02:19,  1.87it/s]"
     ]
    },
    {
     "name": "stdout",
     "output_type": "stream",
     "text": [
      "\n",
      "\n"
     ]
    },
    {
     "name": "stderr",
     "output_type": "stream",
     "text": [
      " 74%|██████████████████████████████████████████████████████████▉                     | 711/966 [04:58<01:02,  4.07it/s]"
     ]
    },
    {
     "name": "stdout",
     "output_type": "stream",
     "text": [
      "\n",
      "\n",
      "\n",
      "\n",
      "\n",
      "\n",
      "\n"
     ]
    },
    {
     "name": "stderr",
     "output_type": "stream",
     "text": [
      "\r",
      " 74%|███████████████████████████████████████████████████████████▏                    | 714/966 [04:59<00:56,  4.47it/s]"
     ]
    },
    {
     "name": "stdout",
     "output_type": "stream",
     "text": [
      "\n"
     ]
    },
    {
     "name": "stderr",
     "output_type": "stream",
     "text": [
      "\r",
      " 74%|███████████████████████████████████████████████████████████▏                    | 715/966 [04:59<01:17,  3.23it/s]"
     ]
    },
    {
     "name": "stdout",
     "output_type": "stream",
     "text": [
      "\n"
     ]
    },
    {
     "name": "stderr",
     "output_type": "stream",
     "text": [
      "\r",
      " 74%|███████████████████████████████████████████████████████████▎                    | 716/966 [05:00<01:29,  2.78it/s]"
     ]
    },
    {
     "name": "stdout",
     "output_type": "stream",
     "text": [
      "\n"
     ]
    },
    {
     "name": "stderr",
     "output_type": "stream",
     "text": [
      "\r",
      " 74%|███████████████████████████████████████████████████████████▍                    | 717/966 [05:00<01:36,  2.58it/s]"
     ]
    },
    {
     "name": "stdout",
     "output_type": "stream",
     "text": [
      "\n",
      "\n"
     ]
    },
    {
     "name": "stderr",
     "output_type": "stream",
     "text": [
      "\r",
      " 74%|███████████████████████████████████████████████████████████▌                    | 719/966 [05:01<01:28,  2.81it/s]"
     ]
    },
    {
     "name": "stdout",
     "output_type": "stream",
     "text": [
      "\n"
     ]
    },
    {
     "name": "stderr",
     "output_type": "stream",
     "text": [
      "\r",
      " 75%|███████████████████████████████████████████████████████████▋                    | 720/966 [05:01<01:33,  2.62it/s]"
     ]
    },
    {
     "name": "stdout",
     "output_type": "stream",
     "text": [
      "\n"
     ]
    },
    {
     "name": "stderr",
     "output_type": "stream",
     "text": [
      "\r",
      " 75%|███████████████████████████████████████████████████████████▋                    | 721/966 [05:03<02:38,  1.55it/s]"
     ]
    },
    {
     "name": "stdout",
     "output_type": "stream",
     "text": [
      "\n"
     ]
    },
    {
     "name": "stderr",
     "output_type": "stream",
     "text": [
      "\r",
      " 75%|███████████████████████████████████████████████████████████▊                    | 722/966 [05:03<02:27,  1.66it/s]"
     ]
    },
    {
     "name": "stdout",
     "output_type": "stream",
     "text": [
      "\n"
     ]
    },
    {
     "name": "stderr",
     "output_type": "stream",
     "text": [
      "\r",
      " 75%|███████████████████████████████████████████████████████████▉                    | 723/966 [05:04<02:16,  1.78it/s]"
     ]
    },
    {
     "name": "stdout",
     "output_type": "stream",
     "text": [
      "\n"
     ]
    },
    {
     "name": "stderr",
     "output_type": "stream",
     "text": [
      "\r",
      " 75%|███████████████████████████████████████████████████████████▉                    | 724/966 [05:04<02:07,  1.90it/s]"
     ]
    },
    {
     "name": "stdout",
     "output_type": "stream",
     "text": [
      "\n"
     ]
    },
    {
     "name": "stderr",
     "output_type": "stream",
     "text": [
      "\r",
      " 75%|████████████████████████████████████████████████████████████                    | 725/966 [05:04<01:59,  2.01it/s]"
     ]
    },
    {
     "name": "stdout",
     "output_type": "stream",
     "text": [
      "\n"
     ]
    },
    {
     "name": "stderr",
     "output_type": "stream",
     "text": [
      " 75%|████████████████████████████████████████████████████████████▎                   | 729/966 [05:05<01:25,  2.76it/s]"
     ]
    },
    {
     "name": "stdout",
     "output_type": "stream",
     "text": [
      "\n",
      "\n",
      "\n",
      "\n"
     ]
    },
    {
     "name": "stderr",
     "output_type": "stream",
     "text": [
      "\r",
      " 76%|████████████████████████████████████████████████████████████▍                   | 730/966 [05:06<01:39,  2.38it/s]"
     ]
    },
    {
     "name": "stdout",
     "output_type": "stream",
     "text": [
      "\n"
     ]
    },
    {
     "name": "stderr",
     "output_type": "stream",
     "text": [
      "\r",
      " 76%|████████████████████████████████████████████████████████████▌                   | 731/966 [05:06<01:52,  2.09it/s]"
     ]
    },
    {
     "name": "stdout",
     "output_type": "stream",
     "text": [
      "\n"
     ]
    },
    {
     "name": "stderr",
     "output_type": "stream",
     "text": [
      "\r",
      " 76%|████████████████████████████████████████████████████████████▌                   | 732/966 [05:07<01:56,  2.01it/s]"
     ]
    },
    {
     "name": "stdout",
     "output_type": "stream",
     "text": [
      "\n"
     ]
    },
    {
     "name": "stderr",
     "output_type": "stream",
     "text": [
      "\r",
      " 76%|████████████████████████████████████████████████████████████▋                   | 733/966 [05:07<01:53,  2.05it/s]"
     ]
    },
    {
     "name": "stdout",
     "output_type": "stream",
     "text": [
      "\n"
     ]
    },
    {
     "name": "stderr",
     "output_type": "stream",
     "text": [
      "\r",
      " 76%|████████████████████████████████████████████████████████████▊                   | 734/966 [05:08<01:49,  2.13it/s]"
     ]
    },
    {
     "name": "stdout",
     "output_type": "stream",
     "text": [
      "\n",
      "\n"
     ]
    },
    {
     "name": "stderr",
     "output_type": "stream",
     "text": [
      "\r",
      " 76%|████████████████████████████████████████████████████████████▉                   | 736/966 [05:08<01:33,  2.47it/s]"
     ]
    },
    {
     "name": "stdout",
     "output_type": "stream",
     "text": [
      "\n"
     ]
    },
    {
     "name": "stderr",
     "output_type": "stream",
     "text": [
      "\r",
      " 76%|█████████████████████████████████████████████████████████████                   | 737/966 [05:09<01:37,  2.35it/s]"
     ]
    },
    {
     "name": "stdout",
     "output_type": "stream",
     "text": [
      "\n"
     ]
    },
    {
     "name": "stderr",
     "output_type": "stream",
     "text": [
      "\r",
      " 76%|█████████████████████████████████████████████████████████████                   | 738/966 [05:09<01:38,  2.31it/s]"
     ]
    },
    {
     "name": "stdout",
     "output_type": "stream",
     "text": [
      "\n"
     ]
    },
    {
     "name": "stderr",
     "output_type": "stream",
     "text": [
      "\r",
      " 77%|█████████████████████████████████████████████████████████████▏                  | 739/966 [05:10<01:40,  2.26it/s]"
     ]
    },
    {
     "name": "stdout",
     "output_type": "stream",
     "text": [
      "\n"
     ]
    },
    {
     "name": "stderr",
     "output_type": "stream",
     "text": [
      "\r",
      " 77%|█████████████████████████████████████████████████████████████▎                  | 740/966 [05:10<01:38,  2.29it/s]"
     ]
    },
    {
     "name": "stdout",
     "output_type": "stream",
     "text": [
      "\n"
     ]
    },
    {
     "name": "stderr",
     "output_type": "stream",
     "text": [
      "\r",
      " 77%|█████████████████████████████████████████████████████████████▎                  | 741/966 [05:10<01:41,  2.23it/s]"
     ]
    },
    {
     "name": "stdout",
     "output_type": "stream",
     "text": [
      "\n"
     ]
    },
    {
     "name": "stderr",
     "output_type": "stream",
     "text": [
      "\r",
      " 77%|█████████████████████████████████████████████████████████████▍                  | 742/966 [05:11<01:43,  2.16it/s]"
     ]
    },
    {
     "name": "stdout",
     "output_type": "stream",
     "text": [
      "\n"
     ]
    },
    {
     "name": "stderr",
     "output_type": "stream",
     "text": [
      "\r",
      " 77%|█████████████████████████████████████████████████████████████▌                  | 743/966 [05:12<01:46,  2.09it/s]"
     ]
    },
    {
     "name": "stdout",
     "output_type": "stream",
     "text": [
      "\n"
     ]
    },
    {
     "name": "stderr",
     "output_type": "stream",
     "text": [
      "\r",
      " 77%|█████████████████████████████████████████████████████████████▌                  | 744/966 [05:12<01:48,  2.05it/s]"
     ]
    },
    {
     "name": "stdout",
     "output_type": "stream",
     "text": [
      "\n"
     ]
    },
    {
     "name": "stderr",
     "output_type": "stream",
     "text": [
      "\r",
      " 77%|█████████████████████████████████████████████████████████████▋                  | 745/966 [05:12<01:45,  2.09it/s]"
     ]
    },
    {
     "name": "stdout",
     "output_type": "stream",
     "text": [
      "\n"
     ]
    },
    {
     "name": "stderr",
     "output_type": "stream",
     "text": [
      "\r",
      " 77%|█████████████████████████████████████████████████████████████▊                  | 746/966 [05:13<01:49,  2.01it/s]"
     ]
    },
    {
     "name": "stdout",
     "output_type": "stream",
     "text": [
      "\n"
     ]
    },
    {
     "name": "stderr",
     "output_type": "stream",
     "text": [
      "\r",
      " 77%|█████████████████████████████████████████████████████████████▊                  | 747/966 [05:13<01:46,  2.06it/s]"
     ]
    },
    {
     "name": "stdout",
     "output_type": "stream",
     "text": [
      "\n"
     ]
    },
    {
     "name": "stderr",
     "output_type": "stream",
     "text": [
      "\r",
      " 77%|█████████████████████████████████████████████████████████████▉                  | 748/966 [05:14<01:48,  2.00it/s]"
     ]
    },
    {
     "name": "stdout",
     "output_type": "stream",
     "text": [
      "\n"
     ]
    },
    {
     "name": "stderr",
     "output_type": "stream",
     "text": [
      "\r",
      " 78%|██████████████████████████████████████████████████████████████                  | 749/966 [05:14<01:46,  2.04it/s]"
     ]
    },
    {
     "name": "stdout",
     "output_type": "stream",
     "text": [
      "\n",
      "\n"
     ]
    },
    {
     "name": "stderr",
     "output_type": "stream",
     "text": [
      "\r",
      " 78%|██████████████████████████████████████████████████████████████▏                 | 751/966 [05:15<01:30,  2.37it/s]"
     ]
    },
    {
     "name": "stdout",
     "output_type": "stream",
     "text": [
      "\n"
     ]
    },
    {
     "name": "stderr",
     "output_type": "stream",
     "text": [
      "\r",
      " 78%|██████████████████████████████████████████████████████████████▎                 | 752/966 [05:15<01:32,  2.31it/s]"
     ]
    },
    {
     "name": "stdout",
     "output_type": "stream",
     "text": [
      "\n"
     ]
    },
    {
     "name": "stderr",
     "output_type": "stream",
     "text": [
      "\r",
      " 78%|██████████████████████████████████████████████████████████████▎                 | 753/966 [05:16<01:34,  2.26it/s]"
     ]
    },
    {
     "name": "stdout",
     "output_type": "stream",
     "text": [
      "\n"
     ]
    },
    {
     "name": "stderr",
     "output_type": "stream",
     "text": [
      "\r",
      " 78%|██████████████████████████████████████████████████████████████▍                 | 754/966 [05:16<01:34,  2.23it/s]"
     ]
    },
    {
     "name": "stdout",
     "output_type": "stream",
     "text": [
      "\n"
     ]
    },
    {
     "name": "stderr",
     "output_type": "stream",
     "text": [
      "\r",
      " 78%|██████████████████████████████████████████████████████████████▌                 | 755/966 [05:17<01:38,  2.15it/s]"
     ]
    },
    {
     "name": "stdout",
     "output_type": "stream",
     "text": [
      "\n"
     ]
    },
    {
     "name": "stderr",
     "output_type": "stream",
     "text": [
      "\r",
      " 78%|██████████████████████████████████████████████████████████████▌                 | 756/966 [05:17<01:38,  2.13it/s]"
     ]
    },
    {
     "name": "stdout",
     "output_type": "stream",
     "text": [
      "\n"
     ]
    },
    {
     "name": "stderr",
     "output_type": "stream",
     "text": [
      "\r",
      " 78%|██████████████████████████████████████████████████████████████▋                 | 757/966 [05:18<01:37,  2.14it/s]"
     ]
    },
    {
     "name": "stdout",
     "output_type": "stream",
     "text": [
      "\n"
     ]
    },
    {
     "name": "stderr",
     "output_type": "stream",
     "text": [
      "\r",
      " 78%|██████████████████████████████████████████████████████████████▊                 | 758/966 [05:18<01:39,  2.09it/s]"
     ]
    },
    {
     "name": "stdout",
     "output_type": "stream",
     "text": [
      "\n"
     ]
    },
    {
     "name": "stderr",
     "output_type": "stream",
     "text": [
      "\r",
      " 79%|██████████████████████████████████████████████████████████████▊                 | 759/966 [05:19<01:38,  2.10it/s]"
     ]
    },
    {
     "name": "stdout",
     "output_type": "stream",
     "text": [
      "\n"
     ]
    },
    {
     "name": "stderr",
     "output_type": "stream",
     "text": [
      "\r",
      " 79%|██████████████████████████████████████████████████████████████▉                 | 760/966 [05:19<01:35,  2.16it/s]"
     ]
    },
    {
     "name": "stdout",
     "output_type": "stream",
     "text": [
      "\n"
     ]
    },
    {
     "name": "stderr",
     "output_type": "stream",
     "text": [
      "\r",
      " 79%|███████████████████████████████████████████████████████████████                 | 761/966 [05:20<01:39,  2.07it/s]"
     ]
    },
    {
     "name": "stdout",
     "output_type": "stream",
     "text": [
      "\n"
     ]
    },
    {
     "name": "stderr",
     "output_type": "stream",
     "text": [
      "\r",
      " 79%|███████████████████████████████████████████████████████████████                 | 762/966 [05:20<01:35,  2.14it/s]"
     ]
    },
    {
     "name": "stdout",
     "output_type": "stream",
     "text": [
      "\n"
     ]
    },
    {
     "name": "stderr",
     "output_type": "stream",
     "text": [
      "\r",
      " 79%|███████████████████████████████████████████████████████████████▏                | 763/966 [05:21<01:34,  2.15it/s]"
     ]
    },
    {
     "name": "stdout",
     "output_type": "stream",
     "text": [
      "\n"
     ]
    },
    {
     "name": "stderr",
     "output_type": "stream",
     "text": [
      "\r",
      " 79%|███████████████████████████████████████████████████████████████▎                | 764/966 [05:21<01:31,  2.20it/s]"
     ]
    },
    {
     "name": "stdout",
     "output_type": "stream",
     "text": [
      "\n"
     ]
    },
    {
     "name": "stderr",
     "output_type": "stream",
     "text": [
      "\r",
      " 79%|███████████████████████████████████████████████████████████████▎                | 765/966 [05:22<01:29,  2.24it/s]"
     ]
    },
    {
     "name": "stdout",
     "output_type": "stream",
     "text": [
      "\n"
     ]
    },
    {
     "name": "stderr",
     "output_type": "stream",
     "text": [
      "\r",
      " 79%|███████████████████████████████████████████████████████████████▍                | 766/966 [05:22<01:36,  2.06it/s]"
     ]
    },
    {
     "name": "stdout",
     "output_type": "stream",
     "text": [
      "\n"
     ]
    },
    {
     "name": "stderr",
     "output_type": "stream",
     "text": [
      "\r",
      " 79%|███████████████████████████████████████████████████████████████▌                | 767/966 [05:23<01:40,  1.99it/s]"
     ]
    },
    {
     "name": "stdout",
     "output_type": "stream",
     "text": [
      "\n"
     ]
    },
    {
     "name": "stderr",
     "output_type": "stream",
     "text": [
      "\r",
      " 80%|███████████████████████████████████████████████████████████████▌                | 768/966 [05:23<01:37,  2.03it/s]"
     ]
    },
    {
     "name": "stdout",
     "output_type": "stream",
     "text": [
      "\n"
     ]
    },
    {
     "name": "stderr",
     "output_type": "stream",
     "text": [
      "\r",
      " 80%|███████████████████████████████████████████████████████████████▋                | 769/966 [05:24<01:36,  2.03it/s]"
     ]
    },
    {
     "name": "stdout",
     "output_type": "stream",
     "text": [
      "\n"
     ]
    },
    {
     "name": "stderr",
     "output_type": "stream",
     "text": [
      "\r",
      " 80%|███████████████████████████████████████████████████████████████▊                | 770/966 [05:24<01:37,  2.01it/s]"
     ]
    },
    {
     "name": "stdout",
     "output_type": "stream",
     "text": [
      "\n"
     ]
    },
    {
     "name": "stderr",
     "output_type": "stream",
     "text": [
      "\r",
      " 80%|███████████████████████████████████████████████████████████████▊                | 771/966 [05:25<01:36,  2.03it/s]"
     ]
    },
    {
     "name": "stdout",
     "output_type": "stream",
     "text": [
      "\n"
     ]
    },
    {
     "name": "stderr",
     "output_type": "stream",
     "text": [
      "\r",
      " 80%|███████████████████████████████████████████████████████████████▉                | 772/966 [05:25<01:36,  2.02it/s]"
     ]
    },
    {
     "name": "stdout",
     "output_type": "stream",
     "text": [
      "\n",
      "\n"
     ]
    },
    {
     "name": "stderr",
     "output_type": "stream",
     "text": [
      "\r",
      " 80%|████████████████████████████████████████████████████████████████                | 774/966 [05:26<01:21,  2.35it/s]"
     ]
    },
    {
     "name": "stdout",
     "output_type": "stream",
     "text": [
      "\n"
     ]
    },
    {
     "name": "stderr",
     "output_type": "stream",
     "text": [
      "\r",
      " 80%|████████████████████████████████████████████████████████████████▏               | 775/966 [05:26<01:25,  2.24it/s]"
     ]
    },
    {
     "name": "stdout",
     "output_type": "stream",
     "text": [
      "\n"
     ]
    },
    {
     "name": "stderr",
     "output_type": "stream",
     "text": [
      "\r",
      " 80%|████████████████████████████████████████████████████████████████▎               | 776/966 [05:27<01:25,  2.23it/s]"
     ]
    },
    {
     "name": "stdout",
     "output_type": "stream",
     "text": [
      "\n"
     ]
    },
    {
     "name": "stderr",
     "output_type": "stream",
     "text": [
      "\r",
      " 80%|████████████████████████████████████████████████████████████████▎               | 777/966 [05:27<01:24,  2.22it/s]"
     ]
    },
    {
     "name": "stdout",
     "output_type": "stream",
     "text": [
      "\n"
     ]
    },
    {
     "name": "stderr",
     "output_type": "stream",
     "text": [
      "\r",
      " 81%|████████████████████████████████████████████████████████████████▍               | 778/966 [05:27<01:26,  2.18it/s]"
     ]
    },
    {
     "name": "stdout",
     "output_type": "stream",
     "text": [
      "\n"
     ]
    },
    {
     "name": "stderr",
     "output_type": "stream",
     "text": [
      "\r",
      " 81%|████████████████████████████████████████████████████████████████▌               | 779/966 [05:28<01:27,  2.13it/s]"
     ]
    },
    {
     "name": "stdout",
     "output_type": "stream",
     "text": [
      "\n",
      "\n",
      "\n"
     ]
    },
    {
     "name": "stderr",
     "output_type": "stream",
     "text": [
      "\r",
      " 81%|████████████████████████████████████████████████████████████████▊               | 782/966 [05:29<01:13,  2.52it/s]"
     ]
    },
    {
     "name": "stdout",
     "output_type": "stream",
     "text": [
      "\n"
     ]
    },
    {
     "name": "stderr",
     "output_type": "stream",
     "text": [
      "\r",
      " 81%|████████████████████████████████████████████████████████████████▊               | 783/966 [05:29<01:22,  2.22it/s]"
     ]
    },
    {
     "name": "stdout",
     "output_type": "stream",
     "text": [
      "\n"
     ]
    },
    {
     "name": "stderr",
     "output_type": "stream",
     "text": [
      "\r",
      " 81%|████████████████████████████████████████████████████████████████▉               | 784/966 [05:30<01:28,  2.06it/s]"
     ]
    },
    {
     "name": "stdout",
     "output_type": "stream",
     "text": [
      "\n"
     ]
    },
    {
     "name": "stderr",
     "output_type": "stream",
     "text": [
      "\r",
      " 81%|█████████████████████████████████████████████████████████████████               | 785/966 [05:30<01:30,  2.00it/s]"
     ]
    },
    {
     "name": "stdout",
     "output_type": "stream",
     "text": [
      "\n"
     ]
    },
    {
     "name": "stderr",
     "output_type": "stream",
     "text": [
      "\r",
      " 81%|█████████████████████████████████████████████████████████████████               | 786/966 [05:31<01:35,  1.88it/s]"
     ]
    },
    {
     "name": "stdout",
     "output_type": "stream",
     "text": [
      "\n"
     ]
    },
    {
     "name": "stderr",
     "output_type": "stream",
     "text": [
      "\r",
      " 81%|█████████████████████████████████████████████████████████████████▏              | 787/966 [05:31<01:36,  1.86it/s]"
     ]
    },
    {
     "name": "stdout",
     "output_type": "stream",
     "text": [
      "\n"
     ]
    },
    {
     "name": "stderr",
     "output_type": "stream",
     "text": [
      "\r",
      " 82%|█████████████████████████████████████████████████████████████████▎              | 788/966 [05:32<01:37,  1.82it/s]"
     ]
    },
    {
     "name": "stdout",
     "output_type": "stream",
     "text": [
      "\n"
     ]
    },
    {
     "name": "stderr",
     "output_type": "stream",
     "text": [
      "\r",
      " 82%|█████████████████████████████████████████████████████████████████▎              | 789/966 [05:33<01:34,  1.87it/s]"
     ]
    },
    {
     "name": "stdout",
     "output_type": "stream",
     "text": [
      "\n"
     ]
    },
    {
     "name": "stderr",
     "output_type": "stream",
     "text": [
      "\r",
      " 82%|█████████████████████████████████████████████████████████████████▍              | 790/966 [05:33<01:34,  1.85it/s]"
     ]
    },
    {
     "name": "stdout",
     "output_type": "stream",
     "text": [
      "\n"
     ]
    },
    {
     "name": "stderr",
     "output_type": "stream",
     "text": [
      "\r",
      " 82%|█████████████████████████████████████████████████████████████████▌              | 791/966 [05:34<01:31,  1.91it/s]"
     ]
    },
    {
     "name": "stdout",
     "output_type": "stream",
     "text": [
      "\n"
     ]
    },
    {
     "name": "stderr",
     "output_type": "stream",
     "text": [
      "\r",
      " 82%|█████████████████████████████████████████████████████████████████▌              | 792/966 [05:34<01:30,  1.92it/s]"
     ]
    },
    {
     "name": "stdout",
     "output_type": "stream",
     "text": [
      "\n"
     ]
    },
    {
     "name": "stderr",
     "output_type": "stream",
     "text": [
      "\r",
      " 82%|█████████████████████████████████████████████████████████████████▋              | 793/966 [05:35<01:28,  1.96it/s]"
     ]
    },
    {
     "name": "stdout",
     "output_type": "stream",
     "text": [
      "\n"
     ]
    },
    {
     "name": "stderr",
     "output_type": "stream",
     "text": [
      "\r",
      " 82%|█████████████████████████████████████████████████████████████████▊              | 794/966 [05:35<01:25,  2.02it/s]"
     ]
    },
    {
     "name": "stdout",
     "output_type": "stream",
     "text": [
      "\n"
     ]
    },
    {
     "name": "stderr",
     "output_type": "stream",
     "text": [
      "\r",
      " 82%|█████████████████████████████████████████████████████████████████▊              | 795/966 [05:36<01:25,  2.00it/s]"
     ]
    },
    {
     "name": "stdout",
     "output_type": "stream",
     "text": [
      "\n"
     ]
    },
    {
     "name": "stderr",
     "output_type": "stream",
     "text": [
      "\r",
      " 82%|█████████████████████████████████████████████████████████████████▉              | 796/966 [05:36<01:22,  2.05it/s]"
     ]
    },
    {
     "name": "stdout",
     "output_type": "stream",
     "text": [
      "\n"
     ]
    },
    {
     "name": "stderr",
     "output_type": "stream",
     "text": [
      "\r",
      " 83%|██████████████████████████████████████████████████████████████████              | 797/966 [05:37<01:22,  2.04it/s]"
     ]
    },
    {
     "name": "stdout",
     "output_type": "stream",
     "text": [
      "\n"
     ]
    },
    {
     "name": "stderr",
     "output_type": "stream",
     "text": [
      "\r",
      " 83%|██████████████████████████████████████████████████████████████████              | 798/966 [05:37<01:31,  1.84it/s]"
     ]
    },
    {
     "name": "stdout",
     "output_type": "stream",
     "text": [
      "\n"
     ]
    },
    {
     "name": "stderr",
     "output_type": "stream",
     "text": [
      "\r",
      " 83%|██████████████████████████████████████████████████████████████████▏             | 799/966 [05:38<01:32,  1.80it/s]"
     ]
    },
    {
     "name": "stdout",
     "output_type": "stream",
     "text": [
      "\n"
     ]
    },
    {
     "name": "stderr",
     "output_type": "stream",
     "text": [
      "\r",
      " 83%|██████████████████████████████████████████████████████████████████▎             | 800/966 [05:38<01:36,  1.72it/s]"
     ]
    },
    {
     "name": "stdout",
     "output_type": "stream",
     "text": [
      "\n"
     ]
    },
    {
     "name": "stderr",
     "output_type": "stream",
     "text": [
      "\r",
      " 83%|██████████████████████████████████████████████████████████████████▎             | 801/966 [05:39<01:38,  1.67it/s]"
     ]
    },
    {
     "name": "stdout",
     "output_type": "stream",
     "text": [
      "\n",
      "\n"
     ]
    },
    {
     "name": "stderr",
     "output_type": "stream",
     "text": [
      " 83%|██████████████████████████████████████████████████████████████████▋             | 805/966 [05:40<01:01,  2.61it/s]"
     ]
    },
    {
     "name": "stdout",
     "output_type": "stream",
     "text": [
      "\n",
      "\n",
      "\n"
     ]
    },
    {
     "name": "stderr",
     "output_type": "stream",
     "text": [
      "\r",
      " 83%|██████████████████████████████████████████████████████████████████▋             | 806/966 [05:40<01:13,  2.18it/s]"
     ]
    },
    {
     "name": "stdout",
     "output_type": "stream",
     "text": [
      "\n"
     ]
    },
    {
     "name": "stderr",
     "output_type": "stream",
     "text": [
      "\r",
      " 84%|██████████████████████████████████████████████████████████████████▊             | 807/966 [05:41<01:14,  2.13it/s]"
     ]
    },
    {
     "name": "stdout",
     "output_type": "stream",
     "text": [
      "\n"
     ]
    },
    {
     "name": "stderr",
     "output_type": "stream",
     "text": [
      "\r",
      " 84%|██████████████████████████████████████████████████████████████████▉             | 808/966 [05:42<01:17,  2.05it/s]"
     ]
    },
    {
     "name": "stdout",
     "output_type": "stream",
     "text": [
      "\n"
     ]
    },
    {
     "name": "stderr",
     "output_type": "stream",
     "text": [
      "\r",
      " 84%|██████████████████████████████████████████████████████████████████▉             | 809/966 [05:42<01:19,  1.99it/s]"
     ]
    },
    {
     "name": "stdout",
     "output_type": "stream",
     "text": [
      "\n"
     ]
    },
    {
     "name": "stderr",
     "output_type": "stream",
     "text": [
      "\r",
      " 84%|███████████████████████████████████████████████████████████████████             | 810/966 [05:43<01:19,  1.96it/s]"
     ]
    },
    {
     "name": "stdout",
     "output_type": "stream",
     "text": [
      "\n",
      "\n"
     ]
    },
    {
     "name": "stderr",
     "output_type": "stream",
     "text": [
      "\r",
      " 84%|███████████████████████████████████████████████████████████████████▏            | 812/966 [05:43<01:08,  2.26it/s]"
     ]
    },
    {
     "name": "stdout",
     "output_type": "stream",
     "text": [
      "\n",
      "\n"
     ]
    },
    {
     "name": "stderr",
     "output_type": "stream",
     "text": [
      "\r",
      " 84%|███████████████████████████████████████████████████████████████████▍            | 814/966 [05:44<00:59,  2.54it/s]"
     ]
    },
    {
     "name": "stdout",
     "output_type": "stream",
     "text": [
      "\n"
     ]
    },
    {
     "name": "stderr",
     "output_type": "stream",
     "text": [
      "\r",
      " 84%|███████████████████████████████████████████████████████████████████▍            | 815/966 [05:44<01:02,  2.41it/s]"
     ]
    },
    {
     "name": "stdout",
     "output_type": "stream",
     "text": [
      "\n"
     ]
    },
    {
     "name": "stderr",
     "output_type": "stream",
     "text": [
      "\r",
      " 84%|███████████████████████████████████████████████████████████████████▌            | 816/966 [05:45<01:04,  2.32it/s]"
     ]
    },
    {
     "name": "stdout",
     "output_type": "stream",
     "text": [
      "\n"
     ]
    },
    {
     "name": "stderr",
     "output_type": "stream",
     "text": [
      "\r",
      " 85%|███████████████████████████████████████████████████████████████████▋            | 817/966 [05:45<01:07,  2.19it/s]"
     ]
    },
    {
     "name": "stdout",
     "output_type": "stream",
     "text": [
      "\n"
     ]
    },
    {
     "name": "stderr",
     "output_type": "stream",
     "text": [
      "\r",
      " 85%|███████████████████████████████████████████████████████████████████▋            | 818/966 [05:46<01:08,  2.15it/s]"
     ]
    },
    {
     "name": "stdout",
     "output_type": "stream",
     "text": [
      "\n"
     ]
    },
    {
     "name": "stderr",
     "output_type": "stream",
     "text": [
      "\r",
      " 85%|███████████████████████████████████████████████████████████████████▊            | 819/966 [05:46<01:10,  2.09it/s]"
     ]
    },
    {
     "name": "stdout",
     "output_type": "stream",
     "text": [
      "\n"
     ]
    },
    {
     "name": "stderr",
     "output_type": "stream",
     "text": [
      "\r",
      " 85%|███████████████████████████████████████████████████████████████████▉            | 820/966 [05:47<01:10,  2.07it/s]"
     ]
    },
    {
     "name": "stdout",
     "output_type": "stream",
     "text": [
      "\n"
     ]
    },
    {
     "name": "stderr",
     "output_type": "stream",
     "text": [
      "\r",
      " 85%|███████████████████████████████████████████████████████████████████▉            | 821/966 [05:47<01:08,  2.11it/s]"
     ]
    },
    {
     "name": "stdout",
     "output_type": "stream",
     "text": [
      "\n"
     ]
    },
    {
     "name": "stderr",
     "output_type": "stream",
     "text": [
      "\r",
      " 85%|████████████████████████████████████████████████████████████████████            | 822/966 [05:48<01:11,  2.02it/s]"
     ]
    },
    {
     "name": "stdout",
     "output_type": "stream",
     "text": [
      "\n"
     ]
    },
    {
     "name": "stderr",
     "output_type": "stream",
     "text": [
      "\r",
      " 85%|████████████████████████████████████████████████████████████████████▏           | 823/966 [05:48<01:09,  2.06it/s]"
     ]
    },
    {
     "name": "stdout",
     "output_type": "stream",
     "text": [
      "\n"
     ]
    },
    {
     "name": "stderr",
     "output_type": "stream",
     "text": [
      "\r",
      " 85%|████████████████████████████████████████████████████████████████████▏           | 824/966 [05:49<01:11,  1.99it/s]"
     ]
    },
    {
     "name": "stdout",
     "output_type": "stream",
     "text": [
      "\n"
     ]
    },
    {
     "name": "stderr",
     "output_type": "stream",
     "text": [
      "\r",
      " 85%|████████████████████████████████████████████████████████████████████▎           | 825/966 [05:49<01:09,  2.04it/s]"
     ]
    },
    {
     "name": "stdout",
     "output_type": "stream",
     "text": [
      "\n",
      "\n"
     ]
    },
    {
     "name": "stderr",
     "output_type": "stream",
     "text": [
      "\r",
      " 86%|████████████████████████████████████████████████████████████████████▍           | 827/966 [05:50<01:00,  2.29it/s]"
     ]
    },
    {
     "name": "stdout",
     "output_type": "stream",
     "text": [
      "\n"
     ]
    },
    {
     "name": "stderr",
     "output_type": "stream",
     "text": [
      "\r",
      " 86%|████████████████████████████████████████████████████████████████████▌           | 828/966 [05:50<01:04,  2.15it/s]"
     ]
    },
    {
     "name": "stdout",
     "output_type": "stream",
     "text": [
      "\n",
      "\n"
     ]
    },
    {
     "name": "stderr",
     "output_type": "stream",
     "text": [
      "\r",
      " 86%|████████████████████████████████████████████████████████████████████▋           | 830/966 [05:51<00:54,  2.48it/s]"
     ]
    },
    {
     "name": "stdout",
     "output_type": "stream",
     "text": [
      "\n"
     ]
    },
    {
     "name": "stderr",
     "output_type": "stream",
     "text": [
      "\r",
      " 86%|████████████████████████████████████████████████████████████████████▊           | 831/966 [05:51<01:00,  2.24it/s]"
     ]
    },
    {
     "name": "stdout",
     "output_type": "stream",
     "text": [
      "\n"
     ]
    },
    {
     "name": "stderr",
     "output_type": "stream",
     "text": [
      "\r",
      " 86%|████████████████████████████████████████████████████████████████████▉           | 832/966 [05:52<01:00,  2.22it/s]"
     ]
    },
    {
     "name": "stdout",
     "output_type": "stream",
     "text": [
      "\n"
     ]
    },
    {
     "name": "stderr",
     "output_type": "stream",
     "text": [
      "\r",
      " 86%|████████████████████████████████████████████████████████████████████▉           | 833/966 [05:52<01:00,  2.20it/s]"
     ]
    },
    {
     "name": "stdout",
     "output_type": "stream",
     "text": [
      "\n"
     ]
    },
    {
     "name": "stderr",
     "output_type": "stream",
     "text": [
      "\r",
      " 86%|█████████████████████████████████████████████████████████████████████           | 834/966 [05:53<01:00,  2.16it/s]"
     ]
    },
    {
     "name": "stdout",
     "output_type": "stream",
     "text": [
      "\n"
     ]
    },
    {
     "name": "stderr",
     "output_type": "stream",
     "text": [
      "\r",
      " 86%|█████████████████████████████████████████████████████████████████████▏          | 835/966 [05:53<01:00,  2.17it/s]"
     ]
    },
    {
     "name": "stdout",
     "output_type": "stream",
     "text": [
      "\n"
     ]
    },
    {
     "name": "stderr",
     "output_type": "stream",
     "text": [
      "\r",
      " 87%|█████████████████████████████████████████████████████████████████████▏          | 836/966 [05:54<00:59,  2.19it/s]"
     ]
    },
    {
     "name": "stdout",
     "output_type": "stream",
     "text": [
      "\n"
     ]
    },
    {
     "name": "stderr",
     "output_type": "stream",
     "text": [
      "\r",
      " 87%|█████████████████████████████████████████████████████████████████████▎          | 837/966 [05:54<01:00,  2.15it/s]"
     ]
    },
    {
     "name": "stdout",
     "output_type": "stream",
     "text": [
      "\n"
     ]
    },
    {
     "name": "stderr",
     "output_type": "stream",
     "text": [
      "\r",
      " 87%|█████████████████████████████████████████████████████████████████████▍          | 838/966 [05:55<01:02,  2.06it/s]"
     ]
    },
    {
     "name": "stdout",
     "output_type": "stream",
     "text": [
      "\n"
     ]
    },
    {
     "name": "stderr",
     "output_type": "stream",
     "text": [
      "\r",
      " 87%|█████████████████████████████████████████████████████████████████████▍          | 839/966 [05:55<01:05,  1.94it/s]"
     ]
    },
    {
     "name": "stdout",
     "output_type": "stream",
     "text": [
      "\n"
     ]
    },
    {
     "name": "stderr",
     "output_type": "stream",
     "text": [
      "\r",
      " 87%|█████████████████████████████████████████████████████████████████████▌          | 840/966 [05:56<01:07,  1.86it/s]"
     ]
    },
    {
     "name": "stdout",
     "output_type": "stream",
     "text": [
      "\n"
     ]
    },
    {
     "name": "stderr",
     "output_type": "stream",
     "text": [
      "\r",
      " 87%|█████████████████████████████████████████████████████████████████████▋          | 841/966 [05:56<01:08,  1.82it/s]"
     ]
    },
    {
     "name": "stdout",
     "output_type": "stream",
     "text": [
      "\n"
     ]
    },
    {
     "name": "stderr",
     "output_type": "stream",
     "text": [
      "\r",
      " 87%|█████████████████████████████████████████████████████████████████████▋          | 842/966 [05:57<01:06,  1.87it/s]"
     ]
    },
    {
     "name": "stdout",
     "output_type": "stream",
     "text": [
      "\n"
     ]
    },
    {
     "name": "stderr",
     "output_type": "stream",
     "text": [
      "\r",
      " 87%|█████████████████████████████████████████████████████████████████████▊          | 843/966 [05:57<01:06,  1.84it/s]"
     ]
    },
    {
     "name": "stdout",
     "output_type": "stream",
     "text": [
      "\n"
     ]
    },
    {
     "name": "stderr",
     "output_type": "stream",
     "text": [
      "\r",
      " 87%|█████████████████████████████████████████████████████████████████████▉          | 844/966 [05:58<01:04,  1.89it/s]"
     ]
    },
    {
     "name": "stdout",
     "output_type": "stream",
     "text": [
      "\n"
     ]
    },
    {
     "name": "stderr",
     "output_type": "stream",
     "text": [
      "\r",
      " 87%|█████████████████████████████████████████████████████████████████████▉          | 845/966 [05:58<01:03,  1.90it/s]"
     ]
    },
    {
     "name": "stdout",
     "output_type": "stream",
     "text": [
      "\n"
     ]
    },
    {
     "name": "stderr",
     "output_type": "stream",
     "text": [
      "\r",
      " 88%|██████████████████████████████████████████████████████████████████████          | 846/966 [05:59<01:00,  1.98it/s]"
     ]
    },
    {
     "name": "stdout",
     "output_type": "stream",
     "text": [
      "\n"
     ]
    },
    {
     "name": "stderr",
     "output_type": "stream",
     "text": [
      "\r",
      " 88%|██████████████████████████████████████████████████████████████████████▏         | 847/966 [05:59<00:57,  2.08it/s]"
     ]
    },
    {
     "name": "stdout",
     "output_type": "stream",
     "text": [
      "\n"
     ]
    },
    {
     "name": "stderr",
     "output_type": "stream",
     "text": [
      "\r",
      " 88%|██████████████████████████████████████████████████████████████████████▏         | 848/966 [06:00<00:59,  1.99it/s]"
     ]
    },
    {
     "name": "stdout",
     "output_type": "stream",
     "text": [
      "\n"
     ]
    },
    {
     "name": "stderr",
     "output_type": "stream",
     "text": [
      "\r",
      " 88%|██████████████████████████████████████████████████████████████████████▎         | 849/966 [06:00<00:56,  2.07it/s]"
     ]
    },
    {
     "name": "stdout",
     "output_type": "stream",
     "text": [
      "\n"
     ]
    },
    {
     "name": "stderr",
     "output_type": "stream",
     "text": [
      "\r",
      " 88%|██████████████████████████████████████████████████████████████████████▍         | 850/966 [06:01<00:56,  2.04it/s]"
     ]
    },
    {
     "name": "stdout",
     "output_type": "stream",
     "text": [
      "\n"
     ]
    },
    {
     "name": "stderr",
     "output_type": "stream",
     "text": [
      "\r",
      " 88%|██████████████████████████████████████████████████████████████████████▍         | 851/966 [06:01<00:54,  2.09it/s]"
     ]
    },
    {
     "name": "stdout",
     "output_type": "stream",
     "text": [
      "\n",
      "\n"
     ]
    },
    {
     "name": "stderr",
     "output_type": "stream",
     "text": [
      "\r",
      " 88%|██████████████████████████████████████████████████████████████████████▋         | 853/966 [06:02<00:46,  2.43it/s]"
     ]
    },
    {
     "name": "stdout",
     "output_type": "stream",
     "text": [
      "\n"
     ]
    },
    {
     "name": "stderr",
     "output_type": "stream",
     "text": [
      "\r",
      " 88%|██████████████████████████████████████████████████████████████████████▋         | 854/966 [06:02<00:49,  2.25it/s]"
     ]
    },
    {
     "name": "stdout",
     "output_type": "stream",
     "text": [
      "\n"
     ]
    },
    {
     "name": "stderr",
     "output_type": "stream",
     "text": [
      "\r",
      " 89%|██████████████████████████████████████████████████████████████████████▊         | 855/966 [06:03<00:50,  2.22it/s]"
     ]
    },
    {
     "name": "stdout",
     "output_type": "stream",
     "text": [
      "\n"
     ]
    },
    {
     "name": "stderr",
     "output_type": "stream",
     "text": [
      "\r",
      " 89%|██████████████████████████████████████████████████████████████████████▉         | 856/966 [06:03<00:50,  2.16it/s]"
     ]
    },
    {
     "name": "stdout",
     "output_type": "stream",
     "text": [
      "\n"
     ]
    },
    {
     "name": "stderr",
     "output_type": "stream",
     "text": [
      "\r",
      " 89%|██████████████████████████████████████████████████████████████████████▉         | 857/966 [06:04<00:51,  2.13it/s]"
     ]
    },
    {
     "name": "stdout",
     "output_type": "stream",
     "text": [
      "\n"
     ]
    },
    {
     "name": "stderr",
     "output_type": "stream",
     "text": [
      "\r",
      " 89%|███████████████████████████████████████████████████████████████████████         | 858/966 [06:04<00:50,  2.15it/s]"
     ]
    },
    {
     "name": "stdout",
     "output_type": "stream",
     "text": [
      "\n"
     ]
    },
    {
     "name": "stderr",
     "output_type": "stream",
     "text": [
      "\r",
      " 89%|███████████████████████████████████████████████████████████████████████▏        | 859/966 [06:05<00:50,  2.13it/s]"
     ]
    },
    {
     "name": "stdout",
     "output_type": "stream",
     "text": [
      "\n"
     ]
    },
    {
     "name": "stderr",
     "output_type": "stream",
     "text": [
      "\r",
      " 89%|███████████████████████████████████████████████████████████████████████▏        | 860/966 [06:05<00:50,  2.12it/s]"
     ]
    },
    {
     "name": "stdout",
     "output_type": "stream",
     "text": [
      "\n"
     ]
    },
    {
     "name": "stderr",
     "output_type": "stream",
     "text": [
      "\r",
      " 89%|███████████████████████████████████████████████████████████████████████▎        | 861/966 [06:06<00:49,  2.13it/s]"
     ]
    },
    {
     "name": "stdout",
     "output_type": "stream",
     "text": [
      "\n"
     ]
    },
    {
     "name": "stderr",
     "output_type": "stream",
     "text": [
      "\r",
      " 89%|███████████████████████████████████████████████████████████████████████▍        | 862/966 [06:06<00:48,  2.15it/s]"
     ]
    },
    {
     "name": "stdout",
     "output_type": "stream",
     "text": [
      "\n"
     ]
    },
    {
     "name": "stderr",
     "output_type": "stream",
     "text": [
      "\r",
      " 89%|███████████████████████████████████████████████████████████████████████▍        | 863/966 [06:07<00:49,  2.09it/s]"
     ]
    },
    {
     "name": "stdout",
     "output_type": "stream",
     "text": [
      "\n",
      "\n"
     ]
    },
    {
     "name": "stderr",
     "output_type": "stream",
     "text": [
      "\r",
      " 90%|███████████████████████████████████████████████████████████████████████▋        | 865/966 [06:07<00:41,  2.43it/s]"
     ]
    },
    {
     "name": "stdout",
     "output_type": "stream",
     "text": [
      "\n"
     ]
    },
    {
     "name": "stderr",
     "output_type": "stream",
     "text": [
      "\r",
      " 90%|███████████████████████████████████████████████████████████████████████▋        | 866/966 [06:08<00:43,  2.28it/s]"
     ]
    },
    {
     "name": "stdout",
     "output_type": "stream",
     "text": [
      "\n"
     ]
    },
    {
     "name": "stderr",
     "output_type": "stream",
     "text": [
      "\r",
      " 90%|███████████████████████████████████████████████████████████████████████▊        | 867/966 [06:08<00:43,  2.26it/s]"
     ]
    },
    {
     "name": "stdout",
     "output_type": "stream",
     "text": [
      "\n"
     ]
    },
    {
     "name": "stderr",
     "output_type": "stream",
     "text": [
      "\r",
      " 90%|███████████████████████████████████████████████████████████████████████▉        | 868/966 [06:09<00:43,  2.26it/s]"
     ]
    },
    {
     "name": "stdout",
     "output_type": "stream",
     "text": [
      "\n"
     ]
    },
    {
     "name": "stderr",
     "output_type": "stream",
     "text": [
      "\r",
      " 90%|███████████████████████████████████████████████████████████████████████▉        | 869/966 [06:09<00:44,  2.18it/s]"
     ]
    },
    {
     "name": "stdout",
     "output_type": "stream",
     "text": [
      "\n"
     ]
    },
    {
     "name": "stderr",
     "output_type": "stream",
     "text": [
      "\r",
      " 90%|████████████████████████████████████████████████████████████████████████        | 870/966 [06:10<00:45,  2.13it/s]"
     ]
    },
    {
     "name": "stdout",
     "output_type": "stream",
     "text": [
      "\n"
     ]
    },
    {
     "name": "stderr",
     "output_type": "stream",
     "text": [
      "\r",
      " 90%|████████████████████████████████████████████████████████████████████████▏       | 871/966 [06:10<00:44,  2.16it/s]"
     ]
    },
    {
     "name": "stdout",
     "output_type": "stream",
     "text": [
      "\n"
     ]
    },
    {
     "name": "stderr",
     "output_type": "stream",
     "text": [
      "\r",
      " 90%|████████████████████████████████████████████████████████████████████████▏       | 872/966 [06:10<00:43,  2.16it/s]"
     ]
    },
    {
     "name": "stdout",
     "output_type": "stream",
     "text": [
      "\n"
     ]
    },
    {
     "name": "stderr",
     "output_type": "stream",
     "text": [
      "\r",
      " 90%|████████████████████████████████████████████████████████████████████████▎       | 873/966 [06:11<00:43,  2.13it/s]"
     ]
    },
    {
     "name": "stdout",
     "output_type": "stream",
     "text": [
      "\n"
     ]
    },
    {
     "name": "stderr",
     "output_type": "stream",
     "text": [
      "\r",
      " 90%|████████████████████████████████████████████████████████████████████████▍       | 874/966 [06:11<00:42,  2.14it/s]"
     ]
    },
    {
     "name": "stdout",
     "output_type": "stream",
     "text": [
      "\n"
     ]
    },
    {
     "name": "stderr",
     "output_type": "stream",
     "text": [
      "\r",
      " 91%|████████████████████████████████████████████████████████████████████████▍       | 875/966 [06:12<00:41,  2.17it/s]"
     ]
    },
    {
     "name": "stdout",
     "output_type": "stream",
     "text": [
      "\n"
     ]
    },
    {
     "name": "stderr",
     "output_type": "stream",
     "text": [
      "\r",
      " 91%|████████████████████████████████████████████████████████████████████████▌       | 876/966 [06:12<00:41,  2.19it/s]"
     ]
    },
    {
     "name": "stdout",
     "output_type": "stream",
     "text": [
      "\n"
     ]
    },
    {
     "name": "stderr",
     "output_type": "stream",
     "text": [
      "\r",
      " 91%|████████████████████████████████████████████████████████████████████████▋       | 877/966 [06:13<00:43,  2.06it/s]"
     ]
    },
    {
     "name": "stdout",
     "output_type": "stream",
     "text": [
      "\n"
     ]
    },
    {
     "name": "stderr",
     "output_type": "stream",
     "text": [
      "\r",
      " 91%|████████████████████████████████████████████████████████████████████████▋       | 878/966 [06:13<00:42,  2.06it/s]"
     ]
    },
    {
     "name": "stdout",
     "output_type": "stream",
     "text": [
      "\n"
     ]
    },
    {
     "name": "stderr",
     "output_type": "stream",
     "text": [
      "\r",
      " 91%|████████████████████████████████████████████████████████████████████████▊       | 879/966 [06:14<00:42,  2.03it/s]"
     ]
    },
    {
     "name": "stdout",
     "output_type": "stream",
     "text": [
      "\n"
     ]
    },
    {
     "name": "stderr",
     "output_type": "stream",
     "text": [
      "\r",
      " 91%|████████████████████████████████████████████████████████████████████████▉       | 880/966 [06:14<00:40,  2.10it/s]"
     ]
    },
    {
     "name": "stdout",
     "output_type": "stream",
     "text": [
      "\n"
     ]
    },
    {
     "name": "stderr",
     "output_type": "stream",
     "text": [
      "\r",
      " 91%|████████████████████████████████████████████████████████████████████████▉       | 881/966 [06:15<00:41,  2.03it/s]"
     ]
    },
    {
     "name": "stdout",
     "output_type": "stream",
     "text": [
      "\n",
      "\n"
     ]
    },
    {
     "name": "stderr",
     "output_type": "stream",
     "text": [
      "\r",
      " 91%|█████████████████████████████████████████████████████████████████████████▏      | 883/966 [06:15<00:34,  2.39it/s]"
     ]
    },
    {
     "name": "stdout",
     "output_type": "stream",
     "text": [
      "\n"
     ]
    },
    {
     "name": "stderr",
     "output_type": "stream",
     "text": [
      "\r",
      " 92%|█████████████████████████████████████████████████████████████████████████▏      | 884/966 [06:16<00:37,  2.21it/s]"
     ]
    },
    {
     "name": "stdout",
     "output_type": "stream",
     "text": [
      "\n"
     ]
    },
    {
     "name": "stderr",
     "output_type": "stream",
     "text": [
      "\r",
      " 92%|█████████████████████████████████████████████████████████████████████████▎      | 885/966 [06:16<00:36,  2.20it/s]"
     ]
    },
    {
     "name": "stdout",
     "output_type": "stream",
     "text": [
      "\n"
     ]
    },
    {
     "name": "stderr",
     "output_type": "stream",
     "text": [
      "\r",
      " 92%|█████████████████████████████████████████████████████████████████████████▎      | 886/966 [06:17<00:37,  2.12it/s]"
     ]
    },
    {
     "name": "stdout",
     "output_type": "stream",
     "text": [
      "\n"
     ]
    },
    {
     "name": "stderr",
     "output_type": "stream",
     "text": [
      "\r",
      " 92%|█████████████████████████████████████████████████████████████████████████▍      | 887/966 [06:17<00:38,  2.04it/s]"
     ]
    },
    {
     "name": "stdout",
     "output_type": "stream",
     "text": [
      "\n"
     ]
    },
    {
     "name": "stderr",
     "output_type": "stream",
     "text": [
      "\r",
      " 92%|█████████████████████████████████████████████████████████████████████████▌      | 888/966 [06:18<00:37,  2.06it/s]"
     ]
    },
    {
     "name": "stdout",
     "output_type": "stream",
     "text": [
      "\n"
     ]
    },
    {
     "name": "stderr",
     "output_type": "stream",
     "text": [
      "\r",
      " 92%|█████████████████████████████████████████████████████████████████████████▌      | 889/966 [06:18<00:37,  2.03it/s]"
     ]
    },
    {
     "name": "stdout",
     "output_type": "stream",
     "text": [
      "\n"
     ]
    },
    {
     "name": "stderr",
     "output_type": "stream",
     "text": [
      "\r",
      " 92%|█████████████████████████████████████████████████████████████████████████▋      | 890/966 [06:19<00:36,  2.06it/s]"
     ]
    },
    {
     "name": "stdout",
     "output_type": "stream",
     "text": [
      "\n"
     ]
    },
    {
     "name": "stderr",
     "output_type": "stream",
     "text": [
      "\r",
      " 92%|█████████████████████████████████████████████████████████████████████████▊      | 891/966 [06:19<00:34,  2.14it/s]"
     ]
    },
    {
     "name": "stdout",
     "output_type": "stream",
     "text": [
      "\n"
     ]
    },
    {
     "name": "stderr",
     "output_type": "stream",
     "text": [
      "\r",
      " 92%|█████████████████████████████████████████████████████████████████████████▊      | 892/966 [06:20<00:33,  2.19it/s]"
     ]
    },
    {
     "name": "stdout",
     "output_type": "stream",
     "text": [
      "\n"
     ]
    },
    {
     "name": "stderr",
     "output_type": "stream",
     "text": [
      "\r",
      " 92%|█████████████████████████████████████████████████████████████████████████▉      | 893/966 [06:20<00:32,  2.23it/s]"
     ]
    },
    {
     "name": "stdout",
     "output_type": "stream",
     "text": [
      "\n"
     ]
    },
    {
     "name": "stderr",
     "output_type": "stream",
     "text": [
      "\r",
      " 93%|██████████████████████████████████████████████████████████████████████████      | 894/966 [06:21<00:32,  2.19it/s]"
     ]
    },
    {
     "name": "stdout",
     "output_type": "stream",
     "text": [
      "\n"
     ]
    },
    {
     "name": "stderr",
     "output_type": "stream",
     "text": [
      "\r",
      " 93%|██████████████████████████████████████████████████████████████████████████      | 895/966 [06:21<00:32,  2.15it/s]"
     ]
    },
    {
     "name": "stdout",
     "output_type": "stream",
     "text": [
      "\n"
     ]
    },
    {
     "name": "stderr",
     "output_type": "stream",
     "text": [
      " 93%|██████████████████████████████████████████████████████████████████████████▎     | 897/966 [06:22<00:25,  2.76it/s]"
     ]
    },
    {
     "name": "stdout",
     "output_type": "stream",
     "text": [
      "\n",
      "\n"
     ]
    },
    {
     "name": "stderr",
     "output_type": "stream",
     "text": [
      "\r",
      " 93%|██████████████████████████████████████████████████████████████████████████▎     | 898/966 [06:22<00:27,  2.49it/s]"
     ]
    },
    {
     "name": "stdout",
     "output_type": "stream",
     "text": [
      "\n"
     ]
    },
    {
     "name": "stderr",
     "output_type": "stream",
     "text": [
      "\r",
      " 93%|██████████████████████████████████████████████████████████████████████████▍     | 899/966 [06:23<00:29,  2.27it/s]"
     ]
    },
    {
     "name": "stdout",
     "output_type": "stream",
     "text": [
      "\n",
      "\n",
      "\n"
     ]
    },
    {
     "name": "stderr",
     "output_type": "stream",
     "text": [
      "\r",
      " 93%|██████████████████████████████████████████████████████████████████████████▋     | 902/966 [06:23<00:23,  2.69it/s]"
     ]
    },
    {
     "name": "stdout",
     "output_type": "stream",
     "text": [
      "\n"
     ]
    },
    {
     "name": "stderr",
     "output_type": "stream",
     "text": [
      "\r",
      " 93%|██████████████████████████████████████████████████████████████████████████▊     | 903/966 [06:24<00:25,  2.46it/s]"
     ]
    },
    {
     "name": "stdout",
     "output_type": "stream",
     "text": [
      "\n"
     ]
    },
    {
     "name": "stderr",
     "output_type": "stream",
     "text": [
      "\r",
      " 94%|██████████████████████████████████████████████████████████████████████████▊     | 904/966 [06:24<00:26,  2.31it/s]"
     ]
    },
    {
     "name": "stdout",
     "output_type": "stream",
     "text": [
      "\n"
     ]
    },
    {
     "name": "stderr",
     "output_type": "stream",
     "text": [
      "\r",
      " 94%|██████████████████████████████████████████████████████████████████████████▉     | 905/966 [06:25<00:27,  2.20it/s]"
     ]
    },
    {
     "name": "stdout",
     "output_type": "stream",
     "text": [
      "\n"
     ]
    },
    {
     "name": "stderr",
     "output_type": "stream",
     "text": [
      " 94%|███████████████████████████████████████████████████████████████████████████▏    | 908/966 [06:25<00:21,  2.73it/s]"
     ]
    },
    {
     "name": "stdout",
     "output_type": "stream",
     "text": [
      "\n",
      "\n",
      "\n"
     ]
    },
    {
     "name": "stderr",
     "output_type": "stream",
     "text": [
      "\r",
      " 94%|███████████████████████████████████████████████████████████████████████████▎    | 909/966 [06:26<00:23,  2.47it/s]"
     ]
    },
    {
     "name": "stdout",
     "output_type": "stream",
     "text": [
      "\n"
     ]
    },
    {
     "name": "stderr",
     "output_type": "stream",
     "text": [
      "\r",
      " 94%|███████████████████████████████████████████████████████████████████████████▎    | 910/966 [06:26<00:23,  2.35it/s]"
     ]
    },
    {
     "name": "stdout",
     "output_type": "stream",
     "text": [
      "\n"
     ]
    },
    {
     "name": "stderr",
     "output_type": "stream",
     "text": [
      "\r",
      " 94%|███████████████████████████████████████████████████████████████████████████▍    | 911/966 [06:27<00:25,  2.17it/s]"
     ]
    },
    {
     "name": "stdout",
     "output_type": "stream",
     "text": [
      "\n",
      "\n"
     ]
    },
    {
     "name": "stderr",
     "output_type": "stream",
     "text": [
      "\r",
      " 95%|███████████████████████████████████████████████████████████████████████████▌    | 913/966 [06:28<00:21,  2.50it/s]"
     ]
    },
    {
     "name": "stdout",
     "output_type": "stream",
     "text": [
      "\n"
     ]
    },
    {
     "name": "stderr",
     "output_type": "stream",
     "text": [
      "\r",
      " 95%|███████████████████████████████████████████████████████████████████████████▋    | 914/966 [06:28<00:22,  2.33it/s]"
     ]
    },
    {
     "name": "stdout",
     "output_type": "stream",
     "text": [
      "\n"
     ]
    },
    {
     "name": "stderr",
     "output_type": "stream",
     "text": [
      "\r",
      " 95%|███████████████████████████████████████████████████████████████████████████▊    | 915/966 [06:28<00:22,  2.25it/s]"
     ]
    },
    {
     "name": "stdout",
     "output_type": "stream",
     "text": [
      "\n"
     ]
    },
    {
     "name": "stderr",
     "output_type": "stream",
     "text": [
      "\r",
      " 95%|███████████████████████████████████████████████████████████████████████████▊    | 916/966 [06:29<00:23,  2.12it/s]"
     ]
    },
    {
     "name": "stdout",
     "output_type": "stream",
     "text": [
      "\n"
     ]
    },
    {
     "name": "stderr",
     "output_type": "stream",
     "text": [
      "\r",
      " 95%|███████████████████████████████████████████████████████████████████████████▉    | 917/966 [06:29<00:23,  2.13it/s]"
     ]
    },
    {
     "name": "stdout",
     "output_type": "stream",
     "text": [
      "\n"
     ]
    },
    {
     "name": "stderr",
     "output_type": "stream",
     "text": [
      "\r",
      " 95%|████████████████████████████████████████████████████████████████████████████    | 918/966 [06:30<00:23,  2.03it/s]"
     ]
    },
    {
     "name": "stdout",
     "output_type": "stream",
     "text": [
      "\n"
     ]
    },
    {
     "name": "stderr",
     "output_type": "stream",
     "text": [
      "\r",
      " 95%|████████████████████████████████████████████████████████████████████████████    | 919/966 [06:31<00:35,  1.32it/s]"
     ]
    },
    {
     "name": "stdout",
     "output_type": "stream",
     "text": [
      "\n"
     ]
    },
    {
     "name": "stderr",
     "output_type": "stream",
     "text": [
      "\r",
      " 95%|████████████████████████████████████████████████████████████████████████████▏   | 920/966 [06:32<00:31,  1.46it/s]"
     ]
    },
    {
     "name": "stdout",
     "output_type": "stream",
     "text": [
      "\n"
     ]
    },
    {
     "name": "stderr",
     "output_type": "stream",
     "text": [
      " 96%|████████████████████████████████████████████████████████████████████████████▍   | 923/966 [06:33<00:19,  2.16it/s]"
     ]
    },
    {
     "name": "stdout",
     "output_type": "stream",
     "text": [
      "\n",
      "\n",
      "\n"
     ]
    },
    {
     "name": "stderr",
     "output_type": "stream",
     "text": [
      "\r",
      " 96%|████████████████████████████████████████████████████████████████████████████▌   | 924/966 [06:33<00:20,  2.08it/s]"
     ]
    },
    {
     "name": "stdout",
     "output_type": "stream",
     "text": [
      "\n"
     ]
    },
    {
     "name": "stderr",
     "output_type": "stream",
     "text": [
      "\r",
      " 96%|████████████████████████████████████████████████████████████████████████████▌   | 925/966 [06:34<00:19,  2.08it/s]"
     ]
    },
    {
     "name": "stdout",
     "output_type": "stream",
     "text": [
      "\n"
     ]
    },
    {
     "name": "stderr",
     "output_type": "stream",
     "text": [
      "\r",
      " 96%|████████████████████████████████████████████████████████████████████████████▋   | 926/966 [06:34<00:18,  2.12it/s]"
     ]
    },
    {
     "name": "stdout",
     "output_type": "stream",
     "text": [
      "\n"
     ]
    },
    {
     "name": "stderr",
     "output_type": "stream",
     "text": [
      "\r",
      " 96%|████████████████████████████████████████████████████████████████████████████▊   | 927/966 [06:35<00:18,  2.08it/s]"
     ]
    },
    {
     "name": "stdout",
     "output_type": "stream",
     "text": [
      "\n",
      "\n"
     ]
    },
    {
     "name": "stderr",
     "output_type": "stream",
     "text": [
      "\r",
      " 96%|████████████████████████████████████████████████████████████████████████████▉   | 929/966 [06:35<00:15,  2.42it/s]"
     ]
    },
    {
     "name": "stdout",
     "output_type": "stream",
     "text": [
      "\n"
     ]
    },
    {
     "name": "stderr",
     "output_type": "stream",
     "text": [
      "\r",
      " 96%|█████████████████████████████████████████████████████████████████████████████   | 930/966 [06:36<00:15,  2.25it/s]"
     ]
    },
    {
     "name": "stdout",
     "output_type": "stream",
     "text": [
      "\n"
     ]
    },
    {
     "name": "stderr",
     "output_type": "stream",
     "text": [
      "\r",
      " 96%|█████████████████████████████████████████████████████████████████████████████   | 931/966 [06:36<00:15,  2.25it/s]"
     ]
    },
    {
     "name": "stdout",
     "output_type": "stream",
     "text": [
      "\n"
     ]
    },
    {
     "name": "stderr",
     "output_type": "stream",
     "text": [
      "\r",
      " 96%|█████████████████████████████████████████████████████████████████████████████▏  | 932/966 [06:36<00:15,  2.24it/s]"
     ]
    },
    {
     "name": "stdout",
     "output_type": "stream",
     "text": [
      "\n"
     ]
    },
    {
     "name": "stderr",
     "output_type": "stream",
     "text": [
      " 97%|█████████████████████████████████████████████████████████████████████████████▍  | 935/966 [06:37<00:11,  2.66it/s]"
     ]
    },
    {
     "name": "stdout",
     "output_type": "stream",
     "text": [
      "\n",
      "\n",
      "\n"
     ]
    },
    {
     "name": "stderr",
     "output_type": "stream",
     "text": [
      "\r",
      " 97%|█████████████████████████████████████████████████████████████████████████████▌  | 936/966 [06:38<00:12,  2.38it/s]"
     ]
    },
    {
     "name": "stdout",
     "output_type": "stream",
     "text": [
      "\n"
     ]
    },
    {
     "name": "stderr",
     "output_type": "stream",
     "text": [
      "\r",
      " 97%|█████████████████████████████████████████████████████████████████████████████▌  | 937/966 [06:38<00:12,  2.27it/s]"
     ]
    },
    {
     "name": "stdout",
     "output_type": "stream",
     "text": [
      "\n"
     ]
    },
    {
     "name": "stderr",
     "output_type": "stream",
     "text": [
      "\r",
      " 97%|█████████████████████████████████████████████████████████████████████████████▋  | 938/966 [06:39<00:12,  2.17it/s]"
     ]
    },
    {
     "name": "stdout",
     "output_type": "stream",
     "text": [
      "\n"
     ]
    },
    {
     "name": "stderr",
     "output_type": "stream",
     "text": [
      "\r",
      " 97%|█████████████████████████████████████████████████████████████████████████████▊  | 939/966 [06:39<00:12,  2.11it/s]"
     ]
    },
    {
     "name": "stdout",
     "output_type": "stream",
     "text": [
      "\n"
     ]
    },
    {
     "name": "stderr",
     "output_type": "stream",
     "text": [
      "\r",
      " 97%|█████████████████████████████████████████████████████████████████████████████▊  | 940/966 [06:40<00:12,  2.12it/s]"
     ]
    },
    {
     "name": "stdout",
     "output_type": "stream",
     "text": [
      "\n"
     ]
    },
    {
     "name": "stderr",
     "output_type": "stream",
     "text": [
      "\r",
      " 97%|█████████████████████████████████████████████████████████████████████████████▉  | 941/966 [06:40<00:11,  2.12it/s]"
     ]
    },
    {
     "name": "stdout",
     "output_type": "stream",
     "text": [
      "\n"
     ]
    },
    {
     "name": "stderr",
     "output_type": "stream",
     "text": [
      "\r",
      " 98%|██████████████████████████████████████████████████████████████████████████████  | 942/966 [06:41<00:11,  2.12it/s]"
     ]
    },
    {
     "name": "stdout",
     "output_type": "stream",
     "text": [
      "\n",
      "\n"
     ]
    },
    {
     "name": "stderr",
     "output_type": "stream",
     "text": [
      "\r",
      " 98%|██████████████████████████████████████████████████████████████████████████████▏ | 944/966 [06:41<00:08,  2.48it/s]"
     ]
    },
    {
     "name": "stdout",
     "output_type": "stream",
     "text": [
      "\n"
     ]
    },
    {
     "name": "stderr",
     "output_type": "stream",
     "text": [
      "\r",
      " 98%|██████████████████████████████████████████████████████████████████████████████▎ | 945/966 [06:42<00:09,  2.22it/s]"
     ]
    },
    {
     "name": "stdout",
     "output_type": "stream",
     "text": [
      "\n"
     ]
    },
    {
     "name": "stderr",
     "output_type": "stream",
     "text": [
      "\r",
      " 98%|██████████████████████████████████████████████████████████████████████████████▎ | 946/966 [06:42<00:09,  2.18it/s]"
     ]
    },
    {
     "name": "stdout",
     "output_type": "stream",
     "text": [
      "\n",
      "\n"
     ]
    },
    {
     "name": "stderr",
     "output_type": "stream",
     "text": [
      "\r",
      " 98%|██████████████████████████████████████████████████████████████████████████████▌ | 948/966 [06:43<00:07,  2.43it/s]"
     ]
    },
    {
     "name": "stdout",
     "output_type": "stream",
     "text": [
      "\n"
     ]
    },
    {
     "name": "stderr",
     "output_type": "stream",
     "text": [
      "\r",
      " 98%|██████████████████████████████████████████████████████████████████████████████▌ | 949/966 [06:43<00:07,  2.26it/s]"
     ]
    },
    {
     "name": "stdout",
     "output_type": "stream",
     "text": [
      "\n",
      "\n"
     ]
    },
    {
     "name": "stderr",
     "output_type": "stream",
     "text": [
      "\r",
      " 98%|██████████████████████████████████████████████████████████████████████████████▊ | 951/966 [06:44<00:05,  2.54it/s]"
     ]
    },
    {
     "name": "stdout",
     "output_type": "stream",
     "text": [
      "\n"
     ]
    },
    {
     "name": "stderr",
     "output_type": "stream",
     "text": [
      "\r",
      " 99%|██████████████████████████████████████████████████████████████████████████████▊ | 952/966 [06:44<00:06,  2.28it/s]"
     ]
    },
    {
     "name": "stdout",
     "output_type": "stream",
     "text": [
      "\n"
     ]
    },
    {
     "name": "stderr",
     "output_type": "stream",
     "text": [
      "\r",
      " 99%|██████████████████████████████████████████████████████████████████████████████▉ | 953/966 [06:45<00:05,  2.21it/s]"
     ]
    },
    {
     "name": "stdout",
     "output_type": "stream",
     "text": [
      "\n"
     ]
    },
    {
     "name": "stderr",
     "output_type": "stream",
     "text": [
      " 99%|███████████████████████████████████████████████████████████████████████████████▏| 956/966 [06:46<00:03,  2.77it/s]"
     ]
    },
    {
     "name": "stdout",
     "output_type": "stream",
     "text": [
      "\n",
      "\n",
      "\n",
      "\n"
     ]
    },
    {
     "name": "stderr",
     "output_type": "stream",
     "text": [
      "\r",
      " 99%|███████████████████████████████████████████████████████████████████████████████▎| 958/966 [06:46<00:02,  3.01it/s]"
     ]
    },
    {
     "name": "stdout",
     "output_type": "stream",
     "text": [
      "\n"
     ]
    },
    {
     "name": "stderr",
     "output_type": "stream",
     "text": [
      "\r",
      " 99%|███████████████████████████████████████████████████████████████████████████████▍| 959/966 [06:47<00:02,  2.54it/s]"
     ]
    },
    {
     "name": "stdout",
     "output_type": "stream",
     "text": [
      "\n"
     ]
    },
    {
     "name": "stderr",
     "output_type": "stream",
     "text": [
      "\r",
      " 99%|███████████████████████████████████████████████████████████████████████████████▌| 960/966 [06:47<00:02,  2.39it/s]"
     ]
    },
    {
     "name": "stdout",
     "output_type": "stream",
     "text": [
      "\n"
     ]
    },
    {
     "name": "stderr",
     "output_type": "stream",
     "text": [
      "\r",
      " 99%|███████████████████████████████████████████████████████████████████████████████▌| 961/966 [06:48<00:02,  2.17it/s]"
     ]
    },
    {
     "name": "stdout",
     "output_type": "stream",
     "text": [
      "\n",
      "\n"
     ]
    },
    {
     "name": "stderr",
     "output_type": "stream",
     "text": [
      "\r",
      "100%|███████████████████████████████████████████████████████████████████████████████▊| 963/966 [06:48<00:01,  2.42it/s]"
     ]
    },
    {
     "name": "stdout",
     "output_type": "stream",
     "text": [
      "\n"
     ]
    },
    {
     "name": "stderr",
     "output_type": "stream",
     "text": [
      "\r",
      "100%|███████████████████████████████████████████████████████████████████████████████▊| 964/966 [06:49<00:00,  2.17it/s]"
     ]
    },
    {
     "name": "stdout",
     "output_type": "stream",
     "text": [
      "\n"
     ]
    },
    {
     "name": "stderr",
     "output_type": "stream",
     "text": [
      "\r",
      "100%|███████████████████████████████████████████████████████████████████████████████▉| 965/966 [06:50<00:00,  1.93it/s]"
     ]
    },
    {
     "name": "stdout",
     "output_type": "stream",
     "text": [
      "\n"
     ]
    },
    {
     "name": "stderr",
     "output_type": "stream",
     "text": [
      "100%|████████████████████████████████████████████████████████████████████████████████| 966/966 [06:50<00:00,  2.35it/s]\n"
     ]
    },
    {
     "name": "stdout",
     "output_type": "stream",
     "text": [
      "                       2005-06-13  2005-02-17  2005-10-21  2006-08-28  \\\n",
      "name                                                                    \n",
      "A Ahmadhel                    NaN         NaN         NaN         NaN   \n",
      "A Ashokan                     NaN         NaN         NaN         NaN   \n",
      "A Bagai                       NaN         NaN         NaN         NaN   \n",
      "A Balbirnie                   NaN         NaN         NaN         NaN   \n",
      "A Bhagwat                     NaN         NaN         NaN         NaN   \n",
      "...                           ...         ...         ...         ...   \n",
      "Waqas Maqsood                 NaN         NaN         NaN         NaN   \n",
      "YA Abdulla                    NaN         NaN         NaN         NaN   \n",
      "Yamin Ahmadzai                NaN         NaN         NaN         NaN   \n",
      "Yasir Shah                    NaN         NaN         NaN         NaN   \n",
      "Zulqarnain Haider (2)         NaN         NaN         NaN         NaN   \n",
      "\n",
      "                       2006-01-09  2006-02-16  2006-02-24  2007-01-09  \\\n",
      "name                                                                    \n",
      "A Ahmadhel                    NaN         NaN         NaN         NaN   \n",
      "A Ashokan                     NaN         NaN         NaN         NaN   \n",
      "A Bagai                       NaN         NaN         NaN         NaN   \n",
      "A Balbirnie                   NaN         NaN         NaN         NaN   \n",
      "A Bhagwat                     NaN         NaN         NaN         NaN   \n",
      "...                           ...         ...         ...         ...   \n",
      "Waqas Maqsood                 NaN         NaN         NaN         NaN   \n",
      "YA Abdulla                    NaN         NaN         NaN         NaN   \n",
      "Yamin Ahmadzai                NaN         NaN         NaN         NaN   \n",
      "Yasir Shah                    NaN         NaN         NaN         NaN   \n",
      "Zulqarnain Haider (2)         NaN         NaN         NaN         NaN   \n",
      "\n",
      "                       2006-12-26  2006-12-01  ...  2020-11-08  2020-11-10  \\\n",
      "name                                           ...                           \n",
      "A Ahmadhel                    NaN         NaN  ...         NaN         NaN   \n",
      "A Ashokan                     NaN         NaN  ...         NaN         NaN   \n",
      "A Bagai                       NaN         NaN  ...         NaN         NaN   \n",
      "A Balbirnie                   NaN         NaN  ...         NaN         NaN   \n",
      "A Bhagwat                     NaN         NaN  ...         NaN         NaN   \n",
      "...                           ...         ...  ...         ...         ...   \n",
      "Waqas Maqsood                 NaN         NaN  ...         NaN         NaN   \n",
      "YA Abdulla                    NaN         NaN  ...         NaN         NaN   \n",
      "Yamin Ahmadzai                NaN         NaN  ...         NaN         NaN   \n",
      "Yasir Shah                    NaN         NaN  ...         NaN         NaN   \n",
      "Zulqarnain Haider (2)         NaN         NaN  ...         NaN         NaN   \n",
      "\n",
      "                       2020-12-18  2020-12-20  2020-12-22  2020-10-16  \\\n",
      "name                                                                    \n",
      "A Ahmadhel                    NaN         NaN         NaN         NaN   \n",
      "A Ashokan                     NaN         NaN         NaN         NaN   \n",
      "A Bagai                       NaN         NaN         NaN         NaN   \n",
      "A Balbirnie                   NaN         NaN         NaN         NaN   \n",
      "A Bhagwat                     NaN         NaN         NaN         NaN   \n",
      "...                           ...         ...         ...         ...   \n",
      "Waqas Maqsood                 NaN         NaN         NaN         NaN   \n",
      "YA Abdulla                    NaN         NaN         NaN         NaN   \n",
      "Yamin Ahmadzai                NaN         NaN         NaN         NaN   \n",
      "Yasir Shah                    NaN         NaN         NaN         NaN   \n",
      "Zulqarnain Haider (2)         NaN         NaN         NaN         NaN   \n",
      "\n",
      "                       2020-10-18  2020-11-27  2020-11-29  2020-12-01  \n",
      "name                                                                   \n",
      "A Ahmadhel                    8.0         NaN         NaN         NaN  \n",
      "A Ashokan                     NaN         NaN         NaN         NaN  \n",
      "A Bagai                       NaN         NaN         NaN         NaN  \n",
      "A Balbirnie                   NaN         NaN         NaN         NaN  \n",
      "A Bhagwat                     NaN         NaN         NaN         NaN  \n",
      "...                           ...         ...         ...         ...  \n",
      "Waqas Maqsood                 NaN         NaN         NaN         NaN  \n",
      "YA Abdulla                    NaN         NaN         NaN         NaN  \n",
      "Yamin Ahmadzai                NaN         NaN         NaN         NaN  \n",
      "Yasir Shah                    NaN         NaN         NaN         NaN  \n",
      "Zulqarnain Haider (2)         NaN         NaN         NaN         NaN  \n",
      "\n",
      "[1703 rows x 619 columns]\n",
      "                       2005-06-13  2005-02-17  2005-10-21  2006-08-28  \\\n",
      "name                                                                    \n",
      "A Ahmadhel                    NaN         NaN         NaN         NaN   \n",
      "A Ashokan                     NaN         NaN         NaN         NaN   \n",
      "A Bagai                       NaN         NaN         NaN         NaN   \n",
      "A Balbirnie                   NaN         NaN         NaN         NaN   \n",
      "A Bhagwat                     NaN         NaN         NaN         NaN   \n",
      "...                           ...         ...         ...         ...   \n",
      "Waqas Maqsood                 NaN         NaN         NaN         NaN   \n",
      "YA Abdulla                    NaN         NaN         NaN         NaN   \n",
      "Yamin Ahmadzai                NaN         NaN         NaN         NaN   \n",
      "Yasir Shah                    NaN         NaN         NaN         NaN   \n",
      "Zulqarnain Haider (2)         NaN         NaN         NaN         NaN   \n",
      "\n",
      "                       2006-01-09  2006-02-16  2006-02-24  2007-01-09  \\\n",
      "name                                                                    \n",
      "A Ahmadhel                    NaN         NaN         NaN         NaN   \n",
      "A Ashokan                     NaN         NaN         NaN         NaN   \n",
      "A Bagai                       NaN         NaN         NaN         NaN   \n",
      "A Balbirnie                   NaN         NaN         NaN         NaN   \n",
      "A Bhagwat                     NaN         NaN         NaN         NaN   \n",
      "...                           ...         ...         ...         ...   \n",
      "Waqas Maqsood                 NaN         NaN         NaN         NaN   \n",
      "YA Abdulla                    NaN         NaN         NaN         NaN   \n",
      "Yamin Ahmadzai                NaN         NaN         NaN         NaN   \n",
      "Yasir Shah                    NaN         NaN         NaN         NaN   \n",
      "Zulqarnain Haider (2)         NaN         NaN         NaN         NaN   \n",
      "\n",
      "                       2006-12-26  2006-12-01  ...  2020-11-08  2020-11-10  \\\n",
      "name                                           ...                           \n",
      "A Ahmadhel                    NaN         NaN  ...         NaN         NaN   \n",
      "A Ashokan                     NaN         NaN  ...         NaN         NaN   \n",
      "A Bagai                       NaN         NaN  ...         NaN         NaN   \n",
      "A Balbirnie                   NaN         NaN  ...         NaN         NaN   \n",
      "A Bhagwat                     NaN         NaN  ...         NaN         NaN   \n",
      "...                           ...         ...  ...         ...         ...   \n",
      "Waqas Maqsood                 NaN         NaN  ...         NaN         NaN   \n",
      "YA Abdulla                    NaN         NaN  ...         NaN         NaN   \n",
      "Yamin Ahmadzai                NaN         NaN  ...         NaN         NaN   \n",
      "Yasir Shah                    NaN         NaN  ...         NaN         NaN   \n",
      "Zulqarnain Haider (2)         NaN         NaN  ...         NaN         NaN   \n",
      "\n",
      "                       2020-12-18  2020-12-20  2020-12-22  2020-10-16  \\\n",
      "name                                                                    \n",
      "A Ahmadhel                    NaN         NaN         NaN         NaN   \n",
      "A Ashokan                     NaN         NaN         NaN         NaN   \n",
      "A Bagai                       NaN         NaN         NaN         NaN   \n",
      "A Balbirnie                   NaN         NaN         NaN         NaN   \n",
      "A Bhagwat                     NaN         NaN         NaN         NaN   \n",
      "...                           ...         ...         ...         ...   \n",
      "Waqas Maqsood                 NaN         NaN         NaN         NaN   \n",
      "YA Abdulla                    NaN         NaN         NaN         NaN   \n",
      "Yamin Ahmadzai                NaN         NaN         NaN         NaN   \n",
      "Yasir Shah                    NaN         NaN         NaN         NaN   \n",
      "Zulqarnain Haider (2)         NaN         NaN         NaN         NaN   \n",
      "\n",
      "                       2020-10-18  2020-11-27  2020-11-29  2020-12-01  \n",
      "name                                                                   \n",
      "A Ahmadhel                    1.0         NaN         NaN         NaN  \n",
      "A Ashokan                     NaN         NaN         NaN         NaN  \n",
      "A Bagai                       NaN         NaN         NaN         NaN  \n",
      "A Balbirnie                   NaN         NaN         NaN         NaN  \n",
      "A Bhagwat                     NaN         NaN         NaN         NaN  \n",
      "...                           ...         ...         ...         ...  \n",
      "Waqas Maqsood                 NaN         NaN         NaN         NaN  \n",
      "YA Abdulla                    NaN         NaN         NaN         NaN  \n",
      "Yamin Ahmadzai                NaN         NaN         NaN         NaN  \n",
      "Yasir Shah                    NaN         NaN         NaN         NaN  \n",
      "Zulqarnain Haider (2)         NaN         NaN         NaN         NaN  \n",
      "\n",
      "[1703 rows x 619 columns]\n"
     ]
    },
    {
     "name": "stdout",
     "output_type": "stream",
     "text": [
      "                       2005-06-13  2005-02-17  2005-10-21  2006-08-28  \\\n",
      "name                                                                    \n",
      "A Ahmadhel                    NaN         NaN         NaN         NaN   \n",
      "A Ashokan                     NaN         NaN         NaN         NaN   \n",
      "A Bagai                       NaN         NaN         NaN         NaN   \n",
      "A Balbirnie                   NaN         NaN         NaN         NaN   \n",
      "A Bhagwat                     NaN         NaN         NaN         NaN   \n",
      "...                           ...         ...         ...         ...   \n",
      "Waqas Maqsood                 NaN         NaN         NaN         NaN   \n",
      "YA Abdulla                    NaN         NaN         NaN         NaN   \n",
      "Yamin Ahmadzai                NaN         NaN         NaN         NaN   \n",
      "Yasir Shah                    NaN         NaN         NaN         NaN   \n",
      "Zulqarnain Haider (2)         NaN         NaN         NaN         NaN   \n",
      "\n",
      "                       2006-01-09  2006-02-16  2006-02-24  2007-01-09  \\\n",
      "name                                                                    \n",
      "A Ahmadhel                    NaN         NaN         NaN         NaN   \n",
      "A Ashokan                     NaN         NaN         NaN         NaN   \n",
      "A Bagai                       NaN         NaN         NaN         NaN   \n",
      "A Balbirnie                   NaN         NaN         NaN         NaN   \n",
      "A Bhagwat                     NaN         NaN         NaN         NaN   \n",
      "...                           ...         ...         ...         ...   \n",
      "Waqas Maqsood                 NaN         NaN         NaN         NaN   \n",
      "YA Abdulla                    NaN         NaN         NaN         NaN   \n",
      "Yamin Ahmadzai                NaN         NaN         NaN         NaN   \n",
      "Yasir Shah                    NaN         NaN         NaN         NaN   \n",
      "Zulqarnain Haider (2)         NaN         NaN         NaN         NaN   \n",
      "\n",
      "                       2006-12-26  2006-12-01  ...  2020-11-08  2020-11-10  \\\n",
      "name                                           ...                           \n",
      "A Ahmadhel                    NaN         NaN  ...         NaN         NaN   \n",
      "A Ashokan                     NaN         NaN  ...         NaN         NaN   \n",
      "A Bagai                       NaN         NaN  ...         NaN         NaN   \n",
      "A Balbirnie                   NaN         NaN  ...         NaN         NaN   \n",
      "A Bhagwat                     NaN         NaN  ...         NaN         NaN   \n",
      "...                           ...         ...  ...         ...         ...   \n",
      "Waqas Maqsood                 NaN         NaN  ...         NaN         NaN   \n",
      "YA Abdulla                    NaN         NaN  ...         NaN         NaN   \n",
      "Yamin Ahmadzai                NaN         NaN  ...         NaN         NaN   \n",
      "Yasir Shah                    NaN         NaN  ...         NaN         NaN   \n",
      "Zulqarnain Haider (2)         NaN         NaN  ...         NaN         NaN   \n",
      "\n",
      "                       2020-12-18  2020-12-20  2020-12-22  2020-10-16  \\\n",
      "name                                                                    \n",
      "A Ahmadhel                    NaN         NaN         NaN         NaN   \n",
      "A Ashokan                     NaN         NaN         NaN         NaN   \n",
      "A Bagai                       NaN         NaN         NaN         NaN   \n",
      "A Balbirnie                   NaN         NaN         NaN         NaN   \n",
      "A Bhagwat                     NaN         NaN         NaN         NaN   \n",
      "...                           ...         ...         ...         ...   \n",
      "Waqas Maqsood                 NaN         NaN         NaN         NaN   \n",
      "YA Abdulla                    NaN         NaN         NaN         NaN   \n",
      "Yamin Ahmadzai                NaN         NaN         NaN         NaN   \n",
      "Yasir Shah                    NaN         NaN         NaN         NaN   \n",
      "Zulqarnain Haider (2)         NaN         NaN         NaN         NaN   \n",
      "\n",
      "                       2020-10-18  2020-11-27  2020-11-29  2020-12-01  \n",
      "name                                                                   \n",
      "A Ahmadhel                    2.0         NaN         NaN         NaN  \n",
      "A Ashokan                     NaN         NaN         NaN         NaN  \n",
      "A Bagai                       NaN         NaN         NaN         NaN  \n",
      "A Balbirnie                   NaN         NaN         NaN         NaN  \n",
      "A Bhagwat                     NaN         NaN         NaN         NaN  \n",
      "...                           ...         ...         ...         ...  \n",
      "Waqas Maqsood                 NaN         NaN         NaN         NaN  \n",
      "YA Abdulla                    NaN         NaN         NaN         NaN  \n",
      "Yamin Ahmadzai                NaN         NaN         NaN         NaN  \n",
      "Yasir Shah                    NaN         NaN         NaN         NaN  \n",
      "Zulqarnain Haider (2)         NaN         NaN         NaN         NaN  \n",
      "\n",
      "[1703 rows x 619 columns]\n",
      "                       2005-06-13  2005-02-17  2005-10-21  2006-08-28  \\\n",
      "name                                                                    \n",
      "A Ahmadhel                    NaN         NaN         NaN         NaN   \n",
      "A Ashokan                     NaN         NaN         NaN         NaN   \n",
      "A Bagai                       NaN         NaN         NaN         NaN   \n",
      "A Balbirnie                   NaN         NaN         NaN         NaN   \n",
      "A Bhagwat                     NaN         NaN         NaN         NaN   \n",
      "...                           ...         ...         ...         ...   \n",
      "Waqas Maqsood                 NaN         NaN         NaN         NaN   \n",
      "YA Abdulla                    NaN         NaN         NaN         NaN   \n",
      "Yamin Ahmadzai                NaN         NaN         NaN         NaN   \n",
      "Yasir Shah                    NaN         NaN         NaN         NaN   \n",
      "Zulqarnain Haider (2)         NaN         NaN         NaN         NaN   \n",
      "\n",
      "                       2006-01-09  2006-02-16  2006-02-24  2007-01-09  \\\n",
      "name                                                                    \n",
      "A Ahmadhel                    NaN         NaN         NaN         NaN   \n",
      "A Ashokan                     NaN         NaN         NaN         NaN   \n",
      "A Bagai                       NaN         NaN         NaN         NaN   \n",
      "A Balbirnie                   NaN         NaN         NaN         NaN   \n",
      "A Bhagwat                     NaN         NaN         NaN         NaN   \n",
      "...                           ...         ...         ...         ...   \n",
      "Waqas Maqsood                 NaN         NaN         NaN         NaN   \n",
      "YA Abdulla                    NaN         NaN         NaN         NaN   \n",
      "Yamin Ahmadzai                NaN         NaN         NaN         NaN   \n",
      "Yasir Shah                    NaN         NaN         NaN         NaN   \n",
      "Zulqarnain Haider (2)         NaN         NaN         NaN         NaN   \n",
      "\n",
      "                       2006-12-26  2006-12-01  ...  2020-11-08  2020-11-10  \\\n",
      "name                                           ...                           \n",
      "A Ahmadhel                    NaN         NaN  ...         NaN         NaN   \n",
      "A Ashokan                     NaN         NaN  ...         NaN         NaN   \n",
      "A Bagai                       NaN         NaN  ...         NaN         NaN   \n",
      "A Balbirnie                   NaN         NaN  ...         NaN         NaN   \n",
      "A Bhagwat                     NaN         NaN  ...         NaN         NaN   \n",
      "...                           ...         ...  ...         ...         ...   \n",
      "Waqas Maqsood                 NaN         NaN  ...         NaN         NaN   \n",
      "YA Abdulla                    NaN         NaN  ...         NaN         NaN   \n",
      "Yamin Ahmadzai                NaN         NaN  ...         NaN         NaN   \n",
      "Yasir Shah                    NaN         NaN  ...         NaN         NaN   \n",
      "Zulqarnain Haider (2)         NaN         NaN  ...         NaN         NaN   \n",
      "\n",
      "                       2020-12-18  2020-12-20  2020-12-22  2020-10-16  \\\n",
      "name                                                                    \n",
      "A Ahmadhel                    NaN         NaN         NaN         NaN   \n",
      "A Ashokan                     NaN         NaN         NaN         NaN   \n",
      "A Bagai                       NaN         NaN         NaN         NaN   \n",
      "A Balbirnie                   NaN         NaN         NaN         NaN   \n",
      "A Bhagwat                     NaN         NaN         NaN         NaN   \n",
      "...                           ...         ...         ...         ...   \n",
      "Waqas Maqsood                 NaN         NaN         NaN         NaN   \n",
      "YA Abdulla                    NaN         NaN         NaN         NaN   \n",
      "Yamin Ahmadzai                NaN         NaN         NaN         NaN   \n",
      "Yasir Shah                    NaN         NaN         NaN         NaN   \n",
      "Zulqarnain Haider (2)         NaN         NaN         NaN         NaN   \n",
      "\n",
      "                       2020-10-18  2020-11-27  2020-11-29  2020-12-01  \n",
      "name                                                                   \n",
      "A Ahmadhel                    1.0         NaN         NaN         NaN  \n",
      "A Ashokan                     NaN         NaN         NaN         NaN  \n",
      "A Bagai                       NaN         NaN         NaN         NaN  \n",
      "A Balbirnie                   NaN         NaN         NaN         NaN  \n",
      "A Bhagwat                     NaN         NaN         NaN         NaN  \n",
      "...                           ...         ...         ...         ...  \n",
      "Waqas Maqsood                 NaN         NaN         NaN         NaN  \n",
      "YA Abdulla                    NaN         NaN         NaN         NaN  \n",
      "Yamin Ahmadzai                NaN         NaN         NaN         NaN  \n",
      "Yasir Shah                    NaN         NaN         NaN         NaN  \n",
      "Zulqarnain Haider (2)         NaN         NaN         NaN         NaN  \n",
      "\n",
      "[1703 rows x 619 columns]\n"
     ]
    },
    {
     "name": "stdout",
     "output_type": "stream",
     "text": [
      "                       2005-06-13  2005-02-17  2005-10-21  2006-08-28  \\\n",
      "name                                                                    \n",
      "A Ahmadhel                    NaN         NaN         NaN         NaN   \n",
      "A Ashokan                     NaN         NaN         NaN         NaN   \n",
      "A Bagai                       NaN         NaN         NaN         NaN   \n",
      "A Balbirnie                   NaN         NaN         NaN         NaN   \n",
      "A Bhagwat                     NaN         NaN         NaN         NaN   \n",
      "...                           ...         ...         ...         ...   \n",
      "Waqas Maqsood                 NaN         NaN         NaN         NaN   \n",
      "YA Abdulla                    NaN         NaN         NaN         NaN   \n",
      "Yamin Ahmadzai                NaN         NaN         NaN         NaN   \n",
      "Yasir Shah                    NaN         NaN         NaN         NaN   \n",
      "Zulqarnain Haider (2)         NaN         NaN         NaN         NaN   \n",
      "\n",
      "                       2006-01-09  2006-02-16  2006-02-24  2007-01-09  \\\n",
      "name                                                                    \n",
      "A Ahmadhel                    NaN         NaN         NaN         NaN   \n",
      "A Ashokan                     NaN         NaN         NaN         NaN   \n",
      "A Bagai                       NaN         NaN         NaN         NaN   \n",
      "A Balbirnie                   NaN         NaN         NaN         NaN   \n",
      "A Bhagwat                     NaN         NaN         NaN         NaN   \n",
      "...                           ...         ...         ...         ...   \n",
      "Waqas Maqsood                 NaN         NaN         NaN         NaN   \n",
      "YA Abdulla                    NaN         NaN         NaN         NaN   \n",
      "Yamin Ahmadzai                NaN         NaN         NaN         NaN   \n",
      "Yasir Shah                    NaN         NaN         NaN         NaN   \n",
      "Zulqarnain Haider (2)         NaN         NaN         NaN         NaN   \n",
      "\n",
      "                       2006-12-26  2006-12-01  ...  2020-11-08  2020-11-10  \\\n",
      "name                                           ...                           \n",
      "A Ahmadhel                    NaN         NaN  ...         NaN         NaN   \n",
      "A Ashokan                     NaN         NaN  ...         NaN         NaN   \n",
      "A Bagai                       NaN         NaN  ...         NaN         NaN   \n",
      "A Balbirnie                   NaN         NaN  ...         NaN         NaN   \n",
      "A Bhagwat                     NaN         NaN  ...         NaN         NaN   \n",
      "...                           ...         ...  ...         ...         ...   \n",
      "Waqas Maqsood                 NaN         NaN  ...         NaN         NaN   \n",
      "YA Abdulla                    NaN         NaN  ...         NaN         NaN   \n",
      "Yamin Ahmadzai                NaN         NaN  ...         NaN         NaN   \n",
      "Yasir Shah                    NaN         NaN  ...         NaN         NaN   \n",
      "Zulqarnain Haider (2)         NaN         NaN  ...         NaN         NaN   \n",
      "\n",
      "                       2020-12-18  2020-12-20  2020-12-22  2020-10-16  \\\n",
      "name                                                                    \n",
      "A Ahmadhel                    NaN         NaN         NaN         NaN   \n",
      "A Ashokan                     NaN         NaN         NaN         NaN   \n",
      "A Bagai                       NaN         NaN         NaN         NaN   \n",
      "A Balbirnie                   NaN         NaN         NaN         NaN   \n",
      "A Bhagwat                     NaN         NaN         NaN         NaN   \n",
      "...                           ...         ...         ...         ...   \n",
      "Waqas Maqsood                 NaN         NaN         NaN         NaN   \n",
      "YA Abdulla                    NaN         NaN         NaN         NaN   \n",
      "Yamin Ahmadzai                NaN         NaN         NaN         NaN   \n",
      "Yasir Shah                    NaN         NaN         NaN         NaN   \n",
      "Zulqarnain Haider (2)         NaN         NaN         NaN         NaN   \n",
      "\n",
      "                       2020-10-18  2020-11-27  2020-11-29  2020-12-01  \n",
      "name                                                                   \n",
      "A Ahmadhel                    0.0         NaN         NaN         NaN  \n",
      "A Ashokan                     NaN         NaN         NaN         NaN  \n",
      "A Bagai                       NaN         NaN         NaN         NaN  \n",
      "A Balbirnie                   NaN         NaN         NaN         NaN  \n",
      "A Bhagwat                     NaN         NaN         NaN         NaN  \n",
      "...                           ...         ...         ...         ...  \n",
      "Waqas Maqsood                 NaN         NaN         NaN         NaN  \n",
      "YA Abdulla                    NaN         NaN         NaN         NaN  \n",
      "Yamin Ahmadzai                NaN         NaN         NaN         NaN  \n",
      "Yasir Shah                    NaN         NaN         NaN         NaN  \n",
      "Zulqarnain Haider (2)         NaN         NaN         NaN         NaN  \n",
      "\n",
      "[1703 rows x 619 columns]\n",
      "                       2005-06-13  2005-02-17  2005-10-21  2006-08-28  \\\n",
      "name                                                                    \n",
      "A Ahmadhel                    NaN         NaN         NaN         NaN   \n",
      "A Ashokan                     NaN         NaN         NaN         NaN   \n",
      "A Bagai                       NaN         NaN         NaN         NaN   \n",
      "A Balbirnie                   NaN         NaN         NaN         NaN   \n",
      "A Bhagwat                     NaN         NaN         NaN         NaN   \n",
      "...                           ...         ...         ...         ...   \n",
      "Waqas Maqsood                 NaN         NaN         NaN         NaN   \n",
      "YA Abdulla                    NaN         NaN         NaN         NaN   \n",
      "Yamin Ahmadzai                NaN         NaN         NaN         NaN   \n",
      "Yasir Shah                    NaN         NaN         NaN         NaN   \n",
      "Zulqarnain Haider (2)         NaN         NaN         NaN         NaN   \n",
      "\n",
      "                       2006-01-09  2006-02-16  2006-02-24  2007-01-09  \\\n",
      "name                                                                    \n",
      "A Ahmadhel                    NaN         NaN         NaN         NaN   \n",
      "A Ashokan                     NaN         NaN         NaN         NaN   \n",
      "A Bagai                       NaN         NaN         NaN         NaN   \n",
      "A Balbirnie                   NaN         NaN         NaN         NaN   \n",
      "A Bhagwat                     NaN         NaN         NaN         NaN   \n",
      "...                           ...         ...         ...         ...   \n",
      "Waqas Maqsood                 NaN         NaN         NaN         NaN   \n",
      "YA Abdulla                    NaN         NaN         NaN         NaN   \n",
      "Yamin Ahmadzai                NaN         NaN         NaN         NaN   \n",
      "Yasir Shah                    NaN         NaN         NaN         NaN   \n",
      "Zulqarnain Haider (2)         NaN         NaN         NaN         NaN   \n",
      "\n",
      "                       2006-12-26  2006-12-01  ...  2020-11-08  2020-11-10  \\\n",
      "name                                           ...                           \n",
      "A Ahmadhel                    NaN         NaN  ...         NaN         NaN   \n",
      "A Ashokan                     NaN         NaN  ...         NaN         NaN   \n",
      "A Bagai                       NaN         NaN  ...         NaN         NaN   \n",
      "A Balbirnie                   NaN         NaN  ...         NaN         NaN   \n",
      "A Bhagwat                     NaN         NaN  ...         NaN         NaN   \n",
      "...                           ...         ...  ...         ...         ...   \n",
      "Waqas Maqsood                 NaN         NaN  ...         NaN         NaN   \n",
      "YA Abdulla                    NaN         NaN  ...         NaN         NaN   \n",
      "Yamin Ahmadzai                NaN         NaN  ...         NaN         NaN   \n",
      "Yasir Shah                    NaN         NaN  ...         NaN         NaN   \n",
      "Zulqarnain Haider (2)         NaN         NaN  ...         NaN         NaN   \n",
      "\n",
      "                       2020-12-18  2020-12-20  2020-12-22  2020-10-16  \\\n",
      "name                                                                    \n",
      "A Ahmadhel                    NaN         NaN         NaN         NaN   \n",
      "A Ashokan                     NaN         NaN         NaN         NaN   \n",
      "A Bagai                       NaN         NaN         NaN         NaN   \n",
      "A Balbirnie                   NaN         NaN         NaN         NaN   \n",
      "A Bhagwat                     NaN         NaN         NaN         NaN   \n",
      "...                           ...         ...         ...         ...   \n",
      "Waqas Maqsood                 NaN         NaN         NaN         NaN   \n",
      "YA Abdulla                    NaN         NaN         NaN         NaN   \n",
      "Yamin Ahmadzai                NaN         NaN         NaN         NaN   \n",
      "Yasir Shah                    NaN         NaN         NaN         NaN   \n",
      "Zulqarnain Haider (2)         NaN         NaN         NaN         NaN   \n",
      "\n",
      "                       2020-10-18  2020-11-27  2020-11-29  2020-12-01  \n",
      "name                                                                   \n",
      "A Ahmadhel                    0.0         NaN         NaN         NaN  \n",
      "A Ashokan                     NaN         NaN         NaN         NaN  \n",
      "A Bagai                       NaN         NaN         NaN         NaN  \n",
      "A Balbirnie                   NaN         NaN         NaN         NaN  \n",
      "A Bhagwat                     NaN         NaN         NaN         NaN  \n",
      "...                           ...         ...         ...         ...  \n",
      "Waqas Maqsood                 NaN         NaN         NaN         NaN  \n",
      "YA Abdulla                    NaN         NaN         NaN         NaN  \n",
      "Yamin Ahmadzai                NaN         NaN         NaN         NaN  \n",
      "Yasir Shah                    NaN         NaN         NaN         NaN  \n",
      "Zulqarnain Haider (2)         NaN         NaN         NaN         NaN  \n",
      "\n",
      "[1703 rows x 619 columns]\n"
     ]
    },
    {
     "name": "stdout",
     "output_type": "stream",
     "text": [
      "                      2005-06-13 2005-02-17 2005-10-21 2006-08-28 2006-01-09  \\\n",
      "name                                                                           \n",
      "A Ahmadhel                   NaN        NaN        NaN        NaN        NaN   \n",
      "A Ashokan                    NaN        NaN        NaN        NaN        NaN   \n",
      "A Bagai                      NaN        NaN        NaN        NaN        NaN   \n",
      "A Balbirnie                  NaN        NaN        NaN        NaN        NaN   \n",
      "A Bhagwat                    NaN        NaN        NaN        NaN        NaN   \n",
      "...                          ...        ...        ...        ...        ...   \n",
      "Waqas Maqsood                NaN        NaN        NaN        NaN        NaN   \n",
      "YA Abdulla                   NaN        NaN        NaN        NaN        NaN   \n",
      "Yamin Ahmadzai               NaN        NaN        NaN        NaN        NaN   \n",
      "Yasir Shah                   NaN        NaN        NaN        NaN        NaN   \n",
      "Zulqarnain Haider (2)        NaN        NaN        NaN        NaN        NaN   \n",
      "\n",
      "                      2006-02-16 2006-02-24 2007-01-09 2006-12-26 2006-12-01  \\\n",
      "name                                                                           \n",
      "A Ahmadhel                   NaN        NaN        NaN        NaN        NaN   \n",
      "A Ashokan                    NaN        NaN        NaN        NaN        NaN   \n",
      "A Bagai                      NaN        NaN        NaN        NaN        NaN   \n",
      "A Balbirnie                  NaN        NaN        NaN        NaN        NaN   \n",
      "A Bhagwat                    NaN        NaN        NaN        NaN        NaN   \n",
      "...                          ...        ...        ...        ...        ...   \n",
      "Waqas Maqsood                NaN        NaN        NaN        NaN        NaN   \n",
      "YA Abdulla                   NaN        NaN        NaN        NaN        NaN   \n",
      "Yamin Ahmadzai               NaN        NaN        NaN        NaN        NaN   \n",
      "Yasir Shah                   NaN        NaN        NaN        NaN        NaN   \n",
      "Zulqarnain Haider (2)        NaN        NaN        NaN        NaN        NaN   \n",
      "\n",
      "                       ... 2020-11-08 2020-11-10 2020-12-18 2020-12-20  \\\n",
      "name                   ...                                               \n",
      "A Ahmadhel             ...        NaN        NaN        NaN        NaN   \n",
      "A Ashokan              ...        NaN        NaN        NaN        NaN   \n",
      "A Bagai                ...        NaN        NaN        NaN        NaN   \n",
      "A Balbirnie            ...        NaN        NaN        NaN        NaN   \n",
      "A Bhagwat              ...        NaN        NaN        NaN        NaN   \n",
      "...                    ...        ...        ...        ...        ...   \n",
      "Waqas Maqsood          ...        NaN        NaN        NaN        NaN   \n",
      "YA Abdulla             ...        NaN        NaN        NaN        NaN   \n",
      "Yamin Ahmadzai         ...        NaN        NaN        NaN        NaN   \n",
      "Yasir Shah             ...        NaN        NaN        NaN        NaN   \n",
      "Zulqarnain Haider (2)  ...        NaN        NaN        NaN        NaN   \n",
      "\n",
      "                      2020-12-22 2020-10-16 2020-10-18 2020-11-27 2020-11-29  \\\n",
      "name                                                                           \n",
      "A Ahmadhel                   NaN        NaN      False        NaN        NaN   \n",
      "A Ashokan                    NaN        NaN        NaN        NaN        NaN   \n",
      "A Bagai                      NaN        NaN        NaN        NaN        NaN   \n",
      "A Balbirnie                  NaN        NaN        NaN        NaN        NaN   \n",
      "A Bhagwat                    NaN        NaN        NaN        NaN        NaN   \n",
      "...                          ...        ...        ...        ...        ...   \n",
      "Waqas Maqsood                NaN        NaN        NaN        NaN        NaN   \n",
      "YA Abdulla                   NaN        NaN        NaN        NaN        NaN   \n",
      "Yamin Ahmadzai               NaN        NaN        NaN        NaN        NaN   \n",
      "Yasir Shah                   NaN        NaN        NaN        NaN        NaN   \n",
      "Zulqarnain Haider (2)        NaN        NaN        NaN        NaN        NaN   \n",
      "\n",
      "                      2020-12-01  \n",
      "name                              \n",
      "A Ahmadhel                   NaN  \n",
      "A Ashokan                    NaN  \n",
      "A Bagai                      NaN  \n",
      "A Balbirnie                  NaN  \n",
      "A Bhagwat                    NaN  \n",
      "...                          ...  \n",
      "Waqas Maqsood                NaN  \n",
      "YA Abdulla                   NaN  \n",
      "Yamin Ahmadzai               NaN  \n",
      "Yasir Shah                   NaN  \n",
      "Zulqarnain Haider (2)        NaN  \n",
      "\n",
      "[1703 rows x 619 columns]\n",
      "                      2005-06-13 2005-02-17 2005-10-21 2006-08-28 2006-01-09  \\\n",
      "name                                                                           \n",
      "A Ahmadhel                   NaN        NaN        NaN        NaN        NaN   \n",
      "A Ashokan                    NaN        NaN        NaN        NaN        NaN   \n",
      "A Bagai                      NaN        NaN        NaN        NaN        NaN   \n",
      "A Balbirnie                  NaN        NaN        NaN        NaN        NaN   \n",
      "A Bhagwat                    NaN        NaN        NaN        NaN        NaN   \n",
      "...                          ...        ...        ...        ...        ...   \n",
      "Waqas Maqsood                NaN        NaN        NaN        NaN        NaN   \n",
      "YA Abdulla                   NaN        NaN        NaN        NaN        NaN   \n",
      "Yamin Ahmadzai               NaN        NaN        NaN        NaN        NaN   \n",
      "Yasir Shah                   NaN        NaN        NaN        NaN        NaN   \n",
      "Zulqarnain Haider (2)        NaN        NaN        NaN        NaN        NaN   \n",
      "\n",
      "                      2006-02-16 2006-02-24 2007-01-09 2006-12-26 2006-12-01  \\\n",
      "name                                                                           \n",
      "A Ahmadhel                   NaN        NaN        NaN        NaN        NaN   \n",
      "A Ashokan                    NaN        NaN        NaN        NaN        NaN   \n",
      "A Bagai                      NaN        NaN        NaN        NaN        NaN   \n",
      "A Balbirnie                  NaN        NaN        NaN        NaN        NaN   \n",
      "A Bhagwat                    NaN        NaN        NaN        NaN        NaN   \n",
      "...                          ...        ...        ...        ...        ...   \n",
      "Waqas Maqsood                NaN        NaN        NaN        NaN        NaN   \n",
      "YA Abdulla                   NaN        NaN        NaN        NaN        NaN   \n",
      "Yamin Ahmadzai               NaN        NaN        NaN        NaN        NaN   \n",
      "Yasir Shah                   NaN        NaN        NaN        NaN        NaN   \n",
      "Zulqarnain Haider (2)        NaN        NaN        NaN        NaN        NaN   \n",
      "\n",
      "                       ... 2020-11-08 2020-11-10 2020-12-18 2020-12-20  \\\n",
      "name                   ...                                               \n",
      "A Ahmadhel             ...        NaN        NaN        NaN        NaN   \n",
      "A Ashokan              ...        NaN        NaN        NaN        NaN   \n",
      "A Bagai                ...        NaN        NaN        NaN        NaN   \n",
      "A Balbirnie            ...        NaN        NaN        NaN        NaN   \n",
      "A Bhagwat              ...        NaN        NaN        NaN        NaN   \n",
      "...                    ...        ...        ...        ...        ...   \n",
      "Waqas Maqsood          ...        NaN        NaN        NaN        NaN   \n",
      "YA Abdulla             ...        NaN        NaN        NaN        NaN   \n",
      "Yamin Ahmadzai         ...        NaN        NaN        NaN        NaN   \n",
      "Yasir Shah             ...        NaN        NaN        NaN        NaN   \n",
      "Zulqarnain Haider (2)  ...        NaN        NaN        NaN        NaN   \n",
      "\n",
      "                      2020-12-22 2020-10-16 2020-10-18 2020-11-27 2020-11-29  \\\n",
      "name                                                                           \n",
      "A Ahmadhel                   NaN        NaN      False        NaN        NaN   \n",
      "A Ashokan                    NaN        NaN        NaN        NaN        NaN   \n",
      "A Bagai                      NaN        NaN        NaN        NaN        NaN   \n",
      "A Balbirnie                  NaN        NaN        NaN        NaN        NaN   \n",
      "A Bhagwat                    NaN        NaN        NaN        NaN        NaN   \n",
      "...                          ...        ...        ...        ...        ...   \n",
      "Waqas Maqsood                NaN        NaN        NaN        NaN        NaN   \n",
      "YA Abdulla                   NaN        NaN        NaN        NaN        NaN   \n",
      "Yamin Ahmadzai               NaN        NaN        NaN        NaN        NaN   \n",
      "Yasir Shah                   NaN        NaN        NaN        NaN        NaN   \n",
      "Zulqarnain Haider (2)        NaN        NaN        NaN        NaN        NaN   \n",
      "\n",
      "                      2020-12-01  \n",
      "name                              \n",
      "A Ahmadhel                   NaN  \n",
      "A Ashokan                    NaN  \n",
      "A Bagai                      NaN  \n",
      "A Balbirnie                  NaN  \n",
      "A Bhagwat                    NaN  \n",
      "...                          ...  \n",
      "Waqas Maqsood                NaN  \n",
      "YA Abdulla                   NaN  \n",
      "Yamin Ahmadzai               NaN  \n",
      "Yasir Shah                   NaN  \n",
      "Zulqarnain Haider (2)        NaN  \n",
      "\n",
      "[1703 rows x 619 columns]\n"
     ]
    },
    {
     "name": "stdout",
     "output_type": "stream",
     "text": [
      "                       2005-06-13  2005-02-17  2005-10-21  2006-08-28  \\\n",
      "name                                                                    \n",
      "A Ahmadhel                    NaN         NaN         NaN         NaN   \n",
      "A Ashokan                     NaN         NaN         NaN         NaN   \n",
      "A Bagai                       NaN         NaN         NaN         NaN   \n",
      "A Balbirnie                   NaN         NaN         NaN         NaN   \n",
      "A Bhagwat                     NaN         NaN         NaN         NaN   \n",
      "...                           ...         ...         ...         ...   \n",
      "Waqas Maqsood                 NaN         NaN         NaN         NaN   \n",
      "YA Abdulla                    NaN         NaN         NaN         NaN   \n",
      "Yamin Ahmadzai                NaN         NaN         NaN         NaN   \n",
      "Yasir Shah                    NaN         NaN         NaN         NaN   \n",
      "Zulqarnain Haider (2)         NaN         NaN         NaN         NaN   \n",
      "\n",
      "                       2006-01-09  2006-02-16  2006-02-24  2007-01-09  \\\n",
      "name                                                                    \n",
      "A Ahmadhel                    NaN         NaN         NaN         NaN   \n",
      "A Ashokan                     NaN         NaN         NaN         NaN   \n",
      "A Bagai                       NaN         NaN         NaN         NaN   \n",
      "A Balbirnie                   NaN         NaN         NaN         NaN   \n",
      "A Bhagwat                     NaN         NaN         NaN         NaN   \n",
      "...                           ...         ...         ...         ...   \n",
      "Waqas Maqsood                 NaN         NaN         NaN         NaN   \n",
      "YA Abdulla                    NaN         NaN         NaN         NaN   \n",
      "Yamin Ahmadzai                NaN         NaN         NaN         NaN   \n",
      "Yasir Shah                    NaN         NaN         NaN         NaN   \n",
      "Zulqarnain Haider (2)         NaN         NaN         NaN         NaN   \n",
      "\n",
      "                       2006-12-26  2006-12-01  ...  2020-11-08  2020-11-10  \\\n",
      "name                                           ...                           \n",
      "A Ahmadhel                    NaN         NaN  ...         NaN         NaN   \n",
      "A Ashokan                     NaN         NaN  ...         NaN         NaN   \n",
      "A Bagai                       NaN         NaN  ...         NaN         NaN   \n",
      "A Balbirnie                   NaN         NaN  ...         NaN         NaN   \n",
      "A Bhagwat                     NaN         NaN  ...         NaN         NaN   \n",
      "...                           ...         ...  ...         ...         ...   \n",
      "Waqas Maqsood                 NaN         NaN  ...         NaN         NaN   \n",
      "YA Abdulla                    NaN         NaN  ...         NaN         NaN   \n",
      "Yamin Ahmadzai                NaN         NaN  ...         NaN         NaN   \n",
      "Yasir Shah                    NaN         NaN  ...         NaN         NaN   \n",
      "Zulqarnain Haider (2)         NaN         NaN  ...         NaN         NaN   \n",
      "\n",
      "                       2020-12-18  2020-12-20  2020-12-22  2020-10-16  \\\n",
      "name                                                                    \n",
      "A Ahmadhel                    NaN         NaN         NaN         NaN   \n",
      "A Ashokan                     NaN         NaN         NaN         NaN   \n",
      "A Bagai                       NaN         NaN         NaN         NaN   \n",
      "A Balbirnie                   NaN         NaN         NaN         NaN   \n",
      "A Bhagwat                     NaN         NaN         NaN         NaN   \n",
      "...                           ...         ...         ...         ...   \n",
      "Waqas Maqsood                 NaN         NaN         NaN         NaN   \n",
      "YA Abdulla                    NaN         NaN         NaN         NaN   \n",
      "Yamin Ahmadzai                NaN         NaN         NaN         NaN   \n",
      "Yasir Shah                    NaN         NaN         NaN         NaN   \n",
      "Zulqarnain Haider (2)         NaN         NaN         NaN         NaN   \n",
      "\n",
      "                       2020-10-18  2020-11-27  2020-11-29  2020-12-01  \n",
      "name                                                                   \n",
      "A Ahmadhel                    2.0         NaN         NaN         NaN  \n",
      "A Ashokan                     NaN         NaN         NaN         NaN  \n",
      "A Bagai                       NaN         NaN         NaN         NaN  \n",
      "A Balbirnie                   NaN         NaN         NaN         NaN  \n",
      "A Bhagwat                     NaN         NaN         NaN         NaN  \n",
      "...                           ...         ...         ...         ...  \n",
      "Waqas Maqsood                 NaN         NaN         NaN         NaN  \n",
      "YA Abdulla                    NaN         NaN         NaN         NaN  \n",
      "Yamin Ahmadzai                NaN         NaN         NaN         NaN  \n",
      "Yasir Shah                    NaN         NaN         NaN         NaN  \n",
      "Zulqarnain Haider (2)         NaN         NaN         NaN         NaN  \n",
      "\n",
      "[1703 rows x 619 columns]\n",
      "                       2005-06-13  2005-02-17  2005-10-21  2006-08-28  \\\n",
      "name                                                                    \n",
      "A Ahmadhel                    NaN         NaN         NaN         NaN   \n",
      "A Ashokan                     NaN         NaN         NaN         NaN   \n",
      "A Bagai                       NaN         NaN         NaN         NaN   \n",
      "A Balbirnie                   NaN         NaN         NaN         NaN   \n",
      "A Bhagwat                     NaN         NaN         NaN         NaN   \n",
      "...                           ...         ...         ...         ...   \n",
      "Waqas Maqsood                 NaN         NaN         NaN         NaN   \n",
      "YA Abdulla                    NaN         NaN         NaN         NaN   \n",
      "Yamin Ahmadzai                NaN         NaN         NaN         NaN   \n",
      "Yasir Shah                    NaN         NaN         NaN         NaN   \n",
      "Zulqarnain Haider (2)         NaN         NaN         NaN         NaN   \n",
      "\n",
      "                       2006-01-09  2006-02-16  2006-02-24  2007-01-09  \\\n",
      "name                                                                    \n",
      "A Ahmadhel                    NaN         NaN         NaN         NaN   \n",
      "A Ashokan                     NaN         NaN         NaN         NaN   \n",
      "A Bagai                       NaN         NaN         NaN         NaN   \n",
      "A Balbirnie                   NaN         NaN         NaN         NaN   \n",
      "A Bhagwat                     NaN         NaN         NaN         NaN   \n",
      "...                           ...         ...         ...         ...   \n",
      "Waqas Maqsood                 NaN         NaN         NaN         NaN   \n",
      "YA Abdulla                    NaN         NaN         NaN         NaN   \n",
      "Yamin Ahmadzai                NaN         NaN         NaN         NaN   \n",
      "Yasir Shah                    NaN         NaN         NaN         NaN   \n",
      "Zulqarnain Haider (2)         NaN         NaN         NaN         NaN   \n",
      "\n",
      "                       2006-12-26  2006-12-01  ...  2020-11-08  2020-11-10  \\\n",
      "name                                           ...                           \n",
      "A Ahmadhel                    NaN         NaN  ...         NaN         NaN   \n",
      "A Ashokan                     NaN         NaN  ...         NaN         NaN   \n",
      "A Bagai                       NaN         NaN  ...         NaN         NaN   \n",
      "A Balbirnie                   NaN         NaN  ...         NaN         NaN   \n",
      "A Bhagwat                     NaN         NaN  ...         NaN         NaN   \n",
      "...                           ...         ...  ...         ...         ...   \n",
      "Waqas Maqsood                 NaN         NaN  ...         NaN         NaN   \n",
      "YA Abdulla                    NaN         NaN  ...         NaN         NaN   \n",
      "Yamin Ahmadzai                NaN         NaN  ...         NaN         NaN   \n",
      "Yasir Shah                    NaN         NaN  ...         NaN         NaN   \n",
      "Zulqarnain Haider (2)         NaN         NaN  ...         NaN         NaN   \n",
      "\n",
      "                       2020-12-18  2020-12-20  2020-12-22  2020-10-16  \\\n",
      "name                                                                    \n",
      "A Ahmadhel                    NaN         NaN         NaN         NaN   \n",
      "A Ashokan                     NaN         NaN         NaN         NaN   \n",
      "A Bagai                       NaN         NaN         NaN         NaN   \n",
      "A Balbirnie                   NaN         NaN         NaN         NaN   \n",
      "A Bhagwat                     NaN         NaN         NaN         NaN   \n",
      "...                           ...         ...         ...         ...   \n",
      "Waqas Maqsood                 NaN         NaN         NaN         NaN   \n",
      "YA Abdulla                    NaN         NaN         NaN         NaN   \n",
      "Yamin Ahmadzai                NaN         NaN         NaN         NaN   \n",
      "Yasir Shah                    NaN         NaN         NaN         NaN   \n",
      "Zulqarnain Haider (2)         NaN         NaN         NaN         NaN   \n",
      "\n",
      "                       2020-10-18  2020-11-27  2020-11-29  2020-12-01  \n",
      "name                                                                   \n",
      "A Ahmadhel                   25.0         NaN         NaN         NaN  \n",
      "A Ashokan                     NaN         NaN         NaN         NaN  \n",
      "A Bagai                       NaN         NaN         NaN         NaN  \n",
      "A Balbirnie                   NaN         NaN         NaN         NaN  \n",
      "A Bhagwat                     NaN         NaN         NaN         NaN  \n",
      "...                           ...         ...         ...         ...  \n",
      "Waqas Maqsood                 NaN         NaN         NaN         NaN  \n",
      "YA Abdulla                    NaN         NaN         NaN         NaN  \n",
      "Yamin Ahmadzai                NaN         NaN         NaN         NaN  \n",
      "Yasir Shah                    NaN         NaN         NaN         NaN  \n",
      "Zulqarnain Haider (2)         NaN         NaN         NaN         NaN  \n",
      "\n",
      "[1703 rows x 619 columns]\n"
     ]
    },
    {
     "name": "stdout",
     "output_type": "stream",
     "text": [
      "                       2005-06-13  2005-02-17  2005-10-21  2006-08-28  \\\n",
      "name                                                                    \n",
      "A Ahmadhel                    NaN         NaN         NaN         NaN   \n",
      "A Ashokan                     NaN         NaN         NaN         NaN   \n",
      "A Bagai                       NaN         NaN         NaN         NaN   \n",
      "A Balbirnie                   NaN         NaN         NaN         NaN   \n",
      "A Bhagwat                     NaN         NaN         NaN         NaN   \n",
      "...                           ...         ...         ...         ...   \n",
      "Waqas Maqsood                 NaN         NaN         NaN         NaN   \n",
      "YA Abdulla                    NaN         NaN         NaN         NaN   \n",
      "Yamin Ahmadzai                NaN         NaN         NaN         NaN   \n",
      "Yasir Shah                    NaN         NaN         NaN         NaN   \n",
      "Zulqarnain Haider (2)         NaN         NaN         NaN         NaN   \n",
      "\n",
      "                       2006-01-09  2006-02-16  2006-02-24  2007-01-09  \\\n",
      "name                                                                    \n",
      "A Ahmadhel                    NaN         NaN         NaN         NaN   \n",
      "A Ashokan                     NaN         NaN         NaN         NaN   \n",
      "A Bagai                       NaN         NaN         NaN         NaN   \n",
      "A Balbirnie                   NaN         NaN         NaN         NaN   \n",
      "A Bhagwat                     NaN         NaN         NaN         NaN   \n",
      "...                           ...         ...         ...         ...   \n",
      "Waqas Maqsood                 NaN         NaN         NaN         NaN   \n",
      "YA Abdulla                    NaN         NaN         NaN         NaN   \n",
      "Yamin Ahmadzai                NaN         NaN         NaN         NaN   \n",
      "Yasir Shah                    NaN         NaN         NaN         NaN   \n",
      "Zulqarnain Haider (2)         NaN         NaN         NaN         NaN   \n",
      "\n",
      "                       2006-12-26  2006-12-01  ...  2020-11-08  2020-11-10  \\\n",
      "name                                           ...                           \n",
      "A Ahmadhel                    NaN         NaN  ...         NaN         NaN   \n",
      "A Ashokan                     NaN         NaN  ...         NaN         NaN   \n",
      "A Bagai                       NaN         NaN  ...         NaN         NaN   \n",
      "A Balbirnie                   NaN         NaN  ...         NaN         NaN   \n",
      "A Bhagwat                     NaN         NaN  ...         NaN         NaN   \n",
      "...                           ...         ...  ...         ...         ...   \n",
      "Waqas Maqsood                 NaN         NaN  ...         NaN         NaN   \n",
      "YA Abdulla                    NaN         NaN  ...         NaN         NaN   \n",
      "Yamin Ahmadzai                NaN         NaN  ...         NaN         NaN   \n",
      "Yasir Shah                    NaN         NaN  ...         NaN         NaN   \n",
      "Zulqarnain Haider (2)         NaN         NaN  ...         NaN         NaN   \n",
      "\n",
      "                       2020-12-18  2020-12-20  2020-12-22  2020-10-16  \\\n",
      "name                                                                    \n",
      "A Ahmadhel                    NaN         NaN         NaN         NaN   \n",
      "A Ashokan                     NaN         NaN         NaN         NaN   \n",
      "A Bagai                       NaN         NaN         NaN         NaN   \n",
      "A Balbirnie                   NaN         NaN         NaN         NaN   \n",
      "A Bhagwat                     NaN         NaN         NaN         NaN   \n",
      "...                           ...         ...         ...         ...   \n",
      "Waqas Maqsood                 NaN         NaN         NaN         NaN   \n",
      "YA Abdulla                    NaN         NaN         NaN         NaN   \n",
      "Yamin Ahmadzai                NaN         NaN         NaN         NaN   \n",
      "Yasir Shah                    NaN         NaN         NaN         NaN   \n",
      "Zulqarnain Haider (2)         NaN         NaN         NaN         NaN   \n",
      "\n",
      "                       2020-10-18  2020-11-27  2020-11-29  2020-12-01  \n",
      "name                                                                   \n",
      "A Ahmadhel                    2.0         NaN         NaN         NaN  \n",
      "A Ashokan                     NaN         NaN         NaN         NaN  \n",
      "A Bagai                       NaN         NaN         NaN         NaN  \n",
      "A Balbirnie                   NaN         NaN         NaN         NaN  \n",
      "A Bhagwat                     NaN         NaN         NaN         NaN  \n",
      "...                           ...         ...         ...         ...  \n",
      "Waqas Maqsood                 NaN         NaN         NaN         NaN  \n",
      "YA Abdulla                    NaN         NaN         NaN         NaN  \n",
      "Yamin Ahmadzai                NaN         NaN         NaN         NaN  \n",
      "Yasir Shah                    NaN         NaN         NaN         NaN  \n",
      "Zulqarnain Haider (2)         NaN         NaN         NaN         NaN  \n",
      "\n",
      "[1703 rows x 619 columns]\n",
      "                       2005-06-13  2005-02-17  2005-10-21  2006-08-28  \\\n",
      "name                                                                    \n",
      "A Ahmadhel                    NaN         NaN         NaN         NaN   \n",
      "A Ashokan                     NaN         NaN         NaN         NaN   \n",
      "A Bagai                       NaN         NaN         NaN         NaN   \n",
      "A Balbirnie                   NaN         NaN         NaN         NaN   \n",
      "A Bhagwat                     NaN         NaN         NaN         NaN   \n",
      "...                           ...         ...         ...         ...   \n",
      "Waqas Maqsood                 NaN         NaN         NaN         NaN   \n",
      "YA Abdulla                    NaN         NaN         NaN         NaN   \n",
      "Yamin Ahmadzai                NaN         NaN         NaN         NaN   \n",
      "Yasir Shah                    NaN         NaN         NaN         NaN   \n",
      "Zulqarnain Haider (2)         NaN         NaN         NaN         NaN   \n",
      "\n",
      "                       2006-01-09  2006-02-16  2006-02-24  2007-01-09  \\\n",
      "name                                                                    \n",
      "A Ahmadhel                    NaN         NaN         NaN         NaN   \n",
      "A Ashokan                     NaN         NaN         NaN         NaN   \n",
      "A Bagai                       NaN         NaN         NaN         NaN   \n",
      "A Balbirnie                   NaN         NaN         NaN         NaN   \n",
      "A Bhagwat                     NaN         NaN         NaN         NaN   \n",
      "...                           ...         ...         ...         ...   \n",
      "Waqas Maqsood                 NaN         NaN         NaN         NaN   \n",
      "YA Abdulla                    NaN         NaN         NaN         NaN   \n",
      "Yamin Ahmadzai                NaN         NaN         NaN         NaN   \n",
      "Yasir Shah                    NaN         NaN         NaN         NaN   \n",
      "Zulqarnain Haider (2)         NaN         NaN         NaN         NaN   \n",
      "\n",
      "                       2006-12-26  2006-12-01  ...  2020-11-08  2020-11-10  \\\n",
      "name                                           ...                           \n",
      "A Ahmadhel                    NaN         NaN  ...         NaN         NaN   \n",
      "A Ashokan                     NaN         NaN  ...         NaN         NaN   \n",
      "A Bagai                       NaN         NaN  ...         NaN         NaN   \n",
      "A Balbirnie                   NaN         NaN  ...         NaN         NaN   \n",
      "A Bhagwat                     NaN         NaN  ...         NaN         NaN   \n",
      "...                           ...         ...  ...         ...         ...   \n",
      "Waqas Maqsood                 NaN         NaN  ...         NaN         NaN   \n",
      "YA Abdulla                    NaN         NaN  ...         NaN         NaN   \n",
      "Yamin Ahmadzai                NaN         NaN  ...         NaN         NaN   \n",
      "Yasir Shah                    NaN         NaN  ...         NaN         NaN   \n",
      "Zulqarnain Haider (2)         NaN         NaN  ...         NaN         NaN   \n",
      "\n",
      "                       2020-12-18  2020-12-20  2020-12-22  2020-10-16  \\\n",
      "name                                                                    \n",
      "A Ahmadhel                    NaN         NaN         NaN         NaN   \n",
      "A Ashokan                     NaN         NaN         NaN         NaN   \n",
      "A Bagai                       NaN         NaN         NaN         NaN   \n",
      "A Balbirnie                   NaN         NaN         NaN         NaN   \n",
      "A Bhagwat                     NaN         NaN         NaN         NaN   \n",
      "...                           ...         ...         ...         ...   \n",
      "Waqas Maqsood                 NaN         NaN         NaN         NaN   \n",
      "YA Abdulla                    NaN         NaN         NaN         NaN   \n",
      "Yamin Ahmadzai                NaN         NaN         NaN         NaN   \n",
      "Yasir Shah                    NaN         NaN         NaN         NaN   \n",
      "Zulqarnain Haider (2)         NaN         NaN         NaN         NaN   \n",
      "\n",
      "                       2020-10-18  2020-11-27  2020-11-29  2020-12-01  \n",
      "name                                                                   \n",
      "A Ahmadhel                    1.0         NaN         NaN         NaN  \n",
      "A Ashokan                     NaN         NaN         NaN         NaN  \n",
      "A Bagai                       NaN         NaN         NaN         NaN  \n",
      "A Balbirnie                   NaN         NaN         NaN         NaN  \n",
      "A Bhagwat                     NaN         NaN         NaN         NaN  \n",
      "...                           ...         ...         ...         ...  \n",
      "Waqas Maqsood                 NaN         NaN         NaN         NaN  \n",
      "YA Abdulla                    NaN         NaN         NaN         NaN  \n",
      "Yamin Ahmadzai                NaN         NaN         NaN         NaN  \n",
      "Yasir Shah                    NaN         NaN         NaN         NaN  \n",
      "Zulqarnain Haider (2)         NaN         NaN         NaN         NaN  \n",
      "\n",
      "[1703 rows x 619 columns]\n"
     ]
    },
    {
     "name": "stdout",
     "output_type": "stream",
     "text": [
      "                       2005-06-13  2005-02-17  2005-10-21  2006-08-28  \\\n",
      "name                                                                    \n",
      "A Ahmadhel                    NaN         NaN         NaN         NaN   \n",
      "A Ashokan                     NaN         NaN         NaN         NaN   \n",
      "A Bagai                       NaN         NaN         NaN         NaN   \n",
      "A Balbirnie                   NaN         NaN         NaN         NaN   \n",
      "A Bhagwat                     NaN         NaN         NaN         NaN   \n",
      "...                           ...         ...         ...         ...   \n",
      "Waqas Maqsood                 NaN         NaN         NaN         NaN   \n",
      "YA Abdulla                    NaN         NaN         NaN         NaN   \n",
      "Yamin Ahmadzai                NaN         NaN         NaN         NaN   \n",
      "Yasir Shah                    NaN         NaN         NaN         NaN   \n",
      "Zulqarnain Haider (2)         NaN         NaN         NaN         NaN   \n",
      "\n",
      "                       2006-01-09  2006-02-16  2006-02-24  2007-01-09  \\\n",
      "name                                                                    \n",
      "A Ahmadhel                    NaN         NaN         NaN         NaN   \n",
      "A Ashokan                     NaN         NaN         NaN         NaN   \n",
      "A Bagai                       NaN         NaN         NaN         NaN   \n",
      "A Balbirnie                   NaN         NaN         NaN         NaN   \n",
      "A Bhagwat                     NaN         NaN         NaN         NaN   \n",
      "...                           ...         ...         ...         ...   \n",
      "Waqas Maqsood                 NaN         NaN         NaN         NaN   \n",
      "YA Abdulla                    NaN         NaN         NaN         NaN   \n",
      "Yamin Ahmadzai                NaN         NaN         NaN         NaN   \n",
      "Yasir Shah                    NaN         NaN         NaN         NaN   \n",
      "Zulqarnain Haider (2)         NaN         NaN         NaN         NaN   \n",
      "\n",
      "                       2006-12-26  2006-12-01  ...  2020-11-08  2020-11-10  \\\n",
      "name                                           ...                           \n",
      "A Ahmadhel                    NaN         NaN  ...         NaN         NaN   \n",
      "A Ashokan                     NaN         NaN  ...         NaN         NaN   \n",
      "A Bagai                       NaN         NaN  ...         NaN         NaN   \n",
      "A Balbirnie                   NaN         NaN  ...         NaN         NaN   \n",
      "A Bhagwat                     NaN         NaN  ...         NaN         NaN   \n",
      "...                           ...         ...  ...         ...         ...   \n",
      "Waqas Maqsood                 NaN         NaN  ...         NaN         NaN   \n",
      "YA Abdulla                    NaN         NaN  ...         NaN         NaN   \n",
      "Yamin Ahmadzai                NaN         NaN  ...         NaN         NaN   \n",
      "Yasir Shah                    NaN         NaN  ...         NaN         NaN   \n",
      "Zulqarnain Haider (2)         NaN         NaN  ...         NaN         NaN   \n",
      "\n",
      "                       2020-12-18  2020-12-20  2020-12-22  2020-10-16  \\\n",
      "name                                                                    \n",
      "A Ahmadhel                    NaN         NaN         NaN         NaN   \n",
      "A Ashokan                     NaN         NaN         NaN         NaN   \n",
      "A Bagai                       NaN         NaN         NaN         NaN   \n",
      "A Balbirnie                   NaN         NaN         NaN         NaN   \n",
      "A Bhagwat                     NaN         NaN         NaN         NaN   \n",
      "...                           ...         ...         ...         ...   \n",
      "Waqas Maqsood                 NaN         NaN         NaN         NaN   \n",
      "YA Abdulla                    NaN         NaN         NaN         NaN   \n",
      "Yamin Ahmadzai                NaN         NaN         NaN         NaN   \n",
      "Yasir Shah                    NaN         NaN         NaN         NaN   \n",
      "Zulqarnain Haider (2)         NaN         NaN         NaN         NaN   \n",
      "\n",
      "                       2020-10-18  2020-11-27  2020-11-29  2020-12-01  \n",
      "name                                                                   \n",
      "A Ahmadhel                    5.0         NaN         NaN         NaN  \n",
      "A Ashokan                     NaN         NaN         NaN         NaN  \n",
      "A Bagai                       NaN         NaN         NaN         NaN  \n",
      "A Balbirnie                   NaN         NaN         NaN         NaN  \n",
      "A Bhagwat                     NaN         NaN         NaN         NaN  \n",
      "...                           ...         ...         ...         ...  \n",
      "Waqas Maqsood                 NaN         NaN         NaN         NaN  \n",
      "YA Abdulla                    NaN         NaN         NaN         NaN  \n",
      "Yamin Ahmadzai                NaN         NaN         NaN         NaN  \n",
      "Yasir Shah                    NaN         NaN         NaN         NaN  \n",
      "Zulqarnain Haider (2)         NaN         NaN         NaN         NaN  \n",
      "\n",
      "[1703 rows x 619 columns]\n",
      "                       2005-06-13  2005-02-17  2005-10-21  2006-08-28  \\\n",
      "name                                                                    \n",
      "A Ahmadhel                    NaN         NaN         NaN         NaN   \n",
      "A Ashokan                     NaN         NaN         NaN         NaN   \n",
      "A Bagai                       NaN         NaN         NaN         NaN   \n",
      "A Balbirnie                   NaN         NaN         NaN         NaN   \n",
      "A Bhagwat                     NaN         NaN         NaN         NaN   \n",
      "...                           ...         ...         ...         ...   \n",
      "Waqas Maqsood                 NaN         NaN         NaN         NaN   \n",
      "YA Abdulla                    NaN         NaN         NaN         NaN   \n",
      "Yamin Ahmadzai                NaN         NaN         NaN         NaN   \n",
      "Yasir Shah                    NaN         NaN         NaN         NaN   \n",
      "Zulqarnain Haider (2)         NaN         NaN         NaN         NaN   \n",
      "\n",
      "                       2006-01-09  2006-02-16  2006-02-24  2007-01-09  \\\n",
      "name                                                                    \n",
      "A Ahmadhel                    NaN         NaN         NaN         NaN   \n",
      "A Ashokan                     NaN         NaN         NaN         NaN   \n",
      "A Bagai                       NaN         NaN         NaN         NaN   \n",
      "A Balbirnie                   NaN         NaN         NaN         NaN   \n",
      "A Bhagwat                     NaN         NaN         NaN         NaN   \n",
      "...                           ...         ...         ...         ...   \n",
      "Waqas Maqsood                 NaN         NaN         NaN         NaN   \n",
      "YA Abdulla                    NaN         NaN         NaN         NaN   \n",
      "Yamin Ahmadzai                NaN         NaN         NaN         NaN   \n",
      "Yasir Shah                    NaN         NaN         NaN         NaN   \n",
      "Zulqarnain Haider (2)         NaN         NaN         NaN         NaN   \n",
      "\n",
      "                       2006-12-26  2006-12-01  ...  2020-11-08  2020-11-10  \\\n",
      "name                                           ...                           \n",
      "A Ahmadhel                    NaN         NaN  ...         NaN         NaN   \n",
      "A Ashokan                     NaN         NaN  ...         NaN         NaN   \n",
      "A Bagai                       NaN         NaN  ...         NaN         NaN   \n",
      "A Balbirnie                   NaN         NaN  ...         NaN         NaN   \n",
      "A Bhagwat                     NaN         NaN  ...         NaN         NaN   \n",
      "...                           ...         ...  ...         ...         ...   \n",
      "Waqas Maqsood                 NaN         NaN  ...         NaN         NaN   \n",
      "YA Abdulla                    NaN         NaN  ...         NaN         NaN   \n",
      "Yamin Ahmadzai                NaN         NaN  ...         NaN         NaN   \n",
      "Yasir Shah                    NaN         NaN  ...         NaN         NaN   \n",
      "Zulqarnain Haider (2)         NaN         NaN  ...         NaN         NaN   \n",
      "\n",
      "                       2020-12-18  2020-12-20  2020-12-22  2020-10-16  \\\n",
      "name                                                                    \n",
      "A Ahmadhel                    NaN         NaN         NaN         NaN   \n",
      "A Ashokan                     NaN         NaN         NaN         NaN   \n",
      "A Bagai                       NaN         NaN         NaN         NaN   \n",
      "A Balbirnie                   NaN         NaN         NaN         NaN   \n",
      "A Bhagwat                     NaN         NaN         NaN         NaN   \n",
      "...                           ...         ...         ...         ...   \n",
      "Waqas Maqsood                 NaN         NaN         NaN         NaN   \n",
      "YA Abdulla                    NaN         NaN         NaN         NaN   \n",
      "Yamin Ahmadzai                NaN         NaN         NaN         NaN   \n",
      "Yasir Shah                    NaN         NaN         NaN         NaN   \n",
      "Zulqarnain Haider (2)         NaN         NaN         NaN         NaN   \n",
      "\n",
      "                       2020-10-18  2020-11-27  2020-11-29  2020-12-01  \n",
      "name                                                                   \n",
      "A Ahmadhel                    4.0         NaN         NaN         NaN  \n",
      "A Ashokan                     NaN         NaN         NaN         NaN  \n",
      "A Bagai                       NaN         NaN         NaN         NaN  \n",
      "A Balbirnie                   NaN         NaN         NaN         NaN  \n",
      "A Bhagwat                     NaN         NaN         NaN         NaN  \n",
      "...                           ...         ...         ...         ...  \n",
      "Waqas Maqsood                 NaN         NaN         NaN         NaN  \n",
      "YA Abdulla                    NaN         NaN         NaN         NaN  \n",
      "Yamin Ahmadzai                NaN         NaN         NaN         NaN  \n",
      "Yasir Shah                    NaN         NaN         NaN         NaN  \n",
      "Zulqarnain Haider (2)         NaN         NaN         NaN         NaN  \n",
      "\n",
      "[1703 rows x 619 columns]\n"
     ]
    },
    {
     "name": "stdout",
     "output_type": "stream",
     "text": [
      "                       2005-06-13  2005-02-17  2005-10-21  2006-08-28  \\\n",
      "name                                                                    \n",
      "A Ahmadhel                    NaN         NaN         NaN         NaN   \n",
      "A Ashokan                     NaN         NaN         NaN         NaN   \n",
      "A Bagai                       NaN         NaN         NaN         NaN   \n",
      "A Balbirnie                   NaN         NaN         NaN         NaN   \n",
      "A Bhagwat                     NaN         NaN         NaN         NaN   \n",
      "...                           ...         ...         ...         ...   \n",
      "Waqas Maqsood                 NaN         NaN         NaN         NaN   \n",
      "YA Abdulla                    NaN         NaN         NaN         NaN   \n",
      "Yamin Ahmadzai                NaN         NaN         NaN         NaN   \n",
      "Yasir Shah                    NaN         NaN         NaN         NaN   \n",
      "Zulqarnain Haider (2)         NaN         NaN         NaN         NaN   \n",
      "\n",
      "                       2006-01-09  2006-02-16  2006-02-24  2007-01-09  \\\n",
      "name                                                                    \n",
      "A Ahmadhel                    NaN         NaN         NaN         NaN   \n",
      "A Ashokan                     NaN         NaN         NaN         NaN   \n",
      "A Bagai                       NaN         NaN         NaN         NaN   \n",
      "A Balbirnie                   NaN         NaN         NaN         NaN   \n",
      "A Bhagwat                     NaN         NaN         NaN         NaN   \n",
      "...                           ...         ...         ...         ...   \n",
      "Waqas Maqsood                 NaN         NaN         NaN         NaN   \n",
      "YA Abdulla                    NaN         NaN         NaN         NaN   \n",
      "Yamin Ahmadzai                NaN         NaN         NaN         NaN   \n",
      "Yasir Shah                    NaN         NaN         NaN         NaN   \n",
      "Zulqarnain Haider (2)         NaN         NaN         NaN         NaN   \n",
      "\n",
      "                       2006-12-26  2006-12-01  ...  2020-11-08  2020-11-10  \\\n",
      "name                                           ...                           \n",
      "A Ahmadhel                    NaN         NaN  ...         NaN         NaN   \n",
      "A Ashokan                     NaN         NaN  ...         NaN         NaN   \n",
      "A Bagai                       NaN         NaN  ...         NaN         NaN   \n",
      "A Balbirnie                   NaN         NaN  ...         NaN         NaN   \n",
      "A Bhagwat                     NaN         NaN  ...         NaN         NaN   \n",
      "...                           ...         ...  ...         ...         ...   \n",
      "Waqas Maqsood                 NaN         NaN  ...         NaN         NaN   \n",
      "YA Abdulla                    NaN         NaN  ...         NaN         NaN   \n",
      "Yamin Ahmadzai                NaN         NaN  ...         NaN         NaN   \n",
      "Yasir Shah                    NaN         NaN  ...         NaN         NaN   \n",
      "Zulqarnain Haider (2)         NaN         NaN  ...         NaN         NaN   \n",
      "\n",
      "                       2020-12-18  2020-12-20  2020-12-22  2020-10-16  \\\n",
      "name                                                                    \n",
      "A Ahmadhel                    NaN         NaN         NaN         NaN   \n",
      "A Ashokan                     NaN         NaN         NaN         NaN   \n",
      "A Bagai                       NaN         NaN         NaN         NaN   \n",
      "A Balbirnie                   NaN         NaN         NaN         NaN   \n",
      "A Bhagwat                     NaN         NaN         NaN         NaN   \n",
      "...                           ...         ...         ...         ...   \n",
      "Waqas Maqsood                 NaN         NaN         NaN         NaN   \n",
      "YA Abdulla                    NaN         NaN         NaN         NaN   \n",
      "Yamin Ahmadzai                NaN         NaN         NaN         NaN   \n",
      "Yasir Shah                    NaN         NaN         NaN         NaN   \n",
      "Zulqarnain Haider (2)         NaN         NaN         NaN         NaN   \n",
      "\n",
      "                       2020-10-18  2020-11-27  2020-11-29  2020-12-01  \n",
      "name                                                                   \n",
      "A Ahmadhel                    1.0         NaN         NaN         NaN  \n",
      "A Ashokan                     NaN         NaN         NaN         NaN  \n",
      "A Bagai                       NaN         NaN         NaN         NaN  \n",
      "A Balbirnie                   NaN         NaN         NaN         NaN  \n",
      "A Bhagwat                     NaN         NaN         NaN         NaN  \n",
      "...                           ...         ...         ...         ...  \n",
      "Waqas Maqsood                 NaN         NaN         NaN         NaN  \n",
      "YA Abdulla                    NaN         NaN         NaN         NaN  \n",
      "Yamin Ahmadzai                NaN         NaN         NaN         NaN  \n",
      "Yasir Shah                    NaN         NaN         NaN         NaN  \n",
      "Zulqarnain Haider (2)         NaN         NaN         NaN         NaN  \n",
      "\n",
      "[1703 rows x 619 columns]\n",
      "                       2005-06-13  2005-02-17  2005-10-21  2006-08-28  \\\n",
      "name                                                                    \n",
      "A Ahmadhel                    NaN         NaN         NaN         NaN   \n",
      "A Ashokan                     NaN         NaN         NaN         NaN   \n",
      "A Bagai                       NaN         NaN         NaN         NaN   \n",
      "A Balbirnie                   NaN         NaN         NaN         NaN   \n",
      "A Bhagwat                     NaN         NaN         NaN         NaN   \n",
      "...                           ...         ...         ...         ...   \n",
      "Waqas Maqsood                 NaN         NaN         NaN         NaN   \n",
      "YA Abdulla                    NaN         NaN         NaN         NaN   \n",
      "Yamin Ahmadzai                NaN         NaN         NaN         NaN   \n",
      "Yasir Shah                    NaN         NaN         NaN         NaN   \n",
      "Zulqarnain Haider (2)         NaN         NaN         NaN         NaN   \n",
      "\n",
      "                       2006-01-09  2006-02-16  2006-02-24  2007-01-09  \\\n",
      "name                                                                    \n",
      "A Ahmadhel                    NaN         NaN         NaN         NaN   \n",
      "A Ashokan                     NaN         NaN         NaN         NaN   \n",
      "A Bagai                       NaN         NaN         NaN         NaN   \n",
      "A Balbirnie                   NaN         NaN         NaN         NaN   \n",
      "A Bhagwat                     NaN         NaN         NaN         NaN   \n",
      "...                           ...         ...         ...         ...   \n",
      "Waqas Maqsood                 NaN         NaN         NaN         NaN   \n",
      "YA Abdulla                    NaN         NaN         NaN         NaN   \n",
      "Yamin Ahmadzai                NaN         NaN         NaN         NaN   \n",
      "Yasir Shah                    NaN         NaN         NaN         NaN   \n",
      "Zulqarnain Haider (2)         NaN         NaN         NaN         NaN   \n",
      "\n",
      "                       2006-12-26  2006-12-01  ...  2020-11-08  2020-11-10  \\\n",
      "name                                           ...                           \n",
      "A Ahmadhel                    NaN         NaN  ...         NaN         NaN   \n",
      "A Ashokan                     NaN         NaN  ...         NaN         NaN   \n",
      "A Bagai                       NaN         NaN  ...         NaN         NaN   \n",
      "A Balbirnie                   NaN         NaN  ...         NaN         NaN   \n",
      "A Bhagwat                     NaN         NaN  ...         NaN         NaN   \n",
      "...                           ...         ...  ...         ...         ...   \n",
      "Waqas Maqsood                 NaN         NaN  ...         NaN         NaN   \n",
      "YA Abdulla                    NaN         NaN  ...         NaN         NaN   \n",
      "Yamin Ahmadzai                NaN         NaN  ...         NaN         NaN   \n",
      "Yasir Shah                    NaN         NaN  ...         NaN         NaN   \n",
      "Zulqarnain Haider (2)         NaN         NaN  ...         NaN         NaN   \n",
      "\n",
      "                       2020-12-18  2020-12-20  2020-12-22  2020-10-16  \\\n",
      "name                                                                    \n",
      "A Ahmadhel                    NaN         NaN         NaN         NaN   \n",
      "A Ashokan                     NaN         NaN         NaN         NaN   \n",
      "A Bagai                       NaN         NaN         NaN         NaN   \n",
      "A Balbirnie                   NaN         NaN         NaN         NaN   \n",
      "A Bhagwat                     NaN         NaN         NaN         NaN   \n",
      "...                           ...         ...         ...         ...   \n",
      "Waqas Maqsood                 NaN         NaN         NaN         NaN   \n",
      "YA Abdulla                    NaN         NaN         NaN         NaN   \n",
      "Yamin Ahmadzai                NaN         NaN         NaN         NaN   \n",
      "Yasir Shah                    NaN         NaN         NaN         NaN   \n",
      "Zulqarnain Haider (2)         NaN         NaN         NaN         NaN   \n",
      "\n",
      "                       2020-10-18  2020-11-27  2020-11-29  2020-12-01  \n",
      "name                                                                   \n",
      "A Ahmadhel                    0.0         NaN         NaN         NaN  \n",
      "A Ashokan                     NaN         NaN         NaN         NaN  \n",
      "A Bagai                       NaN         NaN         NaN         NaN  \n",
      "A Balbirnie                   NaN         NaN         NaN         NaN  \n",
      "A Bhagwat                     NaN         NaN         NaN         NaN  \n",
      "...                           ...         ...         ...         ...  \n",
      "Waqas Maqsood                 NaN         NaN         NaN         NaN  \n",
      "YA Abdulla                    NaN         NaN         NaN         NaN  \n",
      "Yamin Ahmadzai                NaN         NaN         NaN         NaN  \n",
      "Yasir Shah                    NaN         NaN         NaN         NaN  \n",
      "Zulqarnain Haider (2)         NaN         NaN         NaN         NaN  \n",
      "\n",
      "[1703 rows x 619 columns]\n"
     ]
    },
    {
     "name": "stdout",
     "output_type": "stream",
     "text": [
      "                       2005-06-13  2005-02-17  2005-10-21  2006-08-28  \\\n",
      "name                                                                    \n",
      "A Ahmadhel                    NaN         NaN         NaN         NaN   \n",
      "A Ashokan                     NaN         NaN         NaN         NaN   \n",
      "A Bagai                       NaN         NaN         NaN         NaN   \n",
      "A Balbirnie                   NaN         NaN         NaN         NaN   \n",
      "A Bhagwat                     NaN         NaN         NaN         NaN   \n",
      "...                           ...         ...         ...         ...   \n",
      "Waqas Maqsood                 NaN         NaN         NaN         NaN   \n",
      "YA Abdulla                    NaN         NaN         NaN         NaN   \n",
      "Yamin Ahmadzai                NaN         NaN         NaN         NaN   \n",
      "Yasir Shah                    NaN         NaN         NaN         NaN   \n",
      "Zulqarnain Haider (2)         NaN         NaN         NaN         NaN   \n",
      "\n",
      "                       2006-01-09  2006-02-16  2006-02-24  2007-01-09  \\\n",
      "name                                                                    \n",
      "A Ahmadhel                    NaN         NaN         NaN         NaN   \n",
      "A Ashokan                     NaN         NaN         NaN         NaN   \n",
      "A Bagai                       NaN         NaN         NaN         NaN   \n",
      "A Balbirnie                   NaN         NaN         NaN         NaN   \n",
      "A Bhagwat                     NaN         NaN         NaN         NaN   \n",
      "...                           ...         ...         ...         ...   \n",
      "Waqas Maqsood                 NaN         NaN         NaN         NaN   \n",
      "YA Abdulla                    NaN         NaN         NaN         NaN   \n",
      "Yamin Ahmadzai                NaN         NaN         NaN         NaN   \n",
      "Yasir Shah                    NaN         NaN         NaN         NaN   \n",
      "Zulqarnain Haider (2)         NaN         NaN         NaN         NaN   \n",
      "\n",
      "                       2006-12-26  2006-12-01  ...  2020-11-08  2020-11-10  \\\n",
      "name                                           ...                           \n",
      "A Ahmadhel                    NaN         NaN  ...         NaN         NaN   \n",
      "A Ashokan                     NaN         NaN  ...         NaN         NaN   \n",
      "A Bagai                       NaN         NaN  ...         NaN         NaN   \n",
      "A Balbirnie                   NaN         NaN  ...         NaN         NaN   \n",
      "A Bhagwat                     NaN         NaN  ...         NaN         NaN   \n",
      "...                           ...         ...  ...         ...         ...   \n",
      "Waqas Maqsood                 NaN         NaN  ...         NaN         NaN   \n",
      "YA Abdulla                    NaN         NaN  ...         NaN         NaN   \n",
      "Yamin Ahmadzai                NaN         NaN  ...         NaN         NaN   \n",
      "Yasir Shah                    NaN         NaN  ...         NaN         NaN   \n",
      "Zulqarnain Haider (2)         NaN         NaN  ...         NaN         NaN   \n",
      "\n",
      "                       2020-12-18  2020-12-20  2020-12-22  2020-10-16  \\\n",
      "name                                                                    \n",
      "A Ahmadhel                    NaN         NaN         NaN         NaN   \n",
      "A Ashokan                     NaN         NaN         NaN         NaN   \n",
      "A Bagai                       NaN         NaN         NaN         NaN   \n",
      "A Balbirnie                   NaN         NaN         NaN         NaN   \n",
      "A Bhagwat                     NaN         NaN         NaN         NaN   \n",
      "...                           ...         ...         ...         ...   \n",
      "Waqas Maqsood                 NaN         NaN         NaN         NaN   \n",
      "YA Abdulla                    NaN         NaN         NaN         NaN   \n",
      "Yamin Ahmadzai                NaN         NaN         NaN         NaN   \n",
      "Yasir Shah                    NaN         NaN         NaN         NaN   \n",
      "Zulqarnain Haider (2)         NaN         NaN         NaN         NaN   \n",
      "\n",
      "                       2020-10-18  2020-11-27  2020-11-29  2020-12-01  \n",
      "name                                                                   \n",
      "A Ahmadhel                    2.0         NaN         NaN         NaN  \n",
      "A Ashokan                     NaN         NaN         NaN         NaN  \n",
      "A Bagai                       NaN         NaN         NaN         NaN  \n",
      "A Balbirnie                   NaN         NaN         NaN         NaN  \n",
      "A Bhagwat                     NaN         NaN         NaN         NaN  \n",
      "...                           ...         ...         ...         ...  \n",
      "Waqas Maqsood                 NaN         NaN         NaN         NaN  \n",
      "YA Abdulla                    NaN         NaN         NaN         NaN  \n",
      "Yamin Ahmadzai                NaN         NaN         NaN         NaN  \n",
      "Yasir Shah                    NaN         NaN         NaN         NaN  \n",
      "Zulqarnain Haider (2)         NaN         NaN         NaN         NaN  \n",
      "\n",
      "[1703 rows x 619 columns]\n",
      "                       2005-06-13  2005-02-17  2005-10-21  2006-08-28  \\\n",
      "name                                                                    \n",
      "A Ahmadhel                    NaN         NaN         NaN         NaN   \n",
      "A Ashokan                     NaN         NaN         NaN         NaN   \n",
      "A Bagai                       NaN         NaN         NaN         NaN   \n",
      "A Balbirnie                   NaN         NaN         NaN         NaN   \n",
      "A Bhagwat                     NaN         NaN         NaN         NaN   \n",
      "...                           ...         ...         ...         ...   \n",
      "Waqas Maqsood                 NaN         NaN         NaN         NaN   \n",
      "YA Abdulla                    NaN         NaN         NaN         NaN   \n",
      "Yamin Ahmadzai                NaN         NaN         NaN         NaN   \n",
      "Yasir Shah                    NaN         NaN         NaN         NaN   \n",
      "Zulqarnain Haider (2)         NaN         NaN         NaN         NaN   \n",
      "\n",
      "                       2006-01-09  2006-02-16  2006-02-24  2007-01-09  \\\n",
      "name                                                                    \n",
      "A Ahmadhel                    NaN         NaN         NaN         NaN   \n",
      "A Ashokan                     NaN         NaN         NaN         NaN   \n",
      "A Bagai                       NaN         NaN         NaN         NaN   \n",
      "A Balbirnie                   NaN         NaN         NaN         NaN   \n",
      "A Bhagwat                     NaN         NaN         NaN         NaN   \n",
      "...                           ...         ...         ...         ...   \n",
      "Waqas Maqsood                 NaN         NaN         NaN         NaN   \n",
      "YA Abdulla                    NaN         NaN         NaN         NaN   \n",
      "Yamin Ahmadzai                NaN         NaN         NaN         NaN   \n",
      "Yasir Shah                    NaN         NaN         NaN         NaN   \n",
      "Zulqarnain Haider (2)         NaN         NaN         NaN         NaN   \n",
      "\n",
      "                       2006-12-26  2006-12-01  ...  2020-11-08  2020-11-10  \\\n",
      "name                                           ...                           \n",
      "A Ahmadhel                    NaN         NaN  ...         NaN         NaN   \n",
      "A Ashokan                     NaN         NaN  ...         NaN         NaN   \n",
      "A Bagai                       NaN         NaN  ...         NaN         NaN   \n",
      "A Balbirnie                   NaN         NaN  ...         NaN         NaN   \n",
      "A Bhagwat                     NaN         NaN  ...         NaN         NaN   \n",
      "...                           ...         ...  ...         ...         ...   \n",
      "Waqas Maqsood                 NaN         NaN  ...         NaN         NaN   \n",
      "YA Abdulla                    NaN         NaN  ...         NaN         NaN   \n",
      "Yamin Ahmadzai                NaN         NaN  ...         NaN         NaN   \n",
      "Yasir Shah                    NaN         NaN  ...         NaN         NaN   \n",
      "Zulqarnain Haider (2)         NaN         NaN  ...         NaN         NaN   \n",
      "\n",
      "                       2020-12-18  2020-12-20  2020-12-22  2020-10-16  \\\n",
      "name                                                                    \n",
      "A Ahmadhel                    NaN         NaN         NaN         NaN   \n",
      "A Ashokan                     NaN         NaN         NaN         NaN   \n",
      "A Bagai                       NaN         NaN         NaN         NaN   \n",
      "A Balbirnie                   NaN         NaN         NaN         NaN   \n",
      "A Bhagwat                     NaN         NaN         NaN         NaN   \n",
      "...                           ...         ...         ...         ...   \n",
      "Waqas Maqsood                 NaN         NaN         NaN         NaN   \n",
      "YA Abdulla                    NaN         NaN         NaN         NaN   \n",
      "Yamin Ahmadzai                NaN         NaN         NaN         NaN   \n",
      "Yasir Shah                    NaN         NaN         NaN         NaN   \n",
      "Zulqarnain Haider (2)         NaN         NaN         NaN         NaN   \n",
      "\n",
      "                       2020-10-18  2020-11-27  2020-11-29  2020-12-01  \n",
      "name                                                                   \n",
      "A Ahmadhel                    2.0         NaN         NaN         NaN  \n",
      "A Ashokan                     NaN         NaN         NaN         NaN  \n",
      "A Bagai                       NaN         NaN         NaN         NaN  \n",
      "A Balbirnie                   NaN         NaN         NaN         NaN  \n",
      "A Bhagwat                     NaN         NaN         NaN         NaN  \n",
      "...                           ...         ...         ...         ...  \n",
      "Waqas Maqsood                 NaN         NaN         NaN         NaN  \n",
      "YA Abdulla                    NaN         NaN         NaN         NaN  \n",
      "Yamin Ahmadzai                NaN         NaN         NaN         NaN  \n",
      "Yasir Shah                    NaN         NaN         NaN         NaN  \n",
      "Zulqarnain Haider (2)         NaN         NaN         NaN         NaN  \n",
      "\n",
      "[1703 rows x 619 columns]\n"
     ]
    },
    {
     "name": "stdout",
     "output_type": "stream",
     "text": [
      "                       2005-06-13  2005-02-17  2005-10-21  2006-08-28  \\\n",
      "name                                                                    \n",
      "A Ahmadhel                    NaN         NaN         NaN         NaN   \n",
      "A Ashokan                     NaN         NaN         NaN         NaN   \n",
      "A Bagai                       NaN         NaN         NaN         NaN   \n",
      "A Balbirnie                   NaN         NaN         NaN         NaN   \n",
      "A Bhagwat                     NaN         NaN         NaN         NaN   \n",
      "...                           ...         ...         ...         ...   \n",
      "Waqas Maqsood                 NaN         NaN         NaN         NaN   \n",
      "YA Abdulla                    NaN         NaN         NaN         NaN   \n",
      "Yamin Ahmadzai                NaN         NaN         NaN         NaN   \n",
      "Yasir Shah                    NaN         NaN         NaN         NaN   \n",
      "Zulqarnain Haider (2)         NaN         NaN         NaN         NaN   \n",
      "\n",
      "                       2006-01-09  2006-02-16  2006-02-24  2007-01-09  \\\n",
      "name                                                                    \n",
      "A Ahmadhel                    NaN         NaN         NaN         NaN   \n",
      "A Ashokan                     NaN         NaN         NaN         NaN   \n",
      "A Bagai                       NaN         NaN         NaN         NaN   \n",
      "A Balbirnie                   NaN         NaN         NaN         NaN   \n",
      "A Bhagwat                     NaN         NaN         NaN         NaN   \n",
      "...                           ...         ...         ...         ...   \n",
      "Waqas Maqsood                 NaN         NaN         NaN         NaN   \n",
      "YA Abdulla                    NaN         NaN         NaN         NaN   \n",
      "Yamin Ahmadzai                NaN         NaN         NaN         NaN   \n",
      "Yasir Shah                    NaN         NaN         NaN         NaN   \n",
      "Zulqarnain Haider (2)         NaN         NaN         NaN         NaN   \n",
      "\n",
      "                       2006-12-26  2006-12-01  ...  2020-11-08  2020-11-10  \\\n",
      "name                                           ...                           \n",
      "A Ahmadhel                    NaN         NaN  ...         NaN         NaN   \n",
      "A Ashokan                     NaN         NaN  ...         NaN         NaN   \n",
      "A Bagai                       NaN         NaN  ...         NaN         NaN   \n",
      "A Balbirnie                   NaN         NaN  ...         NaN         NaN   \n",
      "A Bhagwat                     NaN         NaN  ...         NaN         NaN   \n",
      "...                           ...         ...  ...         ...         ...   \n",
      "Waqas Maqsood                 NaN         NaN  ...         NaN         NaN   \n",
      "YA Abdulla                    NaN         NaN  ...         NaN         NaN   \n",
      "Yamin Ahmadzai                NaN         NaN  ...         NaN         NaN   \n",
      "Yasir Shah                    NaN         NaN  ...         NaN         NaN   \n",
      "Zulqarnain Haider (2)         NaN         NaN  ...         NaN         NaN   \n",
      "\n",
      "                       2020-12-18  2020-12-20  2020-12-22  2020-10-16  \\\n",
      "name                                                                    \n",
      "A Ahmadhel                    NaN         NaN         NaN         NaN   \n",
      "A Ashokan                     NaN         NaN         NaN         NaN   \n",
      "A Bagai                       NaN         NaN         NaN         NaN   \n",
      "A Balbirnie                   NaN         NaN         NaN         NaN   \n",
      "A Bhagwat                     NaN         NaN         NaN         NaN   \n",
      "...                           ...         ...         ...         ...   \n",
      "Waqas Maqsood                 NaN         NaN         NaN         NaN   \n",
      "YA Abdulla                    NaN         NaN         NaN         NaN   \n",
      "Yamin Ahmadzai                NaN         NaN         NaN         NaN   \n",
      "Yasir Shah                    NaN         NaN         NaN         NaN   \n",
      "Zulqarnain Haider (2)         NaN         NaN         NaN         NaN   \n",
      "\n",
      "                       2020-10-18  2020-11-27  2020-11-29  2020-12-01  \n",
      "name                                                                   \n",
      "A Ahmadhel                    8.0         NaN         NaN         NaN  \n",
      "A Ashokan                     NaN         NaN         NaN         NaN  \n",
      "A Bagai                       NaN         NaN         NaN         NaN  \n",
      "A Balbirnie                   NaN         NaN         NaN         NaN  \n",
      "A Bhagwat                     NaN         NaN         NaN         NaN  \n",
      "...                           ...         ...         ...         ...  \n",
      "Waqas Maqsood                 NaN         NaN         NaN         NaN  \n",
      "YA Abdulla                    NaN         NaN         NaN         NaN  \n",
      "Yamin Ahmadzai                NaN         NaN         NaN         NaN  \n",
      "Yasir Shah                    NaN         NaN         NaN         NaN  \n",
      "Zulqarnain Haider (2)         NaN         NaN         NaN         NaN  \n",
      "\n",
      "[1703 rows x 619 columns]\n"
     ]
    },
    {
     "data": {
      "text/plain": [
       "defaultdict(None,\n",
       "            {'balls':                        2005-06-13  2005-02-17  2005-10-21  2006-08-28  \\\n",
       "             name                                                                    \n",
       "             A Ahmadhel                    NaN         NaN         NaN         NaN   \n",
       "             A Ashokan                     NaN         NaN         NaN         NaN   \n",
       "             A Bagai                       NaN         NaN         NaN         NaN   \n",
       "             A Balbirnie                   NaN         NaN         NaN         NaN   \n",
       "             A Bhagwat                     NaN         NaN         NaN         NaN   \n",
       "             ...                           ...         ...         ...         ...   \n",
       "             Waqas Maqsood                 NaN         NaN         NaN         NaN   \n",
       "             YA Abdulla                    NaN         NaN         NaN         NaN   \n",
       "             Yamin Ahmadzai                NaN         NaN         NaN         NaN   \n",
       "             Yasir Shah                    NaN         NaN         NaN         NaN   \n",
       "             Zulqarnain Haider (2)         NaN         NaN         NaN         NaN   \n",
       "             \n",
       "                                    2006-01-09  2006-02-16  2006-02-24  2007-01-09  \\\n",
       "             name                                                                    \n",
       "             A Ahmadhel                    NaN         NaN         NaN         NaN   \n",
       "             A Ashokan                     NaN         NaN         NaN         NaN   \n",
       "             A Bagai                       NaN         NaN         NaN         NaN   \n",
       "             A Balbirnie                   NaN         NaN         NaN         NaN   \n",
       "             A Bhagwat                     NaN         NaN         NaN         NaN   \n",
       "             ...                           ...         ...         ...         ...   \n",
       "             Waqas Maqsood                 NaN         NaN         NaN         NaN   \n",
       "             YA Abdulla                    NaN         NaN         NaN         NaN   \n",
       "             Yamin Ahmadzai                NaN         NaN         NaN         NaN   \n",
       "             Yasir Shah                    NaN         NaN         NaN         NaN   \n",
       "             Zulqarnain Haider (2)         NaN         NaN         NaN         NaN   \n",
       "             \n",
       "                                    2006-12-26  2006-12-01  ...  2020-11-08  2020-11-10  \\\n",
       "             name                                           ...                           \n",
       "             A Ahmadhel                    NaN         NaN  ...         NaN         NaN   \n",
       "             A Ashokan                     NaN         NaN  ...         NaN         NaN   \n",
       "             A Bagai                       NaN         NaN  ...         NaN         NaN   \n",
       "             A Balbirnie                   NaN         NaN  ...         NaN         NaN   \n",
       "             A Bhagwat                     NaN         NaN  ...         NaN         NaN   \n",
       "             ...                           ...         ...  ...         ...         ...   \n",
       "             Waqas Maqsood                 NaN         NaN  ...         NaN         NaN   \n",
       "             YA Abdulla                    NaN         NaN  ...         NaN         NaN   \n",
       "             Yamin Ahmadzai                NaN         NaN  ...         NaN         NaN   \n",
       "             Yasir Shah                    NaN         NaN  ...         NaN         NaN   \n",
       "             Zulqarnain Haider (2)         NaN         NaN  ...         NaN         NaN   \n",
       "             \n",
       "                                    2020-12-18  2020-12-20  2020-12-22  2020-10-16  \\\n",
       "             name                                                                    \n",
       "             A Ahmadhel                    NaN         NaN         NaN         NaN   \n",
       "             A Ashokan                     NaN         NaN         NaN         NaN   \n",
       "             A Bagai                       NaN         NaN         NaN         NaN   \n",
       "             A Balbirnie                   NaN         NaN         NaN         NaN   \n",
       "             A Bhagwat                     NaN         NaN         NaN         NaN   \n",
       "             ...                           ...         ...         ...         ...   \n",
       "             Waqas Maqsood                 NaN         NaN         NaN         NaN   \n",
       "             YA Abdulla                    NaN         NaN         NaN         NaN   \n",
       "             Yamin Ahmadzai                NaN         NaN         NaN         NaN   \n",
       "             Yasir Shah                    NaN         NaN         NaN         NaN   \n",
       "             Zulqarnain Haider (2)         NaN         NaN         NaN         NaN   \n",
       "             \n",
       "                                    2020-10-18  2020-11-27  2020-11-29  2020-12-01  \n",
       "             name                                                                   \n",
       "             A Ahmadhel                    8.0         NaN         NaN         NaN  \n",
       "             A Ashokan                     NaN         NaN         NaN         NaN  \n",
       "             A Bagai                       NaN         NaN         NaN         NaN  \n",
       "             A Balbirnie                   NaN         NaN         NaN         NaN  \n",
       "             A Bhagwat                     NaN         NaN         NaN         NaN  \n",
       "             ...                           ...         ...         ...         ...  \n",
       "             Waqas Maqsood                 NaN         NaN         NaN         NaN  \n",
       "             YA Abdulla                    NaN         NaN         NaN         NaN  \n",
       "             Yamin Ahmadzai                NaN         NaN         NaN         NaN  \n",
       "             Yasir Shah                    NaN         NaN         NaN         NaN  \n",
       "             Zulqarnain Haider (2)         NaN         NaN         NaN         NaN  \n",
       "             \n",
       "             [1703 rows x 619 columns],\n",
       "             'games_striker':                        2005-06-13  2005-02-17  2005-10-21  2006-08-28  \\\n",
       "             name                                                                    \n",
       "             A Ahmadhel                    NaN         NaN         NaN         NaN   \n",
       "             A Ashokan                     NaN         NaN         NaN         NaN   \n",
       "             A Bagai                       NaN         NaN         NaN         NaN   \n",
       "             A Balbirnie                   NaN         NaN         NaN         NaN   \n",
       "             A Bhagwat                     NaN         NaN         NaN         NaN   \n",
       "             ...                           ...         ...         ...         ...   \n",
       "             Waqas Maqsood                 NaN         NaN         NaN         NaN   \n",
       "             YA Abdulla                    NaN         NaN         NaN         NaN   \n",
       "             Yamin Ahmadzai                NaN         NaN         NaN         NaN   \n",
       "             Yasir Shah                    NaN         NaN         NaN         NaN   \n",
       "             Zulqarnain Haider (2)         NaN         NaN         NaN         NaN   \n",
       "             \n",
       "                                    2006-01-09  2006-02-16  2006-02-24  2007-01-09  \\\n",
       "             name                                                                    \n",
       "             A Ahmadhel                    NaN         NaN         NaN         NaN   \n",
       "             A Ashokan                     NaN         NaN         NaN         NaN   \n",
       "             A Bagai                       NaN         NaN         NaN         NaN   \n",
       "             A Balbirnie                   NaN         NaN         NaN         NaN   \n",
       "             A Bhagwat                     NaN         NaN         NaN         NaN   \n",
       "             ...                           ...         ...         ...         ...   \n",
       "             Waqas Maqsood                 NaN         NaN         NaN         NaN   \n",
       "             YA Abdulla                    NaN         NaN         NaN         NaN   \n",
       "             Yamin Ahmadzai                NaN         NaN         NaN         NaN   \n",
       "             Yasir Shah                    NaN         NaN         NaN         NaN   \n",
       "             Zulqarnain Haider (2)         NaN         NaN         NaN         NaN   \n",
       "             \n",
       "                                    2006-12-26  2006-12-01  ...  2020-11-08  2020-11-10  \\\n",
       "             name                                           ...                           \n",
       "             A Ahmadhel                    NaN         NaN  ...         NaN         NaN   \n",
       "             A Ashokan                     NaN         NaN  ...         NaN         NaN   \n",
       "             A Bagai                       NaN         NaN  ...         NaN         NaN   \n",
       "             A Balbirnie                   NaN         NaN  ...         NaN         NaN   \n",
       "             A Bhagwat                     NaN         NaN  ...         NaN         NaN   \n",
       "             ...                           ...         ...  ...         ...         ...   \n",
       "             Waqas Maqsood                 NaN         NaN  ...         NaN         NaN   \n",
       "             YA Abdulla                    NaN         NaN  ...         NaN         NaN   \n",
       "             Yamin Ahmadzai                NaN         NaN  ...         NaN         NaN   \n",
       "             Yasir Shah                    NaN         NaN  ...         NaN         NaN   \n",
       "             Zulqarnain Haider (2)         NaN         NaN  ...         NaN         NaN   \n",
       "             \n",
       "                                    2020-12-18  2020-12-20  2020-12-22  2020-10-16  \\\n",
       "             name                                                                    \n",
       "             A Ahmadhel                    NaN         NaN         NaN         NaN   \n",
       "             A Ashokan                     NaN         NaN         NaN         NaN   \n",
       "             A Bagai                       NaN         NaN         NaN         NaN   \n",
       "             A Balbirnie                   NaN         NaN         NaN         NaN   \n",
       "             A Bhagwat                     NaN         NaN         NaN         NaN   \n",
       "             ...                           ...         ...         ...         ...   \n",
       "             Waqas Maqsood                 NaN         NaN         NaN         NaN   \n",
       "             YA Abdulla                    NaN         NaN         NaN         NaN   \n",
       "             Yamin Ahmadzai                NaN         NaN         NaN         NaN   \n",
       "             Yasir Shah                    NaN         NaN         NaN         NaN   \n",
       "             Zulqarnain Haider (2)         NaN         NaN         NaN         NaN   \n",
       "             \n",
       "                                    2020-10-18  2020-11-27  2020-11-29  2020-12-01  \n",
       "             name                                                                   \n",
       "             A Ahmadhel                    1.0         NaN         NaN         NaN  \n",
       "             A Ashokan                     NaN         NaN         NaN         NaN  \n",
       "             A Bagai                       NaN         NaN         NaN         NaN  \n",
       "             A Balbirnie                   NaN         NaN         NaN         NaN  \n",
       "             A Bhagwat                     NaN         NaN         NaN         NaN  \n",
       "             ...                           ...         ...         ...         ...  \n",
       "             Waqas Maqsood                 NaN         NaN         NaN         NaN  \n",
       "             YA Abdulla                    NaN         NaN         NaN         NaN  \n",
       "             Yamin Ahmadzai                NaN         NaN         NaN         NaN  \n",
       "             Yasir Shah                    NaN         NaN         NaN         NaN  \n",
       "             Zulqarnain Haider (2)         NaN         NaN         NaN         NaN  \n",
       "             \n",
       "             [1703 rows x 619 columns],\n",
       "             'runs':                        2005-06-13  2005-02-17  2005-10-21  2006-08-28  \\\n",
       "             name                                                                    \n",
       "             A Ahmadhel                    NaN         NaN         NaN         NaN   \n",
       "             A Ashokan                     NaN         NaN         NaN         NaN   \n",
       "             A Bagai                       NaN         NaN         NaN         NaN   \n",
       "             A Balbirnie                   NaN         NaN         NaN         NaN   \n",
       "             A Bhagwat                     NaN         NaN         NaN         NaN   \n",
       "             ...                           ...         ...         ...         ...   \n",
       "             Waqas Maqsood                 NaN         NaN         NaN         NaN   \n",
       "             YA Abdulla                    NaN         NaN         NaN         NaN   \n",
       "             Yamin Ahmadzai                NaN         NaN         NaN         NaN   \n",
       "             Yasir Shah                    NaN         NaN         NaN         NaN   \n",
       "             Zulqarnain Haider (2)         NaN         NaN         NaN         NaN   \n",
       "             \n",
       "                                    2006-01-09  2006-02-16  2006-02-24  2007-01-09  \\\n",
       "             name                                                                    \n",
       "             A Ahmadhel                    NaN         NaN         NaN         NaN   \n",
       "             A Ashokan                     NaN         NaN         NaN         NaN   \n",
       "             A Bagai                       NaN         NaN         NaN         NaN   \n",
       "             A Balbirnie                   NaN         NaN         NaN         NaN   \n",
       "             A Bhagwat                     NaN         NaN         NaN         NaN   \n",
       "             ...                           ...         ...         ...         ...   \n",
       "             Waqas Maqsood                 NaN         NaN         NaN         NaN   \n",
       "             YA Abdulla                    NaN         NaN         NaN         NaN   \n",
       "             Yamin Ahmadzai                NaN         NaN         NaN         NaN   \n",
       "             Yasir Shah                    NaN         NaN         NaN         NaN   \n",
       "             Zulqarnain Haider (2)         NaN         NaN         NaN         NaN   \n",
       "             \n",
       "                                    2006-12-26  2006-12-01  ...  2020-11-08  2020-11-10  \\\n",
       "             name                                           ...                           \n",
       "             A Ahmadhel                    NaN         NaN  ...         NaN         NaN   \n",
       "             A Ashokan                     NaN         NaN  ...         NaN         NaN   \n",
       "             A Bagai                       NaN         NaN  ...         NaN         NaN   \n",
       "             A Balbirnie                   NaN         NaN  ...         NaN         NaN   \n",
       "             A Bhagwat                     NaN         NaN  ...         NaN         NaN   \n",
       "             ...                           ...         ...  ...         ...         ...   \n",
       "             Waqas Maqsood                 NaN         NaN  ...         NaN         NaN   \n",
       "             YA Abdulla                    NaN         NaN  ...         NaN         NaN   \n",
       "             Yamin Ahmadzai                NaN         NaN  ...         NaN         NaN   \n",
       "             Yasir Shah                    NaN         NaN  ...         NaN         NaN   \n",
       "             Zulqarnain Haider (2)         NaN         NaN  ...         NaN         NaN   \n",
       "             \n",
       "                                    2020-12-18  2020-12-20  2020-12-22  2020-10-16  \\\n",
       "             name                                                                    \n",
       "             A Ahmadhel                    NaN         NaN         NaN         NaN   \n",
       "             A Ashokan                     NaN         NaN         NaN         NaN   \n",
       "             A Bagai                       NaN         NaN         NaN         NaN   \n",
       "             A Balbirnie                   NaN         NaN         NaN         NaN   \n",
       "             A Bhagwat                     NaN         NaN         NaN         NaN   \n",
       "             ...                           ...         ...         ...         ...   \n",
       "             Waqas Maqsood                 NaN         NaN         NaN         NaN   \n",
       "             YA Abdulla                    NaN         NaN         NaN         NaN   \n",
       "             Yamin Ahmadzai                NaN         NaN         NaN         NaN   \n",
       "             Yasir Shah                    NaN         NaN         NaN         NaN   \n",
       "             Zulqarnain Haider (2)         NaN         NaN         NaN         NaN   \n",
       "             \n",
       "                                    2020-10-18  2020-11-27  2020-11-29  2020-12-01  \n",
       "             name                                                                   \n",
       "             A Ahmadhel                    2.0         NaN         NaN         NaN  \n",
       "             A Ashokan                     NaN         NaN         NaN         NaN  \n",
       "             A Bagai                       NaN         NaN         NaN         NaN  \n",
       "             A Balbirnie                   NaN         NaN         NaN         NaN  \n",
       "             A Bhagwat                     NaN         NaN         NaN         NaN  \n",
       "             ...                           ...         ...         ...         ...  \n",
       "             Waqas Maqsood                 NaN         NaN         NaN         NaN  \n",
       "             YA Abdulla                    NaN         NaN         NaN         NaN  \n",
       "             Yamin Ahmadzai                NaN         NaN         NaN         NaN  \n",
       "             Yasir Shah                    NaN         NaN         NaN         NaN  \n",
       "             Zulqarnain Haider (2)         NaN         NaN         NaN         NaN  \n",
       "             \n",
       "             [1703 rows x 619 columns],\n",
       "             'dismissed':                        2005-06-13  2005-02-17  2005-10-21  2006-08-28  \\\n",
       "             name                                                                    \n",
       "             A Ahmadhel                    NaN         NaN         NaN         NaN   \n",
       "             A Ashokan                     NaN         NaN         NaN         NaN   \n",
       "             A Bagai                       NaN         NaN         NaN         NaN   \n",
       "             A Balbirnie                   NaN         NaN         NaN         NaN   \n",
       "             A Bhagwat                     NaN         NaN         NaN         NaN   \n",
       "             ...                           ...         ...         ...         ...   \n",
       "             Waqas Maqsood                 NaN         NaN         NaN         NaN   \n",
       "             YA Abdulla                    NaN         NaN         NaN         NaN   \n",
       "             Yamin Ahmadzai                NaN         NaN         NaN         NaN   \n",
       "             Yasir Shah                    NaN         NaN         NaN         NaN   \n",
       "             Zulqarnain Haider (2)         NaN         NaN         NaN         NaN   \n",
       "             \n",
       "                                    2006-01-09  2006-02-16  2006-02-24  2007-01-09  \\\n",
       "             name                                                                    \n",
       "             A Ahmadhel                    NaN         NaN         NaN         NaN   \n",
       "             A Ashokan                     NaN         NaN         NaN         NaN   \n",
       "             A Bagai                       NaN         NaN         NaN         NaN   \n",
       "             A Balbirnie                   NaN         NaN         NaN         NaN   \n",
       "             A Bhagwat                     NaN         NaN         NaN         NaN   \n",
       "             ...                           ...         ...         ...         ...   \n",
       "             Waqas Maqsood                 NaN         NaN         NaN         NaN   \n",
       "             YA Abdulla                    NaN         NaN         NaN         NaN   \n",
       "             Yamin Ahmadzai                NaN         NaN         NaN         NaN   \n",
       "             Yasir Shah                    NaN         NaN         NaN         NaN   \n",
       "             Zulqarnain Haider (2)         NaN         NaN         NaN         NaN   \n",
       "             \n",
       "                                    2006-12-26  2006-12-01  ...  2020-11-08  2020-11-10  \\\n",
       "             name                                           ...                           \n",
       "             A Ahmadhel                    NaN         NaN  ...         NaN         NaN   \n",
       "             A Ashokan                     NaN         NaN  ...         NaN         NaN   \n",
       "             A Bagai                       NaN         NaN  ...         NaN         NaN   \n",
       "             A Balbirnie                   NaN         NaN  ...         NaN         NaN   \n",
       "             A Bhagwat                     NaN         NaN  ...         NaN         NaN   \n",
       "             ...                           ...         ...  ...         ...         ...   \n",
       "             Waqas Maqsood                 NaN         NaN  ...         NaN         NaN   \n",
       "             YA Abdulla                    NaN         NaN  ...         NaN         NaN   \n",
       "             Yamin Ahmadzai                NaN         NaN  ...         NaN         NaN   \n",
       "             Yasir Shah                    NaN         NaN  ...         NaN         NaN   \n",
       "             Zulqarnain Haider (2)         NaN         NaN  ...         NaN         NaN   \n",
       "             \n",
       "                                    2020-12-18  2020-12-20  2020-12-22  2020-10-16  \\\n",
       "             name                                                                    \n",
       "             A Ahmadhel                    NaN         NaN         NaN         NaN   \n",
       "             A Ashokan                     NaN         NaN         NaN         NaN   \n",
       "             A Bagai                       NaN         NaN         NaN         NaN   \n",
       "             A Balbirnie                   NaN         NaN         NaN         NaN   \n",
       "             A Bhagwat                     NaN         NaN         NaN         NaN   \n",
       "             ...                           ...         ...         ...         ...   \n",
       "             Waqas Maqsood                 NaN         NaN         NaN         NaN   \n",
       "             YA Abdulla                    NaN         NaN         NaN         NaN   \n",
       "             Yamin Ahmadzai                NaN         NaN         NaN         NaN   \n",
       "             Yasir Shah                    NaN         NaN         NaN         NaN   \n",
       "             Zulqarnain Haider (2)         NaN         NaN         NaN         NaN   \n",
       "             \n",
       "                                    2020-10-18  2020-11-27  2020-11-29  2020-12-01  \n",
       "             name                                                                   \n",
       "             A Ahmadhel                    1.0         NaN         NaN         NaN  \n",
       "             A Ashokan                     NaN         NaN         NaN         NaN  \n",
       "             A Bagai                       NaN         NaN         NaN         NaN  \n",
       "             A Balbirnie                   NaN         NaN         NaN         NaN  \n",
       "             A Bhagwat                     NaN         NaN         NaN         NaN  \n",
       "             ...                           ...         ...         ...         ...  \n",
       "             Waqas Maqsood                 NaN         NaN         NaN         NaN  \n",
       "             YA Abdulla                    NaN         NaN         NaN         NaN  \n",
       "             Yamin Ahmadzai                NaN         NaN         NaN         NaN  \n",
       "             Yasir Shah                    NaN         NaN         NaN         NaN  \n",
       "             Zulqarnain Haider (2)         NaN         NaN         NaN         NaN  \n",
       "             \n",
       "             [1703 rows x 619 columns],\n",
       "             '4s':                        2005-06-13  2005-02-17  2005-10-21  2006-08-28  \\\n",
       "             name                                                                    \n",
       "             A Ahmadhel                    NaN         NaN         NaN         NaN   \n",
       "             A Ashokan                     NaN         NaN         NaN         NaN   \n",
       "             A Bagai                       NaN         NaN         NaN         NaN   \n",
       "             A Balbirnie                   NaN         NaN         NaN         NaN   \n",
       "             A Bhagwat                     NaN         NaN         NaN         NaN   \n",
       "             ...                           ...         ...         ...         ...   \n",
       "             Waqas Maqsood                 NaN         NaN         NaN         NaN   \n",
       "             YA Abdulla                    NaN         NaN         NaN         NaN   \n",
       "             Yamin Ahmadzai                NaN         NaN         NaN         NaN   \n",
       "             Yasir Shah                    NaN         NaN         NaN         NaN   \n",
       "             Zulqarnain Haider (2)         NaN         NaN         NaN         NaN   \n",
       "             \n",
       "                                    2006-01-09  2006-02-16  2006-02-24  2007-01-09  \\\n",
       "             name                                                                    \n",
       "             A Ahmadhel                    NaN         NaN         NaN         NaN   \n",
       "             A Ashokan                     NaN         NaN         NaN         NaN   \n",
       "             A Bagai                       NaN         NaN         NaN         NaN   \n",
       "             A Balbirnie                   NaN         NaN         NaN         NaN   \n",
       "             A Bhagwat                     NaN         NaN         NaN         NaN   \n",
       "             ...                           ...         ...         ...         ...   \n",
       "             Waqas Maqsood                 NaN         NaN         NaN         NaN   \n",
       "             YA Abdulla                    NaN         NaN         NaN         NaN   \n",
       "             Yamin Ahmadzai                NaN         NaN         NaN         NaN   \n",
       "             Yasir Shah                    NaN         NaN         NaN         NaN   \n",
       "             Zulqarnain Haider (2)         NaN         NaN         NaN         NaN   \n",
       "             \n",
       "                                    2006-12-26  2006-12-01  ...  2020-11-08  2020-11-10  \\\n",
       "             name                                           ...                           \n",
       "             A Ahmadhel                    NaN         NaN  ...         NaN         NaN   \n",
       "             A Ashokan                     NaN         NaN  ...         NaN         NaN   \n",
       "             A Bagai                       NaN         NaN  ...         NaN         NaN   \n",
       "             A Balbirnie                   NaN         NaN  ...         NaN         NaN   \n",
       "             A Bhagwat                     NaN         NaN  ...         NaN         NaN   \n",
       "             ...                           ...         ...  ...         ...         ...   \n",
       "             Waqas Maqsood                 NaN         NaN  ...         NaN         NaN   \n",
       "             YA Abdulla                    NaN         NaN  ...         NaN         NaN   \n",
       "             Yamin Ahmadzai                NaN         NaN  ...         NaN         NaN   \n",
       "             Yasir Shah                    NaN         NaN  ...         NaN         NaN   \n",
       "             Zulqarnain Haider (2)         NaN         NaN  ...         NaN         NaN   \n",
       "             \n",
       "                                    2020-12-18  2020-12-20  2020-12-22  2020-10-16  \\\n",
       "             name                                                                    \n",
       "             A Ahmadhel                    NaN         NaN         NaN         NaN   \n",
       "             A Ashokan                     NaN         NaN         NaN         NaN   \n",
       "             A Bagai                       NaN         NaN         NaN         NaN   \n",
       "             A Balbirnie                   NaN         NaN         NaN         NaN   \n",
       "             A Bhagwat                     NaN         NaN         NaN         NaN   \n",
       "             ...                           ...         ...         ...         ...   \n",
       "             Waqas Maqsood                 NaN         NaN         NaN         NaN   \n",
       "             YA Abdulla                    NaN         NaN         NaN         NaN   \n",
       "             Yamin Ahmadzai                NaN         NaN         NaN         NaN   \n",
       "             Yasir Shah                    NaN         NaN         NaN         NaN   \n",
       "             Zulqarnain Haider (2)         NaN         NaN         NaN         NaN   \n",
       "             \n",
       "                                    2020-10-18  2020-11-27  2020-11-29  2020-12-01  \n",
       "             name                                                                   \n",
       "             A Ahmadhel                    0.0         NaN         NaN         NaN  \n",
       "             A Ashokan                     NaN         NaN         NaN         NaN  \n",
       "             A Bagai                       NaN         NaN         NaN         NaN  \n",
       "             A Balbirnie                   NaN         NaN         NaN         NaN  \n",
       "             A Bhagwat                     NaN         NaN         NaN         NaN  \n",
       "             ...                           ...         ...         ...         ...  \n",
       "             Waqas Maqsood                 NaN         NaN         NaN         NaN  \n",
       "             YA Abdulla                    NaN         NaN         NaN         NaN  \n",
       "             Yamin Ahmadzai                NaN         NaN         NaN         NaN  \n",
       "             Yasir Shah                    NaN         NaN         NaN         NaN  \n",
       "             Zulqarnain Haider (2)         NaN         NaN         NaN         NaN  \n",
       "             \n",
       "             [1703 rows x 619 columns],\n",
       "             '6s':                        2005-06-13  2005-02-17  2005-10-21  2006-08-28  \\\n",
       "             name                                                                    \n",
       "             A Ahmadhel                    NaN         NaN         NaN         NaN   \n",
       "             A Ashokan                     NaN         NaN         NaN         NaN   \n",
       "             A Bagai                       NaN         NaN         NaN         NaN   \n",
       "             A Balbirnie                   NaN         NaN         NaN         NaN   \n",
       "             A Bhagwat                     NaN         NaN         NaN         NaN   \n",
       "             ...                           ...         ...         ...         ...   \n",
       "             Waqas Maqsood                 NaN         NaN         NaN         NaN   \n",
       "             YA Abdulla                    NaN         NaN         NaN         NaN   \n",
       "             Yamin Ahmadzai                NaN         NaN         NaN         NaN   \n",
       "             Yasir Shah                    NaN         NaN         NaN         NaN   \n",
       "             Zulqarnain Haider (2)         NaN         NaN         NaN         NaN   \n",
       "             \n",
       "                                    2006-01-09  2006-02-16  2006-02-24  2007-01-09  \\\n",
       "             name                                                                    \n",
       "             A Ahmadhel                    NaN         NaN         NaN         NaN   \n",
       "             A Ashokan                     NaN         NaN         NaN         NaN   \n",
       "             A Bagai                       NaN         NaN         NaN         NaN   \n",
       "             A Balbirnie                   NaN         NaN         NaN         NaN   \n",
       "             A Bhagwat                     NaN         NaN         NaN         NaN   \n",
       "             ...                           ...         ...         ...         ...   \n",
       "             Waqas Maqsood                 NaN         NaN         NaN         NaN   \n",
       "             YA Abdulla                    NaN         NaN         NaN         NaN   \n",
       "             Yamin Ahmadzai                NaN         NaN         NaN         NaN   \n",
       "             Yasir Shah                    NaN         NaN         NaN         NaN   \n",
       "             Zulqarnain Haider (2)         NaN         NaN         NaN         NaN   \n",
       "             \n",
       "                                    2006-12-26  2006-12-01  ...  2020-11-08  2020-11-10  \\\n",
       "             name                                           ...                           \n",
       "             A Ahmadhel                    NaN         NaN  ...         NaN         NaN   \n",
       "             A Ashokan                     NaN         NaN  ...         NaN         NaN   \n",
       "             A Bagai                       NaN         NaN  ...         NaN         NaN   \n",
       "             A Balbirnie                   NaN         NaN  ...         NaN         NaN   \n",
       "             A Bhagwat                     NaN         NaN  ...         NaN         NaN   \n",
       "             ...                           ...         ...  ...         ...         ...   \n",
       "             Waqas Maqsood                 NaN         NaN  ...         NaN         NaN   \n",
       "             YA Abdulla                    NaN         NaN  ...         NaN         NaN   \n",
       "             Yamin Ahmadzai                NaN         NaN  ...         NaN         NaN   \n",
       "             Yasir Shah                    NaN         NaN  ...         NaN         NaN   \n",
       "             Zulqarnain Haider (2)         NaN         NaN  ...         NaN         NaN   \n",
       "             \n",
       "                                    2020-12-18  2020-12-20  2020-12-22  2020-10-16  \\\n",
       "             name                                                                    \n",
       "             A Ahmadhel                    NaN         NaN         NaN         NaN   \n",
       "             A Ashokan                     NaN         NaN         NaN         NaN   \n",
       "             A Bagai                       NaN         NaN         NaN         NaN   \n",
       "             A Balbirnie                   NaN         NaN         NaN         NaN   \n",
       "             A Bhagwat                     NaN         NaN         NaN         NaN   \n",
       "             ...                           ...         ...         ...         ...   \n",
       "             Waqas Maqsood                 NaN         NaN         NaN         NaN   \n",
       "             YA Abdulla                    NaN         NaN         NaN         NaN   \n",
       "             Yamin Ahmadzai                NaN         NaN         NaN         NaN   \n",
       "             Yasir Shah                    NaN         NaN         NaN         NaN   \n",
       "             Zulqarnain Haider (2)         NaN         NaN         NaN         NaN   \n",
       "             \n",
       "                                    2020-10-18  2020-11-27  2020-11-29  2020-12-01  \n",
       "             name                                                                   \n",
       "             A Ahmadhel                    0.0         NaN         NaN         NaN  \n",
       "             A Ashokan                     NaN         NaN         NaN         NaN  \n",
       "             A Bagai                       NaN         NaN         NaN         NaN  \n",
       "             A Balbirnie                   NaN         NaN         NaN         NaN  \n",
       "             A Bhagwat                     NaN         NaN         NaN         NaN  \n",
       "             ...                           ...         ...         ...         ...  \n",
       "             Waqas Maqsood                 NaN         NaN         NaN         NaN  \n",
       "             YA Abdulla                    NaN         NaN         NaN         NaN  \n",
       "             Yamin Ahmadzai                NaN         NaN         NaN         NaN  \n",
       "             Yasir Shah                    NaN         NaN         NaN         NaN  \n",
       "             Zulqarnain Haider (2)         NaN         NaN         NaN         NaN  \n",
       "             \n",
       "             [1703 rows x 619 columns],\n",
       "             '50s':                       2005-06-13 2005-02-17 2005-10-21 2006-08-28 2006-01-09  \\\n",
       "             name                                                                           \n",
       "             A Ahmadhel                   NaN        NaN        NaN        NaN        NaN   \n",
       "             A Ashokan                    NaN        NaN        NaN        NaN        NaN   \n",
       "             A Bagai                      NaN        NaN        NaN        NaN        NaN   \n",
       "             A Balbirnie                  NaN        NaN        NaN        NaN        NaN   \n",
       "             A Bhagwat                    NaN        NaN        NaN        NaN        NaN   \n",
       "             ...                          ...        ...        ...        ...        ...   \n",
       "             Waqas Maqsood                NaN        NaN        NaN        NaN        NaN   \n",
       "             YA Abdulla                   NaN        NaN        NaN        NaN        NaN   \n",
       "             Yamin Ahmadzai               NaN        NaN        NaN        NaN        NaN   \n",
       "             Yasir Shah                   NaN        NaN        NaN        NaN        NaN   \n",
       "             Zulqarnain Haider (2)        NaN        NaN        NaN        NaN        NaN   \n",
       "             \n",
       "                                   2006-02-16 2006-02-24 2007-01-09 2006-12-26 2006-12-01  \\\n",
       "             name                                                                           \n",
       "             A Ahmadhel                   NaN        NaN        NaN        NaN        NaN   \n",
       "             A Ashokan                    NaN        NaN        NaN        NaN        NaN   \n",
       "             A Bagai                      NaN        NaN        NaN        NaN        NaN   \n",
       "             A Balbirnie                  NaN        NaN        NaN        NaN        NaN   \n",
       "             A Bhagwat                    NaN        NaN        NaN        NaN        NaN   \n",
       "             ...                          ...        ...        ...        ...        ...   \n",
       "             Waqas Maqsood                NaN        NaN        NaN        NaN        NaN   \n",
       "             YA Abdulla                   NaN        NaN        NaN        NaN        NaN   \n",
       "             Yamin Ahmadzai               NaN        NaN        NaN        NaN        NaN   \n",
       "             Yasir Shah                   NaN        NaN        NaN        NaN        NaN   \n",
       "             Zulqarnain Haider (2)        NaN        NaN        NaN        NaN        NaN   \n",
       "             \n",
       "                                    ... 2020-11-08 2020-11-10 2020-12-18 2020-12-20  \\\n",
       "             name                   ...                                               \n",
       "             A Ahmadhel             ...        NaN        NaN        NaN        NaN   \n",
       "             A Ashokan              ...        NaN        NaN        NaN        NaN   \n",
       "             A Bagai                ...        NaN        NaN        NaN        NaN   \n",
       "             A Balbirnie            ...        NaN        NaN        NaN        NaN   \n",
       "             A Bhagwat              ...        NaN        NaN        NaN        NaN   \n",
       "             ...                    ...        ...        ...        ...        ...   \n",
       "             Waqas Maqsood          ...        NaN        NaN        NaN        NaN   \n",
       "             YA Abdulla             ...        NaN        NaN        NaN        NaN   \n",
       "             Yamin Ahmadzai         ...        NaN        NaN        NaN        NaN   \n",
       "             Yasir Shah             ...        NaN        NaN        NaN        NaN   \n",
       "             Zulqarnain Haider (2)  ...        NaN        NaN        NaN        NaN   \n",
       "             \n",
       "                                   2020-12-22 2020-10-16 2020-10-18 2020-11-27 2020-11-29  \\\n",
       "             name                                                                           \n",
       "             A Ahmadhel                   NaN        NaN      False        NaN        NaN   \n",
       "             A Ashokan                    NaN        NaN        NaN        NaN        NaN   \n",
       "             A Bagai                      NaN        NaN        NaN        NaN        NaN   \n",
       "             A Balbirnie                  NaN        NaN        NaN        NaN        NaN   \n",
       "             A Bhagwat                    NaN        NaN        NaN        NaN        NaN   \n",
       "             ...                          ...        ...        ...        ...        ...   \n",
       "             Waqas Maqsood                NaN        NaN        NaN        NaN        NaN   \n",
       "             YA Abdulla                   NaN        NaN        NaN        NaN        NaN   \n",
       "             Yamin Ahmadzai               NaN        NaN        NaN        NaN        NaN   \n",
       "             Yasir Shah                   NaN        NaN        NaN        NaN        NaN   \n",
       "             Zulqarnain Haider (2)        NaN        NaN        NaN        NaN        NaN   \n",
       "             \n",
       "                                   2020-12-01  \n",
       "             name                              \n",
       "             A Ahmadhel                   NaN  \n",
       "             A Ashokan                    NaN  \n",
       "             A Bagai                      NaN  \n",
       "             A Balbirnie                  NaN  \n",
       "             A Bhagwat                    NaN  \n",
       "             ...                          ...  \n",
       "             Waqas Maqsood                NaN  \n",
       "             YA Abdulla                   NaN  \n",
       "             Yamin Ahmadzai               NaN  \n",
       "             Yasir Shah                   NaN  \n",
       "             Zulqarnain Haider (2)        NaN  \n",
       "             \n",
       "             [1703 rows x 619 columns],\n",
       "             '100s':                       2005-06-13 2005-02-17 2005-10-21 2006-08-28 2006-01-09  \\\n",
       "             name                                                                           \n",
       "             A Ahmadhel                   NaN        NaN        NaN        NaN        NaN   \n",
       "             A Ashokan                    NaN        NaN        NaN        NaN        NaN   \n",
       "             A Bagai                      NaN        NaN        NaN        NaN        NaN   \n",
       "             A Balbirnie                  NaN        NaN        NaN        NaN        NaN   \n",
       "             A Bhagwat                    NaN        NaN        NaN        NaN        NaN   \n",
       "             ...                          ...        ...        ...        ...        ...   \n",
       "             Waqas Maqsood                NaN        NaN        NaN        NaN        NaN   \n",
       "             YA Abdulla                   NaN        NaN        NaN        NaN        NaN   \n",
       "             Yamin Ahmadzai               NaN        NaN        NaN        NaN        NaN   \n",
       "             Yasir Shah                   NaN        NaN        NaN        NaN        NaN   \n",
       "             Zulqarnain Haider (2)        NaN        NaN        NaN        NaN        NaN   \n",
       "             \n",
       "                                   2006-02-16 2006-02-24 2007-01-09 2006-12-26 2006-12-01  \\\n",
       "             name                                                                           \n",
       "             A Ahmadhel                   NaN        NaN        NaN        NaN        NaN   \n",
       "             A Ashokan                    NaN        NaN        NaN        NaN        NaN   \n",
       "             A Bagai                      NaN        NaN        NaN        NaN        NaN   \n",
       "             A Balbirnie                  NaN        NaN        NaN        NaN        NaN   \n",
       "             A Bhagwat                    NaN        NaN        NaN        NaN        NaN   \n",
       "             ...                          ...        ...        ...        ...        ...   \n",
       "             Waqas Maqsood                NaN        NaN        NaN        NaN        NaN   \n",
       "             YA Abdulla                   NaN        NaN        NaN        NaN        NaN   \n",
       "             Yamin Ahmadzai               NaN        NaN        NaN        NaN        NaN   \n",
       "             Yasir Shah                   NaN        NaN        NaN        NaN        NaN   \n",
       "             Zulqarnain Haider (2)        NaN        NaN        NaN        NaN        NaN   \n",
       "             \n",
       "                                    ... 2020-11-08 2020-11-10 2020-12-18 2020-12-20  \\\n",
       "             name                   ...                                               \n",
       "             A Ahmadhel             ...        NaN        NaN        NaN        NaN   \n",
       "             A Ashokan              ...        NaN        NaN        NaN        NaN   \n",
       "             A Bagai                ...        NaN        NaN        NaN        NaN   \n",
       "             A Balbirnie            ...        NaN        NaN        NaN        NaN   \n",
       "             A Bhagwat              ...        NaN        NaN        NaN        NaN   \n",
       "             ...                    ...        ...        ...        ...        ...   \n",
       "             Waqas Maqsood          ...        NaN        NaN        NaN        NaN   \n",
       "             YA Abdulla             ...        NaN        NaN        NaN        NaN   \n",
       "             Yamin Ahmadzai         ...        NaN        NaN        NaN        NaN   \n",
       "             Yasir Shah             ...        NaN        NaN        NaN        NaN   \n",
       "             Zulqarnain Haider (2)  ...        NaN        NaN        NaN        NaN   \n",
       "             \n",
       "                                   2020-12-22 2020-10-16 2020-10-18 2020-11-27 2020-11-29  \\\n",
       "             name                                                                           \n",
       "             A Ahmadhel                   NaN        NaN      False        NaN        NaN   \n",
       "             A Ashokan                    NaN        NaN        NaN        NaN        NaN   \n",
       "             A Bagai                      NaN        NaN        NaN        NaN        NaN   \n",
       "             A Balbirnie                  NaN        NaN        NaN        NaN        NaN   \n",
       "             A Bhagwat                    NaN        NaN        NaN        NaN        NaN   \n",
       "             ...                          ...        ...        ...        ...        ...   \n",
       "             Waqas Maqsood                NaN        NaN        NaN        NaN        NaN   \n",
       "             YA Abdulla                   NaN        NaN        NaN        NaN        NaN   \n",
       "             Yamin Ahmadzai               NaN        NaN        NaN        NaN        NaN   \n",
       "             Yasir Shah                   NaN        NaN        NaN        NaN        NaN   \n",
       "             Zulqarnain Haider (2)        NaN        NaN        NaN        NaN        NaN   \n",
       "             \n",
       "                                   2020-12-01  \n",
       "             name                              \n",
       "             A Ahmadhel                   NaN  \n",
       "             A Ashokan                    NaN  \n",
       "             A Bagai                      NaN  \n",
       "             A Balbirnie                  NaN  \n",
       "             A Bhagwat                    NaN  \n",
       "             ...                          ...  \n",
       "             Waqas Maqsood                NaN  \n",
       "             YA Abdulla                   NaN  \n",
       "             Yamin Ahmadzai               NaN  \n",
       "             Yasir Shah                   NaN  \n",
       "             Zulqarnain Haider (2)        NaN  \n",
       "             \n",
       "             [1703 rows x 619 columns],\n",
       "             'extras_striker':                        2005-06-13  2005-02-17  2005-10-21  2006-08-28  \\\n",
       "             name                                                                    \n",
       "             A Ahmadhel                    NaN         NaN         NaN         NaN   \n",
       "             A Ashokan                     NaN         NaN         NaN         NaN   \n",
       "             A Bagai                       NaN         NaN         NaN         NaN   \n",
       "             A Balbirnie                   NaN         NaN         NaN         NaN   \n",
       "             A Bhagwat                     NaN         NaN         NaN         NaN   \n",
       "             ...                           ...         ...         ...         ...   \n",
       "             Waqas Maqsood                 NaN         NaN         NaN         NaN   \n",
       "             YA Abdulla                    NaN         NaN         NaN         NaN   \n",
       "             Yamin Ahmadzai                NaN         NaN         NaN         NaN   \n",
       "             Yasir Shah                    NaN         NaN         NaN         NaN   \n",
       "             Zulqarnain Haider (2)         NaN         NaN         NaN         NaN   \n",
       "             \n",
       "                                    2006-01-09  2006-02-16  2006-02-24  2007-01-09  \\\n",
       "             name                                                                    \n",
       "             A Ahmadhel                    NaN         NaN         NaN         NaN   \n",
       "             A Ashokan                     NaN         NaN         NaN         NaN   \n",
       "             A Bagai                       NaN         NaN         NaN         NaN   \n",
       "             A Balbirnie                   NaN         NaN         NaN         NaN   \n",
       "             A Bhagwat                     NaN         NaN         NaN         NaN   \n",
       "             ...                           ...         ...         ...         ...   \n",
       "             Waqas Maqsood                 NaN         NaN         NaN         NaN   \n",
       "             YA Abdulla                    NaN         NaN         NaN         NaN   \n",
       "             Yamin Ahmadzai                NaN         NaN         NaN         NaN   \n",
       "             Yasir Shah                    NaN         NaN         NaN         NaN   \n",
       "             Zulqarnain Haider (2)         NaN         NaN         NaN         NaN   \n",
       "             \n",
       "                                    2006-12-26  2006-12-01  ...  2020-11-08  2020-11-10  \\\n",
       "             name                                           ...                           \n",
       "             A Ahmadhel                    NaN         NaN  ...         NaN         NaN   \n",
       "             A Ashokan                     NaN         NaN  ...         NaN         NaN   \n",
       "             A Bagai                       NaN         NaN  ...         NaN         NaN   \n",
       "             A Balbirnie                   NaN         NaN  ...         NaN         NaN   \n",
       "             A Bhagwat                     NaN         NaN  ...         NaN         NaN   \n",
       "             ...                           ...         ...  ...         ...         ...   \n",
       "             Waqas Maqsood                 NaN         NaN  ...         NaN         NaN   \n",
       "             YA Abdulla                    NaN         NaN  ...         NaN         NaN   \n",
       "             Yamin Ahmadzai                NaN         NaN  ...         NaN         NaN   \n",
       "             Yasir Shah                    NaN         NaN  ...         NaN         NaN   \n",
       "             Zulqarnain Haider (2)         NaN         NaN  ...         NaN         NaN   \n",
       "             \n",
       "                                    2020-12-18  2020-12-20  2020-12-22  2020-10-16  \\\n",
       "             name                                                                    \n",
       "             A Ahmadhel                    NaN         NaN         NaN         NaN   \n",
       "             A Ashokan                     NaN         NaN         NaN         NaN   \n",
       "             A Bagai                       NaN         NaN         NaN         NaN   \n",
       "             A Balbirnie                   NaN         NaN         NaN         NaN   \n",
       "             A Bhagwat                     NaN         NaN         NaN         NaN   \n",
       "             ...                           ...         ...         ...         ...   \n",
       "             Waqas Maqsood                 NaN         NaN         NaN         NaN   \n",
       "             YA Abdulla                    NaN         NaN         NaN         NaN   \n",
       "             Yamin Ahmadzai                NaN         NaN         NaN         NaN   \n",
       "             Yasir Shah                    NaN         NaN         NaN         NaN   \n",
       "             Zulqarnain Haider (2)         NaN         NaN         NaN         NaN   \n",
       "             \n",
       "                                    2020-10-18  2020-11-27  2020-11-29  2020-12-01  \n",
       "             name                                                                   \n",
       "             A Ahmadhel                    2.0         NaN         NaN         NaN  \n",
       "             A Ashokan                     NaN         NaN         NaN         NaN  \n",
       "             A Bagai                       NaN         NaN         NaN         NaN  \n",
       "             A Balbirnie                   NaN         NaN         NaN         NaN  \n",
       "             A Bhagwat                     NaN         NaN         NaN         NaN  \n",
       "             ...                           ...         ...         ...         ...  \n",
       "             Waqas Maqsood                 NaN         NaN         NaN         NaN  \n",
       "             YA Abdulla                    NaN         NaN         NaN         NaN  \n",
       "             Yamin Ahmadzai                NaN         NaN         NaN         NaN  \n",
       "             Yasir Shah                    NaN         NaN         NaN         NaN  \n",
       "             Zulqarnain Haider (2)         NaN         NaN         NaN         NaN  \n",
       "             \n",
       "             [1703 rows x 619 columns],\n",
       "             's_r':                        2005-06-13  2005-02-17  2005-10-21  2006-08-28  \\\n",
       "             name                                                                    \n",
       "             A Ahmadhel                    NaN         NaN         NaN         NaN   \n",
       "             A Ashokan                     NaN         NaN         NaN         NaN   \n",
       "             A Bagai                       NaN         NaN         NaN         NaN   \n",
       "             A Balbirnie                   NaN         NaN         NaN         NaN   \n",
       "             A Bhagwat                     NaN         NaN         NaN         NaN   \n",
       "             ...                           ...         ...         ...         ...   \n",
       "             Waqas Maqsood                 NaN         NaN         NaN         NaN   \n",
       "             YA Abdulla                    NaN         NaN         NaN         NaN   \n",
       "             Yamin Ahmadzai                NaN         NaN         NaN         NaN   \n",
       "             Yasir Shah                    NaN         NaN         NaN         NaN   \n",
       "             Zulqarnain Haider (2)         NaN         NaN         NaN         NaN   \n",
       "             \n",
       "                                    2006-01-09  2006-02-16  2006-02-24  2007-01-09  \\\n",
       "             name                                                                    \n",
       "             A Ahmadhel                    NaN         NaN         NaN         NaN   \n",
       "             A Ashokan                     NaN         NaN         NaN         NaN   \n",
       "             A Bagai                       NaN         NaN         NaN         NaN   \n",
       "             A Balbirnie                   NaN         NaN         NaN         NaN   \n",
       "             A Bhagwat                     NaN         NaN         NaN         NaN   \n",
       "             ...                           ...         ...         ...         ...   \n",
       "             Waqas Maqsood                 NaN         NaN         NaN         NaN   \n",
       "             YA Abdulla                    NaN         NaN         NaN         NaN   \n",
       "             Yamin Ahmadzai                NaN         NaN         NaN         NaN   \n",
       "             Yasir Shah                    NaN         NaN         NaN         NaN   \n",
       "             Zulqarnain Haider (2)         NaN         NaN         NaN         NaN   \n",
       "             \n",
       "                                    2006-12-26  2006-12-01  ...  2020-11-08  2020-11-10  \\\n",
       "             name                                           ...                           \n",
       "             A Ahmadhel                    NaN         NaN  ...         NaN         NaN   \n",
       "             A Ashokan                     NaN         NaN  ...         NaN         NaN   \n",
       "             A Bagai                       NaN         NaN  ...         NaN         NaN   \n",
       "             A Balbirnie                   NaN         NaN  ...         NaN         NaN   \n",
       "             A Bhagwat                     NaN         NaN  ...         NaN         NaN   \n",
       "             ...                           ...         ...  ...         ...         ...   \n",
       "             Waqas Maqsood                 NaN         NaN  ...         NaN         NaN   \n",
       "             YA Abdulla                    NaN         NaN  ...         NaN         NaN   \n",
       "             Yamin Ahmadzai                NaN         NaN  ...         NaN         NaN   \n",
       "             Yasir Shah                    NaN         NaN  ...         NaN         NaN   \n",
       "             Zulqarnain Haider (2)         NaN         NaN  ...         NaN         NaN   \n",
       "             \n",
       "                                    2020-12-18  2020-12-20  2020-12-22  2020-10-16  \\\n",
       "             name                                                                    \n",
       "             A Ahmadhel                    NaN         NaN         NaN         NaN   \n",
       "             A Ashokan                     NaN         NaN         NaN         NaN   \n",
       "             A Bagai                       NaN         NaN         NaN         NaN   \n",
       "             A Balbirnie                   NaN         NaN         NaN         NaN   \n",
       "             A Bhagwat                     NaN         NaN         NaN         NaN   \n",
       "             ...                           ...         ...         ...         ...   \n",
       "             Waqas Maqsood                 NaN         NaN         NaN         NaN   \n",
       "             YA Abdulla                    NaN         NaN         NaN         NaN   \n",
       "             Yamin Ahmadzai                NaN         NaN         NaN         NaN   \n",
       "             Yasir Shah                    NaN         NaN         NaN         NaN   \n",
       "             Zulqarnain Haider (2)         NaN         NaN         NaN         NaN   \n",
       "             \n",
       "                                    2020-10-18  2020-11-27  2020-11-29  2020-12-01  \n",
       "             name                                                                   \n",
       "             A Ahmadhel                   25.0         NaN         NaN         NaN  \n",
       "             A Ashokan                     NaN         NaN         NaN         NaN  \n",
       "             A Bagai                       NaN         NaN         NaN         NaN  \n",
       "             A Balbirnie                   NaN         NaN         NaN         NaN  \n",
       "             A Bhagwat                     NaN         NaN         NaN         NaN  \n",
       "             ...                           ...         ...         ...         ...  \n",
       "             Waqas Maqsood                 NaN         NaN         NaN         NaN  \n",
       "             YA Abdulla                    NaN         NaN         NaN         NaN  \n",
       "             Yamin Ahmadzai                NaN         NaN         NaN         NaN  \n",
       "             Yasir Shah                    NaN         NaN         NaN         NaN  \n",
       "             Zulqarnain Haider (2)         NaN         NaN         NaN         NaN  \n",
       "             \n",
       "             [1703 rows x 619 columns],\n",
       "             'Av':                        2005-06-13  2005-02-17  2005-10-21  2006-08-28  \\\n",
       "             name                                                                    \n",
       "             A Ahmadhel                    NaN         NaN         NaN         NaN   \n",
       "             A Ashokan                     NaN         NaN         NaN         NaN   \n",
       "             A Bagai                       NaN         NaN         NaN         NaN   \n",
       "             A Balbirnie                   NaN         NaN         NaN         NaN   \n",
       "             A Bhagwat                     NaN         NaN         NaN         NaN   \n",
       "             ...                           ...         ...         ...         ...   \n",
       "             Waqas Maqsood                 NaN         NaN         NaN         NaN   \n",
       "             YA Abdulla                    NaN         NaN         NaN         NaN   \n",
       "             Yamin Ahmadzai                NaN         NaN         NaN         NaN   \n",
       "             Yasir Shah                    NaN         NaN         NaN         NaN   \n",
       "             Zulqarnain Haider (2)         NaN         NaN         NaN         NaN   \n",
       "             \n",
       "                                    2006-01-09  2006-02-16  2006-02-24  2007-01-09  \\\n",
       "             name                                                                    \n",
       "             A Ahmadhel                    NaN         NaN         NaN         NaN   \n",
       "             A Ashokan                     NaN         NaN         NaN         NaN   \n",
       "             A Bagai                       NaN         NaN         NaN         NaN   \n",
       "             A Balbirnie                   NaN         NaN         NaN         NaN   \n",
       "             A Bhagwat                     NaN         NaN         NaN         NaN   \n",
       "             ...                           ...         ...         ...         ...   \n",
       "             Waqas Maqsood                 NaN         NaN         NaN         NaN   \n",
       "             YA Abdulla                    NaN         NaN         NaN         NaN   \n",
       "             Yamin Ahmadzai                NaN         NaN         NaN         NaN   \n",
       "             Yasir Shah                    NaN         NaN         NaN         NaN   \n",
       "             Zulqarnain Haider (2)         NaN         NaN         NaN         NaN   \n",
       "             \n",
       "                                    2006-12-26  2006-12-01  ...  2020-11-08  2020-11-10  \\\n",
       "             name                                           ...                           \n",
       "             A Ahmadhel                    NaN         NaN  ...         NaN         NaN   \n",
       "             A Ashokan                     NaN         NaN  ...         NaN         NaN   \n",
       "             A Bagai                       NaN         NaN  ...         NaN         NaN   \n",
       "             A Balbirnie                   NaN         NaN  ...         NaN         NaN   \n",
       "             A Bhagwat                     NaN         NaN  ...         NaN         NaN   \n",
       "             ...                           ...         ...  ...         ...         ...   \n",
       "             Waqas Maqsood                 NaN         NaN  ...         NaN         NaN   \n",
       "             YA Abdulla                    NaN         NaN  ...         NaN         NaN   \n",
       "             Yamin Ahmadzai                NaN         NaN  ...         NaN         NaN   \n",
       "             Yasir Shah                    NaN         NaN  ...         NaN         NaN   \n",
       "             Zulqarnain Haider (2)         NaN         NaN  ...         NaN         NaN   \n",
       "             \n",
       "                                    2020-12-18  2020-12-20  2020-12-22  2020-10-16  \\\n",
       "             name                                                                    \n",
       "             A Ahmadhel                    NaN         NaN         NaN         NaN   \n",
       "             A Ashokan                     NaN         NaN         NaN         NaN   \n",
       "             A Bagai                       NaN         NaN         NaN         NaN   \n",
       "             A Balbirnie                   NaN         NaN         NaN         NaN   \n",
       "             A Bhagwat                     NaN         NaN         NaN         NaN   \n",
       "             ...                           ...         ...         ...         ...   \n",
       "             Waqas Maqsood                 NaN         NaN         NaN         NaN   \n",
       "             YA Abdulla                    NaN         NaN         NaN         NaN   \n",
       "             Yamin Ahmadzai                NaN         NaN         NaN         NaN   \n",
       "             Yasir Shah                    NaN         NaN         NaN         NaN   \n",
       "             Zulqarnain Haider (2)         NaN         NaN         NaN         NaN   \n",
       "             \n",
       "                                    2020-10-18  2020-11-27  2020-11-29  2020-12-01  \n",
       "             name                                                                   \n",
       "             A Ahmadhel                    2.0         NaN         NaN         NaN  \n",
       "             A Ashokan                     NaN         NaN         NaN         NaN  \n",
       "             A Bagai                       NaN         NaN         NaN         NaN  \n",
       "             A Balbirnie                   NaN         NaN         NaN         NaN  \n",
       "             A Bhagwat                     NaN         NaN         NaN         NaN  \n",
       "             ...                           ...         ...         ...         ...  \n",
       "             Waqas Maqsood                 NaN         NaN         NaN         NaN  \n",
       "             YA Abdulla                    NaN         NaN         NaN         NaN  \n",
       "             Yamin Ahmadzai                NaN         NaN         NaN         NaN  \n",
       "             Yasir Shah                    NaN         NaN         NaN         NaN  \n",
       "             Zulqarnain Haider (2)         NaN         NaN         NaN         NaN  \n",
       "             \n",
       "             [1703 rows x 619 columns],\n",
       "             'games_bowler':                        2005-06-13  2005-02-17  2005-10-21  2006-08-28  \\\n",
       "             name                                                                    \n",
       "             A Ahmadhel                    NaN         NaN         NaN         NaN   \n",
       "             A Ashokan                     NaN         NaN         NaN         NaN   \n",
       "             A Bagai                       NaN         NaN         NaN         NaN   \n",
       "             A Balbirnie                   NaN         NaN         NaN         NaN   \n",
       "             A Bhagwat                     NaN         NaN         NaN         NaN   \n",
       "             ...                           ...         ...         ...         ...   \n",
       "             Waqas Maqsood                 NaN         NaN         NaN         NaN   \n",
       "             YA Abdulla                    NaN         NaN         NaN         NaN   \n",
       "             Yamin Ahmadzai                NaN         NaN         NaN         NaN   \n",
       "             Yasir Shah                    NaN         NaN         NaN         NaN   \n",
       "             Zulqarnain Haider (2)         NaN         NaN         NaN         NaN   \n",
       "             \n",
       "                                    2006-01-09  2006-02-16  2006-02-24  2007-01-09  \\\n",
       "             name                                                                    \n",
       "             A Ahmadhel                    NaN         NaN         NaN         NaN   \n",
       "             A Ashokan                     NaN         NaN         NaN         NaN   \n",
       "             A Bagai                       NaN         NaN         NaN         NaN   \n",
       "             A Balbirnie                   NaN         NaN         NaN         NaN   \n",
       "             A Bhagwat                     NaN         NaN         NaN         NaN   \n",
       "             ...                           ...         ...         ...         ...   \n",
       "             Waqas Maqsood                 NaN         NaN         NaN         NaN   \n",
       "             YA Abdulla                    NaN         NaN         NaN         NaN   \n",
       "             Yamin Ahmadzai                NaN         NaN         NaN         NaN   \n",
       "             Yasir Shah                    NaN         NaN         NaN         NaN   \n",
       "             Zulqarnain Haider (2)         NaN         NaN         NaN         NaN   \n",
       "             \n",
       "                                    2006-12-26  2006-12-01  ...  2020-11-08  2020-11-10  \\\n",
       "             name                                           ...                           \n",
       "             A Ahmadhel                    NaN         NaN  ...         NaN         NaN   \n",
       "             A Ashokan                     NaN         NaN  ...         NaN         NaN   \n",
       "             A Bagai                       NaN         NaN  ...         NaN         NaN   \n",
       "             A Balbirnie                   NaN         NaN  ...         NaN         NaN   \n",
       "             A Bhagwat                     NaN         NaN  ...         NaN         NaN   \n",
       "             ...                           ...         ...  ...         ...         ...   \n",
       "             Waqas Maqsood                 NaN         NaN  ...         NaN         NaN   \n",
       "             YA Abdulla                    NaN         NaN  ...         NaN         NaN   \n",
       "             Yamin Ahmadzai                NaN         NaN  ...         NaN         NaN   \n",
       "             Yasir Shah                    NaN         NaN  ...         NaN         NaN   \n",
       "             Zulqarnain Haider (2)         NaN         NaN  ...         NaN         NaN   \n",
       "             \n",
       "                                    2020-12-18  2020-12-20  2020-12-22  2020-10-16  \\\n",
       "             name                                                                    \n",
       "             A Ahmadhel                    NaN         NaN         NaN         NaN   \n",
       "             A Ashokan                     NaN         NaN         NaN         NaN   \n",
       "             A Bagai                       NaN         NaN         NaN         NaN   \n",
       "             A Balbirnie                   NaN         NaN         NaN         NaN   \n",
       "             A Bhagwat                     NaN         NaN         NaN         NaN   \n",
       "             ...                           ...         ...         ...         ...   \n",
       "             Waqas Maqsood                 NaN         NaN         NaN         NaN   \n",
       "             YA Abdulla                    NaN         NaN         NaN         NaN   \n",
       "             Yamin Ahmadzai                NaN         NaN         NaN         NaN   \n",
       "             Yasir Shah                    NaN         NaN         NaN         NaN   \n",
       "             Zulqarnain Haider (2)         NaN         NaN         NaN         NaN   \n",
       "             \n",
       "                                    2020-10-18  2020-11-27  2020-11-29  2020-12-01  \n",
       "             name                                                                   \n",
       "             A Ahmadhel                    1.0         NaN         NaN         NaN  \n",
       "             A Ashokan                     NaN         NaN         NaN         NaN  \n",
       "             A Bagai                       NaN         NaN         NaN         NaN  \n",
       "             A Balbirnie                   NaN         NaN         NaN         NaN  \n",
       "             A Bhagwat                     NaN         NaN         NaN         NaN  \n",
       "             ...                           ...         ...         ...         ...  \n",
       "             Waqas Maqsood                 NaN         NaN         NaN         NaN  \n",
       "             YA Abdulla                    NaN         NaN         NaN         NaN  \n",
       "             Yamin Ahmadzai                NaN         NaN         NaN         NaN  \n",
       "             Yasir Shah                    NaN         NaN         NaN         NaN  \n",
       "             Zulqarnain Haider (2)         NaN         NaN         NaN         NaN  \n",
       "             \n",
       "             [1703 rows x 619 columns],\n",
       "             'balls_bowl':                        2005-06-13  2005-02-17  2005-10-21  2006-08-28  \\\n",
       "             name                                                                    \n",
       "             A Ahmadhel                    NaN         NaN         NaN         NaN   \n",
       "             A Ashokan                     NaN         NaN         NaN         NaN   \n",
       "             A Bagai                       NaN         NaN         NaN         NaN   \n",
       "             A Balbirnie                   NaN         NaN         NaN         NaN   \n",
       "             A Bhagwat                     NaN         NaN         NaN         NaN   \n",
       "             ...                           ...         ...         ...         ...   \n",
       "             Waqas Maqsood                 NaN         NaN         NaN         NaN   \n",
       "             YA Abdulla                    NaN         NaN         NaN         NaN   \n",
       "             Yamin Ahmadzai                NaN         NaN         NaN         NaN   \n",
       "             Yasir Shah                    NaN         NaN         NaN         NaN   \n",
       "             Zulqarnain Haider (2)         NaN         NaN         NaN         NaN   \n",
       "             \n",
       "                                    2006-01-09  2006-02-16  2006-02-24  2007-01-09  \\\n",
       "             name                                                                    \n",
       "             A Ahmadhel                    NaN         NaN         NaN         NaN   \n",
       "             A Ashokan                     NaN         NaN         NaN         NaN   \n",
       "             A Bagai                       NaN         NaN         NaN         NaN   \n",
       "             A Balbirnie                   NaN         NaN         NaN         NaN   \n",
       "             A Bhagwat                     NaN         NaN         NaN         NaN   \n",
       "             ...                           ...         ...         ...         ...   \n",
       "             Waqas Maqsood                 NaN         NaN         NaN         NaN   \n",
       "             YA Abdulla                    NaN         NaN         NaN         NaN   \n",
       "             Yamin Ahmadzai                NaN         NaN         NaN         NaN   \n",
       "             Yasir Shah                    NaN         NaN         NaN         NaN   \n",
       "             Zulqarnain Haider (2)         NaN         NaN         NaN         NaN   \n",
       "             \n",
       "                                    2006-12-26  2006-12-01  ...  2020-11-08  2020-11-10  \\\n",
       "             name                                           ...                           \n",
       "             A Ahmadhel                    NaN         NaN  ...         NaN         NaN   \n",
       "             A Ashokan                     NaN         NaN  ...         NaN         NaN   \n",
       "             A Bagai                       NaN         NaN  ...         NaN         NaN   \n",
       "             A Balbirnie                   NaN         NaN  ...         NaN         NaN   \n",
       "             A Bhagwat                     NaN         NaN  ...         NaN         NaN   \n",
       "             ...                           ...         ...  ...         ...         ...   \n",
       "             Waqas Maqsood                 NaN         NaN  ...         NaN         NaN   \n",
       "             YA Abdulla                    NaN         NaN  ...         NaN         NaN   \n",
       "             Yamin Ahmadzai                NaN         NaN  ...         NaN         NaN   \n",
       "             Yasir Shah                    NaN         NaN  ...         NaN         NaN   \n",
       "             Zulqarnain Haider (2)         NaN         NaN  ...         NaN         NaN   \n",
       "             \n",
       "                                    2020-12-18  2020-12-20  2020-12-22  2020-10-16  \\\n",
       "             name                                                                    \n",
       "             A Ahmadhel                    NaN         NaN         NaN         NaN   \n",
       "             A Ashokan                     NaN         NaN         NaN         NaN   \n",
       "             A Bagai                       NaN         NaN         NaN         NaN   \n",
       "             A Balbirnie                   NaN         NaN         NaN         NaN   \n",
       "             A Bhagwat                     NaN         NaN         NaN         NaN   \n",
       "             ...                           ...         ...         ...         ...   \n",
       "             Waqas Maqsood                 NaN         NaN         NaN         NaN   \n",
       "             YA Abdulla                    NaN         NaN         NaN         NaN   \n",
       "             Yamin Ahmadzai                NaN         NaN         NaN         NaN   \n",
       "             Yasir Shah                    NaN         NaN         NaN         NaN   \n",
       "             Zulqarnain Haider (2)         NaN         NaN         NaN         NaN   \n",
       "             \n",
       "                                    2020-10-18  2020-11-27  2020-11-29  2020-12-01  \n",
       "             name                                                                   \n",
       "             A Ahmadhel                    5.0         NaN         NaN         NaN  \n",
       "             A Ashokan                     NaN         NaN         NaN         NaN  \n",
       "             A Bagai                       NaN         NaN         NaN         NaN  \n",
       "             A Balbirnie                   NaN         NaN         NaN         NaN  \n",
       "             A Bhagwat                     NaN         NaN         NaN         NaN  \n",
       "             ...                           ...         ...         ...         ...  \n",
       "             Waqas Maqsood                 NaN         NaN         NaN         NaN  \n",
       "             YA Abdulla                    NaN         NaN         NaN         NaN  \n",
       "             Yamin Ahmadzai                NaN         NaN         NaN         NaN  \n",
       "             Yasir Shah                    NaN         NaN         NaN         NaN  \n",
       "             Zulqarnain Haider (2)         NaN         NaN         NaN         NaN  \n",
       "             \n",
       "             [1703 rows x 619 columns],\n",
       "             'concived_runs':                        2005-06-13  2005-02-17  2005-10-21  2006-08-28  \\\n",
       "             name                                                                    \n",
       "             A Ahmadhel                    NaN         NaN         NaN         NaN   \n",
       "             A Ashokan                     NaN         NaN         NaN         NaN   \n",
       "             A Bagai                       NaN         NaN         NaN         NaN   \n",
       "             A Balbirnie                   NaN         NaN         NaN         NaN   \n",
       "             A Bhagwat                     NaN         NaN         NaN         NaN   \n",
       "             ...                           ...         ...         ...         ...   \n",
       "             Waqas Maqsood                 NaN         NaN         NaN         NaN   \n",
       "             YA Abdulla                    NaN         NaN         NaN         NaN   \n",
       "             Yamin Ahmadzai                NaN         NaN         NaN         NaN   \n",
       "             Yasir Shah                    NaN         NaN         NaN         NaN   \n",
       "             Zulqarnain Haider (2)         NaN         NaN         NaN         NaN   \n",
       "             \n",
       "                                    2006-01-09  2006-02-16  2006-02-24  2007-01-09  \\\n",
       "             name                                                                    \n",
       "             A Ahmadhel                    NaN         NaN         NaN         NaN   \n",
       "             A Ashokan                     NaN         NaN         NaN         NaN   \n",
       "             A Bagai                       NaN         NaN         NaN         NaN   \n",
       "             A Balbirnie                   NaN         NaN         NaN         NaN   \n",
       "             A Bhagwat                     NaN         NaN         NaN         NaN   \n",
       "             ...                           ...         ...         ...         ...   \n",
       "             Waqas Maqsood                 NaN         NaN         NaN         NaN   \n",
       "             YA Abdulla                    NaN         NaN         NaN         NaN   \n",
       "             Yamin Ahmadzai                NaN         NaN         NaN         NaN   \n",
       "             Yasir Shah                    NaN         NaN         NaN         NaN   \n",
       "             Zulqarnain Haider (2)         NaN         NaN         NaN         NaN   \n",
       "             \n",
       "                                    2006-12-26  2006-12-01  ...  2020-11-08  2020-11-10  \\\n",
       "             name                                           ...                           \n",
       "             A Ahmadhel                    NaN         NaN  ...         NaN         NaN   \n",
       "             A Ashokan                     NaN         NaN  ...         NaN         NaN   \n",
       "             A Bagai                       NaN         NaN  ...         NaN         NaN   \n",
       "             A Balbirnie                   NaN         NaN  ...         NaN         NaN   \n",
       "             A Bhagwat                     NaN         NaN  ...         NaN         NaN   \n",
       "             ...                           ...         ...  ...         ...         ...   \n",
       "             Waqas Maqsood                 NaN         NaN  ...         NaN         NaN   \n",
       "             YA Abdulla                    NaN         NaN  ...         NaN         NaN   \n",
       "             Yamin Ahmadzai                NaN         NaN  ...         NaN         NaN   \n",
       "             Yasir Shah                    NaN         NaN  ...         NaN         NaN   \n",
       "             Zulqarnain Haider (2)         NaN         NaN  ...         NaN         NaN   \n",
       "             \n",
       "                                    2020-12-18  2020-12-20  2020-12-22  2020-10-16  \\\n",
       "             name                                                                    \n",
       "             A Ahmadhel                    NaN         NaN         NaN         NaN   \n",
       "             A Ashokan                     NaN         NaN         NaN         NaN   \n",
       "             A Bagai                       NaN         NaN         NaN         NaN   \n",
       "             A Balbirnie                   NaN         NaN         NaN         NaN   \n",
       "             A Bhagwat                     NaN         NaN         NaN         NaN   \n",
       "             ...                           ...         ...         ...         ...   \n",
       "             Waqas Maqsood                 NaN         NaN         NaN         NaN   \n",
       "             YA Abdulla                    NaN         NaN         NaN         NaN   \n",
       "             Yamin Ahmadzai                NaN         NaN         NaN         NaN   \n",
       "             Yasir Shah                    NaN         NaN         NaN         NaN   \n",
       "             Zulqarnain Haider (2)         NaN         NaN         NaN         NaN   \n",
       "             \n",
       "                                    2020-10-18  2020-11-27  2020-11-29  2020-12-01  \n",
       "             name                                                                   \n",
       "             A Ahmadhel                    4.0         NaN         NaN         NaN  \n",
       "             A Ashokan                     NaN         NaN         NaN         NaN  \n",
       "             A Bagai                       NaN         NaN         NaN         NaN  \n",
       "             A Balbirnie                   NaN         NaN         NaN         NaN  \n",
       "             A Bhagwat                     NaN         NaN         NaN         NaN  \n",
       "             ...                           ...         ...         ...         ...  \n",
       "             Waqas Maqsood                 NaN         NaN         NaN         NaN  \n",
       "             YA Abdulla                    NaN         NaN         NaN         NaN  \n",
       "             Yamin Ahmadzai                NaN         NaN         NaN         NaN  \n",
       "             Yasir Shah                    NaN         NaN         NaN         NaN  \n",
       "             Zulqarnain Haider (2)         NaN         NaN         NaN         NaN  \n",
       "             \n",
       "             [1703 rows x 619 columns],\n",
       "             'wickets':                        2005-06-13  2005-02-17  2005-10-21  2006-08-28  \\\n",
       "             name                                                                    \n",
       "             A Ahmadhel                    NaN         NaN         NaN         NaN   \n",
       "             A Ashokan                     NaN         NaN         NaN         NaN   \n",
       "             A Bagai                       NaN         NaN         NaN         NaN   \n",
       "             A Balbirnie                   NaN         NaN         NaN         NaN   \n",
       "             A Bhagwat                     NaN         NaN         NaN         NaN   \n",
       "             ...                           ...         ...         ...         ...   \n",
       "             Waqas Maqsood                 NaN         NaN         NaN         NaN   \n",
       "             YA Abdulla                    NaN         NaN         NaN         NaN   \n",
       "             Yamin Ahmadzai                NaN         NaN         NaN         NaN   \n",
       "             Yasir Shah                    NaN         NaN         NaN         NaN   \n",
       "             Zulqarnain Haider (2)         NaN         NaN         NaN         NaN   \n",
       "             \n",
       "                                    2006-01-09  2006-02-16  2006-02-24  2007-01-09  \\\n",
       "             name                                                                    \n",
       "             A Ahmadhel                    NaN         NaN         NaN         NaN   \n",
       "             A Ashokan                     NaN         NaN         NaN         NaN   \n",
       "             A Bagai                       NaN         NaN         NaN         NaN   \n",
       "             A Balbirnie                   NaN         NaN         NaN         NaN   \n",
       "             A Bhagwat                     NaN         NaN         NaN         NaN   \n",
       "             ...                           ...         ...         ...         ...   \n",
       "             Waqas Maqsood                 NaN         NaN         NaN         NaN   \n",
       "             YA Abdulla                    NaN         NaN         NaN         NaN   \n",
       "             Yamin Ahmadzai                NaN         NaN         NaN         NaN   \n",
       "             Yasir Shah                    NaN         NaN         NaN         NaN   \n",
       "             Zulqarnain Haider (2)         NaN         NaN         NaN         NaN   \n",
       "             \n",
       "                                    2006-12-26  2006-12-01  ...  2020-11-08  2020-11-10  \\\n",
       "             name                                           ...                           \n",
       "             A Ahmadhel                    NaN         NaN  ...         NaN         NaN   \n",
       "             A Ashokan                     NaN         NaN  ...         NaN         NaN   \n",
       "             A Bagai                       NaN         NaN  ...         NaN         NaN   \n",
       "             A Balbirnie                   NaN         NaN  ...         NaN         NaN   \n",
       "             A Bhagwat                     NaN         NaN  ...         NaN         NaN   \n",
       "             ...                           ...         ...  ...         ...         ...   \n",
       "             Waqas Maqsood                 NaN         NaN  ...         NaN         NaN   \n",
       "             YA Abdulla                    NaN         NaN  ...         NaN         NaN   \n",
       "             Yamin Ahmadzai                NaN         NaN  ...         NaN         NaN   \n",
       "             Yasir Shah                    NaN         NaN  ...         NaN         NaN   \n",
       "             Zulqarnain Haider (2)         NaN         NaN  ...         NaN         NaN   \n",
       "             \n",
       "                                    2020-12-18  2020-12-20  2020-12-22  2020-10-16  \\\n",
       "             name                                                                    \n",
       "             A Ahmadhel                    NaN         NaN         NaN         NaN   \n",
       "             A Ashokan                     NaN         NaN         NaN         NaN   \n",
       "             A Bagai                       NaN         NaN         NaN         NaN   \n",
       "             A Balbirnie                   NaN         NaN         NaN         NaN   \n",
       "             A Bhagwat                     NaN         NaN         NaN         NaN   \n",
       "             ...                           ...         ...         ...         ...   \n",
       "             Waqas Maqsood                 NaN         NaN         NaN         NaN   \n",
       "             YA Abdulla                    NaN         NaN         NaN         NaN   \n",
       "             Yamin Ahmadzai                NaN         NaN         NaN         NaN   \n",
       "             Yasir Shah                    NaN         NaN         NaN         NaN   \n",
       "             Zulqarnain Haider (2)         NaN         NaN         NaN         NaN   \n",
       "             \n",
       "                                    2020-10-18  2020-11-27  2020-11-29  2020-12-01  \n",
       "             name                                                                   \n",
       "             A Ahmadhel                    1.0         NaN         NaN         NaN  \n",
       "             A Ashokan                     NaN         NaN         NaN         NaN  \n",
       "             A Bagai                       NaN         NaN         NaN         NaN  \n",
       "             A Balbirnie                   NaN         NaN         NaN         NaN  \n",
       "             A Bhagwat                     NaN         NaN         NaN         NaN  \n",
       "             ...                           ...         ...         ...         ...  \n",
       "             Waqas Maqsood                 NaN         NaN         NaN         NaN  \n",
       "             YA Abdulla                    NaN         NaN         NaN         NaN  \n",
       "             Yamin Ahmadzai                NaN         NaN         NaN         NaN  \n",
       "             Yasir Shah                    NaN         NaN         NaN         NaN  \n",
       "             Zulqarnain Haider (2)         NaN         NaN         NaN         NaN  \n",
       "             \n",
       "             [1703 rows x 619 columns],\n",
       "             'noballs':                        2005-06-13  2005-02-17  2005-10-21  2006-08-28  \\\n",
       "             name                                                                    \n",
       "             A Ahmadhel                    NaN         NaN         NaN         NaN   \n",
       "             A Ashokan                     NaN         NaN         NaN         NaN   \n",
       "             A Bagai                       NaN         NaN         NaN         NaN   \n",
       "             A Balbirnie                   NaN         NaN         NaN         NaN   \n",
       "             A Bhagwat                     NaN         NaN         NaN         NaN   \n",
       "             ...                           ...         ...         ...         ...   \n",
       "             Waqas Maqsood                 NaN         NaN         NaN         NaN   \n",
       "             YA Abdulla                    NaN         NaN         NaN         NaN   \n",
       "             Yamin Ahmadzai                NaN         NaN         NaN         NaN   \n",
       "             Yasir Shah                    NaN         NaN         NaN         NaN   \n",
       "             Zulqarnain Haider (2)         NaN         NaN         NaN         NaN   \n",
       "             \n",
       "                                    2006-01-09  2006-02-16  2006-02-24  2007-01-09  \\\n",
       "             name                                                                    \n",
       "             A Ahmadhel                    NaN         NaN         NaN         NaN   \n",
       "             A Ashokan                     NaN         NaN         NaN         NaN   \n",
       "             A Bagai                       NaN         NaN         NaN         NaN   \n",
       "             A Balbirnie                   NaN         NaN         NaN         NaN   \n",
       "             A Bhagwat                     NaN         NaN         NaN         NaN   \n",
       "             ...                           ...         ...         ...         ...   \n",
       "             Waqas Maqsood                 NaN         NaN         NaN         NaN   \n",
       "             YA Abdulla                    NaN         NaN         NaN         NaN   \n",
       "             Yamin Ahmadzai                NaN         NaN         NaN         NaN   \n",
       "             Yasir Shah                    NaN         NaN         NaN         NaN   \n",
       "             Zulqarnain Haider (2)         NaN         NaN         NaN         NaN   \n",
       "             \n",
       "                                    2006-12-26  2006-12-01  ...  2020-11-08  2020-11-10  \\\n",
       "             name                                           ...                           \n",
       "             A Ahmadhel                    NaN         NaN  ...         NaN         NaN   \n",
       "             A Ashokan                     NaN         NaN  ...         NaN         NaN   \n",
       "             A Bagai                       NaN         NaN  ...         NaN         NaN   \n",
       "             A Balbirnie                   NaN         NaN  ...         NaN         NaN   \n",
       "             A Bhagwat                     NaN         NaN  ...         NaN         NaN   \n",
       "             ...                           ...         ...  ...         ...         ...   \n",
       "             Waqas Maqsood                 NaN         NaN  ...         NaN         NaN   \n",
       "             YA Abdulla                    NaN         NaN  ...         NaN         NaN   \n",
       "             Yamin Ahmadzai                NaN         NaN  ...         NaN         NaN   \n",
       "             Yasir Shah                    NaN         NaN  ...         NaN         NaN   \n",
       "             Zulqarnain Haider (2)         NaN         NaN  ...         NaN         NaN   \n",
       "             \n",
       "                                    2020-12-18  2020-12-20  2020-12-22  2020-10-16  \\\n",
       "             name                                                                    \n",
       "             A Ahmadhel                    NaN         NaN         NaN         NaN   \n",
       "             A Ashokan                     NaN         NaN         NaN         NaN   \n",
       "             A Bagai                       NaN         NaN         NaN         NaN   \n",
       "             A Balbirnie                   NaN         NaN         NaN         NaN   \n",
       "             A Bhagwat                     NaN         NaN         NaN         NaN   \n",
       "             ...                           ...         ...         ...         ...   \n",
       "             Waqas Maqsood                 NaN         NaN         NaN         NaN   \n",
       "             YA Abdulla                    NaN         NaN         NaN         NaN   \n",
       "             Yamin Ahmadzai                NaN         NaN         NaN         NaN   \n",
       "             Yasir Shah                    NaN         NaN         NaN         NaN   \n",
       "             Zulqarnain Haider (2)         NaN         NaN         NaN         NaN   \n",
       "             \n",
       "                                    2020-10-18  2020-11-27  2020-11-29  2020-12-01  \n",
       "             name                                                                   \n",
       "             A Ahmadhel                    0.0         NaN         NaN         NaN  \n",
       "             A Ashokan                     NaN         NaN         NaN         NaN  \n",
       "             A Bagai                       NaN         NaN         NaN         NaN  \n",
       "             A Balbirnie                   NaN         NaN         NaN         NaN  \n",
       "             A Bhagwat                     NaN         NaN         NaN         NaN  \n",
       "             ...                           ...         ...         ...         ...  \n",
       "             Waqas Maqsood                 NaN         NaN         NaN         NaN  \n",
       "             YA Abdulla                    NaN         NaN         NaN         NaN  \n",
       "             Yamin Ahmadzai                NaN         NaN         NaN         NaN  \n",
       "             Yasir Shah                    NaN         NaN         NaN         NaN  \n",
       "             Zulqarnain Haider (2)         NaN         NaN         NaN         NaN  \n",
       "             \n",
       "             [1703 rows x 619 columns],\n",
       "             'wides':                        2005-06-13  2005-02-17  2005-10-21  2006-08-28  \\\n",
       "             name                                                                    \n",
       "             A Ahmadhel                    NaN         NaN         NaN         NaN   \n",
       "             A Ashokan                     NaN         NaN         NaN         NaN   \n",
       "             A Bagai                       NaN         NaN         NaN         NaN   \n",
       "             A Balbirnie                   NaN         NaN         NaN         NaN   \n",
       "             A Bhagwat                     NaN         NaN         NaN         NaN   \n",
       "             ...                           ...         ...         ...         ...   \n",
       "             Waqas Maqsood                 NaN         NaN         NaN         NaN   \n",
       "             YA Abdulla                    NaN         NaN         NaN         NaN   \n",
       "             Yamin Ahmadzai                NaN         NaN         NaN         NaN   \n",
       "             Yasir Shah                    NaN         NaN         NaN         NaN   \n",
       "             Zulqarnain Haider (2)         NaN         NaN         NaN         NaN   \n",
       "             \n",
       "                                    2006-01-09  2006-02-16  2006-02-24  2007-01-09  \\\n",
       "             name                                                                    \n",
       "             A Ahmadhel                    NaN         NaN         NaN         NaN   \n",
       "             A Ashokan                     NaN         NaN         NaN         NaN   \n",
       "             A Bagai                       NaN         NaN         NaN         NaN   \n",
       "             A Balbirnie                   NaN         NaN         NaN         NaN   \n",
       "             A Bhagwat                     NaN         NaN         NaN         NaN   \n",
       "             ...                           ...         ...         ...         ...   \n",
       "             Waqas Maqsood                 NaN         NaN         NaN         NaN   \n",
       "             YA Abdulla                    NaN         NaN         NaN         NaN   \n",
       "             Yamin Ahmadzai                NaN         NaN         NaN         NaN   \n",
       "             Yasir Shah                    NaN         NaN         NaN         NaN   \n",
       "             Zulqarnain Haider (2)         NaN         NaN         NaN         NaN   \n",
       "             \n",
       "                                    2006-12-26  2006-12-01  ...  2020-11-08  2020-11-10  \\\n",
       "             name                                           ...                           \n",
       "             A Ahmadhel                    NaN         NaN  ...         NaN         NaN   \n",
       "             A Ashokan                     NaN         NaN  ...         NaN         NaN   \n",
       "             A Bagai                       NaN         NaN  ...         NaN         NaN   \n",
       "             A Balbirnie                   NaN         NaN  ...         NaN         NaN   \n",
       "             A Bhagwat                     NaN         NaN  ...         NaN         NaN   \n",
       "             ...                           ...         ...  ...         ...         ...   \n",
       "             Waqas Maqsood                 NaN         NaN  ...         NaN         NaN   \n",
       "             YA Abdulla                    NaN         NaN  ...         NaN         NaN   \n",
       "             Yamin Ahmadzai                NaN         NaN  ...         NaN         NaN   \n",
       "             Yasir Shah                    NaN         NaN  ...         NaN         NaN   \n",
       "             Zulqarnain Haider (2)         NaN         NaN  ...         NaN         NaN   \n",
       "             \n",
       "                                    2020-12-18  2020-12-20  2020-12-22  2020-10-16  \\\n",
       "             name                                                                    \n",
       "             A Ahmadhel                    NaN         NaN         NaN         NaN   \n",
       "             A Ashokan                     NaN         NaN         NaN         NaN   \n",
       "             A Bagai                       NaN         NaN         NaN         NaN   \n",
       "             A Balbirnie                   NaN         NaN         NaN         NaN   \n",
       "             A Bhagwat                     NaN         NaN         NaN         NaN   \n",
       "             ...                           ...         ...         ...         ...   \n",
       "             Waqas Maqsood                 NaN         NaN         NaN         NaN   \n",
       "             YA Abdulla                    NaN         NaN         NaN         NaN   \n",
       "             Yamin Ahmadzai                NaN         NaN         NaN         NaN   \n",
       "             Yasir Shah                    NaN         NaN         NaN         NaN   \n",
       "             Zulqarnain Haider (2)         NaN         NaN         NaN         NaN   \n",
       "             \n",
       "                                    2020-10-18  2020-11-27  2020-11-29  2020-12-01  \n",
       "             name                                                                   \n",
       "             A Ahmadhel                    2.0         NaN         NaN         NaN  \n",
       "             A Ashokan                     NaN         NaN         NaN         NaN  \n",
       "             A Bagai                       NaN         NaN         NaN         NaN  \n",
       "             A Balbirnie                   NaN         NaN         NaN         NaN  \n",
       "             A Bhagwat                     NaN         NaN         NaN         NaN  \n",
       "             ...                           ...         ...         ...         ...  \n",
       "             Waqas Maqsood                 NaN         NaN         NaN         NaN  \n",
       "             YA Abdulla                    NaN         NaN         NaN         NaN  \n",
       "             Yamin Ahmadzai                NaN         NaN         NaN         NaN  \n",
       "             Yasir Shah                    NaN         NaN         NaN         NaN  \n",
       "             Zulqarnain Haider (2)         NaN         NaN         NaN         NaN  \n",
       "             \n",
       "             [1703 rows x 619 columns],\n",
       "             'extras_bowler':                        2005-06-13  2005-02-17  2005-10-21  2006-08-28  \\\n",
       "             name                                                                    \n",
       "             A Ahmadhel                    NaN         NaN         NaN         NaN   \n",
       "             A Ashokan                     NaN         NaN         NaN         NaN   \n",
       "             A Bagai                       NaN         NaN         NaN         NaN   \n",
       "             A Balbirnie                   NaN         NaN         NaN         NaN   \n",
       "             A Bhagwat                     NaN         NaN         NaN         NaN   \n",
       "             ...                           ...         ...         ...         ...   \n",
       "             Waqas Maqsood                 NaN         NaN         NaN         NaN   \n",
       "             YA Abdulla                    NaN         NaN         NaN         NaN   \n",
       "             Yamin Ahmadzai                NaN         NaN         NaN         NaN   \n",
       "             Yasir Shah                    NaN         NaN         NaN         NaN   \n",
       "             Zulqarnain Haider (2)         NaN         NaN         NaN         NaN   \n",
       "             \n",
       "                                    2006-01-09  2006-02-16  2006-02-24  2007-01-09  \\\n",
       "             name                                                                    \n",
       "             A Ahmadhel                    NaN         NaN         NaN         NaN   \n",
       "             A Ashokan                     NaN         NaN         NaN         NaN   \n",
       "             A Bagai                       NaN         NaN         NaN         NaN   \n",
       "             A Balbirnie                   NaN         NaN         NaN         NaN   \n",
       "             A Bhagwat                     NaN         NaN         NaN         NaN   \n",
       "             ...                           ...         ...         ...         ...   \n",
       "             Waqas Maqsood                 NaN         NaN         NaN         NaN   \n",
       "             YA Abdulla                    NaN         NaN         NaN         NaN   \n",
       "             Yamin Ahmadzai                NaN         NaN         NaN         NaN   \n",
       "             Yasir Shah                    NaN         NaN         NaN         NaN   \n",
       "             Zulqarnain Haider (2)         NaN         NaN         NaN         NaN   \n",
       "             \n",
       "                                    2006-12-26  2006-12-01  ...  2020-11-08  2020-11-10  \\\n",
       "             name                                           ...                           \n",
       "             A Ahmadhel                    NaN         NaN  ...         NaN         NaN   \n",
       "             A Ashokan                     NaN         NaN  ...         NaN         NaN   \n",
       "             A Bagai                       NaN         NaN  ...         NaN         NaN   \n",
       "             A Balbirnie                   NaN         NaN  ...         NaN         NaN   \n",
       "             A Bhagwat                     NaN         NaN  ...         NaN         NaN   \n",
       "             ...                           ...         ...  ...         ...         ...   \n",
       "             Waqas Maqsood                 NaN         NaN  ...         NaN         NaN   \n",
       "             YA Abdulla                    NaN         NaN  ...         NaN         NaN   \n",
       "             Yamin Ahmadzai                NaN         NaN  ...         NaN         NaN   \n",
       "             Yasir Shah                    NaN         NaN  ...         NaN         NaN   \n",
       "             Zulqarnain Haider (2)         NaN         NaN  ...         NaN         NaN   \n",
       "             \n",
       "                                    2020-12-18  2020-12-20  2020-12-22  2020-10-16  \\\n",
       "             name                                                                    \n",
       "             A Ahmadhel                    NaN         NaN         NaN         NaN   \n",
       "             A Ashokan                     NaN         NaN         NaN         NaN   \n",
       "             A Bagai                       NaN         NaN         NaN         NaN   \n",
       "             A Balbirnie                   NaN         NaN         NaN         NaN   \n",
       "             A Bhagwat                     NaN         NaN         NaN         NaN   \n",
       "             ...                           ...         ...         ...         ...   \n",
       "             Waqas Maqsood                 NaN         NaN         NaN         NaN   \n",
       "             YA Abdulla                    NaN         NaN         NaN         NaN   \n",
       "             Yamin Ahmadzai                NaN         NaN         NaN         NaN   \n",
       "             Yasir Shah                    NaN         NaN         NaN         NaN   \n",
       "             Zulqarnain Haider (2)         NaN         NaN         NaN         NaN   \n",
       "             \n",
       "                                    2020-10-18  2020-11-27  2020-11-29  2020-12-01  \n",
       "             name                                                                   \n",
       "             A Ahmadhel                    2.0         NaN         NaN         NaN  \n",
       "             A Ashokan                     NaN         NaN         NaN         NaN  \n",
       "             A Bagai                       NaN         NaN         NaN         NaN  \n",
       "             A Balbirnie                   NaN         NaN         NaN         NaN  \n",
       "             A Bhagwat                     NaN         NaN         NaN         NaN  \n",
       "             ...                           ...         ...         ...         ...  \n",
       "             Waqas Maqsood                 NaN         NaN         NaN         NaN  \n",
       "             YA Abdulla                    NaN         NaN         NaN         NaN  \n",
       "             Yamin Ahmadzai                NaN         NaN         NaN         NaN  \n",
       "             Yasir Shah                    NaN         NaN         NaN         NaN  \n",
       "             Zulqarnain Haider (2)         NaN         NaN         NaN         NaN  \n",
       "             \n",
       "             [1703 rows x 619 columns],\n",
       "             'e_r':                        2005-06-13  2005-02-17  2005-10-21  2006-08-28  \\\n",
       "             name                                                                    \n",
       "             A Ahmadhel                    NaN         NaN         NaN         NaN   \n",
       "             A Ashokan                     NaN         NaN         NaN         NaN   \n",
       "             A Bagai                       NaN         NaN         NaN         NaN   \n",
       "             A Balbirnie                   NaN         NaN         NaN         NaN   \n",
       "             A Bhagwat                     NaN         NaN         NaN         NaN   \n",
       "             ...                           ...         ...         ...         ...   \n",
       "             Waqas Maqsood                 NaN         NaN         NaN         NaN   \n",
       "             YA Abdulla                    NaN         NaN         NaN         NaN   \n",
       "             Yamin Ahmadzai                NaN         NaN         NaN         NaN   \n",
       "             Yasir Shah                    NaN         NaN         NaN         NaN   \n",
       "             Zulqarnain Haider (2)         NaN         NaN         NaN         NaN   \n",
       "             \n",
       "                                    2006-01-09  2006-02-16  2006-02-24  2007-01-09  \\\n",
       "             name                                                                    \n",
       "             A Ahmadhel                    NaN         NaN         NaN         NaN   \n",
       "             A Ashokan                     NaN         NaN         NaN         NaN   \n",
       "             A Bagai                       NaN         NaN         NaN         NaN   \n",
       "             A Balbirnie                   NaN         NaN         NaN         NaN   \n",
       "             A Bhagwat                     NaN         NaN         NaN         NaN   \n",
       "             ...                           ...         ...         ...         ...   \n",
       "             Waqas Maqsood                 NaN         NaN         NaN         NaN   \n",
       "             YA Abdulla                    NaN         NaN         NaN         NaN   \n",
       "             Yamin Ahmadzai                NaN         NaN         NaN         NaN   \n",
       "             Yasir Shah                    NaN         NaN         NaN         NaN   \n",
       "             Zulqarnain Haider (2)         NaN         NaN         NaN         NaN   \n",
       "             \n",
       "                                    2006-12-26  2006-12-01  ...  2020-11-08  2020-11-10  \\\n",
       "             name                                           ...                           \n",
       "             A Ahmadhel                    NaN         NaN  ...         NaN         NaN   \n",
       "             A Ashokan                     NaN         NaN  ...         NaN         NaN   \n",
       "             A Bagai                       NaN         NaN  ...         NaN         NaN   \n",
       "             A Balbirnie                   NaN         NaN  ...         NaN         NaN   \n",
       "             A Bhagwat                     NaN         NaN  ...         NaN         NaN   \n",
       "             ...                           ...         ...  ...         ...         ...   \n",
       "             Waqas Maqsood                 NaN         NaN  ...         NaN         NaN   \n",
       "             YA Abdulla                    NaN         NaN  ...         NaN         NaN   \n",
       "             Yamin Ahmadzai                NaN         NaN  ...         NaN         NaN   \n",
       "             Yasir Shah                    NaN         NaN  ...         NaN         NaN   \n",
       "             Zulqarnain Haider (2)         NaN         NaN  ...         NaN         NaN   \n",
       "             \n",
       "                                    2020-12-18  2020-12-20  2020-12-22  2020-10-16  \\\n",
       "             name                                                                    \n",
       "             A Ahmadhel                    NaN         NaN         NaN         NaN   \n",
       "             A Ashokan                     NaN         NaN         NaN         NaN   \n",
       "             A Bagai                       NaN         NaN         NaN         NaN   \n",
       "             A Balbirnie                   NaN         NaN         NaN         NaN   \n",
       "             A Bhagwat                     NaN         NaN         NaN         NaN   \n",
       "             ...                           ...         ...         ...         ...   \n",
       "             Waqas Maqsood                 NaN         NaN         NaN         NaN   \n",
       "             YA Abdulla                    NaN         NaN         NaN         NaN   \n",
       "             Yamin Ahmadzai                NaN         NaN         NaN         NaN   \n",
       "             Yasir Shah                    NaN         NaN         NaN         NaN   \n",
       "             Zulqarnain Haider (2)         NaN         NaN         NaN         NaN   \n",
       "             \n",
       "                                    2020-10-18  2020-11-27  2020-11-29  2020-12-01  \n",
       "             name                                                                   \n",
       "             A Ahmadhel                    8.0         NaN         NaN         NaN  \n",
       "             A Ashokan                     NaN         NaN         NaN         NaN  \n",
       "             A Bagai                       NaN         NaN         NaN         NaN  \n",
       "             A Balbirnie                   NaN         NaN         NaN         NaN  \n",
       "             A Bhagwat                     NaN         NaN         NaN         NaN  \n",
       "             ...                           ...         ...         ...         ...  \n",
       "             Waqas Maqsood                 NaN         NaN         NaN         NaN  \n",
       "             YA Abdulla                    NaN         NaN         NaN         NaN  \n",
       "             Yamin Ahmadzai                NaN         NaN         NaN         NaN  \n",
       "             Yasir Shah                    NaN         NaN         NaN         NaN  \n",
       "             Zulqarnain Haider (2)         NaN         NaN         NaN         NaN  \n",
       "             \n",
       "             [1703 rows x 619 columns]})"
      ]
     },
     "execution_count": 117,
     "metadata": {},
     "output_type": "execute_result"
    }
   ],
   "source": [
    "#read in match data\n",
    "#sort by match_ids\n",
    "numbers = re.compile(r'(\\d+)')\n",
    "def numericalSort(value):\n",
    "    parts = numbers.split(value)\n",
    "    parts[1::2] = map(int, parts[1::2])\n",
    "    return parts\n",
    "\n",
    "def create_match_table(args,players):\n",
    "    stats=defaultdict()\n",
    "    for m in list(players.index):\n",
    "        stats[m]=pd.DataFrame()\n",
    "        stats[m][\"name\"]=players.columns\n",
    "    all_files = sorted(glob.glob(args.d + \"/*.csv\"), key=numericalSort)\n",
    "    for filename in tqdm(all_files):\n",
    "        print()\n",
    "        #print(i,len(all_files))\n",
    "        with open(filename, 'r') as f:\n",
    "            df = preprocess(pd.read_csv(f))\n",
    "            if len(df)<args.o*6:\n",
    "                continue\n",
    "            df_1=df[df.innings==1]\n",
    "            df_2=df[df.innings!=1]\n",
    "            m_id=df_1.match_id[0]\n",
    "            date=df_1.start_date[0]\n",
    "            team_1=df_1.batting_team[0]\n",
    "            team_2=df_1.bowling_team[0]\n",
    "            score_1=df_1.runs_off_bat.sum()+df_1.extras.sum()\n",
    "            score_2=df_2.runs_off_bat.sum()+df_2.extras.sum()\n",
    "            wickets_1=df_1.player_dismissed.notnull().sum()\n",
    "            wickets_2=df_2.player_dismissed.notnull().sum()\n",
    "            overs_1=len(df_1)-df_1[\"noballs\"].sum()-df_1[\"wides\"].sum()\n",
    "            overs_2=len(df_2)-df_2[\"noballs\"].sum()-df_2[\"wides\"].sum()\n",
    "            if score_2<score_1 and wickets_2<args.w and args.o*6-overs_2>0:\n",
    "                continue\n",
    "            game_stats=get_stats(df)\n",
    "            #make a pndas df for each metric\n",
    "            temp_stats=defaultdict()\n",
    "            for m in list(game_stats.index):\n",
    "                temp_stats[m]=[]\n",
    "            for i in players.columns:\n",
    "                if i in game_stats.columns:\n",
    "                    for m in list(stats.keys()):\n",
    "                        temp_stats[m].append(game_stats[i][m])\n",
    "                else:\n",
    "                    for m in list(stats.keys()):\n",
    "                        temp_stats[m].append(np.nan)\n",
    "            for m in list(stats.keys()):\n",
    "                stats[m][df.start_date[0]]=temp_stats[m]\n",
    "    for m in list(stats.keys()):\n",
    "        stats[m]=stats[m].set_index(\"name\")\n",
    "        print(stats[m])\n",
    "    return stats\n",
    "player_stats=create_match_table(args,players)\n",
    "player_stats"
   ]
  },
  {
   "cell_type": "code",
   "execution_count": 118,
   "metadata": {},
   "outputs": [],
   "source": [
    "for m in list(player_stats.keys()):\n",
    "    ps=player_stats[m].transpose()\n",
    "    ps.to_csv(args.d+str(m)+\"_player_stats.csv\",index_label=\"date\")"
   ]
  },
  {
   "cell_type": "code",
   "execution_count": 112,
   "metadata": {},
   "outputs": [
    {
     "data": {
      "image/png": "[encoded data removed]",
      "text/plain": [
       "<Figure size 432x288 with 1 Axes>"
      ]
     },
     "metadata": {
      "needs_background": "light"
     },
     "output_type": "display_data"
    }
   ],
   "source": [
    "runs=pd.read_csv(args.d+\"runs_player_stats.csv\")\n",
    "for p in players.columns[:100]:\n",
    "    plt.plot(runs[runs[p].notnull()][p].values)\n",
    "plt.show()"
   ]
  },
  {
   "cell_type": "code",
   "execution_count": 122,
   "metadata": {},
   "outputs": [
    {
     "data": {
      "text/plain": [
       "<matplotlib.axes._subplots.AxesSubplot at 0x1b09c9f5a20>"
      ]
     },
     "execution_count": 122,
     "metadata": {},
     "output_type": "execute_result"
    },
    {
     "data": {
      "image/png": "[encoded data removed]",
      "text/plain": [
       "<Figure size 432x288 with 1 Axes>"
      ]
     },
     "metadata": {
      "needs_background": "light"
     },
     "output_type": "display_data"
    }
   ],
   "source": [
    "sns.distplot(stats_list[\"s_r\"],kde=False)"
   ]
  }
 ],
 "metadata": {
  "kernelspec": {
   "display_name": "Python 3",
   "language": "python",
   "name": "python3"
  },
  "language_info": {
   "codemirror_mode": {
    "name": "ipython",
    "version": 3
   },
   "file_extension": ".py",
   "mimetype": "text/x-python",
   "name": "python",
   "nbconvert_exporter": "python",
   "pygments_lexer": "ipython3",
   "version": "3.6.8"
  }
 },
 "nbformat": 4,
 "nbformat_minor": 2
}
