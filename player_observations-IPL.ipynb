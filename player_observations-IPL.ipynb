{
 "cells": [
  {
   "cell_type": "code",
   "execution_count": 1,
   "id": "ethical-bicycle",
   "metadata": {},
   "outputs": [],
   "source": [
    "import pandas as pd\n",
    "import numpy as np\n",
    "import scipy\n",
    "import scipy.stats\n",
    "from scipy.stats import pearsonr\n",
    "from scipy.stats import spearmanr\n",
    "import matplotlib.pyplot as plt"
   ]
  },
  {
   "cell_type": "code",
   "execution_count": 2,
   "id": "radical-helping",
   "metadata": {},
   "outputs": [
    {
     "name": "stderr",
     "output_type": "stream",
     "text": [
      "c:\\users\\evolj\\documents\\github\\cric_bet\\venv\\lib\\site-packages\\IPython\\core\\interactiveshell.py:3165: DtypeWarning: Columns (2) have mixed types.Specify dtype option on import or set low_memory=False.\n",
      "  has_raised = await self.run_ast_nodes(code_ast.body, cell_name,\n"
     ]
    },
    {
     "data": {
      "text/plain": [
       "Index(['Unnamed: 0', 'match_id', 'season', 'start_date', 'venue', 'innings',\n",
       "       'ball', 'batting_team', 'bowling_team', 'striker', 'non_striker',\n",
       "       'bowler', 'runs_off_bat', 'extras', 'wides', 'noballs', 'byes',\n",
       "       'legbyes', 'penalty', 'wicket_type', 'player_dismissed',\n",
       "       'other_wicket_type', 'other_player_dismissed', 'rain', 'balls_remain',\n",
       "       'wickets_remain', 'rr', 'sr', 'sr_two', 'rrr', 'current_score',\n",
       "       'e_r_career', 'Av_career', 's_r_career', 'extras_striker',\n",
       "       'extras_bowler', 'games_striker', 'games_bowler', 'wicket_scored',\n",
       "       'new_no_ball', 'w_b'],\n",
       "      dtype='object')"
      ]
     },
     "execution_count": 2,
     "metadata": {},
     "output_type": "execute_result"
    }
   ],
   "source": [
    "data_path=\"./data/IPL/\"\n",
    "game_data=pd.read_csv(data_path+\"stats/game_table.csv\")\n",
    "match_data=pd.read_csv(data_path+\"stats/game_stats.csv\")\n",
    "game_data.columns"
   ]
  },
  {
   "cell_type": "code",
   "execution_count": 3,
   "id": "thirty-fiber",
   "metadata": {},
   "outputs": [
    {
     "name": "stdout",
     "output_type": "stream",
     "text": [
      "Index(['Unnamed: 0', 'match_id', 'season', 'start_date', 'venue', 'innings',\n",
      "       'ball', 'batting_team', 'bowling_team', 'striker', 'non_striker',\n",
      "       'bowler', 'runs_off_bat', 'extras', 'wides', 'noballs', 'byes',\n",
      "       'legbyes', 'penalty', 'wicket_type', 'player_dismissed',\n",
      "       'other_wicket_type', 'other_player_dismissed', 'rain', 'balls_remain',\n",
      "       'wickets_remain', 'rr', 'sr', 'sr_two', 'rrr', 'current_score',\n",
      "       'e_r_career', 'Av_career', 's_r_career', 'extras_striker',\n",
      "       'extras_bowler', 'games_striker', 'games_bowler', 'wicket_scored',\n",
      "       'new_no_ball', 'w_b'],\n",
      "      dtype='object')\n"
     ]
    },
    {
     "data": {
      "image/png": "[encoded data removed]",
      "text/plain": [
       "<Figure size 432x288 with 1 Axes>"
      ]
     },
     "metadata": {
      "needs_background": "light"
     },
     "output_type": "display_data"
    },
    {
     "name": "stdout",
     "output_type": "stream",
     "text": [
      "            striker  match_id\n",
      "0    A Ashish Reddy        23\n",
      "1        A Chandila         2\n",
      "2          A Chopra         6\n",
      "3       A Choudhary         3\n",
      "4       A Dananjaya         1\n",
      "..              ...       ...\n",
      "542     YV Takawale        10\n",
      "543   Yashpal Singh         4\n",
      "544     Younis Khan         1\n",
      "545    Yuvraj Singh       126\n",
      "546          Z Khan        27\n",
      "\n",
      "[547 rows x 2 columns]\n",
      "             striker  match_id\n",
      "7           A Mishra        54\n",
      "24    AB de Villiers       162\n",
      "26      AC Gilchrist        80\n",
      "33        AD Russell        68\n",
      "37          AJ Finch        85\n",
      "..               ...       ...\n",
      "516         V Sehwag       104\n",
      "530          WP Saha        99\n",
      "537  Y Venugopal Rao        52\n",
      "540        YK Pathan       153\n",
      "545     Yuvraj Singh       126\n",
      "\n",
      "[80 rows x 2 columns]\n"
     ]
    }
   ],
   "source": [
    "print(game_data.columns)\n",
    "g=game_data.groupby(\"striker\")\n",
    "g = g.agg({\"match_id\": \"nunique\"}).reset_index()\n",
    "plt.hist(g.match_id)\n",
    "plt.show()\n",
    "print(g)\n",
    "print(g[g.match_id>50])"
   ]
  },
  {
   "cell_type": "code",
   "execution_count": 4,
   "id": "hearing-massage",
   "metadata": {},
   "outputs": [
    {
     "name": "stdout",
     "output_type": "stream",
     "text": [
      "Index(['Unnamed: 0', 'match_id', 'season', 'start_date', 'venue', 'innings',\n",
      "       'ball', 'batting_team', 'bowling_team', 'striker', 'non_striker',\n",
      "       'bowler', 'runs_off_bat', 'extras', 'wides', 'noballs', 'byes',\n",
      "       'legbyes', 'penalty', 'wicket_type', 'player_dismissed',\n",
      "       'other_wicket_type', 'other_player_dismissed', 'rain', 'balls_remain',\n",
      "       'wickets_remain', 'rr', 'sr', 'sr_two', 'rrr', 'current_score',\n",
      "       'e_r_career', 'Av_career', 's_r_career', 'extras_striker',\n",
      "       'extras_bowler', 'games_striker', 'games_bowler', 'wicket_scored',\n",
      "       'new_no_ball', 'w_b'],\n",
      "      dtype='object')\n"
     ]
    },
    {
     "data": {
      "image/png": "[encoded data removed]",
      "text/plain": [
       "<Figure size 432x288 with 1 Axes>"
      ]
     },
     "metadata": {
      "needs_background": "light"
     },
     "output_type": "display_data"
    },
    {
     "name": "stdout",
     "output_type": "stream",
     "text": [
      "     match_id  striker\n",
      "0      335982       16\n",
      "1      335983       13\n",
      "2      335984       13\n",
      "3      335985       15\n",
      "4      335986       17\n",
      "..        ...      ...\n",
      "840   1254082       13\n",
      "841   1254083       17\n",
      "842   1254084       13\n",
      "843   1254085       15\n",
      "844   1254086       13\n",
      "\n",
      "[845 rows x 2 columns]\n"
     ]
    }
   ],
   "source": [
    "print(game_data.columns)\n",
    "g=game_data.groupby(\"match_id\")\n",
    "g = g.agg({\"striker\": \"nunique\"}).reset_index()\n",
    "plt.hist(g.striker)\n",
    "plt.show()\n",
    "print(g)"
   ]
  },
  {
   "cell_type": "code",
   "execution_count": 5,
   "id": "further-nashville",
   "metadata": {},
   "outputs": [],
   "source": [
    "striker_positions=game_data.groupby([\"match_id\",\"batting_team\"]).striker.unique()\n",
    "bowler_positions=game_data.groupby([\"match_id\",\"batting_team\"]).bowler.unique()"
   ]
  },
  {
   "cell_type": "code",
   "execution_count": 6,
   "id": "bizarre-possession",
   "metadata": {},
   "outputs": [
    {
     "data": {
      "text/html": [
       "<div>\n",
       "<style scoped>\n",
       "    .dataframe tbody tr th:only-of-type {\n",
       "        vertical-align: middle;\n",
       "    }\n",
       "\n",
       "    .dataframe tbody tr th {\n",
       "        vertical-align: top;\n",
       "    }\n",
       "\n",
       "    .dataframe thead th {\n",
       "        text-align: right;\n",
       "    }\n",
       "</style>\n",
       "<table border=\"1\" class=\"dataframe\">\n",
       "  <thead>\n",
       "    <tr style=\"text-align: right;\">\n",
       "      <th></th>\n",
       "      <th>A Ashish Reddy</th>\n",
       "      <th>A Chandila</th>\n",
       "      <th>A Chopra</th>\n",
       "      <th>A Choudhary</th>\n",
       "      <th>A Dananjaya</th>\n",
       "      <th>A Flintoff</th>\n",
       "      <th>A Kumble</th>\n",
       "      <th>A Mishra</th>\n",
       "      <th>A Mithun</th>\n",
       "      <th>A Mukund</th>\n",
       "      <th>...</th>\n",
       "      <th>Y Venugopal Rao</th>\n",
       "      <th>YA Abdulla</th>\n",
       "      <th>YBK Jaiswal</th>\n",
       "      <th>YK Pathan</th>\n",
       "      <th>YS Chahal</th>\n",
       "      <th>YV Takawale</th>\n",
       "      <th>Yashpal Singh</th>\n",
       "      <th>Younis Khan</th>\n",
       "      <th>Yuvraj Singh</th>\n",
       "      <th>Z Khan</th>\n",
       "    </tr>\n",
       "  </thead>\n",
       "  <tbody>\n",
       "  </tbody>\n",
       "</table>\n",
       "<p>0 rows × 593 columns</p>\n",
       "</div>"
      ],
      "text/plain": [
       "Empty DataFrame\n",
       "Columns: [A Ashish Reddy, A Chandila, A Chopra, A Choudhary, A Dananjaya, A Flintoff, A Kumble, A Mishra, A Mithun, A Mukund, A Nehra, A Nel, A Nortje, A Singh, A Symonds, A Uniyal, A Zampa, AA Bilakhia, AA Chavan, AA Jhunjhunwala, AA Kazi, AA Noffke, AB Agarkar, AB Barath, AB Dinda, AB McDonald, AB de Villiers, AC Blizzard, AC Gilchrist, AC Thomas, AC Voges, AD Hales, AD Mascarenhas, AD Mathews, AD Nath, AD Russell, AF Milne, AG Murtaza, AG Paunikar, AJ Finch, AJ Turner, AJ Tye, AL Menaria, AM Nayar, AM Rahane, AM Salvi, AN Ahmed, AN Ghosh, AP Dole, AP Majumdar, AP Tare, AR Bawne, AR Patel, AS Joseph, AS Rajpoot, AS Raut, AS Roy, AS Yadav, AT Carey, AT Rayudu, AUK Pathan, Abdul Samad, Abdur Razzak, Abhishek Sharma, Anand Rajan, Anirudh Singh, Ankit Sharma, Ankit Soni, Anureet Singh, Arshdeep Singh, Avesh Khan, Azhar Mahmood, B Akhil, B Chipli, B Geeves, B Kumar, B Laughlin, B Lee, B Stanlake, B Sumanth, BA Bhatt, BA Stokes, BAW Mendis, BB McCullum, BB Samantray, BB Sran, BCJ Cutting, BE Hendricks, BJ Haddin, BJ Hodge, BJ Rohrer, BMAJ Mendis, BR Dunk, BW Hilfenhaus, Basil Thampi, Bipul Sharma, C Ganapathy, C Madan, C Munro, C Nanda, ...]\n",
       "Index: []\n",
       "\n",
       "[0 rows x 593 columns]"
      ]
     },
     "execution_count": 6,
     "metadata": {},
     "output_type": "execute_result"
    }
   ],
   "source": [
    "striker_position_sheet=pd.read_csv(data_path+\"/stats/runs_player_stats.csv\")\n",
    "striker_position_sheet=pd.DataFrame(columns=striker_position_sheet.columns).drop(columns=[\"date\"])\n",
    "bowler_position_sheet=striker_position_sheet.copy()\n",
    "striker_max_position_sheet=striker_position_sheet.copy()\n",
    "bowler_max_position_sheet=bowler_position_sheet.copy()\n",
    "inning_striker_sheet=striker_position_sheet.copy()\n",
    "inning_bowler_sheet=striker_position_sheet.copy()\n",
    "striker_position_sheet"
   ]
  },
  {
   "cell_type": "code",
   "execution_count": 7,
   "id": "partial-selection",
   "metadata": {},
   "outputs": [
    {
     "name": "stdout",
     "output_type": "stream",
     "text": [
      "        A Ashish Reddy A Chandila A Chopra A Choudhary A Dananjaya A Flintoff  \\\n",
      "335982             NaN        NaN      NaN         NaN         NaN        NaN   \n",
      "335983             NaN        NaN      NaN         NaN         NaN        NaN   \n",
      "335984             NaN        NaN      NaN         NaN         NaN        NaN   \n",
      "335985             NaN        NaN      NaN         NaN         NaN        NaN   \n",
      "335986             NaN        NaN      NaN         NaN         NaN        NaN   \n",
      "...                ...        ...      ...         ...         ...        ...   \n",
      "1254082            NaN        NaN      NaN         NaN         NaN        NaN   \n",
      "1254083            NaN        NaN      NaN         NaN         NaN        NaN   \n",
      "1254084            NaN        NaN      NaN         NaN         NaN        NaN   \n",
      "1254085            NaN        NaN      NaN         NaN         NaN        NaN   \n",
      "1254086            NaN        NaN      NaN         NaN         NaN        NaN   \n",
      "\n",
      "        A Kumble A Mishra A Mithun A Mukund  ... Y Venugopal Rao YA Abdulla  \\\n",
      "335982       NaN      NaN      NaN      NaN  ...             NaN        NaN   \n",
      "335983       NaN      NaN      NaN      NaN  ...             NaN        NaN   \n",
      "335984       NaN      NaN      NaN      NaN  ...             NaN        NaN   \n",
      "335985       NaN      NaN      NaN      NaN  ...             NaN        NaN   \n",
      "335986       NaN      NaN      NaN      NaN  ...               1        NaN   \n",
      "...          ...      ...      ...      ...  ...             ...        ...   \n",
      "1254082      NaN      NaN      NaN      NaN  ...             NaN        NaN   \n",
      "1254083      NaN      NaN      NaN      NaN  ...             NaN        NaN   \n",
      "1254084      NaN      NaN      NaN      NaN  ...             NaN        NaN   \n",
      "1254085      NaN      NaN      NaN      NaN  ...             NaN        NaN   \n",
      "1254086      NaN      NaN      NaN      NaN  ...             NaN        NaN   \n",
      "\n",
      "        YBK Jaiswal YK Pathan YS Chahal YV Takawale Yashpal Singh Younis Khan  \\\n",
      "335982          NaN       NaN       NaN         NaN           NaN         NaN   \n",
      "335983          NaN       NaN       NaN         NaN           NaN         NaN   \n",
      "335984          NaN         1       NaN         NaN           NaN         NaN   \n",
      "335985          NaN       NaN       NaN         NaN           NaN         NaN   \n",
      "335986          NaN       NaN       NaN         NaN           NaN         NaN   \n",
      "...             ...       ...       ...         ...           ...         ...   \n",
      "1254082         NaN       NaN       NaN         NaN           NaN         NaN   \n",
      "1254083         NaN       NaN       NaN         NaN           NaN         NaN   \n",
      "1254084         NaN       NaN       NaN         NaN           NaN         NaN   \n",
      "1254085           1       NaN       NaN         NaN           NaN         NaN   \n",
      "1254086         NaN       NaN       NaN         NaN           NaN         NaN   \n",
      "\n",
      "        Yuvraj Singh Z Khan  \n",
      "335982           NaN      9  \n",
      "335983             3    NaN  \n",
      "335984           NaN    NaN  \n",
      "335985           NaN    NaN  \n",
      "335986           NaN    NaN  \n",
      "...              ...    ...  \n",
      "1254082          NaN    NaN  \n",
      "1254083          NaN    NaN  \n",
      "1254084          NaN    NaN  \n",
      "1254085          NaN    NaN  \n",
      "1254086          NaN    NaN  \n",
      "\n",
      "[845 rows x 593 columns]\n",
      "        A Ashish Reddy A Chandila A Chopra A Choudhary A Dananjaya A Flintoff  \\\n",
      "335982             NaN        NaN      NaN         NaN         NaN        NaN   \n",
      "335983             NaN        NaN      NaN         NaN         NaN        NaN   \n",
      "335984             NaN        NaN      NaN         NaN         NaN        NaN   \n",
      "335985             NaN        NaN      NaN         NaN         NaN        NaN   \n",
      "335986             NaN        NaN      NaN         NaN         NaN        NaN   \n",
      "...                ...        ...      ...         ...         ...        ...   \n",
      "1254082            NaN        NaN      NaN         NaN         NaN        NaN   \n",
      "1254083            NaN        NaN      NaN         NaN         NaN        NaN   \n",
      "1254084            NaN        NaN      NaN         NaN         NaN        NaN   \n",
      "1254085            NaN        NaN      NaN         NaN         NaN        NaN   \n",
      "1254086            NaN        NaN      NaN         NaN         NaN        NaN   \n",
      "\n",
      "        A Kumble A Mishra A Mithun A Mukund  ... Y Venugopal Rao YA Abdulla  \\\n",
      "335982       NaN      NaN      NaN      NaN  ...             NaN        NaN   \n",
      "335983       NaN      NaN      NaN      NaN  ...             NaN        NaN   \n",
      "335984       NaN      NaN      NaN      NaN  ...             NaN        NaN   \n",
      "335985       NaN      NaN      NaN      NaN  ...             NaN        NaN   \n",
      "335986       NaN      NaN      NaN      NaN  ...             NaN        NaN   \n",
      "...          ...      ...      ...      ...  ...             ...        ...   \n",
      "1254082      NaN      NaN      NaN      NaN  ...             NaN        NaN   \n",
      "1254083      NaN      NaN      NaN      NaN  ...             NaN        NaN   \n",
      "1254084      NaN      NaN      NaN      NaN  ...             NaN        NaN   \n",
      "1254085      NaN      NaN      NaN      NaN  ...             NaN        NaN   \n",
      "1254086      NaN      NaN      NaN      NaN  ...             NaN        NaN   \n",
      "\n",
      "        YBK Jaiswal YK Pathan YS Chahal YV Takawale Yashpal Singh Younis Khan  \\\n",
      "335982          NaN       NaN       NaN         NaN           NaN         NaN   \n",
      "335983          NaN       NaN       NaN         NaN           NaN         NaN   \n",
      "335984          NaN         4       NaN         NaN           NaN         NaN   \n",
      "335985          NaN       NaN       NaN         NaN           NaN         NaN   \n",
      "335986          NaN       NaN       NaN         NaN           NaN         NaN   \n",
      "...             ...       ...       ...         ...           ...         ...   \n",
      "1254082         NaN       NaN       NaN         NaN           NaN         NaN   \n",
      "1254083         NaN       NaN         3         NaN           NaN         NaN   \n",
      "1254084         NaN       NaN       NaN         NaN           NaN         NaN   \n",
      "1254085         NaN       NaN       NaN         NaN           NaN         NaN   \n",
      "1254086         NaN       NaN       NaN         NaN           NaN         NaN   \n",
      "\n",
      "        Yuvraj Singh Z Khan  \n",
      "335982           NaN      1  \n",
      "335983           NaN    NaN  \n",
      "335984           NaN    NaN  \n",
      "335985           NaN      1  \n",
      "335986           NaN    NaN  \n",
      "...              ...    ...  \n",
      "1254082          NaN    NaN  \n",
      "1254083          NaN    NaN  \n",
      "1254084          NaN    NaN  \n",
      "1254085          NaN    NaN  \n",
      "1254086          NaN    NaN  \n",
      "\n",
      "[845 rows x 593 columns]\n"
     ]
    }
   ],
   "source": [
    "h=0\n",
    "for i,j in zip(striker_positions.index,striker_positions):\n",
    "    i=i[0]\n",
    "    l=len(j)\n",
    "    for p in j:\n",
    "        pos=np.where(j==p)[0][0]\n",
    "        striker_position_sheet.loc[i,p]=pos\n",
    "        striker_max_position_sheet.loc[i,p]=l\n",
    "        inning_striker_sheet.loc[i,p]=h+1\n",
    "    h=(h+1)%2\n",
    "h=0\n",
    "for i,j in zip(bowler_positions.index,bowler_positions):\n",
    "    i=i[0]\n",
    "    l=len(j)\n",
    "    for p in j:\n",
    "        pos=np.where(j==p)[0][0]\n",
    "        bowler_position_sheet.loc[i,p]=pos\n",
    "        bowler_max_position_sheet.loc[i,p]=l\n",
    "        inning_bowler_sheet.loc[i,p]=h+1\n",
    "    h=(h+1)%2\n",
    "print(striker_position_sheet)\n",
    "striker_position_sheet.to_csv(data_path+\"/stats/striker_position_player_stats.csv\")\n",
    "striker_max_position_sheet.to_csv(data_path+\"/stats/striker_max_position_player_stats.csv\")\n",
    "inning_striker_sheet.to_csv(data_path+\"/stats/striker_inning_player_stats.csv\")\n",
    "print(bowler_position_sheet)\n",
    "bowler_position_sheet.to_csv(data_path+\"/stats/bowler_position_player_stats.csv\")\n",
    "bowler_max_position_sheet.to_csv(data_path+\"/stats/bowler_max_position_player_stats.csv\")\n",
    "inning_bowler_sheet.to_csv(data_path+\"/stats/bowler_inning_player_stats.csv\")"
   ]
  },
  {
   "cell_type": "code",
   "execution_count": 8,
   "id": "governing-configuration",
   "metadata": {},
   "outputs": [],
   "source": [
    "runs_sheet=pd.read_csv(data_path+\"/stats/runs_player_stats.csv\")\n",
    "balls_sheet=pd.read_csv(data_path+\"/stats/balls_player_stats.csv\")\n",
    "dismissed_sheet=pd.read_csv(data_path+\"/stats/dismissed_player_stats.csv\")\n",
    "concived_runs_sheet=pd.read_csv(data_path+\"/stats/concived_runs_player_stats.csv\")\n",
    "balls_bowler_sheet=pd.read_csv(data_path+\"/stats/balls_bowl_player_stats.csv\")\n",
    "extras_striker_sheet=pd.read_csv(data_path+\"/stats/extras_striker_player_stats.csv\")\n",
    "extras_bowler_sheet=pd.read_csv(data_path+\"/stats/extras_bowler_player_stats.csv\")\n",
    "positions_striker_sheet=pd.read_csv(data_path+\"/stats/striker_position_player_stats.csv\")\n",
    "positions_bowler_sheet=pd.read_csv(data_path+\"/stats/bowler_position_player_stats.csv\")"
   ]
  },
  {
   "cell_type": "code",
   "execution_count": 21,
   "id": "enhanced-aerospace",
   "metadata": {},
   "outputs": [
    {
     "data": {
      "image/png": "[encoded data removed]",
      "text/plain": [
       "<Figure size 432x288 with 1 Axes>"
      ]
     },
     "metadata": {
      "needs_background": "light"
     },
     "output_type": "display_data"
    }
   ],
   "source": [
    "def career_strike_rate(player):\n",
    "    strike_rates=[]\n",
    "    for i in range(1,len(runs_sheet)):\n",
    "        #if np.isnan(runs_sheet[player].iloc[i]):\n",
    "        #   continue\n",
    "        strike_rate=runs_sheet[player].iloc[:i].sum()/balls_sheet[player].iloc[:i].sum()*100\n",
    "        strike_rates.append(strike_rate)\n",
    "    plt.plot(strike_rates)\n",
    "career_strike_rate(\"EJG Morgan\")\n",
    "plt.show()"
   ]
  },
  {
   "cell_type": "code",
   "execution_count": 22,
   "id": "interim-musical",
   "metadata": {},
   "outputs": [
    {
     "name": "stderr",
     "output_type": "stream",
     "text": [
      "<ipython-input-22-941183b0afd3>:8: DeprecationWarning: `np.float` is a deprecated alias for the builtin `float`. To silence this warning, use `float` by itself. Doing this will not modify any behavior and is safe. If you specifically wanted the numpy scalar type, use `np.float64` here.\n",
      "Deprecated in NumPy 1.20; for more details and guidance: https://numpy.org/devdocs/release/1.20.0-notes.html#deprecations\n",
      "  striker_rate_sheet.iloc[i]=(rs.iloc[:i].sum().values.astype(np.float)/bs.iloc[:i].sum().values.astype(np.float))*100\n",
      "<ipython-input-22-941183b0afd3>:8: RuntimeWarning: invalid value encountered in true_divide\n",
      "  striker_rate_sheet.iloc[i]=(rs.iloc[:i].sum().values.astype(np.float)/bs.iloc[:i].sum().values.astype(np.float))*100\n",
      "<ipython-input-22-941183b0afd3>:9: DeprecationWarning: `np.float` is a deprecated alias for the builtin `float`. To silence this warning, use `float` by itself. Doing this will not modify any behavior and is safe. If you specifically wanted the numpy scalar type, use `np.float64` here.\n",
      "Deprecated in NumPy 1.20; for more details and guidance: https://numpy.org/devdocs/release/1.20.0-notes.html#deprecations\n",
      "  endurance_sheet.iloc[i]=bs.iloc[:i].sum().values.astype(np.float)/ds.iloc[:i].sum().values.astype(np.float)\n",
      "<ipython-input-22-941183b0afd3>:9: RuntimeWarning: divide by zero encountered in true_divide\n",
      "  endurance_sheet.iloc[i]=bs.iloc[:i].sum().values.astype(np.float)/ds.iloc[:i].sum().values.astype(np.float)\n",
      "<ipython-input-22-941183b0afd3>:9: RuntimeWarning: invalid value encountered in true_divide\n",
      "  endurance_sheet.iloc[i]=bs.iloc[:i].sum().values.astype(np.float)/ds.iloc[:i].sum().values.astype(np.float)\n"
     ]
    },
    {
     "name": "stdout",
     "output_type": "stream",
     "text": [
      "     A Ashish Reddy  A Chandila   A Chopra  A Choudhary  A Dananjaya  \\\n",
      "0        280.000000    4.000000  53.000000         25.0          4.0   \n",
      "1        142.857143   57.142857  70.666667        125.0         80.0   \n",
      "2        142.857143   57.142857  70.666667        125.0         80.0   \n",
      "3        142.857143   57.142857  70.666667        125.0         80.0   \n",
      "4        142.857143   57.142857  70.666667        125.0         80.0   \n",
      "..              ...         ...        ...          ...          ...   \n",
      "615      144.837758   57.142857  65.600000        125.0         80.0   \n",
      "616      144.837758   57.142857  65.600000        125.0         80.0   \n",
      "617      144.837758   57.142857  65.600000        125.0         80.0   \n",
      "618      144.837758   57.142857  65.600000        125.0         80.0   \n",
      "619      144.837758   57.142857  65.600000        125.0         80.0   \n",
      "\n",
      "     A Flintoff   A Kumble    A Mishra    A Mithun   A Mukund  ...  \\\n",
      "0     62.000000  35.000000  362.000000   34.000000  19.000000  ...   \n",
      "1    108.771930  71.428571   88.292683  130.769231  82.608696  ...   \n",
      "2    108.771930  71.428571   88.292683  130.769231  82.608696  ...   \n",
      "3    108.771930  71.428571   88.292683  130.769231  82.608696  ...   \n",
      "4    108.771930  71.428571   88.292683  130.769231  82.608696  ...   \n",
      "..          ...        ...         ...         ...        ...  ...   \n",
      "615  118.309859  69.662921   86.969253  132.000000  79.166667  ...   \n",
      "616  118.309859  69.662921   86.969253  132.000000  79.166667  ...   \n",
      "617  118.309859  69.662921   86.969253  132.000000  79.166667  ...   \n",
      "618  118.309859  69.662921   86.969253  132.000000  79.166667  ...   \n",
      "619  118.309859  69.662921   86.969253  132.000000  79.166667  ...   \n",
      "\n",
      "     Y Venugopal Rao  YA Abdulla  YBK Jaiswal    YK Pathan  YS Chahal  \\\n",
      "0         985.000000         0.0   106.000000  3222.000000  30.000000   \n",
      "1         113.872832         0.0   112.765957   138.046272  40.000000   \n",
      "2         113.872832         0.0   112.765957   138.178709  40.000000   \n",
      "3         113.651877         0.0   112.765957   138.178709  40.000000   \n",
      "4         113.651877         0.0   112.765957   138.123667  40.000000   \n",
      "..               ...         ...          ...          ...        ...   \n",
      "615       111.087866         0.0   108.387097   138.040275  41.071429   \n",
      "616       111.087866         0.0   108.387097   138.040275  41.071429   \n",
      "617       111.087866         0.0   108.387097   138.040275  41.071429   \n",
      "618       111.087866         0.0   108.387097   138.040275  41.071429   \n",
      "619       111.087866         0.0   108.387097   138.040275  41.071429   \n",
      "\n",
      "     YV Takawale  Yashpal Singh  Younis Khan  Yuvraj Singh      Z Khan  \n",
      "0     192.000000      47.000000     3.000000   2754.000000  117.000000  \n",
      "1     104.918033      70.149254    42.857143    124.784776   82.978723  \n",
      "2     104.918033      70.149254    42.857143    124.784776   82.978723  \n",
      "3     104.918033      70.149254    42.857143    124.784776   82.978723  \n",
      "4     104.918033      70.149254    42.857143    125.379126   82.978723  \n",
      "..           ...            ...          ...           ...         ...  \n",
      "615   105.985915      77.192982    42.857143    124.603814   84.255319  \n",
      "616   105.985915      77.192982    42.857143    124.603814   84.255319  \n",
      "617   105.985915      77.192982    42.857143    124.603814   84.255319  \n",
      "618   105.985915      77.192982    42.857143    124.603814   84.255319  \n",
      "619   105.985915      77.192982    42.857143    124.603814   84.255319  \n",
      "\n",
      "[620 rows x 593 columns]\n",
      "     A Ashish Reddy  A Chandila   A Chopra  A Choudhary  A Dananjaya  \\\n",
      "0        280.000000         4.0  53.000000         25.0          4.0   \n",
      "1         13.066667         7.0  15.000000         10.0          NaN   \n",
      "2         13.066667         7.0  15.000000         10.0          NaN   \n",
      "3         13.066667         7.0  15.000000         10.0          NaN   \n",
      "4         13.066667         7.0  15.000000         10.0          NaN   \n",
      "..              ...         ...        ...          ...          ...   \n",
      "615       13.560000         7.0  13.888889         10.0          NaN   \n",
      "616       13.560000         7.0  13.888889         10.0          NaN   \n",
      "617       13.560000         7.0  13.888889         10.0          NaN   \n",
      "618       13.560000         7.0  13.888889         10.0          NaN   \n",
      "619       13.560000         7.0  13.888889         10.0          NaN   \n",
      "\n",
      "     A Flintoff  A Kumble    A Mishra   A Mithun  A Mukund  ...  \\\n",
      "0          62.0     35.00  362.000000  34.000000      19.0  ...   \n",
      "1          28.5     24.50   13.666667   5.200000      11.5  ...   \n",
      "2          28.5     24.50   13.666667   5.200000      11.5  ...   \n",
      "3          28.5     24.50   13.666667   5.200000      11.5  ...   \n",
      "4          28.5     24.50   13.666667   5.200000      11.5  ...   \n",
      "..          ...       ...         ...        ...       ...  ...   \n",
      "615        35.5     22.25   12.886792   5.555556       8.0  ...   \n",
      "616        35.5     22.25   12.886792   5.555556       8.0  ...   \n",
      "617        35.5     22.25   12.886792   5.555556       8.0  ...   \n",
      "618        35.5     22.25   12.886792   5.555556       8.0  ...   \n",
      "619        35.5     22.25   12.886792   5.555556       8.0  ...   \n",
      "\n",
      "     Y Venugopal Rao  YA Abdulla  YBK Jaiswal    YK Pathan  YS Chahal  \\\n",
      "0         985.000000         0.0   106.000000  3222.000000  30.000000   \n",
      "1          20.595238         NaN    15.666667    21.027027  15.000000   \n",
      "2          20.595238         NaN    15.666667    20.883929  15.000000   \n",
      "3          20.441860         NaN    15.666667    20.883929  15.000000   \n",
      "4          20.441860         NaN    15.666667    20.752212  15.000000   \n",
      "..               ...         ...          ...          ...        ...   \n",
      "615        20.197183         NaN    15.500000    21.208333  12.444444   \n",
      "616        20.197183         NaN    15.500000    21.208333  12.444444   \n",
      "617        20.197183         NaN    15.500000    21.208333  12.444444   \n",
      "618        20.197183         NaN    15.500000    21.208333  12.444444   \n",
      "619        20.197183         NaN    15.500000    21.208333  12.444444   \n",
      "\n",
      "     YV Takawale  Yashpal Singh  Younis Khan  Yuvraj Singh      Z Khan  \n",
      "0     192.000000      47.000000          3.0   2754.000000  117.000000  \n",
      "1      22.875000      16.750000          7.0     20.247706    9.400000  \n",
      "2      22.875000      16.750000          7.0     20.247706    9.400000  \n",
      "3      22.875000      16.750000          7.0     20.247706    9.400000  \n",
      "4      22.875000      16.750000          7.0     20.381818    9.400000  \n",
      "..           ...            ...          ...           ...         ...  \n",
      "615    23.666667      16.285714          7.0     20.344262    9.038462  \n",
      "616    23.666667      16.285714          7.0     20.344262    9.038462  \n",
      "617    23.666667      16.285714          7.0     20.344262    9.038462  \n",
      "618    23.666667      16.285714          7.0     20.344262    9.038462  \n",
      "619    23.666667      16.285714          7.0     20.344262    9.038462  \n",
      "\n",
      "[620 rows x 593 columns]\n"
     ]
    }
   ],
   "source": [
    "striker_rate_sheet=runs_sheet.copy().drop(columns=[\"date\"])\n",
    "endurance_sheet=runs_sheet.copy().drop(columns=[\"date\"])\n",
    "games_played_sheet=balls_sheet.copy().drop(columns=[\"date\"])>1\n",
    "rs=runs_sheet.drop(columns=[\"date\"])\n",
    "bs=balls_sheet.drop(columns=[\"date\"])\n",
    "ds=dismissed_sheet.drop(columns=[\"date\"])\n",
    "for i in range(1,len(rs)):\n",
    "    striker_rate_sheet.iloc[i]=(rs.iloc[:i].sum().values.astype(np.float)/bs.iloc[:i].sum().values.astype(np.float))*100\n",
    "    endurance_sheet.iloc[i]=bs.iloc[:i].sum().values.astype(np.float)/ds.iloc[:i].sum().values.astype(np.float)\n",
    "endurance_sheet.replace([np.inf, -np.inf], np.nan, inplace=True)\n",
    "print(striker_rate_sheet)\n",
    "print(endurance_sheet)\n",
    "striker_rate_sheet.to_csv(data_path+\"/stats/striker_rate_player_stats.csv\")\n",
    "endurance_sheet.to_csv(data_path+\"/stats/striker_endurance_stats.csv\")\n",
    "#games_played_sheet.to_csv(data_path+\"/stats/striker_games_played_stats.csv\")"
   ]
  },
  {
   "cell_type": "code",
   "execution_count": 23,
   "id": "promising-fraud",
   "metadata": {},
   "outputs": [
    {
     "data": {
      "image/png": "[encoded data removed]",
      "text/plain": [
       "<Figure size 720x720 with 1 Axes>"
      ]
     },
     "metadata": {
      "needs_background": "light"
     },
     "output_type": "display_data"
    }
   ],
   "source": [
    "fig,ax=plt.subplots(figsize=(10,10))\n",
    "plt.hist(striker_rate_sheet.iloc[-1],bins=50)\n",
    "plt.show()"
   ]
  },
  {
   "cell_type": "code",
   "execution_count": 24,
   "id": "interpreted-asbestos",
   "metadata": {},
   "outputs": [
    {
     "data": {
      "image/png": "[encoded data removed]",
      "text/plain": [
       "<Figure size 720x720 with 1 Axes>"
      ]
     },
     "metadata": {
      "needs_background": "light"
     },
     "output_type": "display_data"
    }
   ],
   "source": [
    "fig,ax=plt.subplots(figsize=(10,10))\n",
    "indices=(games_played_sheet.sum()>5).values\n",
    "plt.hist(striker_rate_sheet.iloc[-1][indices],bins=50)\n",
    "plt.show()"
   ]
  },
  {
   "cell_type": "code",
   "execution_count": 28,
   "id": "competitive-coast",
   "metadata": {},
   "outputs": [
    {
     "data": {
      "image/png": "[encoded data removed]",
      "text/plain": [
       "<Figure size 432x288 with 1 Axes>"
      ]
     },
     "metadata": {
      "needs_background": "light"
     },
     "output_type": "display_data"
    }
   ],
   "source": [
    "sr=striker_rate_sheet.values.flatten()\n",
    "runs=rs.values.flatten()\n",
    "plt.scatter(runs,sr)\n",
    "plt.show()"
   ]
  },
  {
   "cell_type": "code",
   "execution_count": 29,
   "id": "right-parallel",
   "metadata": {},
   "outputs": [
    {
     "data": {
      "image/png": "[encoded data removed]",
      "text/plain": [
       "<Figure size 432x288 with 1 Axes>"
      ]
     },
     "metadata": {
      "needs_background": "light"
     },
     "output_type": "display_data"
    }
   ],
   "source": [
    "indices=(games_played_sheet.sum()>20).values\n",
    "sr=striker_rate_sheet[striker_rate_sheet.columns[indices]].values.flatten()\n",
    "srn=sr[sr<200]\n",
    "runs=rs[striker_rate_sheet.columns[indices]].values.flatten()[sr<200]\n",
    "plt.scatter(srn,runs)\n",
    "plt.show()"
   ]
  },
  {
   "cell_type": "code",
   "execution_count": 34,
   "id": "ignored-pitch",
   "metadata": {},
   "outputs": [
    {
     "data": {
      "image/png": "[encoded data removed]",
      "text/plain": [
       "<Figure size 432x288 with 1 Axes>"
      ]
     },
     "metadata": {
      "needs_background": "light"
     },
     "output_type": "display_data"
    }
   ],
   "source": [
    "srs=[]\n",
    "runss=[]\n",
    "c=0\n",
    "for p in striker_rate_sheet.columns:\n",
    "    if games_played_sheet[p].sum()<5:\n",
    "        continue\n",
    "    sr=striker_rate_sheet[p][games_played_sheet[p]][4:-1]\n",
    "    for i in sr:\n",
    "        srs.append(i)\n",
    "    runs=rs[p][games_played_sheet[p]][5:]\n",
    "    for i in runs:\n",
    "        runss.append(i)\n",
    "    plt.scatter(sr,runs)\n",
    "    c+=1\n",
    "    if c>10:\n",
    "        break\n",
    "plt.show()"
   ]
  },
  {
   "cell_type": "code",
   "execution_count": 31,
   "id": "common-catering",
   "metadata": {},
   "outputs": [
    {
     "name": "stdout",
     "output_type": "stream",
     "text": [
      "Pearsons correlation: 0.170\n",
      "Spearmans correlation: 0.153\n"
     ]
    }
   ],
   "source": [
    "corr, _ = pearsonr(srs, runss)\n",
    "print('Pearsons correlation: %.3f' % corr)\n",
    "corr, _ = spearmanr(srs, runss)\n",
    "print('Spearmans correlation: %.3f' % corr)"
   ]
  },
  {
   "cell_type": "code",
   "execution_count": 17,
   "id": "usual-project",
   "metadata": {},
   "outputs": [
    {
     "data": {
      "image/png": "[encoded data removed]",
      "text/plain": [
       "<Figure size 432x288 with 1 Axes>"
      ]
     },
     "metadata": {
      "needs_background": "light"
     },
     "output_type": "display_data"
    }
   ],
   "source": [
    "indices=(games_played_sheet.sum()>10).values\n",
    "ps=striker_rate_sheet.columns[indices]\n",
    "sr=striker_rate_sheet[ps].mean()\n",
    "runs=rs[ps].mean()\n",
    "plt.scatter(sr,runs)\n",
    "plt.show()"
   ]
  },
  {
   "cell_type": "code",
   "execution_count": 18,
   "id": "stylish-rogers",
   "metadata": {},
   "outputs": [
    {
     "name": "stdout",
     "output_type": "stream",
     "text": [
      "Pearsons correlation: 0.500\n",
      "Spearmans correlation: 0.488\n"
     ]
    }
   ],
   "source": [
    "corr, _ = pearsonr(sr, runs)\n",
    "print('Pearsons correlation: %.3f' % corr)\n",
    "corr, _ = spearmanr(sr, runs)\n",
    "print('Spearmans correlation: %.3f' % corr)"
   ]
  },
  {
   "cell_type": "code",
   "execution_count": 19,
   "id": "popular-compound",
   "metadata": {},
   "outputs": [
    {
     "data": {
      "image/png": "[encoded data removed]",
      "text/plain": [
       "<Figure size 432x288 with 1 Axes>"
      ]
     },
     "metadata": {
      "needs_background": "light"
     },
     "output_type": "display_data"
    },
    {
     "name": "stdout",
     "output_type": "stream",
     "text": [
      "Pearsons correlation: 0.307\n",
      "Spearmans correlation: 0.314\n"
     ]
    }
   ],
   "source": [
    "srs=[]\n",
    "runss=[]\n",
    "for p in striker_rate_sheet.columns:\n",
    "    if games_played_sheet[p].sum()<5:\n",
    "        continue\n",
    "    sr=np.multiply(striker_rate_sheet[p][games_played_sheet[p]][4:-1].values,endurance_sheet[p][games_played_sheet[p]][4:-1].values)\n",
    "    for i in sr:\n",
    "        srs.append(i)\n",
    "    runs=rs[p][games_played_sheet[p]][5:]\n",
    "    for i in runs:\n",
    "        runss.append(i)\n",
    "    plt.scatter(sr,runs)\n",
    "plt.show()\n",
    "corr, _ = pearsonr(srs, runss)\n",
    "print('Pearsons correlation: %.3f' % corr)\n",
    "corr, _ = spearmanr(srs, runss)\n",
    "print('Spearmans correlation: %.3f' % corr)"
   ]
  },
  {
   "cell_type": "code",
   "execution_count": 20,
   "id": "august-schema",
   "metadata": {},
   "outputs": [
    {
     "data": {
      "image/png": "[encoded data removed]",
      "text/plain": [
       "<Figure size 432x288 with 1 Axes>"
      ]
     },
     "metadata": {
      "needs_background": "light"
     },
     "output_type": "display_data"
    },
    {
     "name": "stdout",
     "output_type": "stream",
     "text": [
      "Pearsons correlation: 0.931\n",
      "Spearmans correlation: 0.936\n"
     ]
    }
   ],
   "source": [
    "indices=(games_played_sheet.sum()>10).values\n",
    "ps=striker_rate_sheet.columns[indices]\n",
    "sr=striker_rate_sheet[ps].mean()*endurance_sheet[ps].mean()\n",
    "runs=rs[ps].mean()\n",
    "plt.scatter(sr,runs)\n",
    "plt.show()\n",
    "corr, _ = pearsonr(sr, runs)\n",
    "print('Pearsons correlation: %.3f' % corr)\n",
    "corr, _ = spearmanr(sr, runs)\n",
    "print('Spearmans correlation: %.3f' % corr)"
   ]
  },
  {
   "cell_type": "code",
   "execution_count": null,
   "id": "hybrid-niger",
   "metadata": {},
   "outputs": [],
   "source": []
  }
 ],
 "metadata": {
  "kernelspec": {
   "display_name": "Python 3",
   "language": "python",
   "name": "python3"
  },
  "language_info": {
   "codemirror_mode": {
    "name": "ipython",
    "version": 3
   },
   "file_extension": ".py",
   "mimetype": "text/x-python",
   "name": "python",
   "nbconvert_exporter": "python",
   "pygments_lexer": "ipython3",
   "version": "3.8.6"
  }
 },
 "nbformat": 4,
 "nbformat_minor": 5
}
